{
 "cells": [
  {
   "cell_type": "markdown",
   "metadata": {},
   "source": [
    "# ME 400 – Course Syllabus and Policies\n"
   ]
  },
  {
   "cell_type": "code",
   "execution_count": 1,
   "metadata": {
    "collapsed": false
   },
   "outputs": [
    {
     "name": "stdout",
     "output_type": "stream",
     "text": [
      "Welcome to ME 400!\n",
      "It's important that you understand the course and its policies.\n",
      "So take some time and read this document carefully!\n"
     ]
    }
   ],
   "source": [
    "messages = [\"Welcome to ME 400!\", \\\n",
    "  \"It's important that you understand the course and its policies.\", \\\n",
    "  \"So take some time and read this document carefully!\"]\n",
    "\n",
    "for m in messages :\n",
    "    print(m)"
   ]
  },
  {
   "cell_type": "markdown",
   "metadata": {},
   "source": [
    "## Contact Information\n",
    "\n",
    "- **Lecture** MW 1:30--2:20pm, DUE 1073\n",
    "- **Instructor**: Jeremy Roberts\n",
    "  - *Phone*: 785-532-7182\n",
    "  - *Email*: jaroberts@ksu.edu\n",
    "  - *Office*: Ward 137D\n",
    "  - *Office Hours*: M/W, 2:30-4:00pm (or by appointment; refer to my [calendar](https://calendar.google.com/calendar/embed?src=j.alyn.roberts%40gmail.com&ctz=America/Chicago) before suggesting a time)\n",
    "- **Laboratories**\n",
    "  - *Lab 1*: F 7:30-9:20am, DUR 3056\n",
    "  - *Lab 2*: F 9:30–11:20am, DUR 3056\n",
    "  - *Lab 3*: F 2:30–4:20pm, DUR 3056\n",
    "- **Graduate Teaching Assistants**\n",
    "  - Will Asher\n",
    "    - *Email*: asherw@ksu.edu\n",
    "    - *Office*: [Environmental Research Laboratory, 2nd floor] (https://goo.gl/YgVTPP) (Backside of Seaton)\n",
    "    - *Office Hours*: U 2:00-3:30pm\n",
    "  - John Boyington\n",
    "    - *Email*: mjcb@ksu.edu\n",
    "    - *Office*: Ward 133A\n",
    "    - *Office Hours*: T 12:00-1:30pm\n",
    "- **Undergraduate Teaching Assistants**\n",
    "  - Cole Hoing\n",
    "    - *Email*: TBD\n",
    "  - Keith Huddleston\n",
    "    - *Email*: TBD\n",
    "  - Sam Oxandale\n",
    "    - *Email*: TBD    "
   ]
  },
  {
   "cell_type": "markdown",
   "metadata": {},
   "source": [
    "## Course Description and Objectives\n",
    "\n",
    "*From the catalog*: The development and application of computer techniques to the problems of design and analysis in mechanical engineering, including computer programming (abstraction and problem solving; algorithms; control structures; input/output; functions; arrays and array processing).\n",
    "\n",
    "*My informal description*: ME 400 is all about teaching you, the student, how to use programming to solve problems. We’ll use the Python programming language, which is as easy a language to learn as any I’ve encountered. The Python language offers much more with all of the add-on packages available, all for free. What you will come out of the class with, at the least, is (1) a basic ability to understand, implement, and debug computer programs and (2) knowledge of tools (symbolic and numerical) within the Python ecosystem that can be used to solve engineering problems.\n",
    "\n",
    "*Specific objectives* (with corresponding ABET outcomes) include:\n",
    "\n",
    "1. A good understanding of the basics of computer programming [a, e, k]\n",
    "2. Proficiency in the Python programming language [a, k]\n",
    "3. Ability to program from scratch [k]\n",
    "4. Ability to use flow charts and other problem-solving skills [c, e]\n",
    "5. Ability to use basic numerical methods [a, b]\n",
    "6. Ability to use skills learned in ME 400 in later classes and career [e, k]"
   ]
  },
  {
   "cell_type": "markdown",
   "metadata": {},
   "source": [
    "## Textbook\n",
    "\n",
    "Although there are a plethora of good books on the Python language, there is a sufficient wealth of information online to learn the language without books. Most of the content I’ll present lives in my [online course notes](http://robertsj.github.io/me400_notes/index.html). Reading assignments will be based on this material in addition to supplementary material.\n",
    "\n",
    "The notes are organized by lecture.  Moreover, these notes are written using Jupyter notebooks, a format we'll learn to use about half-way through the course.  However, the notebooks are easy to load and run, and students are encouraged to explore them interactively early in the course.\n",
    "\n",
    "Some of the resources from which I might pull supplementary materials include:\n",
    "\n",
    " - [Object-Oriented Programming in Python](http://python-textbok.readthedocs.io/en/latest/index.html)\n",
    " - Downey, Allen, Jeffrey Elkner, and Chris Meyers. *How to Think Like a Computer \n",
    "   Scientist: Learning with Python*. Green Tea Press, 2002. ISBN: 9780971677500.  \n",
    "   (This book is available for [free as a PDF](http://www.greenteapress.com/thinkpython/thinkCSpy.pdf), \n",
    "   or you may purchase a paper copy.)\n",
    " - Shapiro, Bruce. *Scientific Computation: Python Hacking for Math Junkies*. \n",
    "   Sherwood Forest Books, 2015. ISBN: 9780692366936.\n",
    " - Stewert, John. *Python for Scientists*. Cambridge University Press. ISBN: 9781107686427.\n",
    " - [www.python.org](http://www.python.org)\n",
    " - [www.scipy.org](http://www.scipy.org)\n",
    " - [www.scipy.org](http://www.sympy.org)"
   ]
  },
  {
   "cell_type": "markdown",
   "metadata": {},
   "source": [
    "## Prerequisites\n",
    "\n",
    "Prerequisite or concurrent: MATH 551. Eventually, this course will replace MATH 551 with MATH 240/340 as a pre/co-requisite.  Ordinary differential equations are introduced/reviewed as necessary in the last segment of the course, and supplementary sessions will be offered to help you brush up on the math skills assumed in this course.  \n",
    "\n",
    "In addition, this course sits in the middle of the MNE undergraduate curriculum.  Consequently, I can count on you having had and to be able to apply knowledge learned in previous courses.  These previous courses include but are not limited to basic physics and calculus classes.  If something we do in this class requires that previously learned material, I'll let you know, but *it is your responsibility* to review it as necessary.\n",
    "\n",
    "*Important*:  If you are one of our guests from industrial engineering or another program that does not require MATH 240, let me know by email within the first week of the course.\n",
    "\n",
    "## Related Courses\n",
    "\n",
    "For those seeking knowledge of the C language, consider CIS 209, C Programming for Engineers.  Those who like the material they learn in ME 400 may wish to consider ME 701, Development of Computer Applications in Mechanical Engineering, which is a course focused on the elements of scientific computing. "
   ]
  },
  {
   "cell_type": "markdown",
   "metadata": {},
   "source": [
    "## Amount of Study Required\n",
    "\n",
    "For the *average* student (with respect to reading and analytical abilities) to earn an *average* grade will require approximately **6 to 9 hours per week** of *study* outside of class.  Here, to study implies reading, preparation for lecture, solving homework sets, visiting with the instructor and GTAs, and anything else that contributes actively to the learning process."
   ]
  },
  {
   "cell_type": "markdown",
   "metadata": {},
   "source": [
    "## Lectures\n",
    "\n",
    "Lectures are an important part of the curriculum and, therefore, are required. Your job is to **come to lecture prepared** to learn and to engage in any in-class activities.  Pre-lecture activities will be assigned for each lecture and must be completed one hour before the lecture.  Some lectures may include in-class, formative activities.  Although not formally assessed, these activities will often give an indication of attendance. \n",
    "\n",
    "The lectures in ME 400 will often be best thought of as hands-on, informal tutorials. If you have a laptop, you are encouraged to bring it to class to do in-class examples. If you do not have a laptop, I may have a couple old ones available for in-class use. Use of laptops should be limited to in-class examples and not for surfing and other activities unrelated to the lecture. The use of other electronic devices is distracting, so turn your phones to vibrate and put them away.  "
   ]
  },
  {
   "cell_type": "markdown",
   "metadata": {},
   "source": [
    "## Netiquette and Discussion Expectations\n",
    "\n",
    "*Netiquette* is a set of rules for behaving properly online. Here are some points to consider when interacting with your peers while in this course:\n",
    "\n",
    "- Profanity is unprofessional and, therefore, unacceptable in this course.\n",
    "- Avoid using ALL CAPITALS, as it seems to suggest virtual “shouting.”\n",
    "- Although not all online interactions are formal, you should do your best to use proper spelling and grammar. Use of \"textspeak\" is strictly prohibited b/c it is unprofessional imho.\n",
    "- Respect others’ opinions and avoid \"flaming\" (publicly attacking or insulting) your peers. We’re here to learn together, and being nice helps us do that.\n",
    "\n",
    "Part of good netiquette consists of using appropriate language (and structure) in emails (should they be necessary). Here's an example of a suitable (but still informal, say \"business casual\") email:\n",
    "\n",
    "    Hi Prof. Roberts,\n",
    "\n",
    "    Here is my important message.\n",
    "\n",
    "    Thanks,\n",
    "\n",
    "    Jane Appleseed\n",
    "\n",
    "In follow-up emails, the greeting (Hi...) and signature (Thanks...) are less important and may be omitted. Some folks might prefer a bit more formality, while some would accept less formality. When interacting with me, the “business casual\" approach is just fine.\n",
    "\n",
    "See also the University policy on classroom conduct below."
   ]
  },
  {
   "cell_type": "markdown",
   "metadata": {},
   "source": [
    "## Laboratories and Homework\n",
    "\n",
    "Attendance in laboratory sessions is mandatory.  Laboratories are interactive experiences and will be comprised of a quick review and exercises that must be completed within the laboratory session.  Any remaining time may be used to continue on at-home exercises, which will involve more in-depth problems.\n",
    "\n",
    "Students *will work in pairs* as part of their laboratories.  In some laboratories, formal *pair programming* will be required as a learning activity, with specific instructions to be given as needed.  \n",
    "\n",
    "However, students should complete homeworks as individual efforts.  Let me be more specific.  It is allowed to work informally on assignments, but the final product (usually, \"code\") you submit must be your own.  Do not look at someone else's code, and do not share your own code. A good \"litmus test\" is to ask yourself, \"Can I explain everything I've submitted to the instructor?\"  You'll be tested based on *your* knowledge of programming, so do yourself a favor and complete the homework on your own. (Please also see the discussion below on the Honor Code and plagiarism.)\n",
    "\n",
    "For homework questions, students should *visit office hours* or *use the discussion board*.  If emailed, the course personnel will direct students to the discussion board unless the question is a private matter.  The discussion board is preferred so that (1) a given question need only be asked (and answered) once, and (2) a record of such questions can be kept for posterity."
   ]
  },
  {
   "cell_type": "markdown",
   "metadata": {},
   "source": [
    "## Assessment\n",
    "\n",
    "Grading for the course is based on the following breakdown:\n",
    "- Pre-Lecture Activities (10%)\n",
    "- Laboratory Exercises (10%)\n",
    "- Homework Exercises (20%)\n",
    "- Examinations (60%)\n",
    "\n",
    "As a starting point, the standard 90/80/70/60 rule will be applied for A/B/C/D. These will\n",
    "never be shifted higher, though they may be adjusted lower if deemed appropriate.\n",
    "\n",
    "### Pre-Lecture Activities\n",
    "\n",
    "Students must complete a short, pre-lecture activity prior to each lecture (in this case, due 60 minutes before the start of lecture, which gives me a bit of time to look over responses and understand any common problems).  These activities will most often take the form of an online (Canvas-based) quiz with questions that cover the reading assigned for the lecture in question.  These activities may also include more open-ended responses from students.  In cases where there is a \"right\" answer, students will be given more than one chance to answer the question correctly.  The lowest two scores will be dropped from the calculuted score.\n",
    "\n",
    "### Laboratory Exercises\n",
    "\n",
    "The purpose of the laboratories is to review and to put in practice the concepts and tools\n",
    "discussed in lecture.  Part of this experience will be laboratory exercises that must be \n",
    "completed in the alotted laboratory time.  There are a total of 12 planned laboratories.  \n",
    "Students may drop their lowest two scores (which can include absences of any kind).  No makeups \n",
    "will be allowed as laboratory exercise solutions will be posted soon after the laboratory session.\n",
    "\n",
    "### Homework\n",
    "\n",
    "Each homework extends the topics covered in the laboratory sessions.  Hence, there are \n",
    "12 planned homework assignments.  Students may drop their lowest two homework scores.  \n",
    "\n",
    "All homework is due at 11:59pm on the due date via electronic submission (unless otherwise\n",
    "specified in class).  Unless otherwise announced, this due date will be the Wednesday before the \n",
    "following laboratory (or, in some cases, an exam).\n",
    "\n",
    "No late homework is accepted unless a class-wide extension is given. \n",
    "\n",
    "Homework solutions will not be posted, but students may visit office hours to see the solution.\n",
    "\n",
    "**Important**: all homework should run without a run-time error.  If running a submission leads immediately to an error, grading it becomes very difficult.  In most cases, a homework testing file will be provided with instructions on its use.  Students should use this tool (following the given guidelines) to ensure their programs execute without error or risk automatic point deductions.  \n",
    "\n",
    "### Examinations\n",
    "\n",
    "*Important*: any student with a documented disability who requests more time on examinations *must inform me two weeks prior to the examination* or risk forfeiting the accomodation.  Make-up examinations will be offered for serious personal (e.g., medical) or \n",
    "\n",
    "#### Mid-Term Examinations\n",
    "\n",
    "The first two examinations are in-laboratory examinations and will consist of a written (pen and paper) and coded (Python program, etc.) component.  The written component is to be completed *without notes or any other resources*.  For the coded component, students may use resources to be approved prior to the exam.  The first exam covers roughly the first third of the course.  The second exam emphasizes material from the middle third of the course but should be considered cumulative.\n",
    "\n",
    "With multiple laboratory sessions, a number of students will complete an examination after their classmates.  Although all students should expect unique exams, please note that any communication regarding the exam before all exams are submitted is prohibited, and *any violations of this policy will result in an XF in the course*.\n",
    "\n",
    "#### Final Examination\n",
    "\n",
    "The final examination consists of only a written component and will be completed in the normal lecture room.  The final exam emphasizes the last third of the course but should be considered cumulative.\n",
    "\n",
    "### Contesting Grades, etc.\n",
    "\n",
    "If you wish to request a regrade on any assessed task, you must email the instructor and GTAs in one email and (1) describe what the task was, (2) what you think was marked incorrectly, and (3) why you think your approach was correct.  This written request must be made within one week of learning your score.  \n",
    "\n",
    "### Extra Credit and End-of-Semester Charity\n",
    "\n",
    "There is no extra credit available in ME 400.  The best way to earn better scores is to ask for help early and often. The end of the semester (e.g., the last week) is *not* the time to start getting this help or to ask for favorable rounding.  I repeat: ask for help early and often."
   ]
  },
  {
   "cell_type": "markdown",
   "metadata": {},
   "source": [
    "## Course Schedule\n",
    "\n",
    "| Lecture   |  Date            | Topics                                                                      | \n",
    "|----|-------------------------|-----------------------------------------------------------------------------| \n",
    "| 1  | Monday, August 21       | Administrivia. Overview of Python. Spyder and Jupyter. Basic types.         | \n",
    "| 2  | Wednesday, August 23    | Basic operators and common, built-in functions.                             | \n",
    "|    | Friday, August 25       | LAB 1                                                                       | \n",
    "| 3  | Monday, August 28       | Basic data processing with NumPy and Matplotlib.                            | \n",
    "| 4  | Wednesday, August 30    | More on NumPy arrays.  Slicing operations.  np.linalg                       | \n",
    "|    | Friday, September 1     | LAB 2                                                                       | \n",
    "|    | Monday, September 4     | HOLIDAY                                                                     | \n",
    "| 5  | Wednesday, September 6  | Algorithms, flowcharts, and pseudocode.                                     | \n",
    "|    | Friday, September 8     | LAB 3 - Exercises in explaining steps                                       | \n",
    "| 6  | Monday, September 11    | Conditional statements and the structure of Python programs                 | \n",
    "| 7  | Wednesday, September 13 | More on conditionals.  The graphical debugger.                              | \n",
    "|    | Friday, September 15    | LAB 4                                                                       | \n",
    "| 8  | Monday, September 18    | For and while loops.                                                        | \n",
    "| 9  | Wednesday, September 20 | More on for and while loops.                                                |\n",
    "|    | Friday, September 22    | LAB 5                                                                       | \n",
    "| 10 | Monday, September 25    | Python container types: lists, tuples, and dictionaries.                    | \n",
    "| 11 | Wednesday, September 27 | Processing text data.                                                       | \n",
    "|    | Friday, September 29    | EXAM 1 (Lectures 1 - 9, Labs 1 - 5)                                         | \n",
    "| 12 | Monday, October 2       | Basics of functions.                                                        | \n",
    "| 13 | Wednesday, October 4    | More on functions.                                                          | \n",
    "|    | Friday, October 6       | LAB 6                                                                       | \n",
    "| 14 | Monday, October 9       | Searching; linear, binary, and a first meaning of order. Built-in magic.    | \n",
    "| 15 | Wednesday, October 11   | Sorting; bubble and merge.  Built-in magic.                                 | \n",
    "|    | Friday, October 13      | LAB 7                                                                       | \n",
    "| 16 | Monday, October 16      | Modules and packages.                                                       | \n",
    "| 17 | Wednesday, October 18   | Unit testing and defensive programming.                                     | \n",
    "|    | Friday, October 20      | LAB 8                                                                       | \n",
    "| 18 | Monday, October 23      | SymPy: symbols, expressions, and equations.                                 | \n",
    "| 19 | Wednesday, October 25   | Differentiation and Integration with SymPy.  Lambdify.                      | \n",
    "|    | Friday, October 27      | LAB 9                                                                       | \n",
    "| 20 | Monday, October 30      | Taylor series, a second meaning of order, and the root of numerical methods | \n",
    "| 21 | Wednesday, November 1   | Numerical differentiation. Connection to sympy.                             | \n",
    "|    | Friday, November 3      | LAB 10                                                                      | \n",
    "| 22 | Monday, November 6      | Numerical integration                                                       | \n",
    "| 23 | Wednesday, November 8   | Optimization and root finding.                                              | \n",
    "|    | Friday, November 10     | EXAM 2 (Lecture 10-21, Labs 6-10)                                           | \n",
    "| 24 | Monday, November 13     | Curve Fitting I - Least-Squares Fits                                        | \n",
    "| 25 | Wednesday, November 15  | Curve Fitting II - Interpolation                                            | \n",
    "|    | Friday, November 17     | LAB 11                                                                      | \n",
    "|    | Monday, November 20     | HOLIDAY                                                                     | \n",
    "|    | Wednesday, November 22  | HOLIDAY                                                                     | \n",
    "| 26 | Monday, November 27     | Symbolic solution of ODEs (with a dash of review)                           | \n",
    "| 27 | Wednesday, November 29  | First-order IVPs and their numerical solution.  Euler's methods.            | \n",
    "|    | Friday, December 1      | LAB 12                                                                      | \n",
    "| 28 | Monday, December 4      | Numerical solution of systems of IVPs                                       | \n",
    "| 29 | Wednesday, December 6   | Numerical solution of BVPs                                                  | \n",
    "|    | Friday, December 8      | LAB 13 - Review Session (Optional)                                          | \n",
    "|    | Thursday, December 14   | FINAL EXAM - 11:50 am -- 1:40 pm                                            | \n"
   ]
  },
  {
   "cell_type": "markdown",
   "metadata": {},
   "source": [
    "## Academic Honesty\n",
    "\n",
    "### The University's Statement\n",
    "\n",
    "Kansas State University has an Honor System based on personal integrity, which is presumed\n",
    "to be sufficient assurance that, in academic matters, one’s work is performed honestly and\n",
    "without unauthorized assistance. Undergraduate and graduate students, by registration, ac-\n",
    "knowledge the jurisdiction of the Honor System. The policies and procedures of the Honor\n",
    "System apply to all full and part-time students enrolled in undergraduate and graduate courses\n",
    "on-campus, off-campus, and via distance learning. The honor system website can be reached\n",
    "via the following URL: www.ksu.edu/honor . A component vital to the Honor System is the\n",
    "inclusion of the Honor Pledge which applies to all assignments, examinations, or other course\n",
    "work undertaken by students. The Honor Pledge is implied, whether or not it is stated: \"On\n",
    "my honor, as a student, I have neither given nor received unauthorized aid on this academic\n",
    "work.\" A grade of XF can result from a breach of academic honesty. The F indicates failure in\n",
    "the course; the X indicates the reason is an Honor Pledge violation.\n",
    "\n",
    "### My Statement\n",
    "\n",
    "Students in ME 400 are expected to uphold the Honor Pledge.  **Students who are identified to have collaborated on or otherwise received unauthorized assistance on examinations will automatically earn an XF in the course**.   Infractions related to other graded tasks will be judged on a case by case basis.\n",
    "\n",
    "\n",
    "### On Plagiarism\n",
    "\n",
    "Programming can be hard, and often, students may find that \"copying and pasting\" from the internet is the path of least resistance: *but this can easily lead to plagiarism*.\n",
    "\n",
    "In the simplest terms, plagiarism is the act of using the work of someone else as part of your own without saying so. Probably the most common form of plagiarism involves the uncredited borrowing of text (or ideas) in written works (like those reports in Writing 101). However, plagiarism is not just using another’s text verbatim in your report: it includes using someone else’s solution for a problem, whether it comes from another student or a solution manual. This is a particular case of which many engineering students are not aware but may be guilty.\n",
    "\n",
    "To avoid plagiarizing, the ideas you present in your problem solutions and laboratory reports must be your own. When you adapt the ideas of another, you need to reference those ideas correctly. If you fail to do so, you are committing academic dishonesty, for which the potential penalties are described in the statement below.\n",
    "\n",
    "For some basic tips on how to avoid plagiarism in writing, see http://en.writecheck.com/ways-to-avoid-plagiarism.\n",
    "\n",
    "\n",
    "## Students with Disabilities\n",
    "\n",
    "Students with disabilities who need classroom accommodations, access to technology, or information about emergency building/campus evacuation processes should contact the Student Access Center and/or their instructor. Services are available to students with a wide range of disabilities including, but not limited to, physical disabilities, medical conditions, learning disabilities, attention deficit disorder, depression, and anxiety. If you are a student enrolled in\n",
    "campus/online courses through the Manhattan or Olathe campuses, contact the Student Access Center at accesscenter@k-state.edu , 785-532-6441; for Salina campus, contact the Academic and Career Advising Center at acac@k-state.edu, 785-826-2649.\n",
    "\n",
    "\n",
    "## Expectations for Classroom Conduct\n",
    "\n",
    "All student activities in the University, including this course, are governed by the Student Judicial Conduct Code as outlined in the Student Governing Association By Laws, Article VI, Section 3, number 2. Students who engage in behavior that disrupts the learning environment may be asked to leave the class."
   ]
  },
  {
   "cell_type": "code",
   "execution_count": 2,
   "metadata": {
    "collapsed": false
   },
   "outputs": [
    {
     "name": "stdout",
     "output_type": "stream",
     "text": [
      "Thanks for reading!\n"
     ]
    }
   ],
   "source": [
    "message = \"!gnidaer rof sknahT\"\n",
    "print(message[::-1])"
   ]
  }
 ],
 "metadata": {
  "kernelspec": {
   "display_name": "Python 3",
   "language": "python",
   "name": "python3"
  },
  "language_info": {
   "codemirror_mode": {
    "name": "ipython",
    "version": 3
   },
   "file_extension": ".py",
   "mimetype": "text/x-python",
   "name": "python",
   "nbconvert_exporter": "python",
   "pygments_lexer": "ipython3",
   "version": "3.6.0"
  }
 },
 "nbformat": 4,
 "nbformat_minor": 2
}
