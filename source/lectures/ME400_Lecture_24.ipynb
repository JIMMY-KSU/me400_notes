{
 "cells": [
  {
   "cell_type": "markdown",
   "metadata": {},
   "source": [
    "# Lecture 24 - Data Analysis via Least-Squares Fitting \n",
    "\n",
    "## Overview, Objectives, and Key Terms\n",
    " \n",
    "A ubiquitous task in engineering and other technical disciplines is the analysis of data.  Data comes from many sources, including measurements in the laboratory and numerical simulations.  In this lecture and in [Lecture 25](), we'll apply what we've learned so far to produce *models* from data that we can use to explore trends and make conclusions.  Specifically, in this lecture, we'll develop models based on **least-squares** fitting of model parameters to existing data.\n",
    "\n",
    "\n",
    "### Objectives\n",
    "\n",
    "By the end of this lesson, you should be able to\n",
    "\n",
    "- Explain (and demonstrate) what is meant by a least-squares fit of a linear model $ax+b$ to a set of measured points $(x_i, y_i),\\, i = 0, 1, \\ldots$.\n",
    "- Use built-in tools to perform linear, least-squares fitting of data to models\n",
    "- Use built-in tools to perform nonlinear, least-squares fitting of data to models\n",
    "\n",
    "### Key Terms\n",
    "\n",
    "- error\n",
    "- least-squares\n",
    "- normal equation\n",
    "- `np.linalg.solve`\n",
    "- `np.polyfit`\n",
    "- `np.polyval`\n",
    "- `scipy.optimize.curve_fit`\n"
   ]
  },
  {
   "cell_type": "markdown",
   "metadata": {},
   "source": [
    "## Noisy Data and $y = at + b$\n",
    "\n",
    "We'll start simple and explore a task with which most students ought to be familiar: running a line through some scattered points of the form $y = at+b$ through several, scattered points $(t_i, y_i),\\, i = 0, 1, \\ldots$.   To illustrate the problem, suppose a number of measurements $y_i$ were taken at evenly spaced times $t_0, t_1, \\ldots$, as show below."
   ]
  },
  {
   "cell_type": "code",
   "execution_count": 1,
   "metadata": {},
   "outputs": [
    {
     "data": {
      "image/png": "[encoded data removed]",
      "text/plain": [
       "<matplotlib.figure.Figure at 0x7f6e3c38ca58>"
      ]
     },
     "metadata": {},
     "output_type": "display_data"
    }
   ],
   "source": [
    "from data_fitting_examples import scattered_points\n",
    "t, y = scattered_points()"
   ]
  },
  {
   "cell_type": "markdown",
   "metadata": {},
   "source": [
    "We'll *assume* that the observed quantity $y(t)$ varies *linearly* with $t$, i.e., we define $y(t) = at + b$.  The goal is to find the model parameters $a$ and $b$ yielding a model that *best* matches the observed values $y_i$.  \n",
    "\n",
    "Before defining what exactly *best* means, try to define $a$ and $b$ by inspection.  One easy way to estimate $a$ and $b$ is to use the first and last measured points, i.e., defined the intercept to be $b = y[0]$ and the slope to be $a = (y[-1]-y[0])/(t[-1]-t[0])$.  \n",
    "\n",
    "The result is not bad:"
   ]
  },
  {
   "cell_type": "code",
   "execution_count": 2,
   "metadata": {},
   "outputs": [
    {
     "data": {
      "image/png": "[encoded data removed]",
      "text/plain": [
       "<matplotlib.figure.Figure at 0x7f6e2091e198>"
      ]
     },
     "metadata": {},
     "output_type": "display_data"
    }
   ],
   "source": [
    "import numpy as np\n",
    "import matplotlib.pyplot as plt\n",
    "b = y[0]\n",
    "a = (y[-1]-y[0])/(t[-1]-t[0])\n",
    "y_a = a*t + b\n",
    "plt.plot(t, y, 'ko', t, y_a, 'r')\n",
    "plt.xlabel('t')\n",
    "plt.ylabel('y(t)')\n",
    "plt.show()"
   ]
  },
  {
   "cell_type": "markdown",
   "metadata": {
    "collapsed": true
   },
   "source": [
    "## What \"Best\" Means\n",
    "\n",
    "To define a \"best\" line, however, requires we define what \"best\" means.  In general, any values of $a$ and $b$ will result in a model that differs from the measured values.  This difference is the error.  More formally, let the error be defined as\n",
    "\n",
    "$$\n",
    "  e_i = y(t_i) - y_i = a t_i + b - y_i \\, \\quad i = 0, 1, \\ldots\n",
    "$$\n",
    "\n",
    "Here, a model provides a best fit if it minimizes the $L_2$ norm of the error, which is defined as\n",
    "\n",
    "$$\n",
    "  || \\mathbf{e} ||_2 = \\sqrt{ |e_0|^2 + |e_1|^2 + \\ldots} = \\sqrt{\\sum_{i=0} |e_i|^2} \\, .\n",
    "$$\n",
    "\n",
    "Equivalently, such a model is called the **least-squares** fit to the data because the sum of the errors squared is minimized.\n",
    "\n",
    "For the case of the linear model $y(t) = at + b$, the error can be written in matrix form:\n",
    "\n",
    "$$\n",
    "\\mathbf{e} = \n",
    "\\left[\n",
    "  \\begin{matrix} \n",
    "    x_0 & 1 \\\\\n",
    "    x_1 & 1 \\\\\n",
    "    \\vdots & 1 \\\\\n",
    "    x_{n-1} & 1\n",
    "   \\end{matrix}\n",
    "\\right]\n",
    "\\left[\n",
    "\\begin{matrix}\n",
    "  a \\\\\n",
    "  b \n",
    "\\end{matrix}\n",
    "\\right] -\n",
    "\\left[\n",
    "\\begin{matrix}\n",
    "  y_0 \\\\\n",
    "  y_1 \\\\\n",
    "  \\vdots \\\\\n",
    "  y_{n-1}\n",
    "\\end{matrix}\n",
    "\\right] \\, ,\n",
    "$$\n",
    "\n",
    "or $\\mathbf{e} = \\mathbf{M}\\mathbf{c} - \\mathbf{y}$.  Here, $\\mathbf{M}$ represents the generic data matrix for the model, while $\\mathbf{c}$ are the model coefficients that are as yet undetermined.\n",
    "\n",
    "> **Note**: Generally $\\mathbf{M}$ is *not* square and $\\mathbf{e}$ is generally not zero.  In other words, rarely can we hope to find $\\mathbf{c}$ from $\\mathbf{M}^{-1}\\mathbf{y}$!  In the example above, we had **25 data points** and just **two unknowns** (the slope $a$ and intercept $b$).  Too many equations means an **overdetermined** system!\n",
    "\n",
    "Recall that $||\\mathbf{e}||_2 = \\sqrt{\\mathbf{e}^T \\mathbf{e}}$, where $T$ represents the matrix transpose.  Moreover, if $a$ and $b$ are found to minimize $\\sqrt{\\mathbf{e}^T \\mathbf{e}}$, then they also minimize $\\mathbf{e}^T \\mathbf{e}$.  \n",
    "\n",
    "> **Note**: First, convince yourself $||\\mathbf{e}||_2 \\geq 0$, i.e., it is nonnegative. Then, convince yourself that any $x$ that minimizes a nonnegative function $f(x)$ also minimizes $f(x)^2$. \n",
    "\n",
    "Hence, the best values of $a$ and $b$ minimize the following:\n",
    "\n",
    "$$\n",
    "\\begin{split}\n",
    "  \\mathbf{e}^T \\mathbf{e} \n",
    "      &= (\\mathbf{M}\\mathbf{c} - \\mathbf{y})^T (\\mathbf{M}\\mathbf{c} - \\mathbf{y}) \\\\\n",
    "      &= \\mathbf{c}^T \\mathbf{M}^T \\mathbf{Mc} - 2 \\mathbf{c}^T \\mathbf{M}^T \\mathbf{y}  + \\mathbf{y}^T\\mathbf{y} \\, .\n",
    "\\end{split}         \n",
    "$$\n",
    "\n",
    "Now, remember (e.g., from [Lecture 23](ME400_Lecture_23.ipynb)) that the minimum of a function $f(x)$ (nonlinear or otherwise) can be found when its *derivative* is zero.  In this case, that function is $f(\\mathbf{c})$, and the \"derivative\" is the *gradient* $\\nabla ||\\mathbf{e}||$.  Thus, differentiation leads to\n",
    "\n",
    "$$\n",
    "\\nabla \\mathbf{e}^T \\mathbf{e} = 2 \\mathbf{M}^T \\mathbf{M} \\mathbf{c} - 2\\mathbf{M}^T \\mathbf{y} = \\mathbf{0} \\, ,\n",
    "$$\n",
    "\n",
    "or\n",
    "\n",
    "$$\n",
    "\\mathbf{M}^T \\mathbf{M} \\mathbf{c} = \\mathbf{M}^T \\mathbf{y} \\, .\n",
    "$$\n",
    "\n",
    "This equation is often called the [normal equation](http://mathworld.wolfram.com/NormalEquation.html).  The coefficients $\\mathbf{c}$ leading to the best fit are defined by\n",
    "\n",
    "$$\n",
    "\\mathbf{c} = (\\mathbf{M}^T \\mathbf{M})^{-1}  \\mathbf{M}^T \\mathbf{y} \\, .\n",
    "$$\n",
    "\n",
    "Because $\\mathbf{M}^T \\mathbf{M}$ is square, the system has the same number of equations as it does unknowns.  That alone does not guarantee a solution, but a solution is much more likely."
   ]
  },
  {
   "cell_type": "markdown",
   "metadata": {
    "collapsed": true
   },
   "source": [
    "***\n",
    "**Exercise**:  Consider the three pairs of points $(1, 1)$, $(2, 1.5)$, $(3, 4.5)$.  Find $a$ and $b$ such that $y(x) = ax+b$ best fits the three points.\n",
    "\n",
    "*Solution*:\n",
    "\n",
    "First, define the points:"
   ]
  },
  {
   "cell_type": "code",
   "execution_count": 3,
   "metadata": {
    "collapsed": true
   },
   "outputs": [],
   "source": [
    "x = np.array([1, 2, 3])\n",
    "y = np.array([1, 1.5, 4.5])"
   ]
  },
  {
   "cell_type": "markdown",
   "metadata": {
    "collapsed": true
   },
   "source": [
    "Then, define the $3 \\times 2$ matrix $\\mathbf{M}$:"
   ]
  },
  {
   "cell_type": "code",
   "execution_count": 4,
   "metadata": {},
   "outputs": [],
   "source": [
    "M = np.array([x, x**0]).T"
   ]
  },
  {
   "cell_type": "markdown",
   "metadata": {},
   "source": [
    "Finally, solve the system (review [Lecture 4](ME400_Lecture_4.ipynb) for $\\mathbf{c}$ and define the approximation for $\\mathbf{y}$ via $a\\mathbf{x} + b$ (equivalent to $\\mathbf{M}\\mathbf{c}$). For sanity, plot the result with the original points."
   ]
  },
  {
   "cell_type": "code",
   "execution_count": 5,
   "metadata": {},
   "outputs": [
    {
     "name": "stdout",
     "output_type": "stream",
     "text": [
      "c =  [ 1.75       -1.16666667]\n"
     ]
    },
    {
     "data": {
      "image/png": "[encoded data removed]",
      "text/plain": [
       "<matplotlib.figure.Figure at 0x7f6e20861c50>"
      ]
     },
     "metadata": {},
     "output_type": "display_data"
    }
   ],
   "source": [
    "c = np.linalg.solve(M.T.dot(M), M.T.dot(y))\n",
    "print(\"c = \", c)\n",
    "y_a = M.dot(c)\n",
    "plt.plot(x, y, 'k-o', label='original')\n",
    "plt.plot(x, y_a, 'r--x', label='approximate')\n",
    "plt.xlabel('x', fontsize=16)\n",
    "plt.legend(fontsize=16)\n",
    "plt.show()"
   ]
  },
  {
   "cell_type": "markdown",
   "metadata": {},
   "source": [
    "***\n",
    "\n",
    "**Exercise**:  Compute $\\mathbf{e}$ for the last example.  Then, evaluate $\\mathbf{e}^T \\mathbf{y}_a = \\mathbf{e}\\cdot \\mathbf{y}_a$.\n",
    "\n",
    "***\n",
    "\n",
    "**Exercise**: Using pen and paper (or SymPy), convince yourself that $\\nabla ||\\mathbf{e}||_2$ leads to the normal equation.  (I'll point out this has been a previous exam question.  Hardly worth using a method unless you know how it works.)\n",
    "\n",
    "***\n",
    "\n",
    "**Exercise**:  What would $\\mathbf{M}$ and $\\mathbf{c}$ look like if we wished to fit a set of $(x_i, y_i)$ points to a *quadratic model*?  (Hint, $\\mathbf{M}$ should have three columns.)\n",
    "\n",
    "***\n",
    "\n",
    "**Exercise**: Sometimes data can be modeled by a simple, linear model after some simple transformations.  Consider the following data, which represents the power of our Kansas State University TRIGA Reactor at $t = 0, 1, \\ldots, 10$ seconds upon initiating some experiments: \n",
    "\n",
    "```\n",
    "2.945, 3.964, 4.481, 5.747, 7.523, 8.710, 10.733, 13.910, 16.721, 19.951, 24.610\n",
    "```\n",
    "\n",
    "Plot this data and confirm that the power $P$ is *not linear* in time.  However, by inspection, it appears that the *logarithm* of the power *is* linear (which  you should also confirm).  Fit $\\log P$ to the model $a t + b$, and then plot $P$ and its approximation from the model versus time.\n",
    "\n",
    "*Solution*:\n",
    "\n",
    "First, let's confirm the nonlinearity of $P$ and the linearity of $\\log P$:"
   ]
  },
  {
   "cell_type": "code",
   "execution_count": 6,
   "metadata": {},
   "outputs": [
    {
     "data": {
      "image/png": "[encoded data removed]",
      "text/plain": [
       "<matplotlib.figure.Figure at 0x7f6e2082c278>"
      ]
     },
     "metadata": {},
     "output_type": "display_data"
    },
    {
     "data": {
      "image/png": "[encoded data removed]",
      "text/plain": [
       "<matplotlib.figure.Figure at 0x7f6e207f9c18>"
      ]
     },
     "metadata": {},
     "output_type": "display_data"
    }
   ],
   "source": [
    "t = np.linspace(0, 10, 11)\n",
    "P = np.array([2.945, 3.964, 4.481, 5.747, 7.523, 8.710, 10.733, 13.910, 16.721, 19.951, 24.610])\n",
    "logP = np.log(P)\n",
    "plt.figure(1, figsize=(4,2))\n",
    "plt.plot(t, P, 'k-o')\n",
    "plt.xlabel('$t$'); plt.ylabel('$P(t)$')\n",
    "plt.figure(2, figsize=(4,2))\n",
    "plt.plot(t, logP, 'r--x')\n",
    "plt.xlabel('$t$'); plt.ylabel('$\\log(P(t))$')\n",
    "plt.show()"
   ]
  },
  {
   "cell_type": "markdown",
   "metadata": {},
   "source": [
    "Now, fit $\\log{P}$ to $at + b$:"
   ]
  },
  {
   "cell_type": "code",
   "execution_count": 7,
   "metadata": {},
   "outputs": [],
   "source": [
    "M = np.array([t, t**0]).T\n",
    "c = np.linalg.solve(M.T.dot(M), M.T.dot(logP))\n",
    "logP_a = M.dot(c)"
   ]
  },
  {
   "cell_type": "markdown",
   "metadata": {},
   "source": [
    "Finally, evaluate $P$ from its logarithm and plot the result against the reference:"
   ]
  },
  {
   "cell_type": "code",
   "execution_count": 8,
   "metadata": {},
   "outputs": [
    {
     "data": {
      "image/png": "[encoded data removed]",
      "text/plain": [
       "<matplotlib.figure.Figure at 0x7f6e20826780>"
      ]
     },
     "metadata": {},
     "output_type": "display_data"
    }
   ],
   "source": [
    "P_a = np.exp(logP_a)\n",
    "plt.figure(3)\n",
    "plt.plot(t, P, 'k-o', label='$P(t)$')\n",
    "plt.plot(t, P_a, 'r--x', label='$P_a(t)$')\n",
    "plt.xlabel('$t$',fontsize=16)\n",
    "plt.legend(fontsize=16)\n",
    "plt.show()"
   ]
  },
  {
   "cell_type": "markdown",
   "metadata": {},
   "source": [
    "***\n",
    "\n",
    "**Exercise**:  Inspect the following $(x_i, y_i)$ data:\n",
    "```\n",
    "x            y\n",
    "0.20515647,  0.59102462\n",
    "0.54550627,  0.84583853\n",
    "0.59262142,  0.80724061\n",
    "2.17819173,  1.63791106\n",
    "3.82397005,  2.10229436\n",
    "4.88966586,  2.35676675\n",
    "7.87776356,  2.91240054\n",
    "8.10359230,  3.03207498\n",
    "```\n",
    "Determine a good transformation, and fit the result to $ax + b$.  Apply the inverse transormation, and compare the resulting approximations to the original data.\n",
    "\n",
    "***\n",
    "\n",
    "**Exercise**:  How would you "
   ]
  },
  {
   "cell_type": "markdown",
   "metadata": {},
   "source": [
    "## Beyond Linear Models\n",
    "\n",
    "Of course, not all data is intrinsically linear, and we may not be able to apply transformations to make it so.  An alternative is to use higher-order polynomial models of the for $y(x) = a_n x^n + a_{n-1} x^{n-1} +  \\ldots + a_0$.  Although this is reasonably straightforward to accomplish by adapting the methods presented above, NumPy has a few built-in functions to simplify the process.\n",
    "\n",
    "The first of these functions is `np.polyfit`, for which basic use requires three input arguments: `x`, `y`, and `order`.  Here, `x` and `y` correspond to the discrete points to which the polynomial is fitted, and `order` is the highest power of $x$ in the polynomial.  Returned by `np.polyfit` is the array of coefficients $a_n, a_{n-1}, \\ldots$ that define the polynomial."
   ]
  },
  {
   "cell_type": "markdown",
   "metadata": {},
   "source": [
    "***\n",
    "\n",
    "**Exercise**: Use `np.polyfit` to reproduce the values of `c` from the three-point exercise above.\n",
    "\n",
    "*Solution*:"
   ]
  },
  {
   "cell_type": "code",
   "execution_count": 9,
   "metadata": {},
   "outputs": [
    {
     "name": "stdout",
     "output_type": "stream",
     "text": [
      "c =  [ 1.75       -1.16666667]\n"
     ]
    }
   ],
   "source": [
    "x = np.array([1, 2, 3])\n",
    "y = np.array([1, 1.5, 4.5])\n",
    "c = np.polyfit(x, y, 1)\n",
    "print('c = ', c)"
   ]
  },
  {
   "cell_type": "markdown",
   "metadata": {},
   "source": [
    "These are the same values computed by solving the normal equations (because `np.polyfit` performs the same least-squares procedure).\n",
    "***"
   ]
  },
  {
   "cell_type": "markdown",
   "metadata": {},
   "source": [
    "To evaluate the data, one can use the returned coefficients directly, e.g., `y = c[0]*x + c[1]`.  However, `np.polyval` provides a way to evaluate the resulting model for any value(s) of `x`.  The function `np.polyval` takes just two arguments: the coefficients (i.e., `c`) and the value(s) of `x`.  "
   ]
  },
  {
   "cell_type": "markdown",
   "metadata": {},
   "source": [
    "***\n",
    "\n",
    "**Exercise**:  Evaluate $y(x)$ for the previous exercise for `x = [0, 1, 2, 3, 4]`.\n",
    "\n",
    "*Solution*:\n"
   ]
  },
  {
   "cell_type": "code",
   "execution_count": 10,
   "metadata": {},
   "outputs": [
    {
     "data": {
      "text/plain": [
       "array([-1.16666667,  0.58333333,  2.33333333,  4.08333333,  5.83333333])"
      ]
     },
     "execution_count": 10,
     "metadata": {},
     "output_type": "execute_result"
    }
   ],
   "source": [
    "np.polyval(c, [0, 1, 2, 3, 4])"
   ]
  },
  {
   "cell_type": "markdown",
   "metadata": {},
   "source": [
    "***\n",
    "\n",
    "**Exercise**: Fit the reactor power from above to a cubic function of time.  Plot both the original data and the fitted results.  Produce a second plot with the error as a function of time.\n",
    "\n",
    "***\n",
    "\n",
    "**Exercise**:  Consider `x = np.linspace(0, np.pi/2, 100)` and `y = np.cos(x)`.  Fit `y` to polynomials of order 2, 3, 4, and 5.  Produce a second plot with the errors between y and the various models.  (By the way, do the coefficients for the second order look familiar?  Go revisit a past homework.)\n",
    "\n",
    "***\n",
    "\n",
    "**Exercise**:  What would $\\mathbf{M}$ and $\\mathbf{c}$ look like if we wished to fit a set of $(x_i, y_i)$ points to a a model like $a + bx + c\\sin(x)$?   (Hint, $\\mathbf{M}$ should have three columns.)\n",
    "\n",
    "***"
   ]
  },
  {
   "cell_type": "markdown",
   "metadata": {},
   "source": [
    "## Beyond Polynomial Models\n",
    "\n",
    "Linear models are common, and polynomial models can provide necessary improvements.  For many cases, neither type of model is sufficient.  As an example, consider time-dependent measurements of a process known to be oscillatory but whose parameters (e.g., frequency, phase shift, etc.) are unknown.  Such a model may take the form $y(t) = a\\sin(bt + c) + d$.  Such a model can be approximated locally (or within a single period) with polynomials, but such a model hides the physics (as quantified by $a$, $b$, $c$, and/or $d$ in the sinusoidal model).\n",
    "\n",
    "Built into `scipy.optimize` is the function `curve_fit`, which can be used to determine the coefficients of arbitrary nonlinear models by applying *nonlinear* least squares.  \n",
    "\n",
    "To dig into `curve_fit`, consider the result of `help(curve_fit)`:\n",
    "\n",
    "```\n",
    "Help on function curve_fit in module scipy.optimize.minpack:\n",
    "\n",
    "curve_fit(f, xdata, ydata, p0=None, sigma=None, absolute_sigma=False, check_finite=True, bounds=(-inf, inf), method=None, jac=None, **kwargs)\n",
    "    Use non-linear least squares to fit a function, f, to data.\n",
    "    \n",
    "    Assumes ``ydata = f(xdata, *params) + eps``\n",
    "    \n",
    "```\n",
    "\n",
    "Here, `f` must be a function of the form `def func(x, a, b, ...)`, where `x` is the independent variable and `a`, `b`, etc., are the model parameters.  The second and third arguments `xdata` and `ydata` are the independent and dependent variables, respectively, against which the fit is to be made.  Optionally, `p0` is an initial guess for the model parameters.  An initial guess is strongly recommended, since the default value for each is unity, which may be far from a reasonable guess.\n",
    "\n",
    "As output, `curve_fit` returns two values: (1) the array of best-fit, model coefficients and (2) the covariance of these model coefficients.  For most purposes, only the first return value is needed (just be careful to extract it properly). "
   ]
  },
  {
   "cell_type": "markdown",
   "metadata": {},
   "source": [
    "\n",
    "***\n",
    "\n",
    "**Exercise**: Consider the following data acquired at times $0, 0.1, 0.2, \\ldots, 1.0$:\n",
    "\n",
    "```\n",
    "1.7222, -0.4074, -0.0098, 0.9937, 3.0986, 3.0519, 2.0899, 0.2276, -0.2550, 0.2815, 2.2938\n",
    "\n",
    "```\n",
    "Fit this to the model $y(t) = a\\sin(bt + c) + d$ using `curve_fit`.  Plot the best-fit model with the original data.\n",
    "\n",
    "\n",
    "*Solution*:\n",
    "\n",
    "First, define the model function:"
   ]
  },
  {
   "cell_type": "code",
   "execution_count": 11,
   "metadata": {
    "collapsed": true
   },
   "outputs": [],
   "source": [
    "def model(t, a, b, c, d):\n",
    "    return a*np.sin(b*t + c) + d"
   ]
  },
  {
   "cell_type": "markdown",
   "metadata": {},
   "source": [
    "Now, try `curve_fit`:"
   ]
  },
  {
   "cell_type": "code",
   "execution_count": 12,
   "metadata": {},
   "outputs": [
    {
     "data": {
      "text/plain": [
       "array([ 1.88133258, -9.87911136,  6.27749904,  1.45335284])"
      ]
     },
     "execution_count": 12,
     "metadata": {},
     "output_type": "execute_result"
    }
   ],
   "source": [
    "from scipy.optimize import curve_fit\n",
    "t = np.linspace(0, 1, 11)\n",
    "y = np.array([1.7222, -0.4074, -0.0098, 0.9937, 3.0986, 3.0519, 2.0899, 0.2276, -0.2550, 0.2815, 2.2938])\n",
    "c = curve_fit(model, t, y)[0]\n",
    "c"
   ]
  },
  {
   "cell_type": "markdown",
   "metadata": {},
   "source": [
    "Finally, use `model` to construct `y_a` using `c` and plot.  In addition to the  original $t$ points, we'll use a much finer set of times to illustrate the continuous model."
   ]
  },
  {
   "cell_type": "code",
   "execution_count": 13,
   "metadata": {},
   "outputs": [
    {
     "data": {
      "image/png": "[encoded data removed]",
      "text/plain": [
       "<matplotlib.figure.Figure at 0x7f6e2005f128>"
      ]
     },
     "metadata": {},
     "output_type": "display_data"
    }
   ],
   "source": [
    "plt.plot(t, y, 'k-o', label='y(t)')\n",
    "y_a = model(t, c[0], c[1], c[2], c[3])\n",
    "plt.plot(t, y_a, 'rx', label='y_a(t)')\n",
    "t_fine = np.linspace(0, 1, 100)\n",
    "y_a_fine  = model(t_fine, c[0], c[1], c[2], c[3])\n",
    "plt.plot(t_fine, y_a_fine, 'r--')\n",
    "plt.xlabel('t')\n",
    "plt.legend()\n",
    "plt.show()"
   ]
  },
  {
   "cell_type": "markdown",
   "metadata": {},
   "source": [
    "***\n",
    "\n",
    "**Exercise**: Consider the following model and points:\n",
    "\n",
    "```python\n",
    "def model(x, a, b, c):\n",
    "    return a*np.exp(-(x-b)**2/(c**2))\n",
    "x = np.linspace(0, 5, 100)\n",
    "y = model(x, 1, 2.5, 2)\n",
    "y_noisy = y + 0.1 * np.random.normal(size=len(x))\n",
    "```\n",
    "\n",
    "Determine $a$, $b$, and $c$ using the `x` and `y_noisy` and plot `y`, `y_noisy`, and `y_model` against `x`.\n",
    "\n",
    "***"
   ]
  },
  {
   "cell_type": "markdown",
   "metadata": {},
   "source": [
    "## Further Reading\n",
    "\n",
    "None for now."
   ]
  }
 ],
 "metadata": {
  "kernelspec": {
   "display_name": "Python 3",
   "language": "python",
   "name": "python3"
  },
  "language_info": {
   "codemirror_mode": {
    "name": "ipython",
    "version": 3
   },
   "file_extension": ".py",
   "mimetype": "text/x-python",
   "name": "python",
   "nbconvert_exporter": "python",
   "pygments_lexer": "ipython3",
   "version": "3.6.2"
  }
 },
 "nbformat": 4,
 "nbformat_minor": 2
}
