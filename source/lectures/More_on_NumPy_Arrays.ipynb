{
 "cells": [
  {
   "cell_type": "markdown",
   "metadata": {},
   "source": [
    "# Lecture 4 - More on NumPy Arrays: Slicing and `np.linalg`\n",
    "\n",
    "## Overview, Objectives, and Key Terms\n",
    " \n",
    "In this lesson, we'll continue our investigation started in [Lesson 3](ME400_Lecture_3.ipynb) and look multidimensional arrays and how to access multiple elements via *slicing*.  \n",
    "\n",
    "### Objectives\n",
    "\n",
    "By the end of this lesson, you should be able to\n",
    "\n",
    "- *define and manipulate two-dimensional NumPy arrays*\n",
    "- *visualize two-dimensional arrays*\n",
    "- *slicing and other indexing of one- and two-dimensional arrays*\n",
    "\n",
    "### Key Terms\n",
    "\n",
    "- `np.ones` (for 2-D arrays)\n",
    "- `np.zeros` (for 2-D arrays)\n",
    "- `np.array` (for 2-D arrays)\n",
    "- `np.meshgrid`\n",
    "- `plt.contour`\n",
    "- `plt.contourf`\n",
    "- `plt.colorbar`\n",
    "-  colormap\n",
    "- slice\n",
    "- stride\n",
    "- `np.reshape`\n",
    "- `np.random.rand`\n",
    "- matrix-vector multiplication\n",
    "- `np.dot` (for 2-D arrays)\n",
    "- `np.matmul`"
   ]
  },
  {
   "cell_type": "code",
   "execution_count": 1,
   "metadata": {
    "collapsed": true
   },
   "outputs": [],
   "source": [
    "from IPython.core.interactiveshell import InteractiveShell \n",
    "InteractiveShell.ast_node_interactivity = \"all\""
   ]
  },
  {
   "cell_type": "markdown",
   "metadata": {},
   "source": [
    "## Making Two-Dimensional Arrays\n",
    "\n",
    "A lot of data lives in tabulated structures that are logically equivalent to two-dimensional arrays.  We actually saw that in [Lesson 3](ME400_Lecture_3.ipynb) with our time, velocity, and acceleration example.  When loaded in via `np.loadtxt`, that data was stored as an array having a shape of `(3, 10)`.\n",
    "\n",
    "We can make such two-dimensional arrays.  The easiest ways are the `np.ones` and `np.zeros` functions, e.g.,"
   ]
  },
  {
   "cell_type": "code",
   "execution_count": 2,
   "metadata": {},
   "outputs": [
    {
     "data": {
      "text/plain": [
       "array([[ 1.,  1.,  1.],\n",
       "       [ 1.,  1.,  1.],\n",
       "       [ 1.,  1.,  1.]])"
      ]
     },
     "execution_count": 2,
     "metadata": {},
     "output_type": "execute_result"
    }
   ],
   "source": [
    "import numpy as np\n",
    "A = np.ones((3, 3))\n",
    "A"
   ]
  },
  {
   "cell_type": "code",
   "execution_count": 3,
   "metadata": {},
   "outputs": [
    {
     "data": {
      "text/plain": [
       "array([[ 0.,  0.,  0.],\n",
       "       [ 0.,  0.,  0.],\n",
       "       [ 0.,  0.,  0.]])"
      ]
     },
     "execution_count": 3,
     "metadata": {},
     "output_type": "execute_result"
    }
   ],
   "source": [
    "B = np.zeros((3, 3))\n",
    "B"
   ]
  },
  {
   "cell_type": "markdown",
   "metadata": {},
   "source": [
    "We can access and modify individual elements of these arrays just like we can their one-dimensional cousins.  For example, let's change the lower-right element of `B` to 99:"
   ]
  },
  {
   "cell_type": "code",
   "execution_count": 4,
   "metadata": {},
   "outputs": [
    {
     "data": {
      "text/plain": [
       "array([[  0.,   0.,   0.],\n",
       "       [  0.,   0.,   0.],\n",
       "       [ 99.,   0.,   0.]])"
      ]
     },
     "execution_count": 4,
     "metadata": {},
     "output_type": "execute_result"
    }
   ],
   "source": [
    "B[2, 0] = 99\n",
    "B"
   ]
  },
  {
   "cell_type": "markdown",
   "metadata": {},
   "source": [
    "When indexing a two-dimensional array, the syntax is always like `B[i, j]`, where `i` is the *row* and `j` is the *column*.  \n",
    "\n",
    "Two-dimensional arrays can also be made directly from existing data, e.g.,"
   ]
  },
  {
   "cell_type": "code",
   "execution_count": 5,
   "metadata": {},
   "outputs": [
    {
     "data": {
      "text/plain": [
       "array([[1, 2],\n",
       "       [3, 4]])"
      ]
     },
     "execution_count": 5,
     "metadata": {},
     "output_type": "execute_result"
    }
   ],
   "source": [
    "C = np.array([[1, 2], \n",
    "              [3, 4]]) # By splitting this line, the structure is much easier to see.\n",
    "C"
   ]
  },
  {
   "cell_type": "markdown",
   "metadata": {},
   "source": [
    "Here, the input to `np.array` is `[[1, 2], [3, 4]]`, which is actually a `list` with elements that are themselves `list`'s.  The key is that we need each row to have the form `[x, y, ...]`, and all rows need to be separated by commas and surrounded by an additional pair of `[]`'s."
   ]
  },
  {
   "cell_type": "markdown",
   "metadata": {},
   "source": [
    "Recall that often we need to evaluate a function $f(x)$ at evenly-spaced points in some range.  The same is true in two and three dimensions.  We'll stick in 2-D for now and consider evaluation of the two-dimensional function \n",
    "\n",
    "$$\n",
    "f(x, y) = (x + 2y + 7)^2 + (2x + y - 5)^2\n",
    "$$\n",
    "\n",
    "which is known as [Booth's function](https://www.sfu.ca/~ssurjano/booth.html).  Here, we want to evaluate $f(x, y)$ for $x, y \\in [-10, 10]$.  First, we'll define the arrays `x` and `y` using evenly-spaced points in the range $[-10, 10]$. "
   ]
  },
  {
   "cell_type": "code",
   "execution_count": 6,
   "metadata": {
    "collapsed": true
   },
   "outputs": [],
   "source": [
    "x = np.linspace(-10, 10, 5) \n",
    "y = np.linspace(-10, 10, 5)"
   ]
  },
  {
   "cell_type": "markdown",
   "metadata": {},
   "source": [
    "Now, imagine these points as defining a *grid* in the $xy$ plane.  How can we evaluate $f(x, y)$ at each possible pair of points $(x_i, y_j)$?  The \"programming\" approach---and one we'll learn later---would be to employ *loops*.  However, NumPy provides an easy and *efficient* way to do this for us in its `np.meshgrid` function."
   ]
  },
  {
   "cell_type": "code",
   "execution_count": 7,
   "metadata": {},
   "outputs": [
    {
     "data": {
      "text/plain": [
       "array([[-10.,  -5.,   0.,   5.,  10.],\n",
       "       [-10.,  -5.,   0.,   5.,  10.],\n",
       "       [-10.,  -5.,   0.,   5.,  10.],\n",
       "       [-10.,  -5.,   0.,   5.,  10.],\n",
       "       [-10.,  -5.,   0.,   5.,  10.]])"
      ]
     },
     "execution_count": 7,
     "metadata": {},
     "output_type": "execute_result"
    }
   ],
   "source": [
    "xx, yy = np.meshgrid(x, y) \n",
    "xx"
   ]
  },
  {
   "cell_type": "code",
   "execution_count": 8,
   "metadata": {},
   "outputs": [
    {
     "data": {
      "text/plain": [
       "array([[-10., -10., -10., -10., -10.],\n",
       "       [ -5.,  -5.,  -5.,  -5.,  -5.],\n",
       "       [  0.,   0.,   0.,   0.,   0.],\n",
       "       [  5.,   5.,   5.,   5.,   5.],\n",
       "       [ 10.,  10.,  10.,  10.,  10.]])"
      ]
     },
     "execution_count": 8,
     "metadata": {},
     "output_type": "execute_result"
    }
   ],
   "source": [
    "yy"
   ]
  },
  {
   "cell_type": "markdown",
   "metadata": {},
   "source": [
    "Notice that these new arrays (named `xx` and `yy` so that we don't *overwrite* `x` and `y`) are two dimensional.  However, by marching through, for example, the top rows, we see that the resulting pairs of numbers are $(-10, -10)$, $(-5, -10)$, $(0, -10)$ and so on.  Hence, all of the 5 possible values of $x$ are paired with the value $y = -10$ (first row) and then $y = -5$ (second row), etc.\n",
    "\n",
    "We can now evaluate the desired function."
   ]
  },
  {
   "cell_type": "code",
   "execution_count": 9,
   "metadata": {},
   "outputs": [
    {
     "data": {
      "text/plain": [
       "array([[ 1754.,   949.,   394.,    89.,    34.],\n",
       "       [ 1069.,   464.,   109.,     4.,   149.],\n",
       "       [  634.,   229.,    74.,   169.,   514.],\n",
       "       [  449.,   244.,   289.,   584.,  1129.],\n",
       "       [  514.,   509.,   754.,  1249.,  1994.]])"
      ]
     },
     "execution_count": 9,
     "metadata": {},
     "output_type": "execute_result"
    }
   ],
   "source": [
    "f = (xx + 2*yy + 7)**2 + (2*xx + yy - 5)**2\n",
    "f"
   ]
  },
  {
   "cell_type": "markdown",
   "metadata": {},
   "source": [
    "## Visualizing 2-D Arrays\n",
    "\n",
    "We saw in [Lesson 3](ME400_Lecture_3.ipynb) how easily one can produce a plot of 1-D data (in the form of NumPy arrays) by using Matplotlib.  We can also visualize 2-D data.  First, let's give ourselves a somewhat richer set of data to visualize by increasing the number of $x$ and $y$ points we use to evaluate $f(x, y)$."
   ]
  },
  {
   "cell_type": "code",
   "execution_count": 10,
   "metadata": {
    "collapsed": true
   },
   "outputs": [],
   "source": [
    "x, y = np.linspace(-10, 10, 100), np.linspace(-10, 10, 100)\n",
    "# note how two assignments can be written in one line \n",
    "xx, yy = np.meshgrid(x, y)\n",
    "f = (xx + 2*yy + 7)**2 + (2*xx + yy - 5)**2"
   ]
  },
  {
   "cell_type": "markdown",
   "metadata": {},
   "source": [
    "One way to visualize $f(x, y)$ is through use of *[contour](http://www.itl.nist.gov/div898/handbook/eda/section3/contour.htm)* plots.  Matplotlib offers two versions of a contour plot: `plt.contour` and `plt.contourf`, where the latter is a \"filled\" version.  Here they are for our data:"
   ]
  },
  {
   "cell_type": "code",
   "execution_count": 11,
   "metadata": {},
   "outputs": [
    {
     "data": {
      "text/plain": [
       "<matplotlib.contour.QuadContourSet at 0x1135d5828>"
      ]
     },
     "execution_count": 11,
     "metadata": {},
     "output_type": "execute_result"
    },
    {
     "data": {
      "text/plain": [
       "<matplotlib.text.Text at 0x110262dd8>"
      ]
     },
     "execution_count": 11,
     "metadata": {},
     "output_type": "execute_result"
    },
    {
     "data": {
      "text/plain": [
       "<matplotlib.text.Text at 0x1135804e0>"
      ]
     },
     "execution_count": 11,
     "metadata": {},
     "output_type": "execute_result"
    },
    {
     "data": {
      "text/plain": [
       "<matplotlib.text.Text at 0x1135a6e48>"
      ]
     },
     "execution_count": 11,
     "metadata": {},
     "output_type": "execute_result"
    },
    {
     "data": {
      "text/plain": [
       "<matplotlib.colorbar.Colorbar at 0x11365b7b8>"
      ]
     },
     "execution_count": 11,
     "metadata": {},
     "output_type": "execute_result"
    },
    {
     "data": {
      "image/png": "[encoded data removed]",
      "text/plain": [
       "<matplotlib.figure.Figure at 0x10f264b38>"
      ]
     },
     "metadata": {},
     "output_type": "display_data"
    }
   ],
   "source": [
    "import matplotlib.pyplot as plt\n",
    "plt.contour(x, y, f)\n",
    "plt.xlabel('x')\n",
    "plt.ylabel('y')\n",
    "plt.title(\"Booth's function via plt.contour\") # Sometimes, a title is useful if no caption can be provided.\n",
    "plt.colorbar() # The colorbar function produces the color legend at the right.\n",
    "plt.show()"
   ]
  },
  {
   "cell_type": "code",
   "execution_count": 12,
   "metadata": {},
   "outputs": [
    {
     "data": {
      "text/plain": [
       "<matplotlib.contour.QuadContourSet at 0x1136e49e8>"
      ]
     },
     "execution_count": 12,
     "metadata": {},
     "output_type": "execute_result"
    },
    {
     "data": {
      "text/plain": [
       "<matplotlib.text.Text at 0x11367ba20>"
      ]
     },
     "execution_count": 12,
     "metadata": {},
     "output_type": "execute_result"
    },
    {
     "data": {
      "text/plain": [
       "<matplotlib.text.Text at 0x113773b70>"
      ]
     },
     "execution_count": 12,
     "metadata": {},
     "output_type": "execute_result"
    },
    {
     "data": {
      "text/plain": [
       "<matplotlib.text.Text at 0x11381f048>"
      ]
     },
     "execution_count": 12,
     "metadata": {},
     "output_type": "execute_result"
    },
    {
     "data": {
      "text/plain": [
       "<matplotlib.colorbar.Colorbar at 0x11387ec18>"
      ]
     },
     "execution_count": 12,
     "metadata": {},
     "output_type": "execute_result"
    },
    {
     "data": {
      "image/png": "[encoded data removed]",
      "text/plain": [
       "<matplotlib.figure.Figure at 0x1101d19e8>"
      ]
     },
     "metadata": {},
     "output_type": "display_data"
    }
   ],
   "source": [
    "plt.contourf(x, y, f, cmap=plt.cm.inferno)\n",
    "plt.xlabel('x')\n",
    "plt.ylabel('y')\n",
    "plt.title(\"Booth's function via plt.contourf\") \n",
    "plt.colorbar()\n",
    "plt.show()"
   ]
  },
  {
   "cell_type": "markdown",
   "metadata": {},
   "source": [
    "Here, I've added the `cmap` argument to `plt.contourf`, which changes the colormap (i.e., color scheme) of the image.  Matplotlib provides [dozens of options](https://matplotlib.org/examples/color/colormaps_reference.html), but it's strongly recommended to use one of the \"perceptually uniform sequential\" colormaps, which provide good contrast in black and white and are more easily interpreted by folks with colorblindness than more traditional colormaps like \"jet.\"\n",
    "\n",
    "Other functions of interest include `plt.pcolor` and `plt.imshow`, which are left to the reader to explore using `help` and online documentation."
   ]
  },
  {
   "cell_type": "markdown",
   "metadata": {},
   "source": [
    "## Slicing\n",
    "\n",
    "Now we turn to a useful operation known as *slicing*, a process by which we can access more than one element of an array.  We'll find that slicing is also applicable to other data types, including the container types `list` and `tuple` that will be explored later on.\n",
    "\n",
    "### Slicing in 1-D\n",
    "\n",
    "For starters, let's create a one dimensional array of the numbers $0, 1, \\ldots, 9$:"
   ]
  },
  {
   "cell_type": "code",
   "execution_count": 13,
   "metadata": {
    "collapsed": true
   },
   "outputs": [],
   "source": [
    "a = np.arange(10)"
   ]
  },
  {
   "cell_type": "markdown",
   "metadata": {},
   "source": [
    "We already saw that individual elements of an array like `a` can be accessed via the `[]` operator, e.g., `a[2]` gives us the third element (because numbering starts at zero).  Suppose we want to define a new array `b` that has the first three elements of `a`.  We can *slice* `a` by doing"
   ]
  },
  {
   "cell_type": "code",
   "execution_count": 14,
   "metadata": {
    "collapsed": true
   },
   "outputs": [],
   "source": [
    "b = a[0:3]"
   ]
  },
  {
   "cell_type": "markdown",
   "metadata": {},
   "source": [
    "Here, the `:` is the key, and the syntax `0:3` can be read as `from 0 up to but not including 3`.  That's key: we get `a[0]`, `a[1]`, and `a[2]`, but *not* `a[3]`.\n",
    "\n",
    "> **Note**.  Basic slicing of an array `a` has the form `a[start:end]`, where the second number `end` is one plus the location of the last element desired."
   ]
  },
  {
   "cell_type": "markdown",
   "metadata": {},
   "source": [
    "The slicing syntax also allows a third number called the *stride*.  For example, a stride of two lets one select only every other element.  Here, we can get let `c` be all the even-indexed elements of `a`:"
   ]
  },
  {
   "cell_type": "code",
   "execution_count": 15,
   "metadata": {
    "collapsed": true
   },
   "outputs": [],
   "source": [
    "c = a[0:10:2]"
   ]
  },
  {
   "cell_type": "markdown",
   "metadata": {},
   "source": [
    "Again, the syntax `0:10:2` can be read as `from 0 up to 10, skipping every other element`.  \n",
    "\n",
    "\n",
    "There are a couple of shortcuts one can use in slicing.  For example, each of the three numbers has a *default* value.  The starting value defaults to the beginning of the array, i.e., element zero, while the ending value defaults to the length of the array.  The stride, by default, is one, which means no elements are skipped.  When the stride is not defined, the second `:` can be omitted. Because these defaults are defined, the following are equivalent:"
   ]
  },
  {
   "cell_type": "code",
   "execution_count": 16,
   "metadata": {},
   "outputs": [
    {
     "data": {
      "text/plain": [
       "array([0, 1, 2, 3, 4, 5, 6, 7, 8, 9])"
      ]
     },
     "execution_count": 16,
     "metadata": {},
     "output_type": "execute_result"
    },
    {
     "data": {
      "text/plain": [
       "array([0, 1, 2, 3, 4, 5, 6, 7, 8, 9])"
      ]
     },
     "execution_count": 16,
     "metadata": {},
     "output_type": "execute_result"
    },
    {
     "data": {
      "text/plain": [
       "array([0, 1, 2, 3, 4, 5, 6, 7, 8, 9])"
      ]
     },
     "execution_count": 16,
     "metadata": {},
     "output_type": "execute_result"
    },
    {
     "data": {
      "text/plain": [
       "array([0, 1, 2, 3, 4, 5, 6, 7, 8, 9])"
      ]
     },
     "execution_count": 16,
     "metadata": {},
     "output_type": "execute_result"
    },
    {
     "data": {
      "text/plain": [
       "array([0, 1, 2, 3, 4, 5, 6, 7, 8, 9])"
      ]
     },
     "execution_count": 16,
     "metadata": {},
     "output_type": "execute_result"
    },
    {
     "data": {
      "text/plain": [
       "array([0, 1, 2, 3, 4, 5, 6, 7, 8, 9])"
      ]
     },
     "execution_count": 16,
     "metadata": {},
     "output_type": "execute_result"
    },
    {
     "data": {
      "text/plain": [
       "array([0, 1, 2, 3, 4, 5, 6, 7, 8, 9])"
      ]
     },
     "execution_count": 16,
     "metadata": {},
     "output_type": "execute_result"
    },
    {
     "data": {
      "text/plain": [
       "array([0, 1, 2, 3, 4, 5, 6, 7, 8, 9])"
      ]
     },
     "execution_count": 16,
     "metadata": {},
     "output_type": "execute_result"
    },
    {
     "data": {
      "text/plain": [
       "array([0, 1, 2, 3, 4, 5, 6, 7, 8, 9])"
      ]
     },
     "execution_count": 16,
     "metadata": {},
     "output_type": "execute_result"
    },
    {
     "data": {
      "text/plain": [
       "array([0, 1, 2, 3, 4, 5, 6, 7, 8, 9])"
      ]
     },
     "execution_count": 16,
     "metadata": {},
     "output_type": "execute_result"
    }
   ],
   "source": [
    "a[0:10:1]\n",
    "a[0:10]\n",
    "a[:10:1]\n",
    "a[0::1]\n",
    "a[0::]\n",
    "a[:10:]\n",
    "a[::1]\n",
    "a[::]\n",
    "a[:]\n",
    "a"
   ]
  },
  {
   "cell_type": "markdown",
   "metadata": {},
   "source": [
    "> **Note**. The complete slicing syntax for an array `a` is `a[start:end:stride]`.  By default, `start = 0`, `end = len(a)`, and `stride = 1`.  Hence, any or all of `start`, `end`, and `stride` may be omitted.  When `stride` is omitted, the second `:` may also be omitted."
   ]
  },
  {
   "cell_type": "markdown",
   "metadata": {},
   "source": [
    "Slicing of NumPy arrays provides not just access to selected elements: it also lets one modify those elements.  Given the zeros array"
   ]
  },
  {
   "cell_type": "code",
   "execution_count": 17,
   "metadata": {
    "collapsed": true
   },
   "outputs": [],
   "source": [
    "z = np.zeros(10)"
   ]
  },
  {
   "cell_type": "markdown",
   "metadata": {},
   "source": [
    "we can set all the odd elements to unity"
   ]
  },
  {
   "cell_type": "code",
   "execution_count": 18,
   "metadata": {
    "collapsed": true
   },
   "outputs": [],
   "source": [
    "z[1::2] = 1.0"
   ]
  },
  {
   "cell_type": "markdown",
   "metadata": {},
   "source": [
    "We could then set the even elements to $1, 2, 3, 4, 5$ via"
   ]
  },
  {
   "cell_type": "code",
   "execution_count": 19,
   "metadata": {
    "collapsed": true
   },
   "outputs": [],
   "source": [
    "z[::2] = np.arange(1, 6)"
   ]
  },
  {
   "cell_type": "markdown",
   "metadata": {},
   "source": [
    "because `z[::2]` and `np.arange(5)` have the same length---we'd get an error otherwise!"
   ]
  },
  {
   "cell_type": "markdown",
   "metadata": {},
   "source": [
    "### Slicing in 2-D\n",
    "\n",
    "Slicing applies equally to two-dimensional arrays.  Consider the following code, in which the 1-D array of numbers `0, 1, 2, \\ldots 24` is reshaped into a square 2-D array:"
   ]
  },
  {
   "cell_type": "code",
   "execution_count": 20,
   "metadata": {},
   "outputs": [
    {
     "data": {
      "text/plain": [
       "array([[ 0,  1,  2,  3,  4],\n",
       "       [ 5,  6,  7,  8,  9],\n",
       "       [10, 11, 12, 13, 14],\n",
       "       [15, 16, 17, 18, 19],\n",
       "       [20, 21, 22, 23, 24]])"
      ]
     },
     "execution_count": 20,
     "metadata": {},
     "output_type": "execute_result"
    }
   ],
   "source": [
    "D = np.arange(25).reshape((5, 5))\n",
    "D"
   ]
  },
  {
   "cell_type": "markdown",
   "metadata": {},
   "source": [
    "Just as we can access individual elements of a 1-D array, so too can we access an element of a 2-D array.  Here, to get the first element of the first row, we would use"
   ]
  },
  {
   "cell_type": "code",
   "execution_count": 21,
   "metadata": {},
   "outputs": [
    {
     "data": {
      "text/plain": [
       "0"
      ]
     },
     "execution_count": 21,
     "metadata": {},
     "output_type": "execute_result"
    }
   ],
   "source": [
    "D[0, 0]"
   ]
  },
  {
   "cell_type": "markdown",
   "metadata": {},
   "source": [
    "If we want the whole first row, we can replace the column index by a `:`, i.e.,"
   ]
  },
  {
   "cell_type": "code",
   "execution_count": 22,
   "metadata": {},
   "outputs": [
    {
     "data": {
      "text/plain": [
       "array([0, 1, 2, 3, 4])"
      ]
     },
     "execution_count": 22,
     "metadata": {},
     "output_type": "execute_result"
    }
   ],
   "source": [
    "D[0, :]"
   ]
  },
  {
   "cell_type": "markdown",
   "metadata": {},
   "source": [
    "and similarly for the first column,"
   ]
  },
  {
   "cell_type": "code",
   "execution_count": 23,
   "metadata": {},
   "outputs": [
    {
     "data": {
      "text/plain": [
       "array([ 0,  5, 10, 15, 20])"
      ]
     },
     "execution_count": 23,
     "metadata": {},
     "output_type": "execute_result"
    }
   ],
   "source": [
    "D[:, 0]"
   ]
  },
  {
   "cell_type": "markdown",
   "metadata": {},
   "source": [
    "The same syntax used in 1-D, i.e., `start:end:stride` works for the row and column indices of a 2-D array independently.  For example, we can double the elements of the odd columns (i.e., columns 1 and 3) of `D` by using"
   ]
  },
  {
   "cell_type": "code",
   "execution_count": 24,
   "metadata": {
    "collapsed": true
   },
   "outputs": [],
   "source": [
    "D[:, 1::2] *= 2"
   ]
  },
  {
   "cell_type": "markdown",
   "metadata": {},
   "source": [
    "### Other Indexing\n",
    "\n",
    "Slicing is extremely powerful, but there are [other ways](https://docs.scipy.org/doc/numpy/reference/arrays.indexing.html#arrays-indexing) to access elements of an array that are particularly well suited to special applications.  One method that is useful when processing tabulated data is based on conditional selection of array elements.  \n",
    "\n",
    "Consider the following two-dimensional array, in which the elements are random numbers distributed evenly between 0 and 1:"
   ]
  },
  {
   "cell_type": "code",
   "execution_count": 25,
   "metadata": {},
   "outputs": [
    {
     "data": {
      "text/plain": [
       "array([[ 0.21599953,  0.20896329,  0.86748958,  0.95739475,  0.81553255],\n",
       "       [ 0.19930669,  0.64305608,  0.46039758,  0.05999687,  0.7649713 ],\n",
       "       [ 0.17219309,  0.17676639,  0.43098339,  0.36570437,  0.87541963],\n",
       "       [ 0.87421968,  0.79695961,  0.5077443 ,  0.62025698,  0.99742384],\n",
       "       [ 0.47294859,  0.40971301,  0.07100013,  0.76195682,  0.53840535]])"
      ]
     },
     "execution_count": 25,
     "metadata": {},
     "output_type": "execute_result"
    }
   ],
   "source": [
    "E = np.random.rand(5, 5)\n",
    "E"
   ]
  },
  {
   "cell_type": "markdown",
   "metadata": {},
   "source": [
    "The array `E` will, by default, be different every time this line is executed, but on the average, half the elements will be greater than 0.5.  How can we select those elements?  We can do so with the comparison operator `>`.  For example, we can get a boolean map of the elements of `E` that are larger than 0.5 via"
   ]
  },
  {
   "cell_type": "code",
   "execution_count": 26,
   "metadata": {},
   "outputs": [
    {
     "data": {
      "text/plain": [
       "array([[False, False,  True,  True,  True],\n",
       "       [False,  True, False, False,  True],\n",
       "       [False, False, False, False,  True],\n",
       "       [ True,  True,  True,  True,  True],\n",
       "       [False, False, False,  True,  True]], dtype=bool)"
      ]
     },
     "execution_count": 26,
     "metadata": {},
     "output_type": "execute_result"
    }
   ],
   "source": [
    "E > 0.5"
   ]
  },
  {
   "cell_type": "markdown",
   "metadata": {},
   "source": [
    "The actual elements that satisfy that criterion can be accessed with"
   ]
  },
  {
   "cell_type": "code",
   "execution_count": 27,
   "metadata": {},
   "outputs": [
    {
     "data": {
      "text/plain": [
       "array([ 0.86748958,  0.95739475,  0.81553255,  0.64305608,  0.7649713 ,\n",
       "        0.87541963,  0.87421968,  0.79695961,  0.5077443 ,  0.62025698,\n",
       "        0.99742384,  0.76195682,  0.53840535])"
      ]
     },
     "execution_count": 27,
     "metadata": {},
     "output_type": "execute_result"
    }
   ],
   "source": [
    "E[E > 0.5]"
   ]
  },
  {
   "cell_type": "markdown",
   "metadata": {},
   "source": [
    "If, for example, we want to change all of those elements to 1.0, we could do"
   ]
  },
  {
   "cell_type": "code",
   "execution_count": 28,
   "metadata": {},
   "outputs": [
    {
     "data": {
      "text/plain": [
       "array([[ 0.21599953,  0.20896329,  1.        ,  1.        ,  1.        ],\n",
       "       [ 0.19930669,  1.        ,  0.46039758,  0.05999687,  1.        ],\n",
       "       [ 0.17219309,  0.17676639,  0.43098339,  0.36570437,  1.        ],\n",
       "       [ 1.        ,  1.        ,  1.        ,  1.        ,  1.        ],\n",
       "       [ 0.47294859,  0.40971301,  0.07100013,  1.        ,  1.        ]])"
      ]
     },
     "execution_count": 28,
     "metadata": {},
     "output_type": "execute_result"
    }
   ],
   "source": [
    "E[E > 0.5] = 1.0\n",
    "E"
   ]
  },
  {
   "cell_type": "markdown",
   "metadata": {},
   "source": [
    "The basic ingredients for this approach are an array of interest (here, that's `E`) and an array of the same size that has elements of the `bool` type.  Most often, the array of `bool`'s comes from a conditional statement involving the original array (e.g., `E > 0.5`).  However, we can also creat them explicitly.  To get the second and fifth element of `np.arange(5)`, we could do"
   ]
  },
  {
   "cell_type": "code",
   "execution_count": 29,
   "metadata": {},
   "outputs": [
    {
     "data": {
      "text/plain": [
       "array([1, 4])"
      ]
     },
     "execution_count": 29,
     "metadata": {},
     "output_type": "execute_result"
    }
   ],
   "source": [
    "np.arange(5)[np.array([False, True, False, False, True])]"
   ]
  },
  {
   "cell_type": "markdown",
   "metadata": {},
   "source": [
    "## Matrix-Vector and Matrix-Matrix Operations"
   ]
  },
  {
   "cell_type": "markdown",
   "metadata": {},
   "source": [
    "As a final topic for our introduction to Python \"as a calculator\" is its use---via NumPy--for handling matrix and vector operations.  We've not seen ways to create and manipulate one- and two-dimensional arrays.  In [Lesson 3](ME400_Lecture_3.ipynb), `np.dot` was introduced for dot (sometimes scalar or inner) products of vectors (represented by `ndarray`'s).  \n",
    "\n",
    "### Matrix-Vector Multiplication\n",
    "\n",
    "In NumPy, `np.dot` can also be used for matrix-vector multiplication.  First, recall that the multiplication of an $m \\times n$ matrix $\\mathbf{A}$ by a $n \\times 1$ vector $\\mathbf{v}$ is defined formally as\n",
    "\n",
    "$$\n",
    "\\begin{bmatrix} \n",
    "  a_{0,0} & a_{0,1} & \\cdots & a_{0,n-1} \\\\\n",
    "  a_{1,0} & a_{1,1} & \\cdots & a_{1,n-1} \\\\\n",
    "  \\vdots  & \\vdots  & \\ddots & \\vdots  \\\\\n",
    "  a_{m-1,0} & a_{m,2} & \\cdots & a_{m,n} \n",
    "\\end{bmatrix} \n",
    "\\times \n",
    "\\left[ \\begin{array}{c} \n",
    "   v_0 \\\\ \n",
    "   v_1 \\\\\n",
    "   \\vdots \\\\\n",
    "   v_{n-1} \n",
    "   \\end{array} \\right] = \n",
    "   \\left[ \\begin{array}{c} \n",
    "            \\sum_{j=0}^{n-1} A_{0, j} v_j \\\\ \n",
    "            \\sum_{j=0}^{n-1} A_{1, j} v_j \\\\\n",
    "            \\vdots \\\\\n",
    "            \\sum_{j=0}^{n-1} A_{m-1, j} v_j \\end{array} \\right]\n",
    "$$\n",
    "\n",
    "where the indices start at zero and end with $m-1$ or $n-1$ for consistency with Python indexing.  Note that the result on the right-hand side is an $m \\times 1$ vector.  Its $i$th element has the form $\\sum_{j=0}^{n-1} A_{i, j} v_j$, which is just the dot product of the vector $\\mathbf{v}$ and the vector formed by $i$th row of $\\mathbf{A}$.  In other words, matrix-vector multiplication is just a sequence of dot products.\n",
    "\n",
    "Let's try an example.  First, let us construct a two-dimensional array to represent the following matrix:\n",
    "\n",
    "$$\n",
    "\\mathbf{A} = \n",
    "\\begin{bmatrix} \n",
    "  2 & -1 & 0 & 0 & 0 \\\\\n",
    "  -1 & 2 & -1 & 0 & 0 \\\\\n",
    "  0 & -1 & 2 & -1 & 0 \\\\\n",
    "  0 & 0 & -1 & 2 & -1 \\\\\n",
    "  0& 0 & 0 & -1 & 2 \n",
    "\\end{bmatrix} \n",
    "$$\n",
    "\n",
    "In NumPy, one pretty nifty way to do that is"
   ]
  },
  {
   "cell_type": "code",
   "execution_count": 30,
   "metadata": {},
   "outputs": [
    {
     "data": {
      "text/plain": [
       "array([[ 2., -1.,  0.,  0.,  0.],\n",
       "       [-1.,  2., -1.,  0.,  0.],\n",
       "       [ 0., -1.,  2., -1.,  0.],\n",
       "       [ 0.,  0., -1.,  2., -1.],\n",
       "       [ 0.,  0.,  0., -1.,  2.]])"
      ]
     },
     "execution_count": 30,
     "metadata": {},
     "output_type": "execute_result"
    }
   ],
   "source": [
    "A = 2*np.diag(np.ones(5)) - np.diag(np.ones(4), -1) - np.diag(np.ones(4), 1)\n",
    "A"
   ]
  },
  {
   "cell_type": "markdown",
   "metadata": {},
   "source": [
    "although there are other ways that would work, too.  We'll multiply $\\mathbf{A}$ by $\\mathbf{v}$, a $5 \\times 1$ vector of ones, which we can represent as the NumPy array"
   ]
  },
  {
   "cell_type": "code",
   "execution_count": 31,
   "metadata": {
    "collapsed": true
   },
   "outputs": [],
   "source": [
    "v = np.ones(5)"
   ]
  },
  {
   "cell_type": "markdown",
   "metadata": {},
   "source": [
    "The matrix-vector product can be computed via"
   ]
  },
  {
   "cell_type": "code",
   "execution_count": 32,
   "metadata": {},
   "outputs": [
    {
     "data": {
      "text/plain": [
       "array([ 1.,  0.,  0.,  0.,  1.])"
      ]
     },
     "execution_count": 32,
     "metadata": {},
     "output_type": "execute_result"
    }
   ],
   "source": [
    "A.dot(v)"
   ]
  },
  {
   "cell_type": "markdown",
   "metadata": {},
   "source": [
    "Admittedly, use of `dot` for matrix-vector multiplication is somewhat unintuitive.  For many years, that's all NumPy offered.  In recent versions, the `matmul` function was added, which lets us do the same thing:"
   ]
  },
  {
   "cell_type": "code",
   "execution_count": 33,
   "metadata": {},
   "outputs": [
    {
     "data": {
      "text/plain": [
       "array([ 1.,  0.,  0.,  0.,  1.])"
      ]
     },
     "execution_count": 33,
     "metadata": {},
     "output_type": "execute_result"
    }
   ],
   "source": [
    "np.matmul(A, v)"
   ]
  },
  {
   "cell_type": "markdown",
   "metadata": {},
   "source": [
    "### Matrix-Matrix Multiplication\n",
    "\n",
    "Both approached work just fine, and both can also be used to compute a matrix-matrix product (which is defined in much the same way as the matrix-vector product).  For example, $A \\times A$ can be computed using"
   ]
  },
  {
   "cell_type": "code",
   "execution_count": 34,
   "metadata": {},
   "outputs": [
    {
     "data": {
      "text/plain": [
       "array([[ 5., -4.,  1.,  0.,  0.],\n",
       "       [-4.,  6., -4.,  1.,  0.],\n",
       "       [ 1., -4.,  6., -4.,  1.],\n",
       "       [ 0.,  1., -4.,  6., -4.],\n",
       "       [ 0.,  0.,  1., -4.,  5.]])"
      ]
     },
     "execution_count": 34,
     "metadata": {},
     "output_type": "execute_result"
    }
   ],
   "source": [
    "A.dot(A)"
   ]
  },
  {
   "cell_type": "markdown",
   "metadata": {},
   "source": [
    "or"
   ]
  },
  {
   "cell_type": "code",
   "execution_count": 35,
   "metadata": {},
   "outputs": [
    {
     "data": {
      "text/plain": [
       "array([[ 5., -4.,  1.,  0.,  0.],\n",
       "       [-4.,  6., -4.,  1.,  0.],\n",
       "       [ 1., -4.,  6., -4.,  1.],\n",
       "       [ 0.,  1., -4.,  6., -4.],\n",
       "       [ 0.,  0.,  1., -4.,  5.]])"
      ]
     },
     "execution_count": 35,
     "metadata": {},
     "output_type": "execute_result"
    }
   ],
   "source": [
    "np.matmul(A, A)"
   ]
  },
  {
   "cell_type": "markdown",
   "metadata": {},
   "source": [
    "### Linear Systems\n",
    "\n",
    "Beyond dot products and matrix-vector products, a key task involving matrices and vectors is the solution of linear systems.  Such systems are essential to much engineering analysis, and often, they are best represented using matrices and vectors.  Consider the particular set of equations\n",
    "\n",
    "$$\n",
    "2 x + 3 y = 1 \\\\\n",
    "3 x +   y = 2 \\, .\n",
    "$$\n",
    "\n",
    "In matrix-vector form, these equations can be written\n",
    "\n",
    "$$\n",
    "\\begin{bmatrix} \n",
    "  2 & 3 \\\\\n",
    "  3 & 1\n",
    "\\end{bmatrix} \n",
    "\\times\n",
    "\\left[ \\begin{array}{c} \n",
    "   x \\\\ \n",
    "   y  \n",
    "   \\end{array} \\right] = \n",
    "\\left[ \\begin{array}{c} \n",
    "   1 \\\\ \n",
    "   2  \n",
    "   \\end{array} \\right] \\, .\n",
    "$$\n",
    "\n",
    "Using NumPy, we can solve this system via just a few lines of code:"
   ]
  },
  {
   "cell_type": "code",
   "execution_count": 36,
   "metadata": {},
   "outputs": [
    {
     "data": {
      "text/plain": [
       "0.7142857142857143"
      ]
     },
     "execution_count": 36,
     "metadata": {},
     "output_type": "execute_result"
    },
    {
     "data": {
      "text/plain": [
       "-0.14285714285714282"
      ]
     },
     "execution_count": 36,
     "metadata": {},
     "output_type": "execute_result"
    }
   ],
   "source": [
    "# define the system matrix\n",
    "A = np.array([[2, 3], [3, 1]])\n",
    "# define the right-hand side\n",
    "b = np.array([1, 2])\n",
    "# solve the system\n",
    "sol = np.linalg.solve(A, b)\n",
    "# extract the elements that represent x and y and display\n",
    "x, y = sol\n",
    "x\n",
    "y"
   ]
  },
  {
   "cell_type": "markdown",
   "metadata": {},
   "source": [
    "As a final comment, one will readily find that NumPy does include a `matrix` type.  Although `matrix` does offer some nice features (e.g., `*` can be used in place of `dot` or `matmul`), one loses some of the expected element-wise and other behavior of `ndarray` functions.  \n",
    "\n",
    "> **Note**:  Be aware that `np.matrix` exists, but feel encouraged to use `np.ndarray` for both one- and two-dimensional array, vector, and/or matrix operations."
   ]
  },
  {
   "cell_type": "markdown",
   "metadata": {},
   "source": [
    "## Further Reading\n",
    "\n",
    "More details on array indexing can be found in the [NumPy documentation](https://docs.scipy.org/doc/numpy/reference/arrays.indexing.html#arrays-indexing)."
   ]
  }
 ],
 "metadata": {
  "anaconda-cloud": {},
  "kernelspec": {
   "display_name": "Python 3",
   "language": "python",
   "name": "python3"
  },
  "language_info": {
   "codemirror_mode": {
    "name": "ipython",
    "version": 3
   },
   "file_extension": ".py",
   "mimetype": "text/x-python",
   "name": "python",
   "nbconvert_exporter": "python",
   "pygments_lexer": "ipython3",
   "version": "3.6.5"
  }
 },
 "nbformat": 4,
 "nbformat_minor": 2
}
