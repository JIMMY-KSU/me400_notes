{
 "cells": [
  {
   "cell_type": "markdown",
   "metadata": {
    "slideshow": {
     "slide_type": "slide"
    }
   },
   "source": [
    "# Lecture 27 - Solving First-Order IVPs Numerically\n",
    "\n",
    "## Overview, Objectives, and Key Terms\n",
    " \n",
    "The basics of ODEs were reviewed in [Lecture 26](ME400_Lecture_26.ipynb). There, SymPy was used to provide general solutions via `dsolve`, leaving application of initial and boundary conditions to the user.  However, SymPy (and other symbolic tools) cannot solve all differential equations.  For such equations, we can apply numerical techniques.  Specifically, we'll apply the finite-difference approximations presented in [Lecture 19](ME400_Lecture_19.ipynb).  For now, we'll consider only single, first-order equations, leaving systems for [Lecture 28](ME400_Lecture_28.ipynb)."
   ]
  },
  {
   "cell_type": "markdown",
   "metadata": {
    "slideshow": {
     "slide_type": "subslide"
    }
   },
   "source": [
    "### Objectives\n",
    "\n",
    "By the end of this lesson, you should be able to\n",
    "\n",
    "- Solve first-order IVPs numerically using forward and backward Euler's method\n",
    "- Explain what is mean by local and global errors\n",
    "- Explain what is meant by stability and how to achieve it"
   ]
  },
  {
   "cell_type": "markdown",
   "metadata": {
    "slideshow": {
     "slide_type": "subslide"
    }
   },
   "source": [
    "### Prerequisites\n",
    "\n",
    "You should already be able to\n",
    "\n",
    "- Solve ODEs based on what you've learned in a course like MATH 340 and [Lecture 26](ME400_Lecture_26.ipynb)\n",
    "- Compute a first-order, finite-difference approximation for $\\frac{df}{dx}$"
   ]
  },
  {
   "cell_type": "markdown",
   "metadata": {
    "slideshow": {
     "slide_type": "subslide"
    }
   },
   "source": [
    "### Key Terms\n",
    "\n",
    "- Euler's method\n",
    "- forward Euler\n",
    "- backward Euler\n",
    "- Heun's (improved Euler's) method\n",
    "- local error\n",
    "- global error\n",
    "- stable method\n",
    "- `scipy.integrate.odeint`"
   ]
  },
  {
   "cell_type": "markdown",
   "metadata": {
    "slideshow": {
     "slide_type": "slide"
    }
   },
   "source": [
    "## There Once was a Man Named Euler\n",
    "\n",
    "![Euler's grave in St. Petersburg](http://farm2.static.flickr.com/1085/1270449525_4b4b973a27_o.jpg)"
   ]
  },
  {
   "cell_type": "markdown",
   "metadata": {
    "slideshow": {
     "slide_type": "subslide"
    }
   },
   "source": [
    "Forward difference approximation:\n",
    "\n",
    "$$\n",
    "    \\frac{dy}{dt} \\approx \\frac{y(t+\\Delta)-y(t)}{\\Delta} \\, ,\n",
    "$$"
   ]
  },
  {
   "cell_type": "markdown",
   "metadata": {
    "slideshow": {
     "slide_type": "fragment"
    }
   },
   "source": [
    "Backward difference approximation:\n",
    "\n",
    "$$\n",
    "    \\frac{dy}{dt} \\approx \\frac{y(t)-y(t-\\Delta)}{\\Delta} \\, .\n",
    "$$"
   ]
  },
  {
   "cell_type": "markdown",
   "metadata": {
    "slideshow": {
     "slide_type": "fragment"
    }
   },
   "source": [
    "Discretize $y(t)$ so discretize $t$:\n",
    "\n",
    "$$\n",
    "   t = t_0, t_0 + \\Delta, t_0 + 2\\Delta, \\ldots t_0 + N\\Delta \\, .\n",
    "$$\n",
    "\n",
    "with\n",
    "\n",
    "$$\n",
    "  \\Delta = \\frac{t_N - t_0}{N} \\, .\n",
    "$$\n",
    "\n"
   ]
  },
  {
   "cell_type": "markdown",
   "metadata": {
    "slideshow": {
     "slide_type": "subslide"
    }
   },
   "source": [
    "**Exercise**:  Solve $y' = -2y(t) + 1$ with $y(0) = 0$ using (1) forward Euler and (2) backward Euler.  Is one more accurate?  Are they *stable*?"
   ]
  },
  {
   "cell_type": "code",
   "execution_count": 24,
   "metadata": {
    "slideshow": {
     "slide_type": "skip"
    }
   },
   "outputs": [
    {
     "name": "stdout",
     "output_type": "stream",
     "text": [
      "\\frac{a e^{a \\left(C_{1} + t\\right)}}{b \\left(e^{a \\left(C_{1} + t\\right)} - 1\\right)}\n",
      "\\frac{a e^{a \\left(t + \\frac{1}{a} \\log{\\left (- \\frac{b}{a - b} \\right )}\\right)}}{b \\left(e^{a \\left(t + \\frac{1}{a} \\log{\\left (- \\frac{b}{a - b} \\right )}\\right)} - 1\\right)}\n"
     ]
    }
   ],
   "source": [
    "import sympy as sy\n",
    "sy.init_printing()\n",
    "y, t, a, b = sy.symbols('y t a b')\n",
    "ivp = sy.Eq(sy.diff(y(t), t), a*y(t)-b*y(t)**2)\n",
    "y_sol = sy.dsolve(ivp).rhs\n",
    "print(sy.latex(y_sol.simplify()))\n",
    "coef = sy.solve(sy.Eq(y_sol.subs(t, 0), 1), sy.Symbol('C1'))[0]\n",
    "y_sol = y_sol.subs(sy.Symbol('C1'), coef)\n",
    "print(sy.latex(y_sol))"
   ]
  },
  {
   "cell_type": "markdown",
   "metadata": {
    "slideshow": {
     "slide_type": "fragment"
    }
   },
   "source": [
    "## Nonlinear IVPs\n",
    "\n",
    "Remember the decay problem:\n",
    "\n",
    "$$\n",
    "  \\frac{dN}{dt} = - a N\n",
    "$$\n",
    "\n",
    "with $N(0) = N_0$.  What if $-a \\rightarrow a$ (with $a > 0$)?  "
   ]
  },
  {
   "cell_type": "markdown",
   "metadata": {
    "slideshow": {
     "slide_type": "subslide"
    }
   },
   "source": [
    "A potentially improved model (the *logistic equation*):\n",
    "\n",
    "$$\n",
    "  \\frac{dN}{dt} = aN(t) - bN^2(t)\n",
    "$$\n",
    "\n",
    "Basically, a penalty for larger population.  How to solve?"
   ]
  },
  {
   "cell_type": "markdown",
   "metadata": {
    "slideshow": {
     "slide_type": "fragment"
    }
   },
   "source": [
    "By hand, rearrange to $[(1/a)/N + (b/a)/(a-bN)]dN = dt$ and integrate.  Same result from SymPy:\n",
    "\n",
    "$$\n",
    "N(t) = \\frac{a e^{a \\left(C_{1} + t\\right)}}{b \\left(e^{a \\left(C_{1} + t\\right)} - 1\\right)}\n",
    "$$"
   ]
  },
  {
   "cell_type": "markdown",
   "metadata": {
    "slideshow": {
     "slide_type": "fragment"
    }
   },
   "source": [
    "Numerically, let's try Euler!"
   ]
  },
  {
   "cell_type": "markdown",
   "metadata": {
    "slideshow": {
     "slide_type": "slide"
    }
   },
   "source": [
    "## `odeint`\n",
    "\n",
    "```\n",
    "odeint(func, y0, t, args=(), Dfun=None, col_deriv=0, full_output=0, ml=None, mu=None, rtol=None, atol=None, tcrit=None, h0=0.0, hmax=0.0, hmin=0.0, ixpr=0, mxstep=0, mxhnil=0, mxordn=12, mxords=5, printmessg=0)\n",
    "    Integrate a system of ordinary differential equations.\n",
    "    \n",
    "    Solve a system of ordinary differential equations using lsoda from the\n",
    "    FORTRAN library odepack.\n",
    "    \n",
    "    Solves the initial value problem for stiff or non-stiff systems\n",
    "    of first order ode-s::\n",
    "    \n",
    "        dy/dt = func(y, t0, ...)\n",
    "    \n",
    "    where y can be a vector.\n",
    "```"
   ]
  },
  {
   "cell_type": "markdown",
   "metadata": {
    "slideshow": {
     "slide_type": "subslide"
    }
   },
   "source": [
    "```\n",
    "    Parameters\n",
    "    ----------\n",
    "    func : callable(y, t0, ...)\n",
    "        Computes the derivative of y at t0.\n",
    "    y0 : array\n",
    "        Initial condition on y (can be a vector).\n",
    "    t : array\n",
    "        A sequence of time points for which to solve for y.  The initial\n",
    "        value point should be the first element of this sequence.\n",
    "    args : tuple, optional\n",
    "        Extra arguments to pass to function.\n",
    "```"
   ]
  },
  {
   "cell_type": "markdown",
   "metadata": {
    "slideshow": {
     "slide_type": "subslide"
    }
   },
   "source": [
    "**Exercise**: Logistic again!"
   ]
  },
  {
   "cell_type": "markdown",
   "metadata": {
    "slideshow": {
     "slide_type": "slide"
    }
   },
   "source": [
    "## Recap\n",
    "\n",
    "You should now be able to\n",
    "\n",
    "- Solve first-order IVPs numerically using forward and backward Euler's method\n",
    "- Explain what is mean by local and global errors\n",
    "- Explain what is meant by stability and how to achieve it\n",
    "\n",
    "Now, for some comments on the exam..."
   ]
  }
 ],
 "metadata": {
  "celltoolbar": "Slideshow",
  "kernelspec": {
   "display_name": "Python 3",
   "language": "python",
   "name": "python3"
  },
  "language_info": {
   "codemirror_mode": {
    "name": "ipython",
    "version": 3
   },
   "file_extension": ".py",
   "mimetype": "text/x-python",
   "name": "python",
   "nbconvert_exporter": "python",
   "pygments_lexer": "ipython3",
   "version": "3.6.2"
  }
 },
 "nbformat": 4,
 "nbformat_minor": 2
}
