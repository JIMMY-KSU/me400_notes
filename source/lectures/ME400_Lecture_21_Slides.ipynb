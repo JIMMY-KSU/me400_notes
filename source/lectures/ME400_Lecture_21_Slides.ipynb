{
 "cells": [
  {
   "cell_type": "markdown",
   "metadata": {
    "slideshow": {
     "slide_type": "slide"
    }
   },
   "source": [
    "# Lecture 21 - Root Finding\n",
    "\n",
    "We've now seen finite-difference approximations for derivatives, Riemann sums for integration, and elimination for solving $\\mathbf{Ax}=\\mathbf{b}$.  Now, we turn to solving $f(x) = 0$ and $\\mathbf{f(x)} = \\mathbf{0}$, i.e., nonlinear systems."
   ]
  },
  {
   "cell_type": "markdown",
   "metadata": {
    "slideshow": {
     "slide_type": "subslide"
    }
   },
   "source": [
    "\n",
    "### Objectives\n",
    "\n",
    "By the end of this lesson, you should be able to\n",
    "\n",
    "- Use graphical means to isolate roots of  nonlinear equations.\n",
    "- Find an isolated root of nonlinear equations using the bisection method.\n",
    "- Find an isolated root of nonlinear equations (or systems of equations) using Newton's method.\n",
    "- Find an isolated root of nonlinear equations (or systems of equations) using `fsolve`."
   ]
  },
  {
   "cell_type": "markdown",
   "metadata": {
    "slideshow": {
     "slide_type": "slide"
    }
   },
   "source": [
    "## Nonlinear Equations\n",
    "\n",
    "Linear equations are characterized by *linear combinations* of the unknowns, e.g.,\n",
    "\n",
    "$$\n",
    "\\begin{split}\n",
    " ax + by &= 1 \\\\\n",
    " cx + dy &= 2 \n",
    "\\end{split}\n",
    "$$\n",
    "\n",
    "Any deviation from this pattern results in **nonlinear equations**, which we can solve\n",
    "  - analytically (or symbolically)\n",
    "  - graphically\n",
    "  - numerically"
   ]
  },
  {
   "cell_type": "markdown",
   "metadata": {
    "slideshow": {
     "slide_type": "subslide"
    }
   },
   "source": [
    "### Analytic Solutions\n",
    "\n",
    "In *rare* cases, nonlinear equations have closed-form solutions."
   ]
  },
  {
   "cell_type": "markdown",
   "metadata": {
    "slideshow": {
     "slide_type": "fragment"
    }
   },
   "source": [
    "**Exercise**: Find all values of $x$ such that $\\sin(ax) - b = 0$.  \n"
   ]
  },
  {
   "cell_type": "markdown",
   "metadata": {
    "slideshow": {
     "slide_type": "subslide"
    }
   },
   "source": [
    "### Graphical Solutions\n",
    "\n",
    "Can't solve it?  **Plot it!**\n",
    "\n",
    "For single equation $f(x) = g(x)$:\n",
    "  - plot $f(x)$ and $g(x)$ over the range of interest to identify intersections\n",
    "  - plot $f(x)-g(x)$ to identify roots"
   ]
  },
  {
   "cell_type": "markdown",
   "metadata": {
    "slideshow": {
     "slide_type": "subslide"
    }
   },
   "source": [
    "**Exercise**: The solution of transient heat-conduction problems often involves a technique called *separation of variables*.  Application of this technique to an infinite slab of thickness $2L$ subject to certain initial and boundary conditions leads to the transcendental equation\n",
    "\n",
    "$$\n",
    "  \\cot \\lambda L = \\frac{\\lambda L}{hL/k} = \\frac{\\lambda L}{\\text{Bi}} \\, ,\n",
    "$$\n",
    "\n",
    "where $\\lambda$ is a dimensionless, undetermined parameter, $h$ is the heat transfer coefficient, $k$ is the thermal conductivity, and $\\text{Bi}$ is the *Biot number*.  The Biot number quantifies how hard it is for heat to flow *within* a body relative to how hard it is to flow *through the outer surface* of the body.  Only for certain values of $\\lambda$ can the equation be solved. Determine these values graphically by plotting the left-hand and right-hand sides of the equation as functions of $\\lambda L$.  Assume $L = 5$ and $\\text{Bi}=0.5$."
   ]
  },
  {
   "cell_type": "code",
   "execution_count": 16,
   "metadata": {
    "slideshow": {
     "slide_type": "fragment"
    }
   },
   "outputs": [],
   "source": [
    "import matplotlib.pyplot as plt\n",
    "import numpy as np\n",
    "L, Bi = 5, 0.5"
   ]
  },
  {
   "cell_type": "code",
   "execution_count": null,
   "metadata": {
    "slideshow": {
     "slide_type": "fragment"
    }
   },
   "outputs": [],
   "source": []
  },
  {
   "cell_type": "markdown",
   "metadata": {
    "slideshow": {
     "slide_type": "slide"
    }
   },
   "source": [
    "## Determining Roots Numerically\n",
    "\n",
    "The numerical solution of $f(x) = 0$ can be challenging since it requires we know at least a little about the desired solution, particularly the range in which the root is contained. We'll explore three basic schemes for solving $f(x)$: the [bisection method](http://mathworld.wolfram.com/Bisection.html), [Newton's method](http://mathworld.wolfram.com/NewtonsMethod.html), and the secant method."
   ]
  },
  {
   "cell_type": "markdown",
   "metadata": {
    "slideshow": {
     "slide_type": "subslide"
    }
   },
   "source": [
    "### Bisection\n",
    "\n",
    "Just like **binary search**!  Now, compare *sign* rather than *magnitude* (and keep **repeating**)."
   ]
  },
  {
   "cell_type": "markdown",
   "metadata": {
    "slideshow": {
     "slide_type": "subslide"
    }
   },
   "source": [
    "```\n",
    "'''Bisection method for finding an isolated root of f between a and b'''\n",
    "Input: f, a, b, tau\n",
    "\n",
    "# Define the left and right boundaries\n",
    "Set L = a\n",
    "Set R = b\n",
    "\n",
    "# Define the central point\n",
    "Set C = (a+b)/2\n",
    "\n",
    "# Go until f(C) is close enough to zero (i.e., that\n",
    "# C is close enough to the root between a and b\n",
    "While |f(C)| > tau \n",
    "    If sign(f(C)) == sign(f(L)) then\n",
    "        # the root must be between C and R\n",
    "        L = C\n",
    "    Otherwise\n",
    "        # the root must be between L and C\n",
    "        R = C\n",
    "    C = (L+R)/2\n",
    "Output: C\n",
    "```"
   ]
  },
  {
   "cell_type": "markdown",
   "metadata": {
    "slideshow": {
     "slide_type": "subslide"
    }
   },
   "source": [
    "**Exercise**: How can you defined `sign(f(C))` in Python?"
   ]
  },
  {
   "cell_type": "markdown",
   "metadata": {
    "slideshow": {
     "slide_type": "subslide"
    }
   },
   "source": [
    "Graphical display of bisection to find first positive root of $\\sin(x) - 2/5$:"
   ]
  },
  {
   "cell_type": "code",
   "execution_count": 19,
   "metadata": {
    "slideshow": {
     "slide_type": "skip"
    }
   },
   "outputs": [],
   "source": [
    "import matplotlib.pyplot as plt\n",
    "import numpy as np\n",
    "\n",
    "def bisection_root():\n",
    "    \n",
    "    f = lambda z: np.sin(z)-0.4    \n",
    "    x = np.linspace(0, 1, 100)    \n",
    "    plt.plot(x, f(x), 'k', x, 0*x,'k--')\n",
    "    \n",
    "    # Plot f(A), f(B)\n",
    "    A, B, C = 0, 1.0, 0.5\n",
    "    plt.plot(A, f(A), 'bs', ms=22)\n",
    "    plt.plot(B, f(B), 'bs', ms=22)\n",
    "    plt.plot(C, f(C), 'bs', ms=22, label='initial')\n",
    "    plt.fill_betweenx([f(A), f(B)], A, B, color='b', alpha=0.05)\n",
    "    \n",
    "    A, B, C = A, C, (A+C)/2\n",
    "    plt.plot(A, f(A), 'ro', ms=15)\n",
    "    plt.plot(B, f(B), 'ro', ms=15)\n",
    "    plt.plot(C, f(C), 'ro', ms=15, label='after first iteration')\n",
    "    plt.fill_betweenx([f(A), f(B)], A, B, color='r', alpha=0.1)\n",
    "    \n",
    "    A, B, C = C, B, (C+B)/2\n",
    "    plt.plot(A, f(A), 'c>', ms=12)\n",
    "    plt.plot(B, f(B), 'c>', ms=12)\n",
    "    plt.plot(C, f(C), 'c>', ms=12, label='after second iteration')\n",
    "    plt.fill_betweenx([f(A), f(B)], A, B, color='c', alpha=0.15)\n",
    "    \n",
    "    \n",
    "    plt.legend(fontsize=12)\n",
    "    plt.xlabel('$x$', fontsize=16)\n",
    "    plt.ylabel('$f(x)$', fontsize=16)\n",
    "    plt.show()"
   ]
  },
  {
   "cell_type": "code",
   "execution_count": 20,
   "metadata": {
    "slideshow": {
     "slide_type": "fragment"
    }
   },
   "outputs": [
    {
     "data": {
      "image/png": "[encoded data removed]",
      "text/plain": [
       "<Figure size 432x288 with 1 Axes>"
      ]
     },
     "metadata": {},
     "output_type": "display_data"
    }
   ],
   "source": [
    "bisection_root()"
   ]
  },
  {
   "cell_type": "markdown",
   "metadata": {
    "slideshow": {
     "slide_type": "subslide"
    }
   },
   "source": [
    "### Newton's Method\n",
    "\n",
    "Often, a better way to find roots of $f(x) = 0$ is [Newton's method](http://mathworld.wolfram.com/NewtonsMethod.html).\n",
    "\n",
    "Like bisection,  Newton's method produces a sequence of approximations.\n",
    "\n",
    "Unlike bisection, require an *initial guess* $x_0$ for the root $x_r$ (and it should be \"close\")."
   ]
  },
  {
   "cell_type": "markdown",
   "metadata": {
    "slideshow": {
     "slide_type": "subslide"
    }
   },
   "source": [
    "Quick motivation for Newton *from the math* by recalling\n",
    "\n",
    "$$\n",
    "\\begin{split}\n",
    "  f(x_{\\text{true root}}) &= f(x_0+\\Delta) \\\\\n",
    "       &= f(x_0) + \\Delta f'(x_0) + \\mathcal{O}(\\Delta^2) = 0 \\, .\n",
    "\\end{split}\n",
    "$$"
   ]
  },
  {
   "cell_type": "markdown",
   "metadata": {
    "slideshow": {
     "slide_type": "fragment"
    }
   },
   "source": [
    "Take a leap of faith: **ignore the** $\\mathcal{O}(\\Delta^2)$ **term** and set \n",
    "\n",
    "$$\n",
    "  x_{\\text{true root}} \\approx x_1 = x_0 + \\Delta = x_0 \\overbrace{- f(x_0)/f'(x_0)}^{\\Delta} \\, ,\n",
    "$$\n",
    "\n",
    "and do this for $x_2$ in terms of $x_1$, $x_3$ in terms of $x_2$, etc. until $f(x_i)$ is \"small enough\"."
   ]
  },
  {
   "cell_type": "markdown",
   "metadata": {
    "slideshow": {
     "slide_type": "subslide"
    }
   },
   "source": [
    "```\n",
    "'''Newton's method for finding the root f given x_0'''\n",
    "Input: f, fp, x_0, tau\n",
    "Set x = x_0\n",
    "While |f(x)| > tau do\n",
    "   # Compute the Newton \"step\" \n",
    "   Set Delta = -f(x)/fp(x)\n",
    "   # Compute the next value of x\n",
    "   Set x = x + Delta\n",
    "Output: x\n",
    "```"
   ]
  },
  {
   "cell_type": "markdown",
   "metadata": {
    "slideshow": {
     "slide_type": "subslide"
    }
   },
   "source": [
    "Quick motivation of Newton *from the geometry*..."
   ]
  },
  {
   "cell_type": "markdown",
   "metadata": {
    "slideshow": {
     "slide_type": "subslide"
    }
   },
   "source": [
    "**Exercise**: Solve $f(x) = \\sin(x)-2/5 = 0$ starting with $x_0 = 0.5$ until $|f(x)| < 10^{-5}$."
   ]
  },
  {
   "cell_type": "markdown",
   "metadata": {
    "slideshow": {
     "slide_type": "subslide"
    }
   },
   "source": [
    "If you don't have $f'(x)$, use a finite-difference approximation."
   ]
  },
  {
   "cell_type": "markdown",
   "metadata": {
    "slideshow": {
     "slide_type": "slide"
    }
   },
   "source": [
    "## Solving Systems of Nonlinear Equations Numerically\n",
    "\n",
    "From $f(x) = 0$ to $\\mathbf{f}(\\mathbf{x}) = \\mathbf{0}$...\n",
    "\n",
    "\n",
    "...and from $f'(x)$ to the **Jacobian** matrix $\\mathbf{J}$:\n",
    "\n",
    "$$\n",
    "  \\mathbf{J}(\\mathbf{x}) = \\begin{bmatrix}\n",
    "    \\frac{\\partial f_0}{\\partial x_0} & \\frac{\\partial f_0}{\\partial x_1} & \\ldots & \\frac{\\partial f_{0}}{\\partial x_{n-1}} \\\\\n",
    "    \\frac{\\partial f_1}{\\partial x_0} & \\frac{\\partial f_1}{\\partial x_0} & \\ldots & \\frac{\\partial f_{1}}{\\partial x_{n-1}} \\\\\n",
    "         &     &  \\ddots &  \\\\\n",
    "    \\frac{\\partial f_0}{\\partial x_{n-1}} & \\frac{\\partial f_1}{\\partial x_{n-1}} & \\ldots & \\frac{\\partial f_{n-1}}{\\partial x_{n-1}} \n",
    "\\end{bmatrix}\n",
    "$$\n",
    "\n",
    "(here, partial derivatives evaluated at $\\mathbf{x}$)"
   ]
  },
  {
   "cell_type": "markdown",
   "metadata": {
    "slideshow": {
     "slide_type": "subslide"
    }
   },
   "source": [
    "Newton's method leads to the sequence\n",
    "\n",
    "$$ \n",
    "  \\mathbf{x}_{n+1} = \\mathbf{x}_{n} - \\mathbf{J}^{-1}(\\mathbf{x}_n) \\mathbf{f}(\\mathbf{x}_n) \\, .\n",
    "$$\n",
    "\n",
    "But that's like solving $\\overbrace{\\mathbf{J}(\\mathbf{x}_{n})}^{\\mathbf{A}} \\times \\overbrace{[\\mathbf{x}_{n} - \\mathbf{x}_{n+1}]}^{\\mathbf{x}} = \\overbrace{\\mathbf{f}(\\mathbf{x}_n)}^{\\mathbf{b}}$!"
   ]
  },
  {
   "cell_type": "markdown",
   "metadata": {
    "slideshow": {
     "slide_type": "subslide"
    }
   },
   "source": [
    "### `scipy.optimize.fsolve`\n",
    "\n",
    "Good to know the equations, but better (usually) to use SciPy and its `scipy.optimize.fsolve` function:\n",
    "\n",
    "The signature (from `help(fsolve)`) is\n",
    "```python\n",
    "fsolve(func, x0, args=(), fprime=None, full_output=0, col_deriv=0, xtol=1.49012e-08, maxfev=0, band=None, epsfcn=None, factor=100, diag=None)\n",
    "```\n",
    "\n",
    "Here, `func` represents the nonlinear system function $\\mathbf{f}(\\mathbf{x})$, and `args` represents any values needed to define what $\\mathbf{f}(\\mathbf{x})$ does.  The initial guess is `x0`.  If available, `fprime` should compute $\\mathbf{J}(\\mathbf{x})$; if not provided, `fsolve` approximates the Jacobian using a forward-difference approximation."
   ]
  },
  {
   "cell_type": "markdown",
   "metadata": {
    "slideshow": {
     "slide_type": "subslide"
    }
   },
   "source": [
    "**Exercise** Suppose a bridge trunnion (a pin) has a diameter of 12.363 in but must fit into a slightly under-sized hole of diameter 12.358 in.  One option is to cool it. The coefficient of expansion for the trunnion material  (steel) is well approximated by\n",
    "\n",
    "$$\n",
    " \\alpha = -1.2 \\cdot 10^{-11} T^2 + 6.2 \\cdot 10^{-9} T + 6.0 \\cdot 10^{-6}\n",
    "$$\n",
    "\n",
    "The change in the diameter if the trunnion is cooled to a temperature $T_c$ (from the sweltering 80 F) outside is\n",
    "\n",
    "$$\n",
    "\\Delta D = D_{80} \\int^{T_c}_{80} \\alpha(T)dT \\, .\n",
    "$$\n",
    "\n",
    "Find what $T_c$ must be.  Could it be ice water? What else?\n"
   ]
  },
  {
   "cell_type": "markdown",
   "metadata": {
    "slideshow": {
     "slide_type": "subslide"
    }
   },
   "source": [
    "**Exercise**  Solve the nonlinear system of equations \n",
    "\n",
    "$$\n",
    "\\begin{split}\n",
    "x   - y &= 4 \\\\\n",
    "   x^2 + y &= -3\n",
    "\\end{split}\n",
    "$$\n",
    "\n",
    "with initial guesses of $x=1/2$ and $y=-3$."
   ]
  },
  {
   "cell_type": "markdown",
   "metadata": {
    "slideshow": {
     "slide_type": "slide"
    }
   },
   "source": [
    "## Recap\n",
    "\n",
    "By the end of this lesson, you should be able to\n",
    "\n",
    "- Find one or more roots of a one-dimensional, nonlinear equation $f(x) = 0$ using the bisection and Newton methods.\n",
    "- Find local extrema of a function $f(x)$ using the bisection and Newton methods.\n",
    "- Use `fsolve` to solve nonlinear systems."
   ]
  }
 ],
 "metadata": {
  "celltoolbar": "Slideshow",
  "kernelspec": {
   "display_name": "Python 3",
   "language": "python",
   "name": "python3"
  },
  "language_info": {
   "codemirror_mode": {
    "name": "ipython",
    "version": 3
   },
   "file_extension": ".py",
   "mimetype": "text/x-python",
   "name": "python",
   "nbconvert_exporter": "python",
   "pygments_lexer": "ipython3",
   "version": "3.6.8"
  },
  "livereveal": {
   "scroll": true
  }
 },
 "nbformat": 4,
 "nbformat_minor": 2
}
