{
 "cells": [
  {
   "cell_type": "markdown",
   "metadata": {
    "slideshow": {
     "slide_type": "slide"
    }
   },
   "source": [
    "# Lecture 21 - Numerical Differentiation\n",
    "\n",
    "## Overview, Objectives, and Key Terms\n",
    " \n",
    "In [Lecture 20](ME400_Lecture_20.ipynb), Taylor series were reviewed, and SymPy was used to define and study such series.  A key idea introduced was that a *truncated* Taylor series expansion of $f(x)$ about $x_0$ is (1) accurate near the point $x_0$ and (2) made better by including additional terms of the full series.  In this lesson, such truncated series are used to define **finite difference** approximations for derivatives.  Although good for some applications by themselves, finite-difference approximations are critical for solving differential equations numerically, a topic to be covered in several lectures."
   ]
  },
  {
   "cell_type": "markdown",
   "metadata": {
    "slideshow": {
     "slide_type": "subslide"
    }
   },
   "source": [
    "### Objectives\n",
    "\n",
    "By the end of this lesson, you should be able to\n",
    "\n",
    "- Derive finite-difference approximations for first- and second-order derivatives using Taylor series.\n",
    "- Apply SymPy to compute finite-difference approximations of arbitrary order for any derivative.\n",
    "- Numerically/graphically/symbolically demonstrate that the error of an $n$th-order approximation as $\\Delta \\to 0$ exhibits the right behavior."
   ]
  },
  {
   "cell_type": "markdown",
   "metadata": {
    "slideshow": {
     "slide_type": "subslide"
    }
   },
   "source": [
    "### Key Terms\n",
    "\n",
    "- finite difference\n",
    "- forward difference\n",
    "- backward difference\n",
    "- central difference\n",
    "- truncation error\n",
    "- first-order approximation\n",
    "- second-order approximation\n",
    "- $n$th-order approximation"
   ]
  },
  {
   "cell_type": "markdown",
   "metadata": {
    "slideshow": {
     "slide_type": "slide"
    }
   },
   "source": [
    "## If, in the beginning, $h$ didn't go to 0...\n",
    "\n",
    "Recall that the derivative of $f(x)$ is\n",
    "\n",
    "$$\n",
    "  \\frac{df}{dx} = \\lim_{\\Delta \\to 0} \\frac{f(x+\\Delta)-f(x)}{\\Delta} \\, .\n",
    "$$"
   ]
  },
  {
   "cell_type": "markdown",
   "metadata": {
    "slideshow": {
     "slide_type": "subslide"
    }
   },
   "source": [
    "What if that limit is not taken and, instead, a \"small\" value of $\\Delta$ is used?  The result is our first **finite-difference** approximation, the **forward difference**:\n",
    "\n",
    "$$\n",
    "  f'(x) \\approx  \\frac{f(x+\\Delta)-f(x)}{\\Delta} \\, .\n",
    "$$\n"
   ]
  },
  {
   "cell_type": "markdown",
   "metadata": {
    "slideshow": {
     "slide_type": "subslide"
    }
   },
   "source": [
    "An equally valid approximation is the **backward difference**:\n",
    "$$\n",
    "  f'(x) \\approx  \\frac{f(x)-f(x-\\Delta)}{\\Delta} \\, .\n",
    "$$"
   ]
  },
  {
   "cell_type": "markdown",
   "metadata": {
    "slideshow": {
     "slide_type": "subslide"
    }
   },
   "source": [
    "**Exercise**: Use the backward-difference approximation to approximate the derivative of $e^x$ at $x = 1$ for $\\Delta = 10^0, 10^{-1}, \\ldots, 10^{-7}$ and plot the error as a function of $\\Delta$."
   ]
  },
  {
   "cell_type": "markdown",
   "metadata": {
    "slideshow": {
     "slide_type": "slide"
    }
   },
   "source": [
    "## Back to Order\n",
    "\n",
    "The forward-difference  (and backward-difference) approximation improves with smaller $\\Delta$, but *how much better*?  \n",
    "\n",
    "Revisit the Taylor series for $f(x+\\Delta)$ about the point $x$!\n"
   ]
  },
  {
   "cell_type": "markdown",
   "metadata": {
    "slideshow": {
     "slide_type": "subslide"
    }
   },
   "source": [
    "$$\n",
    "  f(x+\\Delta) = f(x) + f'(x)\\Delta + \\frac{1}{2}f''(x)\\Delta^2 + \\mathcal{O}(\\Delta^3) \\, .\n",
    "$$"
   ]
  },
  {
   "cell_type": "markdown",
   "metadata": {
    "slideshow": {
     "slide_type": "fragment"
    }
   },
   "source": [
    "$$\n",
    "\\begin{split}\n",
    "  f'(x) &= \\frac{f(x+\\Delta) - f(x)}{\\Delta} - \\frac{1}{2}f''(x)\\Delta + \\mathcal{O}(\\Delta^2) \\\\\n",
    "        &= \\frac{f(x+\\Delta) - f(x)}{\\Delta} + \\mathcal{O}(\\Delta) \\\\\n",
    "\\end{split}\n",
    "$$"
   ]
  },
  {
   "cell_type": "markdown",
   "metadata": {
    "slideshow": {
     "slide_type": "fragment"
    }
   },
   "source": [
    "Error is proportional to *first power* of $\\Delta$ as $\\Delta \\to 0$.  Hence, **the forward-difference approximation is first order** (so, too, is the backward-difference approximation)."
   ]
  },
  {
   "cell_type": "markdown",
   "metadata": {
    "slideshow": {
     "slide_type": "subslide"
    }
   },
   "source": [
    "### Can we do better than first order?  \n",
    "\n",
    "Yes: look what happens when we expand $f(x+\\Delta)-f(x-\\Delta)$!"
   ]
  },
  {
   "cell_type": "markdown",
   "metadata": {
    "slideshow": {
     "slide_type": "fragment"
    }
   },
   "source": [
    "$$\n",
    "\\begin{split}\n",
    "  f'(x) &= \\frac{f(x+\\Delta) - f(x)}{\\Delta} - \\frac{1}{2}f''(x)\\Delta + \\mathcal{O}(\\Delta^2) \\\\\n",
    "        &= \\frac{f(x+\\Delta) - f(x)}{\\Delta} + \\mathcal{O}(\\Delta) \\\\\n",
    "\\end{split}\n",
    "$$"
   ]
  },
  {
   "cell_type": "markdown",
   "metadata": {
    "slideshow": {
     "slide_type": "subslide"
    }
   },
   "source": [
    "### Can we approximate the second derivative?\n",
    "\n",
    "Yes: look what happens when we expand $f(x+\\Delta)+f(x-\\Delta)$!"
   ]
  },
  {
   "cell_type": "markdown",
   "metadata": {
    "slideshow": {
     "slide_type": "fragment"
    }
   },
   "source": [
    "$$\n",
    "f''(x) = \\frac{f(x+\\Delta)+-2f(x)+f(x-\\Delta)}{\\Delta^2} + \\mathcal{O}(\\Delta^2) \\, ,\n",
    "$$"
   ]
  },
  {
   "cell_type": "markdown",
   "metadata": {
    "slideshow": {
     "slide_type": "subslide"
    }
   },
   "source": [
    "**Exercise**: Apply the *central* difference to the function $f(x) = \\sin(2x - 0.17) + 0.3 \\cos(3.4x + 0.1)$ at $x = 0.5$. Plot the error for $\\Delta = 10^{-1}, 10^{-2}, \\ldots, 10^{-7}$ and *confirm graphically* that the method is second order."
   ]
  },
  {
   "cell_type": "markdown",
   "metadata": {
    "slideshow": {
     "slide_type": "slide"
    }
   },
   "source": [
    "## Finite-Difference Approximations of Arbitrary Order\n",
    "\n",
    "The finite-difference approximations explored were identified pretty easily by manipulating the Taylor series of a function.  Approximations that are higher order or that can be used for higher derivatives are somewhat more challenging to develop."
   ]
  },
  {
   "cell_type": "markdown",
   "metadata": {
    "slideshow": {
     "slide_type": "fragment"
    }
   },
   "source": [
    "**A Simple Rule**: an $n$th-order approximation for the $m$th derivative at $x = x_0$ requires that $f$ be evaluated at $n+m$ evenly-spaced $x$ values that (should) include $x_0$.  \n",
    "\n",
    "(Exception: in *some* central-difference approxmations, the $f(x_0)$ term vanishes, so only $n+m-1$ points are needed)"
   ]
  },
  {
   "cell_type": "markdown",
   "metadata": {
    "slideshow": {
     "slide_type": "subslide"
    }
   },
   "source": [
    "**Exercise**: Do the forward- and backward-difference methods for $f'(x)$ follow this rule?  How about the central-difference approximation for $f''(x)$?"
   ]
  },
  {
   "cell_type": "markdown",
   "metadata": {
    "slideshow": {
     "slide_type": "subslide"
    }
   },
   "source": [
    "### Developing New Schemes\n",
    "\n",
    "Finite-difference schemes of arbitrary order come from Taylor series but can be tedious.  Some help comes from Sympy!"
   ]
  },
  {
   "cell_type": "markdown",
   "metadata": {
    "slideshow": {
     "slide_type": "subslide"
    }
   },
   "source": [
    "Creating finite differences symbolically with `expr.as_finite_difference`:"
   ]
  },
  {
   "cell_type": "code",
   "execution_count": 1,
   "metadata": {
    "slideshow": {
     "slide_type": "fragment"
    }
   },
   "outputs": [
    {
     "data": {
      "image/png": "[encoded data removed]",
      "text/latex": [
       "$$- \\frac{1}{\\Delta} f{\\left (x \\right )} + \\frac{1}{\\Delta} f{\\left (\\Delta + x \\right )}$$"
      ],
      "text/plain": [
       "  f(x)   f(Δ + x)\n",
       "- ──── + ────────\n",
       "   Δ        Δ    "
      ]
     },
     "execution_count": 1,
     "metadata": {},
     "output_type": "execute_result"
    }
   ],
   "source": [
    "import sympy as sy\n",
    "sy.init_printing()\n",
    "f, x, Delta = sy.symbols('f x Delta')\n",
    "fp = sy.diff(f(x), x)\n",
    "fp.as_finite_difference([x, x+Delta])"
   ]
  },
  {
   "cell_type": "markdown",
   "metadata": {
    "slideshow": {
     "slide_type": "subslide"
    }
   },
   "source": [
    "Getting the *weights* for each term:"
   ]
  },
  {
   "cell_type": "code",
   "execution_count": 2,
   "metadata": {
    "slideshow": {
     "slide_type": "fragment"
    }
   },
   "outputs": [
    {
     "data": {
      "image/png": "[encoded data removed]",
      "text/latex": [
       "$$\\left [ \\left [ 1, \\quad 0, \\quad 0\\right ], \\quad \\left [ 0, \\quad 1, \\quad 0\\right ], \\quad \\left [ 0, \\quad 1, \\quad 0\\right ]\\right ]$$"
      ],
      "text/plain": [
       "[[1, 0, 0], [0, 1, 0], [0, 1, 0]]"
      ]
     },
     "execution_count": 2,
     "metadata": {},
     "output_type": "execute_result"
    }
   ],
   "source": [
    "w = sy.finite_diff_weights(order=2, x_list=[x-Delta, x, x+Delta], x0=x)\n",
    "w[0] # \"zeroth\" derivative weights using just x-Delta, then both x-Delta and x, and finally all three"
   ]
  },
  {
   "cell_type": "code",
   "execution_count": 3,
   "metadata": {
    "slideshow": {
     "slide_type": "fragment"
    }
   },
   "outputs": [
    {
     "data": {
      "image/png": "[encoded data removed]",
      "text/latex": [
       "$$\\left [ \\left [ 0, \\quad 0, \\quad 0\\right ], \\quad \\left [ - \\frac{1}{\\Delta}, \\quad \\frac{1}{\\Delta}, \\quad 0\\right ], \\quad \\left [ - \\frac{1}{2 \\Delta}, \\quad 0, \\quad \\frac{1}{2 \\Delta}\\right ]\\right ]$$"
      ],
      "text/plain": [
       "⎡           ⎡-1   1   ⎤  ⎡-1       1 ⎤⎤\n",
       "⎢[0, 0, 0], ⎢───, ─, 0⎥, ⎢───, 0, ───⎥⎥\n",
       "⎣           ⎣ Δ   Δ   ⎦  ⎣2⋅Δ     2⋅Δ⎦⎦"
      ]
     },
     "execution_count": 3,
     "metadata": {},
     "output_type": "execute_result"
    }
   ],
   "source": [
    "w[1] # f' weights"
   ]
  },
  {
   "cell_type": "code",
   "execution_count": 4,
   "metadata": {
    "slideshow": {
     "slide_type": "fragment"
    }
   },
   "outputs": [
    {
     "data": {
      "image/png": "[encoded data removed]",
      "text/latex": [
       "$$\\left [ \\left [ 0, \\quad 0, \\quad 0\\right ], \\quad \\left [ 0, \\quad 0, \\quad 0\\right ], \\quad \\left [ \\frac{1}{\\Delta^{2}}, \\quad - \\frac{2}{\\Delta^{2}}, \\quad \\frac{1}{\\Delta^{2}}\\right ]\\right ]$$"
      ],
      "text/plain": [
       "⎡                      ⎡1   -2   1 ⎤⎤\n",
       "⎢[0, 0, 0], [0, 0, 0], ⎢──, ───, ──⎥⎥\n",
       "⎢                      ⎢ 2    2   2⎥⎥\n",
       "⎣                      ⎣Δ    Δ   Δ ⎦⎦"
      ]
     },
     "execution_count": 4,
     "metadata": {},
     "output_type": "execute_result"
    }
   ],
   "source": [
    "w[2] # f'' weights"
   ]
  },
  {
   "cell_type": "markdown",
   "metadata": {
    "slideshow": {
     "slide_type": "subslide"
    }
   },
   "source": [
    "**Exercise**: Develop a second-order approximation for $f'(x)$ that does *not* use values less than $x$."
   ]
  },
  {
   "cell_type": "markdown",
   "metadata": {
    "slideshow": {
     "slide_type": "slide"
    }
   },
   "source": [
    "## Recap\n",
    "\n",
    "You should now be able to \n",
    "\n",
    "- Derive finite-difference approximations for first- and second-order derivatives using Taylor series.\n",
    "- Apply SymPy to compute finite-difference approximations of arbitrary order for any derivative.\n",
    "- Numerically/graphically/symbolically demonstrate that the error of an $n$th-order approximation as $\\Delta \\to 0$ exhibits the right behavior."
   ]
  }
 ],
 "metadata": {
  "celltoolbar": "Slideshow",
  "kernelspec": {
   "display_name": "Python 3",
   "language": "python",
   "name": "python3"
  },
  "language_info": {
   "codemirror_mode": {
    "name": "ipython",
    "version": 3
   },
   "file_extension": ".py",
   "mimetype": "text/x-python",
   "name": "python",
   "nbconvert_exporter": "python",
   "pygments_lexer": "ipython3",
   "version": "3.6.2"
  }
 },
 "nbformat": 4,
 "nbformat_minor": 2
}
