{
 "cells": [
  {
   "cell_type": "markdown",
   "metadata": {},
   "source": [
    "# Lecture 5 - Algorithms, flowcharts, and pseudocode. \n",
    "\n",
    "## Overview, Objectives, and Key Terms\n",
    " \n",
    "In this lesson, we'll dive write into *planning* programs, significantly extending the process identified in [Lesson 2](ME400_Lecture_2.ipynb).  We'll examine *algorithms* for every-day problems and illustrate solutions using flowcharts and \"pseudocode.\"\n",
    "\n",
    "\n",
    "### Objectives\n",
    "\n",
    "By the end of this lesson, you should be able to\n",
    "\n",
    "- *define what an algorithm is*\n",
    "- *decompose problems into a sequence of simple steps*\n",
    "- *illustrate those steps in sequence graphically using flowcharts*\n",
    "- *formalize those steps in words using pseudocode*\n",
    "\n",
    "### Key Terms\n",
    "\n",
    "- algorithm\n"
   ]
  },
  {
   "cell_type": "markdown",
   "metadata": {},
   "source": [
    "\n",
    "## Algorithms\n",
    "\n",
    "An *algorithm* is procedure by which a problem (computational or otherwise) is solved following a certain set of rules.  We apply algorithms all the time in every-day life, often without realizing it."
   ]
  },
  {
   "cell_type": "code",
   "execution_count": null,
   "metadata": {
    "collapsed": true
   },
   "outputs": [],
   "source": []
  }
 ],
 "metadata": {
  "kernelspec": {
   "display_name": "Python 3",
   "language": "python",
   "name": "python3"
  },
  "language_info": {
   "codemirror_mode": {
    "name": "ipython",
    "version": 3
   },
   "file_extension": ".py",
   "mimetype": "text/x-python",
   "name": "python",
   "nbconvert_exporter": "python",
   "pygments_lexer": "ipython3",
   "version": "3.6.0"
  }
 },
 "nbformat": 4,
 "nbformat_minor": 2
}
