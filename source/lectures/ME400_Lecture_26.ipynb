{
 "cells": [
  {
   "cell_type": "markdown",
   "metadata": {},
   "source": [
    "# Lecture 26 - Solving ODEs Symbolically\n",
    "\n",
    "## Overview, Objectives, and Key Terms\n",
    " \n",
    "In this lecture, we revisit the tools provided by SymPy and apply them to solution of *ordinary differential equations* (ODEs).  Engineering is full of ODEs, since they are fundamental to the language of balance relationships found in heat transfer, nuclear reactor physics, control systems, and other areas.  The goal here is *not* to present the theory of ODEs, nor is it to present the various systematic ways be which one can determine solutions to ODEs.  Rather, the focus is placed squarely on defining ODEs symbolically, solving them symbolically, and, *importantly*, applying initial or boundary conditions to those  symbolic solutions and solving the resulting *algebraic* equations for any undetermined coefficients.  In other words, the focus is on the *problem solving* process.\n",
    "\n",
    "\n",
    "### Objectives\n",
    "\n",
    "By the end of this lesson, you should be able to\n",
    "\n",
    "- Define first- and second-order, ordinary differential equations symbolically\n",
    "- Solve first- and second-order, ODEs symbollically\n",
    "- Apply initial and boundary conditions as is appropriate to determine complete solutions to ODEs important in engineering disciplines.\n",
    "\n",
    "### Prerequisites\n",
    "\n",
    "You should already be able to\n",
    "\n",
    "- Solve ODEs based on what you've learned in a course like MATH 340 (this is not a strict requirement, but if you have *not* had MATH 340, you may wish to set up a time with me or the TAs).\n",
    "- Set up and solve algebraic systems using SymPy\n",
    "- Perform subsitution into symbolic values using SymPy\n",
    "- Define derivatives of arbitrary functions using SymPy\n",
    "\n",
    "### Key Terms\n",
    "\n"
   ]
  },
  {
   "cell_type": "markdown",
   "metadata": {},
   "source": []
  }
 ],
 "metadata": {
  "kernelspec": {
   "display_name": "Python 3",
   "language": "python",
   "name": "python3"
  },
  "language_info": {
   "codemirror_mode": {
    "name": "ipython",
    "version": 3
   },
   "file_extension": ".py",
   "mimetype": "text/x-python",
   "name": "python",
   "nbconvert_exporter": "python",
   "pygments_lexer": "ipython3",
   "version": "3.6.2"
  }
 },
 "nbformat": 4,
 "nbformat_minor": 2
}
