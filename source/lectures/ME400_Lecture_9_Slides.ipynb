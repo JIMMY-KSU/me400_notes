{
 "cells": [
  {
   "cell_type": "markdown",
   "metadata": {
    "slideshow": {
     "slide_type": "slide"
    }
   },
   "source": [
    "# Lecture 9 - More on Loops\n",
    "\n",
    "## Overview, Objectives, and Key Terms\n",
    " \n",
    "In [Lecture 8](ME400_Lecture_8.ipynb), the use of `while` loops in Python introduced to solve problems requiring iteration.  The `while` loop structure in Python is very similar to structure introduced via pseudocode in\n",
    "[Lecture_5](ME400_Lecture_5.ipynb).  In this lecture, an additional `for`-loop construct is introduced, which reduces the amount of \"bookkeeping\" required in some cases.  All loops can also be *nested*, which provides substantial flexibility when processing data, defining multidimensional arrays, and performing similar, potentially multidimensional tasks.\n",
    "\n"
   ]
  },
  {
   "cell_type": "markdown",
   "metadata": {
    "slideshow": {
     "slide_type": "subslide"
    }
   },
   "source": [
    "### Objectives\n",
    "\n",
    "By the end of this lesson, you should be able to\n",
    "\n",
    "- State what an infinite/event loop is and why it matters.\n",
    "- Use a `for` loop to solve simple problems using iteration\n",
    "- Use nested `for` loops to fill the elements of a multidimensional array.\n"
   ]
  },
  {
   "cell_type": "markdown",
   "metadata": {
    "slideshow": {
     "slide_type": "subslide"
    }
   },
   "source": [
    "### Key Terms\n",
    "\n",
    "- infinite (or \"event\") loop\n",
    "- `for`\n",
    "- `range`\n",
    "- `continue`\n",
    "- loop variable\n",
    "- dependent loop variable"
   ]
  },
  {
   "cell_type": "markdown",
   "metadata": {
    "slideshow": {
     "slide_type": "slide"
    }
   },
   "source": [
    "## The Infinite Loop\n",
    "\n",
    "```python\n",
    "while True:\n",
    "    print(\"I am printed over and over again.  Try Ctl-D...\")\n",
    "```\n",
    "\n",
    "**Exercise**: Write a program that uses an infinite loop.  It should ask the user to enter something.  If the user enters \"quit,\" then the program should exit."
   ]
  },
  {
   "cell_type": "code",
   "execution_count": null,
   "metadata": {
    "collapsed": true,
    "slideshow": {
     "slide_type": "fragment"
    }
   },
   "outputs": [],
   "source": [
    "while True:\n",
    "    # get user input\n",
    "    something = input('enter something: ')"
   ]
  },
  {
   "cell_type": "markdown",
   "metadata": {
    "slideshow": {
     "slide_type": "slide"
    }
   },
   "source": [
    "## The `for` Loop\n",
    "\n",
    "Consider this program to print each element of an array `a`:"
   ]
  },
  {
   "cell_type": "code",
   "execution_count": null,
   "metadata": {
    "slideshow": {
     "slide_type": "fragment"
    }
   },
   "outputs": [],
   "source": [
    "# print out the elements of an array using a while loop\n",
    "import numpy as np\n",
    "a = np.array([1, 1, 2, 3, 5, 8, 13])\n",
    "n = len(a)\n",
    "i = 0\n",
    "while i < n:    # always remember the :\n",
    "    print(a[i]) # indented 4 spaces\n",
    "    i = i + 1   # also indented 4 spaces"
   ]
  },
  {
   "cell_type": "markdown",
   "metadata": {
    "slideshow": {
     "slide_type": "subslide"
    }
   },
   "source": [
    "The same thing can be accomplished with a `for` loop:\n"
   ]
  },
  {
   "cell_type": "code",
   "execution_count": null,
   "metadata": {
    "slideshow": {
     "slide_type": "fragment"
    }
   },
   "outputs": [],
   "source": [
    "# print out the elements of an array using a for loop\n",
    "import numpy as np\n",
    "a = np.array([1, 1, 2, 3, 5, 8, 13])\n",
    "n = len(a)\n",
    "\n",
    "    print(a[i]) # indented 4 spaces\n"
   ]
  },
  {
   "cell_type": "markdown",
   "metadata": {
    "slideshow": {
     "slide_type": "subslide"
    }
   },
   "source": [
    "Some differences between `while` and `for`:\n",
    "- `while` requires initialization of the counter variable `i`, but `for` does not.\n",
    "- `while i < n` becomes `for i in range(0, n)`\n",
    "- `while` is based on a condition involving `i`, but `for` is based on a fixed number of values for `i`"
   ]
  },
  {
   "cell_type": "markdown",
   "metadata": {
    "slideshow": {
     "slide_type": "subslide"
    }
   },
   "source": [
    "### `range`\n",
    "\n",
    "Similar to `np.arange`, but restricted to integers:\n",
    "```python\n",
    "range(start, stop, stride)\n",
    "```\n",
    "where `start` is the first value, `stop` is the exclusive upper bound, and `stride` is the step between values (default is 1)."
   ]
  },
  {
   "cell_type": "markdown",
   "metadata": {
    "slideshow": {
     "slide_type": "slide"
    }
   },
   "source": [
    "## A Pythonic Quirk\n",
    "\n",
    "Python's `while` and `for` loops are not quite the same \"under the hood.\""
   ]
  },
  {
   "cell_type": "code",
   "execution_count": null,
   "metadata": {
    "slideshow": {
     "slide_type": "fragment"
    }
   },
   "outputs": [],
   "source": [
    "n = 5\n",
    "i = 0\n",
    "while i < n:\n",
    "    print(\"i = \", i)\n",
    "    i += 2"
   ]
  },
  {
   "cell_type": "code",
   "execution_count": null,
   "metadata": {
    "slideshow": {
     "slide_type": "subslide"
    }
   },
   "outputs": [],
   "source": [
    "# A \"quirky\" for loop\n",
    "for j in range(n):\n",
    "    print (\"j = \", j)\n",
    "    j += 2"
   ]
  },
  {
   "cell_type": "markdown",
   "metadata": {
    "slideshow": {
     "slide_type": "slide"
    }
   },
   "source": [
    "## Nested `for` loops\n",
    "\n",
    "Just like `if` statements can be nested, so, too, can `for` (and `while`) loops be nested.  While nested `if` statements can always be written as (potentially much) more complicated, single statements, there are some tasks for which nested loops are truly required---but I have not proven that!\n"
   ]
  },
  {
   "cell_type": "markdown",
   "metadata": {
    "slideshow": {
     "slide_type": "subslide"
    }
   },
   "source": [
    "**Exercise**: Use nested `for` loops to find the sum of the elements of $5\\times 5$ array of random numbers.  (At home: repeat with `while` loops!)"
   ]
  },
  {
   "cell_type": "markdown",
   "metadata": {
    "slideshow": {
     "slide_type": "subslide"
    }
   },
   "source": [
    "**Exercise**: The cumulative sum of an array is another array of the same length whose $i$th element is defined as\n",
    "\n",
    "$$\n",
    "  c_i = \\sum^i_{j=0} a_j \\, .\n",
    "$$\n",
    "\n",
    "For example, the cumulative sum of an array of three ones has the elements 1, 2, and 3.\n",
    "\n",
    "Use nested `for` loops to compute the cumulative sum of an array of 5 random numbers.  Can it be done with just one loop?  (At home: repeat with two or one `while` loops!)"
   ]
  },
  {
   "cell_type": "markdown",
   "metadata": {
    "slideshow": {
     "slide_type": "subslide"
    }
   },
   "source": [
    "**Exercise**: Starting with `A = np.zeros((5, 5))`, use two loops to produce\n",
    "```python\n",
    "array([[ 1,  2,  3,  4,  5],\n",
    "       [ 0,  6,  7,  8,  9],\n",
    "       [ 0,  0, 10, 11, 12],\n",
    "       [ 0,  0,  0, 13, 14],\n",
    "       [ 0,  0,  0,  0, 15]])\n",
    "```\n",
    "(At home: repeat this with `while` loops!)"
   ]
  },
  {
   "cell_type": "markdown",
   "metadata": {
    "slideshow": {
     "slide_type": "slide"
    }
   },
   "source": [
    "## Recap\n",
    "\n",
    "By now, you should be able to\n",
    "\n",
    "- Use a `for` loop to solve simple problems using iteration\n",
    "- Use nested `for` loops to fill the elements of a multidimensional array.\n",
    "- Use the graphical debugger in Spyder to trace and debug a program with iteration"
   ]
  }
 ],
 "metadata": {
  "celltoolbar": "Slideshow",
  "kernelspec": {
   "display_name": "Python 3",
   "language": "python",
   "name": "python3"
  },
  "language_info": {
   "codemirror_mode": {
    "name": "ipython",
    "version": 3
   },
   "file_extension": ".py",
   "mimetype": "text/x-python",
   "name": "python",
   "nbconvert_exporter": "python",
   "pygments_lexer": "ipython3",
   "version": "3.6.5"
  }
 },
 "nbformat": 4,
 "nbformat_minor": 2
}
