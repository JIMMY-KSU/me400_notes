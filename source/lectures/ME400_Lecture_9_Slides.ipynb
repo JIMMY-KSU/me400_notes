{
 "cells": [
  {
   "cell_type": "markdown",
   "metadata": {
    "slideshow": {
     "slide_type": "slide"
    }
   },
   "source": [
    "# Lecture 9 - More on Loops\n",
    "\n",
    "## Overview, Objectives, and Key Terms\n",
    " \n",
    "In [Lecture 8](ME400_Lecture_8.ipynb), the use of `while` loops in Python introduced to solve problems requiring iteration.  The `while` loop structure in Python is very similar to structure introduced via pseudocode in\n",
    "[Lecture_5](ME400_Lecture_5.ipynb).  In this lecture, an additional `for`-loop construct is introduced, which reduces the amount of \"bookkeeping\" required in some cases.  All loops can also be *nested*, which provides substantial flexibility when processing data, defining multidimensional arrays, and performing similar, potentially multidimensional tasks.\n",
    "\n"
   ]
  },
  {
   "cell_type": "markdown",
   "metadata": {
    "slideshow": {
     "slide_type": "subslide"
    }
   },
   "source": [
    "### Objectives\n",
    "\n",
    "By the end of this lesson, you should be able to\n",
    "\n",
    "- Use a `for` loop to solve simple problems using iteration\n",
    "- Use nested `for` loops to fill the elements of a multidimensional array.\n",
    "- Use the graphical debugger in Spyder to trace and debug a program with iteration\n",
    "\n"
   ]
  },
  {
   "cell_type": "markdown",
   "metadata": {
    "slideshow": {
     "slide_type": "subslide"
    }
   },
   "source": [
    "### Key Terms\n",
    "\n",
    "- `for`\n",
    "- `range`\n",
    "- `continue`\n",
    "- loop variable\n",
    "- dependent loop variable"
   ]
  },
  {
   "cell_type": "code",
   "execution_count": 1,
   "metadata": {
    "collapsed": true,
    "slideshow": {
     "slide_type": "notes"
    }
   },
   "outputs": [],
   "source": [
    "from IPython.core.interactiveshell import InteractiveShell \n",
    "InteractiveShell.ast_node_interactivity = \"all\""
   ]
  },
  {
   "cell_type": "markdown",
   "metadata": {
    "slideshow": {
     "slide_type": "slide"
    }
   },
   "source": [
    "## The `for` Loop\n",
    "\n",
    "Remember our `while` solution for printing out each element of an array `a`:\n",
    "\n",
    "```python\n",
    "# print out the elements of an array using a while loop\n",
    "import numpy as np\n",
    "a = np.array([1, 1, 2, 3, 5, 8, 13])\n",
    "n = len(a)\n",
    "i = 0\n",
    "while i < n:    # always remember the :\n",
    "    print(a[i]) # indented 4 spaces\n",
    "    i = i + 1   # also indented 4 spaces\n",
    "```"
   ]
  },
  {
   "cell_type": "markdown",
   "metadata": {
    "slideshow": {
     "slide_type": "subslide"
    }
   },
   "source": [
    "The same thing can be accomplished with a `for` loop:\n"
   ]
  },
  {
   "cell_type": "code",
   "execution_count": 2,
   "metadata": {
    "slideshow": {
     "slide_type": "fragment"
    }
   },
   "outputs": [
    {
     "name": "stdout",
     "output_type": "stream",
     "text": [
      "1\n",
      "1\n",
      "2\n",
      "3\n",
      "5\n",
      "8\n",
      "13\n"
     ]
    }
   ],
   "source": [
    "# print out the elements of an array using a for loop\n",
    "import numpy as np\n",
    "a = np.array([1, 1, 2, 3, 5, 8, 13])\n",
    "n = len(a)\n",
    "for i in range(0, n): # always remember the :\n",
    "    print(a[i]) # indented 4 spaces"
   ]
  },
  {
   "cell_type": "markdown",
   "metadata": {
    "slideshow": {
     "slide_type": "subslide"
    }
   },
   "source": [
    "Some differences:\n",
    "- `while` requires initialization of the counter variable `i`, but `for` does not.\n",
    "- `while i < n` becomes `for i in range(0, n)`\n",
    "- `while` is based on a condition involving `i`, but `for` is based on a fixed number of values for `i`"
   ]
  },
  {
   "cell_type": "markdown",
   "metadata": {
    "slideshow": {
     "slide_type": "subslide"
    }
   },
   "source": [
    "### `range`\n",
    "\n",
    "Similar to `np.arange`, but restricted to integers:\n",
    "```python\n",
    "range(start, stop, stride)\n",
    "```\n",
    "where `start` is the first value, `stop` is the exclusive upper bound, and `stride` is the step between values (default is 1)."
   ]
  },
  {
   "cell_type": "markdown",
   "metadata": {
    "slideshow": {
     "slide_type": "subslide"
    }
   },
   "source": [
    "**Examples..**"
   ]
  },
  {
   "cell_type": "markdown",
   "metadata": {
    "slideshow": {
     "slide_type": "subslide"
    }
   },
   "source": [
    "### Beyond `range`\n",
    "\n",
    "The `for i in sequence` construct in Python is not limited to `range`.  In fact, `sequence` can be any sequential type (e.g., `ndarray`, `str`, and, we'll see, `list` and `tuple`).  Then `i` becomes elements of that sequence."
   ]
  },
  {
   "cell_type": "code",
   "execution_count": 3,
   "metadata": {
    "slideshow": {
     "slide_type": "subslide"
    }
   },
   "outputs": [
    {
     "name": "stdout",
     "output_type": "stream",
     "text": [
      "0.0\n",
      "0.25\n",
      "0.5\n",
      "0.75\n",
      "1.0\n"
     ]
    }
   ],
   "source": [
    "for i in np.linspace(0, 1, 5):\n",
    "    print(i)"
   ]
  },
  {
   "cell_type": "code",
   "execution_count": 4,
   "metadata": {
    "slideshow": {
     "slide_type": "subslide"
    }
   },
   "outputs": [
    {
     "name": "stdout",
     "output_type": "stream",
     "text": [
      "[1 2 3]\n",
      "[2 3 4]\n",
      "[5 6 7]\n"
     ]
    }
   ],
   "source": [
    "for j in np.array([[1,2,3],[2,3,4],[5,6,7]]):\n",
    "    print(j)"
   ]
  },
  {
   "cell_type": "code",
   "execution_count": 5,
   "metadata": {
    "slideshow": {
     "slide_type": "subslide"
    }
   },
   "outputs": [
    {
     "name": "stdout",
     "output_type": "stream",
     "text": [
      "h\n",
      "e\n",
      "l\n",
      "l\n",
      "o\n"
     ]
    }
   ],
   "source": [
    "for c in \"hello\":\n",
    "    print(c)"
   ]
  },
  {
   "cell_type": "markdown",
   "metadata": {
    "slideshow": {
     "slide_type": "slide"
    }
   },
   "source": [
    "## A Pythonic Quirk\n",
    "\n",
    "Python's `while` and `for` loops are not quite the same \"under the hood.\""
   ]
  },
  {
   "cell_type": "code",
   "execution_count": 6,
   "metadata": {
    "slideshow": {
     "slide_type": "fragment"
    }
   },
   "outputs": [
    {
     "name": "stdout",
     "output_type": "stream",
     "text": [
      "i =  0\n",
      "i =  2\n",
      "i =  4\n"
     ]
    }
   ],
   "source": [
    "n = 5\n",
    "i = 0\n",
    "while i < n:\n",
    "    print(\"i = \", i)\n",
    "    i += 2"
   ]
  },
  {
   "cell_type": "code",
   "execution_count": 7,
   "metadata": {
    "slideshow": {
     "slide_type": "subslide"
    }
   },
   "outputs": [
    {
     "name": "stdout",
     "output_type": "stream",
     "text": [
      "j =  0\n",
      "j =  1\n",
      "j =  2\n",
      "j =  3\n",
      "j =  4\n"
     ]
    }
   ],
   "source": [
    "# A \"quirky\" for loop\n",
    "for j in range(n):\n",
    "    print (\"j = \", j)\n",
    "    j += 2"
   ]
  },
  {
   "cell_type": "markdown",
   "metadata": {},
   "source": [
    "## Nested `for` loops\n",
    "\n",
    "Just like `if` statements can be nested, so, too, can `for` (and `while`) loops be nested.  While nested `if` statements can always be written as (potentially much) more complicated, single statements, there are some tasks for which nested loops are truly required---but I have not proven that!\n"
   ]
  },
  {
   "cell_type": "markdown",
   "metadata": {
    "slideshow": {
     "slide_type": "subslide"
    }
   },
   "source": [
    "\n",
    "**Exercise**: Use a nested `for` loop to find the sum of the elements of $5\\times 5$ array of random numbers."
   ]
  },
  {
   "cell_type": "markdown",
   "metadata": {
    "slideshow": {
     "slide_type": "subslide"
    }
   },
   "source": [
    "The cumulative sum of an array is another array of the same length whose $i$th element is defined as\n",
    "\n",
    "$$\n",
    "  c_i = \\sum^i_{j=0} a_j \\, .\n",
    "$$\n",
    "\n",
    "For example, the cumulative sum of an array of three ones has the elements 1, 2, and 3.\n",
    "\n",
    "**Exercise**: Use a `for` loop to compute the cumulative sum of an array of 5 random numbers."
   ]
  },
  {
   "cell_type": "markdown",
   "metadata": {
    "slideshow": {
     "slide_type": "subslide"
    }
   },
   "source": [
    "**Exercise**: Starting with `A = np.zeros((5, 5))`, use two loops to produce\n",
    "```python\n",
    "array([[ 1,  2,  3,  4,  5],\n",
    "       [ 6,  7,  8,  9, 10],\n",
    "       [11, 12, 13, 14, 15],\n",
    "       [16, 17, 18, 19, 20],\n",
    "       [21, 22, 23, 24, 25]])\n",
    "```"
   ]
  },
  {
   "cell_type": "markdown",
   "metadata": {
    "slideshow": {
     "slide_type": "slide"
    }
   },
   "source": [
    "## Recap\n",
    "\n",
    "By now, you should be able to\n",
    "\n",
    "- Use a `for` loop to solve simple problems using iteration\n",
    "- Use nested `for` loops to fill the elements of a multidimensional array.\n",
    "- Use the graphical debugger in Spyder to trace and debug a program with iteration"
   ]
  },
  {
   "cell_type": "markdown",
   "metadata": {
    "slideshow": {
     "slide_type": "fragment"
    }
   },
   "source": [
    "Reminder: **Exam 1** is next week Friday.  "
   ]
  },
  {
   "cell_type": "code",
   "execution_count": null,
   "metadata": {
    "collapsed": true
   },
   "outputs": [],
   "source": []
  }
 ],
 "metadata": {
  "celltoolbar": "Slideshow",
  "kernelspec": {
   "display_name": "Python 3",
   "language": "python",
   "name": "python3"
  },
  "language_info": {
   "codemirror_mode": {
    "name": "ipython",
    "version": 3
   },
   "file_extension": ".py",
   "mimetype": "text/x-python",
   "name": "python",
   "nbconvert_exporter": "python",
   "pygments_lexer": "ipython3",
   "version": "3.6.1"
  }
 },
 "nbformat": 4,
 "nbformat_minor": 2
}
