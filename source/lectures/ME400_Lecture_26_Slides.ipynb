{
 "cells": [
  {
   "cell_type": "markdown",
   "metadata": {
    "slideshow": {
     "slide_type": "slide"
    }
   },
   "source": [
    "# Lecture 26 - Solving ODEs Symbolically\n",
    "\n",
    "## Overview, Objectives, and Key Terms\n",
    " \n",
    "In this lecture, we revisit the tools provided by SymPy and apply them to solution of *ordinary differential equations* (ODEs).  Engineering is full of ODEs, since they are fundamental to the language of balance relationships found in heat transfer, nuclear reactor physics, control systems, and other areas.  The goal here is *not* to present the theory of ODEs, nor is it to present the various systematic ways be which one can determine solutions to ODEs.  Rather, the focus is placed squarely on defining ODEs symbolically, solving them symbolically, and, *importantly*, applying initial or boundary conditions to those  symbolic solutions and solving the resulting *algebraic* equations for any undetermined coefficients.  In other words, the focus is on the *problem solving* process.\n"
   ]
  },
  {
   "cell_type": "markdown",
   "metadata": {
    "slideshow": {
     "slide_type": "subslide"
    }
   },
   "source": [
    "### Objectives\n",
    "\n",
    "By the end of this lesson, you should be able to\n",
    "\n",
    "- Define first- and second-order, ordinary differential equations symbolically\n",
    "- Solve first- and second-order, ODEs symbollically\n",
    "- Apply initial and boundary conditions as is appropriate to determine complete solutions to ODEs important in engineering disciplines."
   ]
  },
  {
   "cell_type": "markdown",
   "metadata": {
    "slideshow": {
     "slide_type": "subslide"
    }
   },
   "source": [
    "### Prerequisites\n",
    "\n",
    "You should already be able to\n",
    "\n",
    "- Solve ODEs based on what you've learned in a course like MATH 340 (this is not a strict requirement, but if you have *not* had MATH 340, you may wish to set up a time with me or the TAs).\n",
    "- Set up and solve algebraic systems using SymPy\n",
    "- Perform subsitution into symbolic values using SymPy\n",
    "- Define derivatives of arbitrary functions using SymPy"
   ]
  },
  {
   "cell_type": "markdown",
   "metadata": {
    "slideshow": {
     "slide_type": "subslide"
    }
   },
   "source": [
    "### Key Terms\n",
    "\n",
    "- differential equation\n",
    "- ordinary\n",
    "- linear\n",
    "- ODE\n",
    "- initial value problem\n",
    "- boundary value problem"
   ]
  },
  {
   "cell_type": "markdown",
   "metadata": {
    "slideshow": {
     "slide_type": "slide"
    }
   },
   "source": [
    "## Differential Equations\n",
    "\n",
    "Equations involving a function $f$ and its derivatives is *differential*.\n",
    "\n",
    "Some features:\n",
    "  - *orderinary* if one variable (e.g., $df/dx$ vs $\\partial f/\\partial x$)\n",
    "  - *linear* if only linear combinations $f$ and its derivatives\n",
    "  - *homogeneous* if all terms have $f$ or its derivatives\n",
    "  - *nth*-order if it has $n$th derivative of $f$\n",
    "\n",
    "Our focus is on ordinary differential equations (and mostly linear)."
   ]
  },
  {
   "cell_type": "markdown",
   "metadata": {
    "slideshow": {
     "slide_type": "slide"
    }
   },
   "source": [
    "## Whence ODEs?\n",
    "\n",
    "- 1st-order (decay)\n",
    "- 2nd-order (vibration)"
   ]
  },
  {
   "cell_type": "markdown",
   "metadata": {
    "slideshow": {
     "slide_type": "slide"
    }
   },
   "source": [
    "Examples etc."
   ]
  },
  {
   "cell_type": "markdown",
   "metadata": {
    "slideshow": {
     "slide_type": "slide"
    }
   },
   "source": [
    "## Recap\n",
    "\n",
    "You should now be able to\n",
    "\n",
    "- Define first- and second-order, ordinary differential equations symbolically\n",
    "- Solve first- and second-order, ODEs symbollically\n",
    "- Apply initial and boundary conditions as is appropriate to determine complete solutions to ODEs important in engineering disciplines."
   ]
  },
  {
   "cell_type": "markdown",
   "metadata": {
    "slideshow": {
     "slide_type": "fragment"
    }
   },
   "source": [
    "Lab 12 is the last \"required\" lab.  \n",
    "\n",
    "Homework 12 to be release soon; due last day of classes."
   ]
  }
 ],
 "metadata": {
  "celltoolbar": "Slideshow",
  "kernelspec": {
   "display_name": "Python 3",
   "language": "python",
   "name": "python3"
  },
  "language_info": {
   "codemirror_mode": {
    "name": "ipython",
    "version": 3
   },
   "file_extension": ".py",
   "mimetype": "text/x-python",
   "name": "python",
   "nbconvert_exporter": "python",
   "pygments_lexer": "ipython3",
   "version": "3.6.2"
  }
 },
 "nbformat": 4,
 "nbformat_minor": 2
}
