{
 "cells": [
  {
   "cell_type": "markdown",
   "metadata": {},
   "source": [
    "# Lecture 1 - Getting Started\n",
    "\n",
    "First, and I can't stress this enough, you need to read \n",
    "the [Syllabus](../administrivia/ME400_Syllabus.ipynb)!  \n",
    "\n",
    "In this lesson, we'll walk through the installation of, access to, and use of Python.  \n",
    "By the end of this lesson, you'll have a complete, Python-based environment for solving \n",
    "engineering problems.  The rest of this class (and the two to follow) will show you \n",
    "how to solve such problems.\n",
    "\n",
    "\n",
    "## Overview of Python\n",
    "\n",
    "Python is a scripting language, which means it is  \n",
    "[interpreted](https://en.wikipedia.org/wiki/Interpreted_language>)\n",
    "and not \n",
    "[compiled](https://en.wikipedia.org/wiki/Compiled_language).\n",
    "Interpreted languages are converted from human-readable text files to binary \n",
    "(i.e., the 1's and 0's a computer understands) on-the-fly.  That makes the \n",
    "cycle of changing a program, running it, correcting the program for errors, and \n",
    "re-running it much, much faster than with compiled languages.  A compiled \n",
    "language, on the other hand, is converted to binary once-and-for all by an \n",
    "explicit compilation step.  That step makes rapid changes a bit more \n",
    "painstaking to implement.  Learning to program is so much easier without this \n",
    "step, and many of the problems we need to solve don't really require the added \n",
    "computational performance that compiled languages provide.\n",
    "\n",
    "Several versions of Python are in current use, but the most popular versions \n",
    "are 2.7 and 3.4.  Despite the numbering, both versions are current.  In this \n",
    "class, we will work exclusively with Python 3.4.\n",
    "\n",
    "## Python Distributions\n",
    "\n",
    "In addition to various versions of Python, there are many distributions of \n",
    "Python.  By distribution, I mean a collection of the Python interpreter (which \n",
    "is what executes the code you write), editors, and/or packages for performing \n",
    "specific tasks.  Here, we'll be using \n",
    "[Conda](https://conda.io/docs/),\n",
    "which provides a very easy way to manage Python and its packages on Windows, \n",
    "Mac OS/X, and Linux machines.  Currently, a full version of Conda is installed \n",
    "on the departmental machines and represent everything you need for this course.\n",
    "\n",
    "For folks who want to install Python on their own machines, the Conda folks have provided an\n",
    "[installation guide for all operating systems](https://conda.io/docs/install/full.html).\n",
    "It is not at all required (but is probably super handy) for you to have Python on your own\n",
    "machine.  \n",
    "\n",
    "## Accessing Python\n",
    "\n",
    "`![alt text](test.png \"Title\")`\n",
    "\n",
    "\n",
    "## Supplementary Reading\n",
    "\n",
    "Most of this lesson is just a hands-on exercise.  However, please read the \n",
    "*Forward* and *Prologue* of Downey, Elkner, and Meyers.  \n",
    "These give a quick glimpse at why Python is a pretty good choice \n",
    "for (1) a first language and (2) a lot of real-world programming tasks.\n"
   ]
  },
  {
   "cell_type": "code",
   "execution_count": null,
   "metadata": {
    "collapsed": true
   },
   "outputs": [],
   "source": []
  },
  {
   "cell_type": "code",
   "execution_count": null,
   "metadata": {
    "collapsed": true
   },
   "outputs": [],
   "source": []
  }
 ],
 "metadata": {
  "kernelspec": {
   "display_name": "Python 3",
   "language": "python",
   "name": "python3"
  },
  "language_info": {
   "codemirror_mode": {
    "name": "ipython",
    "version": 3
   },
   "file_extension": ".py",
   "mimetype": "text/x-python",
   "name": "python",
   "nbconvert_exporter": "python",
   "pygments_lexer": "ipython3",
   "version": "3.6.1"
  }
 },
 "nbformat": 4,
 "nbformat_minor": 2
}
