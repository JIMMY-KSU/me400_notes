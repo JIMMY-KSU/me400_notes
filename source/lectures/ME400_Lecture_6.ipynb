{
 "cells": [
  {
   "cell_type": "markdown",
   "metadata": {},
   "source": [
    "# Lecture 6 - Conditional Statements and the Structure of Python Code\n",
    "\n",
    "## Overview, Objectives, and Key Terms\n",
    " \n",
    "In this lesson, we turn back to Python and begin the development of more complicated programs.  The emphasis here and in [Lecture 7](ME400_Lecture_7.ipynb) is on the logic of *selection* and its implementation via conditional statements in Python.  Effective use of conditional statements requires a thorough understanding of the relational and logical operators defined in [Lesson 2](ME400_Lecture_2.ipynb).  Of course, one must also first be comfortable with the theoretical coverage of selection presented in [Lecture 5](ME400_Lecture_5.ipynb).\n",
    "\n",
    "\n",
    "### Objectives\n",
    "\n",
    "By the end of this lesson, you should be able to\n",
    "\n",
    "- *explain the importance of indentation in Python programs*\n",
    "- *write a program with conditional statements containing `if`, `else`, and `elif`.\n",
    "- *predict the outcome of a Python program with `if`, `else`, and `elif` statements*\n",
    "\n",
    "### Key Terms\n",
    "\n",
    "- `if`\n",
    "- `else`\n",
    "- `elif` \n",
    "- suite\n",
    "- counter variable\n",
    "- index variable\n",
    "- condition\n",
    "- conditional statement\n",
    "- loop"
   ]
  },
  {
   "cell_type": "markdown",
   "metadata": {},
   "source": [
    "## The Simplest `if`\n",
    "\n",
    "Recall the basic conditional statement from [Lecture 5](ME400_Lecture_5.ipynb), repeated graphically here:\n",
    "\n",
    "![Flowchart fragment for a simple conditional statement](img/simple_if.png)\n",
    "\n",
    "In pseudocode, that same statement could be written as\n",
    "```octave\n",
    "If the condition is satisfied then\n",
    "    Do something\n",
    "```\n",
    "\n",
    "Very nearly the same structure is used in Python.  Consider as a simple example a program that accepts as input a number and prints a message to the user if that number is negative.  In Python, that's easy:"
   ]
  },
  {
   "cell_type": "code",
   "execution_count": 1,
   "metadata": {},
   "outputs": [
    {
     "name": "stdout",
     "output_type": "stream",
     "text": [
      "the number is negative\n"
     ]
    }
   ],
   "source": [
    "number = -3 # here, number is defined explicitly, but it could come from user input\n",
    "if number < 0:\n",
    "    print(\"the number is negative\")"
   ]
  },
  {
   "cell_type": "code",
   "execution_count": 2,
   "metadata": {
    "collapsed": true
   },
   "outputs": [],
   "source": [
    "number = 7\n",
    "if number < 0:\n",
    "    print(\"the number is negative\")"
   ]
  },
  {
   "cell_type": "markdown",
   "metadata": {},
   "source": [
    "This example illustrates the basic syntax of `if` statements, and four key observations can be made:\n",
    "1. The `if` statement begins with the keyword `if`.  Because `if` is a keyword, we can't use it as a name for variables.  Rather, `if` can only be used for `if` statements.\n",
    "2. The *condition* is `number < 0`, which is an expression relating `number` and `0` by the `<` relational operator.  In other words, `number < 0` is either `True` or `False`.  When `True`, the statement immediately following the `if` statement is executed.  Otherwise, that line (here, the one with `print`) is skipped.\n",
    "3. Immediately after the condition is a `:` (i.e., a colon).  This **colon is required** and indicates the end of the `if` statement.  There **is no then** in Python.\n",
    "4. The line immediately after the `if` statement (the one with `print`) is **indented**.  Here, that indentation consists of four spaces.  At least one space is required, but **four spaces is most common and recommended for all indentation**.  Moreover, all lines in the same block of code (e.g., the lines optionally executed if the condition of an `if` statement is satisfied) must have the same indentation.   Such a block of code is called a \"suite\" in the [Python documentation](https://docs.python.org/3/reference/compound_stmts.html)."
   ]
  },
  {
   "cell_type": "markdown",
   "metadata": {},
   "source": [
    "To get comfortable with the basic `if`-statement structure, it is worth exploring a few examples:\n",
    "- Suppose `a` and `b` are numbers already defined.  Use an `if` statement to swap their values when `b` is less than `a`.\n",
    "\n",
    "  **Solution**:\n",
    "```python\n",
    "if b < a:\n",
    "      tmp = b # tmp is a very common abbreviation for temporary\n",
    "      b = a\n",
    "      a = tmp\n",
    "```\n",
    "- What does the following code do?\n",
    "```python\n",
    "a = 1\n",
    "b = False\n",
    "c = 'Harry Potter'\n",
    "d = 0\n",
    "if a and b or c and not d:\n",
    "      print(\"The answer is 42.\")\n",
    "```\n",
    "\n",
    "  **Solution**: It prints out \"The answer is 42.\" To know that, however, requires you can evaluate the condition.  Remember that the order of operations is important.  First `not`, then `and`, and finally `or` is applied.  The result is `True` (since `not 0` equals `True`).\n",
    "  \n",
    "- What does this code do?\n",
    "```python\n",
    "from math import sqrt # one can selectively import functions from modules\n",
    "a, b, c = 1, 2, 3 # yes, you can assign several variables like this!\n",
    "if b**2 > 4*a*c\n",
    "      root1 = (-b + sqrt(b**2 > 4*a*c))/(2*a)\n",
    "     root2 = (-b - sqrt(b**2 > 4*a*c))/(2*a)\n",
    "print(root1, root2)\n",
    "```\n",
    "  **Solution**: Actually, it doesn't do anything but lead to errors!  First, the Python interpreter catches that the `if` statement is missing its colon.  If that gets fixed, the interpreter then catches that the indentation is not uniform in the block of code immediately following the `if`.  Both `root1` and `root2` should start in the same column, but `root2` starts one column before `root1`.  Finally, for the particular values of `a`, `b`, and `c`, `b**2` is less than `4*a*c`, and the condition is *not* satisfied.  Hence, neither `root1` nor `root2` are defined, and the `print` statement is therefore using undefined names.  "
   ]
  },
  {
   "cell_type": "markdown",
   "metadata": {},
   "source": [
    "## The `else` Clause\n",
    "\n",
    "The basic `if` statement provides a way to skip certain lines of code.  However, often one wants to choose between two alternative lines of code. "
   ]
  },
  {
   "cell_type": "markdown",
   "metadata": {},
   "source": [
    "## The `elif` Clause"
   ]
  },
  {
   "cell_type": "markdown",
   "metadata": {},
   "source": [
    "## Ternary Operation\n",
    "\n",
    "A basic if-then statement can be written as a compact, *ternary* operation (with three inputs, as opposed to the two required for *binary* operations like addition), e.g.,\n"
   ]
  },
  {
   "cell_type": "code",
   "execution_count": 4,
   "metadata": {},
   "outputs": [
    {
     "data": {
      "text/plain": [
       "'b'"
      ]
     },
     "execution_count": 4,
     "metadata": {},
     "output_type": "execute_result"
    }
   ],
   "source": [
    "a = 1\n",
    "b = 2\n",
    "c = \"a\" if a  > b else \"b\"\n",
    "c"
   ]
  },
  {
   "cell_type": "markdown",
   "metadata": {},
   "source": [
    "This is equivalent to the more traditional `if`-`else` construct"
   ]
  },
  {
   "cell_type": "code",
   "execution_count": 5,
   "metadata": {},
   "outputs": [
    {
     "data": {
      "text/plain": [
       "'b'"
      ]
     },
     "execution_count": 5,
     "metadata": {},
     "output_type": "execute_result"
    }
   ],
   "source": [
    "a = 1\n",
    "b = 2\n",
    "if a > b :\n",
    "    c = \"a\"\n",
    "else :\n",
    "    c = \"b\"\n",
    "c"
   ]
  }
 ],
 "metadata": {
  "kernelspec": {
   "display_name": "Python 3",
   "language": "python",
   "name": "python3"
  },
  "language_info": {
   "codemirror_mode": {
    "name": "ipython",
    "version": 3
   },
   "file_extension": ".py",
   "mimetype": "text/x-python",
   "name": "python",
   "nbconvert_exporter": "python",
   "pygments_lexer": "ipython3",
   "version": "3.6.1"
  }
 },
 "nbformat": 4,
 "nbformat_minor": 2
}
