{
 "cells": [
  {
   "cell_type": "markdown",
   "metadata": {
    "slideshow": {
     "slide_type": "slide"
    }
   },
   "source": [
    "# Lecture 23 - Root Finding and Optimization \n",
    "\n",
    "## Overview, Objectives, and Key Terms\n",
    " \n",
    "In [Lecture 19](ME400_Lecture_19.ipynb), SymPy was applied to perform symbolic differentuation, and in [Lecture 21]( ME400_Lecture_21.ipynb), finite-difference approximations were developed to perform numerical differentiation.  We'll need both techniques as we begin to solve **nonlinear equations** and **optimization problems**.  Both subjects are rich, so we'll touch on only the basics, but you'll have tools at your disposal to tackle such problems in varied applications."
   ]
  },
  {
   "cell_type": "markdown",
   "metadata": {
    "slideshow": {
     "slide_type": "subslide"
    }
   },
   "source": [
    "\n",
    "### Objectives\n",
    "\n",
    "By the end of this lesson, you should be able to\n",
    "\n",
    "- Find one or more roots of a one-dimensional, nonlinear equation $f(x) = 0$ using the bisection and Newton methods.\n",
    "- Find local extrema of a function $f(x)$ using the bisection and Newton methods.\n",
    "- Establish the order of an integration scheme using numerical, graphical, or symbolic means."
   ]
  },
  {
   "cell_type": "markdown",
   "metadata": {
    "slideshow": {
     "slide_type": "subslide"
    }
   },
   "source": [
    "### Key Terms\n",
    "\n",
    "- nonlinear equation\n",
    "- transcendental equation\n",
    "- graphical solution\n",
    "- bisection method\n",
    "- Newton's method\n",
    "- quadratic convergence\n",
    "- second-order convergence\n",
    "- order of convergence\n",
    "- secant method\n",
    "- Steffensen's method\n",
    "- nonlinear systems\n",
    "- Jacobian matrix\n",
    "- `scipy.optimize.fsolve`\n",
    "- optimization\n",
    "- extremum\n",
    "- critical point\n",
    "- objective function\n",
    "- `scipy.optimize.minimize`"
   ]
  },
  {
   "cell_type": "markdown",
   "metadata": {
    "slideshow": {
     "slide_type": "slide"
    }
   },
   "source": [
    "## Nonlinear Equations\n",
    "\n",
    "Linear equations are characterized by *linear combinations* or the unknowns, e.g.,\n",
    "\n",
    "$$\n",
    "\\begin{split}\n",
    " ax + by &= 1 \\\\\n",
    " cx + dy &= 2 \n",
    "\\end{split}\n",
    "$$\n",
    "\n",
    "Any deviation from this pattern results in **nonlinear equations**, which we can solve\n",
    "  - analytically (or symbolically)\n",
    "  - graphically\n",
    "  - numerically"
   ]
  },
  {
   "cell_type": "markdown",
   "metadata": {
    "slideshow": {
     "slide_type": "subslide"
    }
   },
   "source": [
    "### Analytic Solutions\n",
    "\n",
    "In *rare* cases, nonlinear equations have closed-form solutions."
   ]
  },
  {
   "cell_type": "markdown",
   "metadata": {
    "slideshow": {
     "slide_type": "fragment"
    }
   },
   "source": [
    "**Exercise**: Find all values of $x$ such that $\\sin(ax) - b = 0$.  \n"
   ]
  },
  {
   "cell_type": "markdown",
   "metadata": {
    "slideshow": {
     "slide_type": "subslide"
    }
   },
   "source": [
    "### Graphical Solutions\n",
    "\n",
    "Can't solve it?  **Plot it!**\n",
    "\n",
    "For single equation $f(x) = g(x)$:\n",
    "  - plot $f(x)$ and $g(x)$ over the range of interest to identify intersections\n",
    "  - plot $f(x)-g(x)$ to identify roots"
   ]
  },
  {
   "cell_type": "markdown",
   "metadata": {
    "slideshow": {
     "slide_type": "subslide"
    }
   },
   "source": [
    "**Exercise**: The solution of transient heat-conduction problems often involves a technique called *separation of variables*.  Application of this technique to an infinite slab of thickness $2L$ subject to certain initial and boundary conditions leads to the transcendental equation\n",
    "\n",
    "$$\n",
    "  \\cot \\lambda L = \\frac{\\lambda L}{hL/k} = \\frac{\\lambda L}{\\text{Bi}} \\, ,\n",
    "$$\n",
    "\n",
    "where $\\lambda$ is a dimensionless, undetermined parameter, $h$ is the heat transfer coefficient, $k$ is the thermal conductivity, and $\\text{Bi}$ is the *Biot number*.  The Biot number quantifies how hard it is for heat to flow *within* a body relative to how hard it is to flow *through the outer surface* of the body.  Only for certain values of $\\lambda$ can the equation be solved. Determine these values graphically by plotting the left-hand and right-hand sides of the equation as functions of $\\lambda L$."
   ]
  },
  {
   "cell_type": "code",
   "execution_count": 1,
   "metadata": {
    "slideshow": {
     "slide_type": "subslide"
    }
   },
   "outputs": [
    {
     "data": {
      "image/png": "[encoded data removed]",
      "text/plain": [
       "<matplotlib.figure.Figure at 0x7f57346c4518>"
      ]
     },
     "metadata": {},
     "output_type": "display_data"
    }
   ],
   "source": [
    "import matplotlib.pyplot as plt\n",
    "import numpy as np\n",
    "L = 5.0 # this would be a problem given\n",
    "Bi = 0.5 # this would also be given\n",
    "lambda_L = np.linspace(-5, 5, 1000) # lambda defined implicitly\n",
    "plt.plot(lambda_L, 1/np.tan(lambda_L), 'k', \n",
    "         lambda_L, lambda_L/Bi, 'r--')\n",
    "plt.axis([-5, 5, -20, 20])\n",
    "plt.show()"
   ]
  },
  {
   "cell_type": "markdown",
   "metadata": {
    "slideshow": {
     "slide_type": "slide"
    }
   },
   "source": [
    "## Determining Roots Numerically\n",
    "\n",
    "The numerical solution of $f(x) = 0$ can be challenging since it requires we know at least a little about the desired solution, particularly the range in which the root is contained. We'll explore three basic schemes for solving $f(x)$: the [bisection method](http://mathworld.wolfram.com/Bisection.html), [Newton's method](http://mathworld.wolfram.com/NewtonsMethod.html), and the secant method."
   ]
  },
  {
   "cell_type": "markdown",
   "metadata": {
    "slideshow": {
     "slide_type": "subslide"
    }
   },
   "source": [
    "### Bisection\n",
    "\n",
    "Just like **binary search**!  Now, compare *sign* rather than *magnitude* (and keep **repeating**)."
   ]
  },
  {
   "cell_type": "markdown",
   "metadata": {
    "slideshow": {
     "slide_type": "subslide"
    }
   },
   "source": [
    "```\n",
    "'''Bisection method for finding an isolated root of f between a and b'''\n",
    "Input: f, a, b, tau\n",
    "\n",
    "# Define the left and right boundaries\n",
    "Set L = a\n",
    "Set R = b\n",
    "\n",
    "# Define the central point\n",
    "Set C = (a+b)/2\n",
    "\n",
    "# Go until f(C) is close enough to zero (i.e., that\n",
    "# C is close enough to the root between a and b\n",
    "While |f(C)| > tau \n",
    "    If sign(f(C)) == sign(f(L)) then\n",
    "        # the root must be between C and L\n",
    "        L = C\n",
    "    Otherwise\n",
    "        # the root must be between L and C\n",
    "        R = C\n",
    "    C = (L+R)/2\n",
    "Output: C\n",
    "```"
   ]
  },
  {
   "cell_type": "markdown",
   "metadata": {
    "slideshow": {
     "slide_type": "subslide"
    }
   },
   "source": [
    "Graphical display of bisection to find first positive root of $\\sin(x) - 2/5$:"
   ]
  },
  {
   "cell_type": "code",
   "execution_count": 2,
   "metadata": {
    "slideshow": {
     "slide_type": "fragment"
    }
   },
   "outputs": [
    {
     "data": {
      "image/png": "[encoded data removed]",
      "text/plain": [
       "<matplotlib.figure.Figure at 0x7f57346a4a20>"
      ]
     },
     "metadata": {},
     "output_type": "display_data"
    }
   ],
   "source": [
    "import nonlinear_plots\n",
    "nonlinear_plots.bisection_root()"
   ]
  },
  {
   "cell_type": "markdown",
   "metadata": {
    "slideshow": {
     "slide_type": "subslide"
    }
   },
   "source": [
    "### Newton's Method\n",
    "\n",
    "Often, a better way to find roots of $f(x) = 0$ is [Newton's method](http://mathworld.wolfram.com/NewtonsMethod.html).\n",
    "\n",
    "Like bisection,  Newton's method produces a sequence of approximations.\n",
    "\n",
    "Unlike bisection, require an *initial guess* $x_0$ for the root $x_r$ (and it should be \"close\")."
   ]
  },
  {
   "cell_type": "markdown",
   "metadata": {
    "slideshow": {
     "slide_type": "subslide"
    }
   },
   "source": [
    "Quick motivation for Newton *from the math*:"
   ]
  },
  {
   "cell_type": "code",
   "execution_count": 3,
   "metadata": {
    "slideshow": {
     "slide_type": "fragment"
    }
   },
   "outputs": [
    {
     "data": {
      "image/png": "[encoded data removed]",
      "text/latex": [
       "$$f{\\left (x_{0} \\right )} + \\Delta \\left. \\frac{d}{d \\xi_{1}} f{\\left (\\xi_{1} \\right )} \\right|_{\\substack{ \\xi_{1}=x_{0} }} + \\mathcal{O}\\left(\\Delta^{2}\\right) = 0$$"
      ],
      "text/plain": [
       "          ⎛ d        ⎞│         ⎛ 2⎞    \n",
       "f(x₀) + Δ⋅⎜───(f(ξ₁))⎟│      + O⎝Δ ⎠ = 0\n",
       "          ⎝dξ₁       ⎠│ξ₁=x₀            "
      ]
     },
     "execution_count": 3,
     "metadata": {},
     "output_type": "execute_result"
    }
   ],
   "source": [
    "import sympy as sy\n",
    "sy.init_printing()\n",
    "f, x_0, Delta = sy.symbols('f x_0 Delta')\n",
    "x_r = x_0 + Delta\n",
    "eq = sy.Eq(sy.series(f(x_r), Delta, 0, 2), 0)\n",
    "eq"
   ]
  },
  {
   "cell_type": "code",
   "execution_count": 4,
   "metadata": {
    "slideshow": {
     "slide_type": "subslide"
    }
   },
   "outputs": [
    {
     "data": {
      "image/png": "[encoded data removed]",
      "text/latex": [
       "$$- \\frac{f{\\left (x_{0} \\right )} + \\mathcal{O}\\left(\\Delta^{2}\\right)}{\\left. \\frac{d}{d \\xi_{1}} f{\\left (\\xi_{1} \\right )} \\right|_{\\substack{ \\xi_{1}=x_{0} }}}$$"
      ],
      "text/plain": [
       " ⎛         ⎛ 2⎞⎞  \n",
       "-⎝f(x₀) + O⎝Δ ⎠⎠  \n",
       "──────────────────\n",
       "⎛ d        ⎞│     \n",
       "⎜───(f(ξ₁))⎟│     \n",
       "⎝dξ₁       ⎠│ξ₁=x₀"
      ]
     },
     "execution_count": 4,
     "metadata": {},
     "output_type": "execute_result"
    }
   ],
   "source": [
    "sy.solve(eq, Delta)[0]"
   ]
  },
  {
   "cell_type": "markdown",
   "metadata": {
    "slideshow": {
     "slide_type": "fragment"
    }
   },
   "source": [
    "Take a leap of faith: **ignore the** $\\mathcal{O}(\\Delta^2)$ **term** and set \n",
    "\n",
    "$$\n",
    "  x_r \\approx x_1 = x_0 + \\Delta\n",
    "$$"
   ]
  },
  {
   "cell_type": "markdown",
   "metadata": {
    "slideshow": {
     "slide_type": "subslide"
    }
   },
   "source": [
    "```\n",
    "'''Newton's method for finding the root f given x_0'''\n",
    "Input: f, fp, x_0, tau\n",
    "Set x = x_0\n",
    "While |f(x)| > tau do\n",
    "   # Compute the Newton \"step\" \n",
    "   Set Delta = -f(x)/fp(x)\n",
    "   # Compute the next value of x\n",
    "   Set x = x + Delta\n",
    "Output: x\n",
    "```"
   ]
  },
  {
   "cell_type": "markdown",
   "metadata": {
    "slideshow": {
     "slide_type": "subslide"
    }
   },
   "source": [
    "Quick motivation of Newton *from the geometry*..."
   ]
  },
  {
   "cell_type": "markdown",
   "metadata": {
    "slideshow": {
     "slide_type": "subslide"
    }
   },
   "source": [
    "**Exercise**: Solve $f(x) = \\sin(x)-2/5 = 0$ starting with $x_0 = 0.5$ until $|f(x)| < 10^{-5}$."
   ]
  },
  {
   "cell_type": "markdown",
   "metadata": {
    "slideshow": {
     "slide_type": "subslide"
    }
   },
   "source": [
    "Such convergence is called **quadratic convergence** or **second-order convergence**.  \n",
    "\n",
    "More generally, $\\epsilon_{n+1} = C \\epsilon_n^p$, where $p$ is the **order of convergence** and $C$ is the **rate of convergence**."
   ]
  },
  {
   "cell_type": "markdown",
   "metadata": {
    "slideshow": {
     "slide_type": "subslide"
    }
   },
   "source": [
    "### Secant Method\n",
    "\n",
    "Actually, just like Newton but without $f'(x)$!  Use a *finite difference* instead."
   ]
  },
  {
   "cell_type": "markdown",
   "metadata": {
    "slideshow": {
     "slide_type": "subslide"
    }
   },
   "source": [
    "```\n",
    "'''Secant method for finding the root f given x_0'''\n",
    "Input: f, x_0, tau\n",
    "Set x = x_0\n",
    "Set x_0 = x - tau\n",
    "While |f(x)| > tau do\n",
    "   # Approximate the derivative\n",
    "   Set fp = (f(x)-f(x_0))/(x-x_0)\n",
    "   # Compute the Newton \"step\"\n",
    "   Set Delta = -f(x)/fp\n",
    "   # Store old x, and compute next value\n",
    "   Set x_0 = x\n",
    "   Set x = x + Delta\n",
    "Output: x\n",
    "```\n",
    "\n",
    "Depending on $f(x)$ (and its cost), *may* be better to use $x$ and $x+\\delta$ for finite difference where $\\delta < (x-x_0)$."
   ]
  },
  {
   "cell_type": "markdown",
   "metadata": {
    "slideshow": {
     "slide_type": "slide"
    }
   },
   "source": [
    "## Solving Systems of Nonlinear Equations Numerically\n",
    "\n",
    "From $f(x) = 0$ to $\\mathbf{f}(\\mathbf{x}) = \\mathbf{0}$...\n",
    "\n",
    "\n",
    "...and from $f'(x)$ to the **Jacobian** matrix $\\mathbf{J}$:\n",
    "\n",
    "$$\n",
    "  \\mathbf{J}(\\mathbf{x}) = \\begin{bmatrix}\n",
    "    \\frac{\\partial f_0}{\\partial x_0} & \\frac{\\partial f_1}{\\partial x_0} & \\ldots & \\frac{\\partial f_{n-1}}{\\partial x_0} \\\\\n",
    "    \\frac{\\partial f_0}{\\partial x_1} & \\frac{\\partial f_1}{\\partial x_1} & \\ldots & \\frac{\\partial f_{n-1}}{\\partial x_1} \\\\\n",
    "         &     &  \\ddots &  \\\\\n",
    "    \\frac{\\partial f_0}{\\partial x_{n-1}} & \\frac{\\partial f_1}{\\partial x_{n-1}} & \\ldots & \\frac{\\partial f_{n-1}}{\\partial x_{n-1}} \n",
    "\\end{bmatrix}\n",
    "$$\n",
    "\n",
    "(here, partial derivatives evaluated at $\\mathbf{x}$)"
   ]
  },
  {
   "cell_type": "markdown",
   "metadata": {
    "slideshow": {
     "slide_type": "subslide"
    }
   },
   "source": [
    "Newton's method leads to the sequence\n",
    "\n",
    "$$ \n",
    "  \\mathbf{x}_{n+1} = \\mathbf{x}_{n} - \\mathbf{J}^{-1}(\\mathbf{x}_n) \\mathbf{f}(\\mathbf{x}_n) \\, .\n",
    "$$"
   ]
  },
  {
   "cell_type": "markdown",
   "metadata": {
    "slideshow": {
     "slide_type": "subslide"
    }
   },
   "source": [
    "### `scipy.optimize.fsolve`\n",
    "\n",
    "Good to know the equations, but better (usually) to use SciPy and its `scipy.optimize.fsolve` function:\n",
    "\n",
    "The signature (from `help(fsolve)`) is\n",
    "```python\n",
    "fsolve(func, x0, args=(), fprime=None, full_output=0, col_deriv=0, xtol=1.49012e-08, maxfev=0, band=None, epsfcn=None, factor=100, diag=None)\n",
    "```\n",
    "\n",
    "Here, `func` represents the nonlinear system function $\\mathbf{f}(\\mathbf{x})$, and `args` represents any values needed to define what $\\mathbf{f}(\\mathbf{x})$ does.  The initial guess is `x0`.  If available, `fprime` should compute $\\mathbf{J}(\\mathbf{x})$; if not provided, `fsolve` approximates the Jacobian using a forward-difference approximation."
   ]
  },
  {
   "cell_type": "markdown",
   "metadata": {
    "slideshow": {
     "slide_type": "subslide"
    }
   },
   "source": [
    "**Exercise**: Solve the nonlinear system of equations $x-y = 4$ and $x^2 + y = -3$ using `fsolve`  $x_0=1/2$ and $y_0=-3$."
   ]
  },
  {
   "cell_type": "code",
   "execution_count": 5,
   "metadata": {
    "slideshow": {
     "slide_type": "fragment"
    }
   },
   "outputs": [
    {
     "data": {
      "image/png": "[encoded data removed]",
      "text/latex": [
       "$$\\left ( 0.61803398875, \\quad -3.38196601125\\right )$$"
      ],
      "text/plain": [
       "(0.61803398875, -3.38196601125)"
      ]
     },
     "execution_count": 5,
     "metadata": {},
     "output_type": "execute_result"
    }
   ],
   "source": [
    "from scipy.optimize import fsolve\n",
    "\n",
    "def f(z):\n",
    "    x, y = z # unpack z\n",
    "    return [x-y-4, x**2+y+3]\n",
    "\n",
    "z0 = [1/2, -3]\n",
    "x, y = fsolve(f, z0)\n",
    "x, y"
   ]
  },
  {
   "cell_type": "markdown",
   "metadata": {
    "slideshow": {
     "slide_type": "slide"
    }
   },
   "source": [
    "## Recap\n",
    "\n",
    "By the end of this lesson, you should be able to\n",
    "\n",
    "- Find one or more roots of a one-dimensional, nonlinear equation $f(x) = 0$ using the bisection and Newton methods.\n",
    "- Find local extrema of a function $f(x)$ using the bisection and Newton methods.\n",
    "- Use `fsolve` to solve nonlinear systems."
   ]
  },
  {
   "cell_type": "markdown",
   "metadata": {
    "slideshow": {
     "slide_type": "fragment"
    }
   },
   "source": [
    "**Exam Friday**. Same format (no notes, etc.)  Covers through finite differences, focuses on material since Exam 1, but should be (like life) assumed cumulative.  **Questions?**"
   ]
  }
 ],
 "metadata": {
  "celltoolbar": "Slideshow",
  "kernelspec": {
   "display_name": "Python 3",
   "language": "python",
   "name": "python3"
  },
  "language_info": {
   "codemirror_mode": {
    "name": "ipython",
    "version": 3
   },
   "file_extension": ".py",
   "mimetype": "text/x-python",
   "name": "python",
   "nbconvert_exporter": "python",
   "pygments_lexer": "ipython3",
   "version": "3.6.2"
  }
 },
 "nbformat": 4,
 "nbformat_minor": 2
}
