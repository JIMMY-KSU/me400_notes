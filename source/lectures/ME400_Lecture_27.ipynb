{
 "cells": [
  {
   "cell_type": "markdown",
   "metadata": {},
   "source": [
    "# Lecture 27 - Solving First-Order IVPs Numerically\n",
    "\n",
    "## Overview, Objectives, and Key Terms\n",
    " \n",
    "The basics of ODEs were reviewed in [Lecture 26](ME400_Lecture_26.ipynb). There, SymPy was used to provide general solutions via `dsolve`, leaving application of initial and boundary conditions to the user.  However, SymPy (and other symbolic tools) cannot solve all differential equations.  For such equations, we can apply numerical techniques.  Specifically, we'll apply the finite-difference approximations presented in [Lecture 19](ME400_Lecture_19.ipynb).  For now, we'll consider only single, first-order equations, leaving systems for [Lecture 28](ME400_Lecture_28.ipynb).\n",
    "\n",
    "\n",
    "### Objectives\n",
    "\n",
    "By the end of this lesson, you should be able to\n",
    "\n",
    "- Solve first-order IVPs numerically using forward and backward Euler's method\n",
    "- Explain what is mean by local and global errors\n",
    "- Explain what is meant by stability and how to achieve it\n",
    "\n",
    "### Prerequisites\n",
    "\n",
    "You should already be able to\n",
    "\n",
    "- Solve ODEs based on what you've learned in a course like MATH 340 and [Lecture 26](ME400_Lecture_26.ipynb)\n",
    "- Compute a first-order, finite-difference approximation for $\\frac{df}{dx}$\n",
    "\n",
    "### Key Terms\n"
   ]
  },
  {
   "cell_type": "markdown",
   "metadata": {},
   "source": [
    "## There Once was a Man Named Euler\n",
    "\n",
    "[Leonhard Euler](https://en.wikipedia.org/wiki/Leonhard_Euler) was a prolific mathematician, perhaps second only to [Carl Gauss](https://en.wikipedia.org/wiki/Carl_Friedrich_Gauss).  I point him out because the simplest (and probably best known) approach for solving $y' + py = q$ has his name.  (Point of trivia: he's buried in St. Petersburg, I was quite surprised to learn while strolling through an old cemetery).\n",
    "\n",
    "The method bearing his name requires the [Numerical Differentiation](../../../courses/pythonic_apps_1/module_4/numerical_differentiation.rst) we learned previously.  Specifically, we need one of the first-order, finite-difference approximations for $dy/dt$.  You'll recall those are the *forward difference*\n",
    "\\begin{equation}\n",
    "    \\frac{dy}{dt} \\approx \\frac{y(t+\\Delta)-y(t)}{\\Delta} \\, ,\n",
    "\\end{equation}\n",
    "and the *backward difference*\n",
    "\\begin{equation}\n",
    "    \\frac{dy}{dt} \\approx \\frac{y(t)-y(t-\\Delta)}{\\Delta} \\, .\n",
    "\\end{equation}\n",
    "\n",
    "If we substitute the forward difference into the IVP, we find\n",
    "\\begin{equation}\n",
    "    \\frac{y(t+\\Delta)-y(t)}{\\Delta} + p(t)y(t) = q(t) + \\mathcal{O}(\\Delta^2) \\, ,\n",
    "\\end{equation}\n",
    "and by collecting the terms with $y(t)$ on the left, we have\n",
    "\\begin{equation}\n",
    "    y(t+\\Delta) = [1 - \\Delta p(t)]y(t)  + \\Delta q(t)  + \\mathcal{O}(\\Delta)  \\, .\n",
    "\\end{equation}\n",
    "Recognize that $y$ is now evaluated at the points $t_0, t_0+\\Delta, t_0+2\\Delta, \\ldots$, or\n",
    "\\begin{equation}\n",
    "    t_n = t_0 + n\\Delta, \\qquad n = 0, 1, 2, \\ldots\n",
    "\\end{equation}\n",
    "\n",
    "We could allow for a $\\Delta$ that changes, but we'll keep it fixed for simplicity and leave the fancy stuff to SciPy.  Furthermore, let $y(t_{n})$ be written as $y_n$. Then, we can rewrite our *finite-difference* equation as\n",
    "\\begin{equation}\n",
    "    y_{n+1} = [1 - \\Delta p_n]y_n  + \\Delta q_n \\, ,\n",
    "\\end{equation}\n",
    "which is the *forward Euler method*.  Use of the backward difference leads to the *backward Euler method*, which will come up next time in the context of *stability* of time-integration schemes for IVP's.  For both methods, the $\\mathcal{O}(\\Delta^2)$ error in the derivative leads to a a *local error* of $\\mathcal{O}(\\Delta)$ in the solution.\n",
    "\n",
    "How high should $n$ go?  It depends on how long into the future (taking $t$ to represent time) we wish to evaluate the solution.  Let that future time be denoted $T$, and let the number of steps we wish to take be denoted $N$.  Consequently, $\\Delta = (T-t_0)/N$.  We'll always start at $t=0$, so $\\Delta = T/N$.\n",
    "\n",
    "Let's illustrate by solving\n",
    "\\begin{equation}\n",
    "    \\frac{dy}{dt} + y(t) = 10, \\qquad y(0) = 0, \\qquad t \\in [0, 10] \\, .\n",
    "\\end{equation}\n",
    "using $N=25$ points."
   ]
  },
  {
   "cell_type": "code",
   "execution_count": 1,
   "metadata": {},
   "outputs": [
    {
     "data": {
      "image/png": "[encoded data removed]",
      "text/plain": [
       "<matplotlib.figure.Figure at 0x7f6fa8e63470>"
      ]
     },
     "metadata": {},
     "output_type": "display_data"
    }
   ],
   "source": [
    "import numpy as np\n",
    "%matplotlib inline\n",
    "import matplotlib.pyplot as plt\n",
    "\n",
    "t_max = 10.0\n",
    "N = 25\n",
    "\n",
    "# Initialize the unknown (where \"fe25\" denotes Forward Euler with 15 points)\n",
    "y_fe25 = np.zeros(N+1)\n",
    "\n",
    "# Define the times and right-hand side.  We use N+1 \n",
    "# because we want N points beyond the initial value.\n",
    "t_fe25 = np.linspace(0, t_max, N+1)\n",
    "q = 10*np.ones(N+1)\n",
    "Delta = t_fe25[1]-t_fe25[0]\n",
    "\n",
    "# Compute all successive values\n",
    "for i in range(1, N+1) :\n",
    "    y_fe25[i] = (1.0 - Delta)*y_fe25[i-1] + Delta*q[i-1]\n",
    "    \n",
    "plt.plot(t_fe25, y_fe25, 'k-o')\n",
    "plt.xlabel('t')\n",
    "plt.ylabel('$y(t)$')\n",
    "plt.show()"
   ]
  },
  {
   "cell_type": "markdown",
   "metadata": {},
   "source": [
    "Is this reasonable?  You should *always* do any \"sanity\" check available.  Here, the solution looks like it levels off, which suggests for long times, a *steady state* is reached.  Steady state means no change with time, and no change with time means $dy/dt = 0$.  \n",
    "\n",
    "So what happens if we set $dy/dt=0$ in our IVP?  We find that $y(t) = 10$.  That seems consistent with the numerical result, but is it correct?  This problem is easy to solve directly, but we'll have SymPy produce an analytic result that be evaluated numerically later on:"
   ]
  },
  {
   "cell_type": "code",
   "execution_count": 2,
   "metadata": {},
   "outputs": [
    {
     "data": {
      "image/png": "[encoded data removed]",
      "text/latex": [
       "$$10 - 10 e^{- t}$$"
      ],
      "text/plain": [
       "         -t\n",
       "10 - 10⋅ℯ  "
      ]
     },
     "execution_count": 2,
     "metadata": {},
     "output_type": "execute_result"
    }
   ],
   "source": [
    "import sympy as sy\n",
    "sy.init_printing()\n",
    "y_sy, t_sy = sy.symbols('y t') # use y_sy, t_sy to avoid overwriting other names\n",
    "sol = sy.dsolve(sy.diff(y_sy(t_sy), t_sy) + y_sy(t_sy)-10, y_sy(t_sy)).rhs\n",
    "y_exact_sy = sol.subs(sy.Symbol('C1'), sy.solve(sol.subs(t_sy, 0), sy.Symbol('C1'))[0])\n",
    "y_exact_sy"
   ]
  },
  {
   "cell_type": "markdown",
   "metadata": {},
   "source": [
    "That certainly goes to 10 as $t \\to \\infty$.  Let's visualize the numerical and analytical solutions:"
   ]
  },
  {
   "cell_type": "code",
   "execution_count": 3,
   "metadata": {},
   "outputs": [
    {
     "data": {
      "image/png": "[encoded data removed]",
      "text/plain": [
       "<matplotlib.figure.Figure at 0x7f6f9039ec88>"
      ]
     },
     "metadata": {},
     "output_type": "display_data"
    }
   ],
   "source": [
    "y_exact = sy.lambdify(t_sy, y_exact_sy)\n",
    "plt.plot(t_fe25, y_fe25, 'k-o', t_fe25, y_exact(t_fe25), 'r--')\n",
    "plt.xlabel('t')\n",
    "plt.legend(['$y_{\\\\mathrm{fe25}}$', '$y_{\\\\mathrm{exact}}(t)$'], loc=0)\n",
    "plt.show()"
   ]
  },
  {
   "cell_type": "markdown",
   "metadata": {},
   "source": [
    "That's pretty close, but can we do better?  Let's try $N=100$:"
   ]
  },
  {
   "cell_type": "code",
   "execution_count": 4,
   "metadata": {},
   "outputs": [
    {
     "data": {
      "image/png": "[encoded data removed]",
      "text/plain": [
       "<matplotlib.figure.Figure at 0x7f6f8372beb8>"
      ]
     },
     "metadata": {},
     "output_type": "display_data"
    }
   ],
   "source": [
    "N = 100\n",
    "\n",
    "# Initialize the unknown (where \"fe25\" denotes Forward Euler with 15 points)\n",
    "y_fe100 = np.zeros(N+1)\n",
    "\n",
    "# Define the times and right-hand side.  We use N+1 \n",
    "# because we want N points beyond the initial value.\n",
    "t_fe100 = np.linspace(0, t_max, N+1)\n",
    "q = 10*np.ones(N+1)\n",
    "Delta = t_fe100[1]-t_fe100[0]\n",
    "\n",
    "# Compute all successive values\n",
    "for i in range(1, N+1) :\n",
    "    y_fe100[i] = (1.0 - Delta)*y_fe100[i-1] + Delta*q[i-1]\n",
    "\n",
    "plt.plot(t_fe25, y_fe25, 'k-o', t_fe100, y_fe100, 'b', t_fe100, y_exact(t_fe100), 'r--')\n",
    "plt.xlabel('t')\n",
    "plt.legend(['$y_{\\\\mathrm{fe25}}$', '$y_{\\\\mathrm{fe100}}$', '$y_{\\\\mathrm{exact}}(t)$'], loc=0)\n",
    "plt.show()"
   ]
  },
  {
   "cell_type": "markdown",
   "metadata": {},
   "source": [
    "***\n",
    "\n",
    "**Exercise**:  Finish the following function definition:\n",
    "\n",
    "```python\n",
    "\n",
    "def forward_euler(N, T, y0, p, q) :\n",
    "    \"\"\"Solves y' + py = q using forward Euler and a fixed time step.\n",
    "    \n",
    "       Inputs:\n",
    "         N  - number of points (int)\n",
    "         T  - final time (float)\n",
    "         y0 - initial value of y (float)\n",
    "         p  - coefficient value (float)\n",
    "         q  - coefficient value (float)\n",
    "         \n",
    "       Returns:\n",
    "         y  - values of y at each time step (NumPy array)\n",
    "         t  - times at which y is evaluated (NumPy array)\n",
    "    \"\"\"\n",
    "\n",
    "    return y, t\n",
    "```\n",
    "\n",
    "***\n",
    "\n",
    "**Exercise**:  Repeat the last exercise but allow `p` and `q` to be callable functions of `t`.\n",
    "\n",
    "***\n",
    "\n",
    "**Exercise**: Implement backward Euler following the exercise above.\n",
    "\n",
    "***\n",
    "\n",
    "**Exercise**:  Apply forward Euler *by hand* to the following IVPs to approximate $y(1)$ using a step size $\\Delta = 0.2$:\n",
    "  1. $y' = y$ for $y(0) = 1$\n",
    "  2. $y' = 2ty$ for $y(0) = 1$\n",
    "  3. $y' = -y/10 + 1$ for $y(0) = 0$.\n",
    "\n",
    "***\n",
    "\n",
    "**Exercise**: Repeat the previous exercise but use backward Euler.\n",
    "\n",
    "***"
   ]
  },
  {
   "cell_type": "markdown",
   "metadata": {},
   "source": [
    "***\n",
    "\n",
    "**Exercise**:  Consider the IVP $y' = f(t, y(t))$ subject to $y(0) = y_0$.  Here, $f(t, y(t))$ can be any function of $t$ or $y(t)$.  Examples include $f(t, y(t)) = ay + bt$ and $f(t, y(t)) = a y(t)^2$.  The latter case leads to a *nonlinear* IVP.  Given the initial condition, write down how you would determine $y(\\Delta)$ using (a) forward Euler and (b) backward Euler.\n",
    "\n",
    "***"
   ]
  },
  {
   "cell_type": "markdown",
   "metadata": {},
   "source": [
    "**Exercise**:  Consider the following twist on Euler's method for $\\frac{dy}{dt} = f(t)$ using fixed time steps $\\Delta$:\n",
    "\n",
    "$$\n",
    "  \\tilde{y}_{n+1} = y_n + \\Delta f(t_n)\n",
    "$$\n",
    "\n",
    "and\n",
    "\n",
    "$$\n",
    "  y_{n+1} = y_n + \\frac{\\Delta}{2} [f(t_n) + \\tilde{f}(t_{n+1})] \\, .\n",
    "$$\n",
    "\n",
    "This is an example of a [multi-step method](https://en.wikipedia.org/wiki/Linear_multistep_method) and belongs to the famous [Runge-Kutta](http://mathworld.wolfram.com/Runge-KuttaMethod.html) family of methods.  This particular version is sometimes called [Heun's method](https://en.wikipedia.org/wiki/Heun%27s_method). \n",
    "\n",
    "Your task is to write a function `heun_method(N, T, y0, p, q)`.\n",
    "\n",
    "***"
   ]
  },
  {
   "cell_type": "markdown",
   "metadata": {},
   "source": [
    "## A Look at Errors and Stability\n",
    "\n",
    "Certainly, the $N=100$ approximation looks better than the $N=25$ approximation. We can plot the errors for both as a function of time:"
   ]
  },
  {
   "cell_type": "code",
   "execution_count": 5,
   "metadata": {},
   "outputs": [
    {
     "data": {
      "image/png": "[encoded data removed]",
      "text/plain": [
       "<matplotlib.figure.Figure at 0x7f6f9039e5c0>"
      ]
     },
     "metadata": {},
     "output_type": "display_data"
    }
   ],
   "source": [
    "error_fe25 = y_fe25 - y_exact(t_fe25)\n",
    "error_fe100 = y_fe100 - y_exact(t_fe100)\n",
    "plt.semilogy(t_fe25, error_fe25, 'k-', t_fe100, error_fe100, 'b--')\n",
    "plt.xlabel('t')\n",
    "plt.legend(['$N=25$', '$N=100$'], loc=0, numpoints=1)\n",
    "plt.show()"
   ]
  },
  {
   "cell_type": "markdown",
   "metadata": {},
   "source": [
    "Clearly, the error for $N=25$ is larger over the time domain, as we might expect.  Recall that \n",
    "$(y_{n+1}-y_n)/\\Delta = -py_n + q_n + \\mathcal{O}(\\Delta^2)$, so $y_{n+1} = (1-\\Delta p)y_n + \\Delta q_n + \\mathcal{O}(\\Delta)$.  This first-order error in $y_n$ is the *local error*, i.e., the error introduced by a single step in time.  On the other hand, the *global error* is the error shown above as a function of time.  A key question is how that global error at a fixed point in time depends on $\\Delta$.  It turns out that if a method is *stable*, then the global error is of the same order as the local error.  \n",
    "\n",
    "We'll skip momentarily what it means to be stable for now, but we can attack the global error for our simple problem (with a bit of help from SymPy).  For constant $q$, $p$ and $\\Delta$, the analytic solution is\n",
    "\\begin{equation}\n",
    "    y_n = \\frac{q}{p} (1 - e^{-p \\Delta n})  \\, ,\n",
    "\\end{equation}\n",
    "while the forward-Euler solution is\n",
    "\\begin{equation}\n",
    "    \\begin{aligned}\n",
    "     y_n  &= \\Delta q \\sum^{n-1}_{i=0} (1-\\Delta p)^{i} \\\\\n",
    "          &= \\Delta q \\frac{1 - (1-\\Delta p)^{n-1}}{\\Delta p } \\\\\n",
    "          &= \\frac{q}{p} [ 1 - (1-\\Delta p)^{n-1} ] \\, .\n",
    "    \\end{aligned}\n",
    "\\end{equation}\n",
    "\n",
    "For fixed $t$ and $\\Delta$, the number of steps is $n = t/\\Delta$, and the global error is therefore\n",
    "\\begin{equation}\n",
    "     e(t) = \\frac{q}{p} [e^{-p t}-(1-\\Delta p)^{\\frac{t}{\\Delta} - 1} ] \\, .\n",
    "\\end{equation}\n",
    "Note first that \n",
    "\\begin{equation}\n",
    "     \\lim_{\\Delta \\to 0} (1-\\Delta p)^{t/\\Delta} = e^{-p t} \\, ,\n",
    "\\end{equation}\n",
    "so $e_n = (q/p)[e^{-pt}-e^{-p/t}/(1-\\Delta p)] \\to 0$ as $\\Delta \\to 0$.  However, for fixed $t$, how *fast* does that error decrease with $\\Delta$?  And for fixed $\\Delta$, how does the error change with time?  Let's expand the error about $\\Delta = 0$:"
   ]
  },
  {
   "cell_type": "code",
   "execution_count": 6,
   "metadata": {},
   "outputs": [
    {
     "data": {
      "image/png": "[encoded data removed]",
      "text/latex": [
       "$$\\Delta \\left(\\frac{t y_{0}}{2} p^{2} e^{- p t} - p y_{0} e^{- p t}\\right) + \\Delta^{2} \\left(- \\frac{p^{4} y_{0}}{8} t^{2} e^{- p t} + \\frac{5 t}{6} p^{3} y_{0} e^{- p t} - p^{2} y_{0} e^{- p t}\\right) + \\mathcal{O}\\left(\\Delta^{3}\\right)$$"
      ],
      "text/plain": [
       "  ⎛ 2       -p⋅t             ⎞      ⎛   4  2     -p⋅t      3       -p⋅t       \n",
       "  ⎜p ⋅t⋅y₀⋅ℯ             -p⋅t⎟    2 ⎜  p ⋅t ⋅y₀⋅ℯ       5⋅p ⋅t⋅y₀⋅ℯ        2  \n",
       "Δ⋅⎜───────────── - p⋅y₀⋅ℯ    ⎟ + Δ ⋅⎜- ────────────── + ─────────────── - p ⋅y\n",
       "  ⎝      2                   ⎠      ⎝        8                 6              \n",
       "\n",
       "       ⎞        \n",
       "   -p⋅t⎟    ⎛ 3⎞\n",
       "₀⋅ℯ    ⎟ + O⎝Δ ⎠\n",
       "       ⎠        "
      ]
     },
     "execution_count": 6,
     "metadata": {},
     "output_type": "execute_result"
    }
   ],
   "source": [
    "y0, Delta, n, p = sy.symbols('y0 Delta n p')\n",
    "e = y0*(sy.exp(-p*t_sy)-(1-Delta*p)**(t_sy/Delta-1))\n",
    "sy.series(e, Delta, 0, 3)"
   ]
  },
  {
   "cell_type": "markdown",
   "metadata": {},
   "source": [
    "Evidently, the global error is of first order, consistent with the local error.  However, it's not clear (or easy to determine) exactly how the error depends on $t$ for fixed $\\Delta$.  If we assume $p > 0$ (i.e., radioactive decay and not multiplying pythons), then \n",
    "\\begin{equation}\n",
    "    |e(t)| < \\Big | q/ p \\Big | \\Big | (1-\\Delta p)^{t/\\Delta -1} \\Big | \\, .\n",
    "\\end{equation}\n",
    "However, the right-hand side is bounded (i.e., does not grow with large $t$) only if $|1-\\Delta p| < 1$, and that is true only if $\\Delta < 2/p$.  To summarize: the global error does not blow up as long as $p > 0$ and $\\Delta < 2/p$.\n",
    "\n",
    "Of course, simply stating such rules is never as exciting as seeing what happens when the rules are broken, so we'll solve our example with $p = 2$, $q=10$, and $y(0) = 0$ for $N = 5$, $N = 10$, and $N = 20$:"
   ]
  },
  {
   "cell_type": "code",
   "execution_count": 16,
   "metadata": {},
   "outputs": [
    {
     "data": {
      "image/png": "[encoded data removed]",
      "text/plain": [
       "<matplotlib.figure.Figure at 0x7f6f835fa710>"
      ]
     },
     "metadata": {},
     "output_type": "display_data"
    }
   ],
   "source": [
    "p = 2.0\n",
    "q = 10.0\n",
    "t = {}\n",
    "y = {}\n",
    "y0 = 0\n",
    "for N in [5, 10, 20]:\n",
    "    t[N] = np.linspace(0, 10, N+1)\n",
    "    Delta = t[N][1]-t[N][0]\n",
    "    y[N] = np.zeros(N+1)\n",
    "    y[0] = y0\n",
    "    for i in range(1, N+1):\n",
    "        y[N][i] = (1.0 - Delta*p)*y[N][i-1] + Delta*q  #y[N][i-1] + Delta*(-p*y[N][i-1] + q)\n",
    "    \n",
    "plt.plot(t[5], y[5], 'k-o', t[10], y[10], 'b-s', t[20], y[20], 'r-*')\n",
    "plt.xlabel('t')\n",
    "plt.ylabel('y(t)')\n",
    "plt.legend(['$N=5$', '$N=10$',  '$N=20$'], loc=0)\n",
    "plt.show()"
   ]
  },
  {
   "cell_type": "markdown",
   "metadata": {},
   "source": [
    "Yikes! The $N=5$ case clearly does not converge to the steady-state value $y = 5$!  In other words, it *diverges*.  Because the forward-Euler approximation converges only for certain values of $\\Delta$ and $p$, it is called a *conditionally stable* method.  \n",
    "\n",
    "Conditional stability requires very small $\\Delta$.  For problems whose solutions blow up (i.e., $p < 0$), all bets are off and an *unconditionally stable* method is the better choice. For example, the backward-Euler approximation is unconditionally stable, demonstration of which is an exercise left to the student.  "
   ]
  },
  {
   "cell_type": "markdown",
   "metadata": {},
   "source": [
    "***\n",
    "\n",
    "**Exercise**:  Repeat the example above (i.e., $p=2$, $q=10$, $y(0) = 0$, and $N = 5, 10, 20$) to show that backward Euler has no stability issues.\n",
    "\n",
    "***\n",
    "\n",
    "**Exercise**:  Use *backward Euler* to solve $y' = 2t - 3y + 1$ given $y(1) = 5$ and estimate $y(1.2)$.  Compare the error in this estimate for $\\Delta = 0.1, 0.01, 0.001, 0.0001$.  How does this error depend on $\\Delta$? \n",
    "\n",
    "***\n",
    "\n",
    "**Exercise**:  Repeat the previous exercise using Heun's method (see previous exercise).\n",
    "\n",
    "***"
   ]
  },
  {
   "cell_type": "markdown",
   "metadata": {},
   "source": [
    "## IVP's with SciPy\n",
    "\n",
    "SciPy includes a number of schemes for integration (e.g., the `scipy.integrate.quad` function we have previously used).  The `scipy.integrate` module also has routines for integrating IVP's.  To \"integrate\" a differential equation is to solve for the unknown function.\n",
    "\n",
    "Specifically, the `scipy.integrate.odeint` function is used to solve individual, first-order IVP's or systems of such equations. We'll focus only on the former, leaving systems for next time.\n",
    "Behind the scenes, either an [Adams](https://en.wikipedia.org/wiki/Linear_multistep_method#Adams.E2.80.93Moulton_methods) or [BDF](https://en.wikipedia.org/wiki/Backward_differentiation_formula) method is used depending on the behavior of the solution.  All of this is automatic, and more details can be found [in the documentation](http://docs.scipy.org/doc/scipy-0.17.0/reference/generated/scipy.integrate.odeint.html#scipy.integrate.odeint). \n",
    "\n",
    "Let's revisit our example, namely $y' + y(t) = 10$ with $y(0)=0$ for $t\\in [0, 10]$.  The `odeint` function requires, at a minimum, three inputs: (1) a function that evaluates the derivative $y'(t)$ given the time $t$ and the value of the function $f(t)$,  (2) the initial condition $y(0)=y_0$, and (3) the times at which $y(t)$ is to be evaluated.  These times are independent of the times and corresponding $\\Delta$'s used internally; they only are used for the output.\n",
    "\n",
    "The derivative function has two arguments: the time $t$ at which $y'$ is to be evaluated, and the value of $y$ at that same time.  That sounds like you need to know $y(t)$ beforehand---but you don't!  This derivative function is only called behind the scenes by `odeint` itself.  Hence, `odeint` knows (or has an approximation to) $y$ at the time $t$, and your job is to use the two to define $y'$.  For our example, that means we need a function that evaluates and returns\n",
    "\\begin{equation}\n",
    "    \\frac{dy}{dt} = 10 - y(t) \\, .\n",
    "\\end{equation}\n",
    "\n",
    "With that, we can implement a complete `odeint` solution to our example:"
   ]
  },
  {
   "cell_type": "code",
   "execution_count": null,
   "metadata": {},
   "outputs": [],
   "source": [
    "from scipy.integrate import odeint\n",
    "\n",
    "# derivative function\n",
    "def y_prime(y, t) :\n",
    "    return 10.0 - y\n",
    "\n",
    "# times at which y(t) is to be evaluated\n",
    "t_odeint = np.linspace(0, 10)\n",
    "\n",
    "# solve with odeint\n",
    "y_odeint = odeint(y_prime, y0=0.0, t=t_odeint)\n",
    "\n",
    "plt.plot(t_odeint, y_odeint, 'k', t_odeint, y_exact(t_odeint), 'ro')\n",
    "plt.legend(['$y_{\\\\mathrm{odeint}}$', '$y_{\\\\mathrm{exact}}$'], loc=0, numpoints = 1)\n",
    "plt.show()"
   ]
  },
  {
   "cell_type": "markdown",
   "metadata": {},
   "source": [
    "The `odeint` result is very good, with no discernible error (to my eyes, anyway).  We can plot the errors, but first we need to reshape the output from `odeint`.  Notice that it has an explicit, 2-D shape, whereas `y_exact` yields a 1-D array (from the 1-D `t_odeint`):"
   ]
  },
  {
   "cell_type": "code",
   "execution_count": null,
   "metadata": {},
   "outputs": [],
   "source": [
    "print(y_odeint.shape)\n",
    "print(y_exact(t_odeint).shape)\n",
    "print(t_odeint.shape)"
   ]
  },
  {
   "cell_type": "markdown",
   "metadata": {},
   "source": [
    "Normally, this apparent mismatch is no big deal---we plotted both against the same `t_odeint` array.  However, the mismatch does lead to strange results when we try to compute the error:"
   ]
  },
  {
   "cell_type": "code",
   "execution_count": null,
   "metadata": {},
   "outputs": [],
   "source": [
    "error = y_odeint-y_exact(t_odeint)\n",
    "print(error.shape)"
   ]
  },
  {
   "cell_type": "markdown",
   "metadata": {},
   "source": [
    "That's not right---can you figure out why that is happening?  The solution, however, is to make them the same size, and we can do that, e.g., with an explicit reshaping:"
   ]
  },
  {
   "cell_type": "code",
   "execution_count": null,
   "metadata": {},
   "outputs": [],
   "source": [
    "y_odeint_reshaped = y_odeint.reshape((len(t_odeint),))\n",
    "error = y_odeint_reshaped - y_exact(t_odeint)\n",
    "print(error.shape)"
   ]
  },
  {
   "cell_type": "code",
   "execution_count": null,
   "metadata": {},
   "outputs": [],
   "source": [
    "plt.plot(t_odeint, error, 'r-o')\n",
    "plt.xlabel('t')\n",
    "plt.ylabel('$y_{\\\\mathrm{odeint}}-y_{\\\\mathrm{exact}}$')\n",
    "plt.show()"
   ]
  },
  {
   "cell_type": "markdown",
   "metadata": {},
   "source": [
    "Two features of this error warrant discussion.  First, the overall magnitude is small than the errors we found using $N=100$ above with forward Euler.  Second, the error fluctuates more than we found for forward Euler and is more uniform in magnitude.  The overall magnitude of the error is determined by the desired numerical accuracy (defined by the optional arguments `rtol` and `atol`).  The time-dependent fluctuations are due to use of nonuniform time steps.  The details are well beyond our scope, but you'll recall from the Taylor expansion of $y'$ that the errors are related to $y''$.  If some estimate can be made of $y''$ during the time-stepping procedure, then the error can also be estimated. Proper selection of $\\Delta$ (either larger or smaller) can yield errors just within the desired tolerance, ensuring proper accuracy and avoiding use of too many small steps in regions where they are not needed."
   ]
  },
  {
   "cell_type": "markdown",
   "metadata": {},
   "source": [
    "***\n",
    "\n",
    "**Exercise**: Solve the following IVPs using `odeint` and plot the result for $t \\in [0, 5]$:\n",
    "\n",
    "  1. $\\frac{dy}{dt} = e^{-y}$ for $y(0) = 0$. \n",
    "  2. $\\frac{dy}{dt} = x^2 + y^2$ for $y(0) = 1$. \n",
    "  3. $\\frac{dy}{dt} = y - y^2$ for $y(0) = 0.5$.\n",
    "\n",
    "***"
   ]
  },
  {
   "cell_type": "markdown",
   "metadata": {},
   "source": [
    "## Further Reading\n",
    "\n",
    "See the SciPy documentation on [odeint](http://docs.scipy.org/doc/scipy/reference/tutorial/integrate.html#ordinary-differential-equations-odeint).  This will also be useful for the next lesson in which systems of IVP's (and higher-order IVP's) are solved.  Bennett's chapter on [population growth](https://www.math.ksu.edu/math240/book/chap1/pop.php) provides a bit more on first-order systems and their use in modeling populations."
   ]
  }
 ],
 "metadata": {
  "kernelspec": {
   "display_name": "Python 3",
   "language": "python",
   "name": "python3"
  },
  "language_info": {
   "codemirror_mode": {
    "name": "ipython",
    "version": 3
   },
   "file_extension": ".py",
   "mimetype": "text/x-python",
   "name": "python",
   "nbconvert_exporter": "python",
   "pygments_lexer": "ipython3",
   "version": "3.6.2"
  }
 },
 "nbformat": 4,
 "nbformat_minor": 2
}
