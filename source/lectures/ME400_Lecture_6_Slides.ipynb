{
 "cells": [
  {
   "cell_type": "markdown",
   "metadata": {
    "slideshow": {
     "slide_type": "slide"
    }
   },
   "source": [
    "# Lecture 6 - Conditional Statements and the Structure of Python Code\n",
    "\n",
    "## Overview, Objectives, and Key Terms\n",
    " \n",
    "In this lesson, we turn back to Python and begin the development of more complicated programs.  The emphasis here and in [Lecture 7](ME400_Lecture_7.ipynb) is on the logic of *selection* and its implementation via conditional statements in Python.  Effective use of conditional statements requires a thorough understanding of the relational and logical operators defined in [Lesson 2](ME400_Lecture_2.ipynb).  Of course, one must also first be comfortable with the theoretical coverage of selection presented in [Lecture 5](ME400_Lecture_5.ipynb)."
   ]
  },
  {
   "cell_type": "markdown",
   "metadata": {
    "slideshow": {
     "slide_type": "subslide"
    }
   },
   "source": [
    "### Objectives\n",
    "\n",
    "By the end of this lesson, you should be able to\n",
    "\n",
    "- explain the importance of indentation in Python programs\n",
    "- write a program with conditional statements containing `if`, `else`, and `elif`\n",
    "- predict the outcome of a Python program with `if`, `else`, and `elif` statements\n"
   ]
  },
  {
   "cell_type": "markdown",
   "metadata": {
    "slideshow": {
     "slide_type": "subslide"
    }
   },
   "source": [
    "### Key Terms\n",
    "\n",
    "- `if`\n",
    "- `else`\n",
    "- `elif` \n",
    "- suite\n",
    "- `NameError`\n",
    "- ternary operation\n",
    "- `SyntaxError`\n",
    "- `pass`"
   ]
  },
  {
   "cell_type": "markdown",
   "metadata": {
    "slideshow": {
     "slide_type": "slide"
    }
   },
   "source": [
    "## The Simplest `if`\n",
    "\n",
    "Recall the basic conditional statement from [Lecture 5](ME400_Lecture_5.ipynb), repeated graphically here:\n",
    "\n",
    "![Flowchart fragment for a simple conditional statement](img/simple_if.png)"
   ]
  },
  {
   "cell_type": "markdown",
   "metadata": {
    "slideshow": {
     "slide_type": "fragment"
    }
   },
   "source": [
    "In pseudocode, that same statement could be written as\n",
    "```octave\n",
    "If the condition is satisfied then\n",
    "    Do something\n",
    "```"
   ]
  },
  {
   "cell_type": "markdown",
   "metadata": {
    "slideshow": {
     "slide_type": "subslide"
    }
   },
   "source": [
    "**Example**: Write a program that gets an integer from the user and states if the number is positive."
   ]
  },
  {
   "cell_type": "markdown",
   "metadata": {
    "slideshow": {
     "slide_type": "fragment"
    }
   },
   "source": [
    "The pseudocode is straightforward:\n",
    "```\n",
    "Input: n\n",
    "If n > 0 then\n",
    "    Output \"the number is positive\"\n",
    "```"
   ]
  },
  {
   "cell_type": "markdown",
   "metadata": {
    "slideshow": {
     "slide_type": "fragment"
    }
   },
   "source": [
    "The Python code for the same problem is *very similar*:\n",
    "```python\n",
    "number = int(input('enter your number '))\n",
    "if number > 0:\n",
    "    print('the number is positive')\n",
    "```\n",
    "Here, the real difference is in how input and output is implemented."
   ]
  },
  {
   "cell_type": "markdown",
   "metadata": {
    "slideshow": {
     "slide_type": "subslide"
    }
   },
   "source": [
    "### Rules of the `if` statement\n",
    "\n",
    "```python\n",
    "if condition:\n",
    "    a = 1\n",
    "    c = a*2\n",
    "    # and any other things to be done when condition is True\n",
    "```\n",
    "\n",
    "1. The `if` statement begins with the keyword `if`. \n",
    "2. The *condition* is `bool` or can be converted to a `bool`\n",
    "3. The `:` after `condition` is **required**\n",
    "4. The statements to be executed when `condition == True` **must be indented the same amount**"
   ]
  },
  {
   "cell_type": "markdown",
   "metadata": {
    "slideshow": {
     "slide_type": "subslide"
    }
   },
   "source": [
    "**Examples...**"
   ]
  },
  {
   "cell_type": "markdown",
   "metadata": {
    "slideshow": {
     "slide_type": "slide"
    }
   },
   "source": [
    "## The `else` Clause\n",
    "\n",
    "The basic `if` statement lets us selectively execute lines of code given some condition."
   ]
  },
  {
   "cell_type": "markdown",
   "metadata": {
    "slideshow": {
     "slide_type": "fragment"
    }
   },
   "source": [
    "The `else` clause allows us to provide alternate code when the condition is not satisfied."
   ]
  },
  {
   "cell_type": "markdown",
   "metadata": {
    "slideshow": {
     "slide_type": "subslide"
    }
   },
   "source": [
    "**Example**: Modify the program above to state when the number is nonpositive."
   ]
  },
  {
   "cell_type": "markdown",
   "metadata": {
    "slideshow": {
     "slide_type": "subslide"
    }
   },
   "source": [
    "The pseudocode might look like:\n",
    "```\n",
    "Input: n\n",
    "If n > 0 then\n",
    "    Output \"the number is positive\"\n",
    "Otherwise\n",
    "    Output \"the number is nonpositive\"\n",
    "```"
   ]
  },
  {
   "cell_type": "markdown",
   "metadata": {
    "slideshow": {
     "slide_type": "subslide"
    }
   },
   "source": [
    "The flowchart might look like:\n",
    "\n",
    "![Flowchart for positive/nonpositive](img/pos_nonpos.png)"
   ]
  },
  {
   "cell_type": "markdown",
   "metadata": {
    "slideshow": {
     "slide_type": "subslide"
    }
   },
   "source": [
    "The Python solution is \n",
    "```python\n",
    "number = int(input('enter your number '))\n",
    "if number > 0:\n",
    "    print('the number is positive')\n",
    "else:\n",
    "    print('the number is nonpositive')\n",
    "```"
   ]
  },
  {
   "cell_type": "markdown",
   "metadata": {
    "slideshow": {
     "slide_type": "subslide"
    }
   },
   "source": [
    "**Question**:  Can all `if/else` statements be rewritten as basic `if` statements?"
   ]
  },
  {
   "cell_type": "markdown",
   "metadata": {
    "slideshow": {
     "slide_type": "fragment"
    }
   },
   "source": [
    "**Examples**..."
   ]
  },
  {
   "cell_type": "markdown",
   "metadata": {
    "slideshow": {
     "slide_type": "slide"
    }
   },
   "source": [
    "## The `elif` Clause\n",
    "\n",
    "The basic `if` statement lets us selectively execute lines of code given some condition.\n",
    "\n",
    "The `else` clause allows us to provide alternate code when the condition is not satisfied."
   ]
  },
  {
   "cell_type": "markdown",
   "metadata": {
    "slideshow": {
     "slide_type": "fragment"
    }
   },
   "source": [
    "The `elif` clause lets us select from more than just two options."
   ]
  },
  {
   "cell_type": "markdown",
   "metadata": {
    "slideshow": {
     "slide_type": "subslide"
    }
   },
   "source": [
    "```\n",
    "If condition 1 is satisfied then\n",
    "    do something 1\n",
    "Otherwise if condition 2 is satisfied then\n",
    "    do something 2\n",
    "Otherwise\n",
    "    do something else\n",
    "```"
   ]
  },
  {
   "cell_type": "markdown",
   "metadata": {
    "slideshow": {
     "slide_type": "subslide"
    }
   },
   "source": [
    "![Flowchart for if/elif/else](img/if_elif_else.png)"
   ]
  },
  {
   "cell_type": "markdown",
   "metadata": {
    "collapsed": true,
    "slideshow": {
     "slide_type": "subslide"
    }
   },
   "source": [
    "**Example**: Modify the positive/nonpositive program for positive, negative, and zero."
   ]
  },
  {
   "cell_type": "markdown",
   "metadata": {
    "slideshow": {
     "slide_type": "fragment"
    }
   },
   "source": [
    "```python\n",
    "number = int(input('enter your number '))\n",
    "if number > 0:\n",
    "    print(\"the number is positive\")\n",
    "elif number < 0:\n",
    "    print(\"the number is negative\")\n",
    "else:\n",
    "    print(\"the number is zero\")\n",
    "```"
   ]
  },
  {
   "cell_type": "markdown",
   "metadata": {
    "slideshow": {
     "slide_type": "slide"
    }
   },
   "source": [
    "## The `pass` Clause\n",
    "\n",
    "Often, we take a top/down approach when designing programs and are left with partial code like\n",
    "```python\n",
    "if condition:\n",
    "    # I would do something here if I had time but I'm late for class\n",
    "else:\n",
    "    # same here\n",
    "```"
   ]
  },
  {
   "cell_type": "markdown",
   "metadata": {
    "slideshow": {
     "slide_type": "fragment"
    }
   },
   "source": [
    "**This is not valid Python!**  All blocks under the `if`, `elif`, and `else` clauses must have at least one executable line of code."
   ]
  },
  {
   "cell_type": "markdown",
   "metadata": {
    "slideshow": {
     "slide_type": "subslide"
    }
   },
   "source": [
    "Use `pass` as a placeholder:\n",
    "\n",
    "```python\n",
    "if condition:\n",
    "    # I would do something here if I had time but I'm late for class\n",
    "    pass\n",
    "else:\n",
    "    # same here\n",
    "    pass\n",
    "```"
   ]
  },
  {
   "cell_type": "markdown",
   "metadata": {
    "slideshow": {
     "slide_type": "slide"
    }
   },
   "source": [
    "**Examples...**"
   ]
  },
  {
   "cell_type": "markdown",
   "metadata": {
    "slideshow": {
     "slide_type": "slide"
    }
   },
   "source": [
    "## Recap\n",
    "\n",
    "You should now be able to\n",
    "\n",
    "- explain the importance of indentation in Python programs\n",
    "- write a program with conditional statements containing `if`, `else`, and `elif`\n",
    "- predict the outcome of a Python program with `if`, `else`, and `elif` statements\n",
    "\n",
    "Friendly reminders:\n",
    "\n",
    "- Attendance at labs is mandatory (to earn credit)\n",
    "- Homework files **must run** when tested (always reset/restart the console)\n",
    "- There is a discussion board for typos, etc. in the online materials"
   ]
  }
 ],
 "metadata": {
  "celltoolbar": "Slideshow",
  "kernelspec": {
   "display_name": "Python 3",
   "language": "python",
   "name": "python3"
  },
  "language_info": {
   "codemirror_mode": {
    "name": "ipython",
    "version": 3
   },
   "file_extension": ".py",
   "mimetype": "text/x-python",
   "name": "python",
   "nbconvert_exporter": "python",
   "pygments_lexer": "ipython3",
   "version": "3.6.1"
  }
 },
 "nbformat": 4,
 "nbformat_minor": 2
}
