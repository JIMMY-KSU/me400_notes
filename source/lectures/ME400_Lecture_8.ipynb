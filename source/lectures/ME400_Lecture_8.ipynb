{
 "cells": [
  {
   "cell_type": "markdown",
   "metadata": {},
   "source": [
    "# Lecture 8 - Loops in Python\n",
    "\n",
    "## Overview, Objectives, and Key Terms\n",
    " \n",
    "In [Lecture 5](ME400_Lecture_5.ipynb), the basics of programming logic were introduced, including the idea of *iteration*. The emphasis here and in [Lecture 9](ME400_Lecture_9.ipynb) is on the logic of *iteration* and its implementation via `while` and `for` loops in Python.  To proceed, one must be comfortable with the theoretical coverage of iteration presented in [Lecture 5](ME400_Lecture_5.ipynb).\n",
    "\n",
    "### Objectives\n",
    "\n",
    "By the end of this lesson, you should be able to\n",
    "\n",
    "- Use a `while` loop to solve simple problems using iteration\n",
    "- Turn pseudocode and flowcharts into Python code\n",
    "- Use the graphical debugger in Spyder to trace and debug a program with iteration\n",
    "\n",
    "### Key Terms\n",
    "\n",
    "- `while`\n",
    "- `continue`\n",
    "- `break`\n",
    "- termination criterion"
   ]
  },
  {
   "cell_type": "markdown",
   "metadata": {},
   "source": [
    "## A Motivating Problem\n",
    "\n",
    "To jumpstart the lesson, let's first look back to the example from [Lecture 5](ME400_Lecture_5.ipynb) in which the elements of an array `a` are printed.  The algorithm, in pseudocode, for solving that task is repeated here:\n",
    "\n",
    "```\n",
    "'''Algorithm to print out the elements of an array'''\n",
    "Input a and n # where n is the length of array a\n",
    "Set i to 0\n",
    "While i < n\n",
    "    Print a[i]\n",
    "    Set i = i + 1\n",
    "```\n",
    "\n",
    "We can do that in Python using a nearly identical syntax:"
   ]
  },
  {
   "cell_type": "code",
   "execution_count": 1,
   "metadata": {},
   "outputs": [
    {
     "name": "stdout",
     "output_type": "stream",
     "text": [
      "1\n",
      "1\n",
      "2\n",
      "3\n",
      "5\n",
      "8\n",
      "13\n"
     ]
    }
   ],
   "source": [
    "import numpy as np\n",
    "a = np.array([1, 1, 2, 3, 5, 8, 13])\n",
    "n = len(a)\n",
    "i = 0\n",
    "while i < n:    # always remember the :\n",
    "    print(a[i]) # indented 4 spaces\n",
    "    i = i + 1   # also indented 4 spaces"
   ]
  },
  {
   "cell_type": "markdown",
   "metadata": {},
   "source": [
    "Just like the `if` statement, the `while` statement requires the pesky `:` after the condition.  Moreover, all the things to be done at each iteration must be underneath and indented to the right of the `while`.\n",
    "\n",
    "Here's a slightly different problem, and one that serves as a template for many other problems: *add the integers from 1 through n*.  An algorithm for solving the problem is shown below.\n",
    "\n",
    "![Flowchart for adding integers](img/add_integer_range.png)\n"
   ]
  },
  {
   "cell_type": "markdown",
   "metadata": {},
   "source": [
    "This flowchart is very similar to the one we saw earlier for printing the element.  The only real addition is the new variable `s`, short for sum.\n",
    "\n",
    "> **Exercise**: Explain why using `s` is better than using `sum` for representing our integer sum.\n",
    "\n",
    "We can adapt this flowchart directly to Python:"
   ]
  },
  {
   "cell_type": "code",
   "execution_count": 2,
   "metadata": {},
   "outputs": [
    {
     "name": "stdout",
     "output_type": "stream",
     "text": [
      "55\n"
     ]
    }
   ],
   "source": [
    "n = 10 # or we could use input\n",
    "i = 1\n",
    "s = 0\n",
    "while i <= n:\n",
    "    s = s + i\n",
    "    i = i + 1\n",
    "print(s)"
   ]
  },
  {
   "cell_type": "markdown",
   "metadata": {},
   "source": [
    "Is that right?  A useful formula for the same sum is $s = \\frac{(n+1)n}{2}$, and substitution of $n = 10$ does yield $s = 55$."
   ]
  },
  {
   "cell_type": "markdown",
   "metadata": {},
   "source": [
    "Iteration is challenging, for sure.  Here are some simple exercises to tackle based on the example above for which you should be able to compute the expected value readily with pen and paper:\n",
    "\n",
    "> **Exercise**: Write a short program using a `while` loop to compute the sum of the integers from $m$ through $n$.  What is the analytical expression for that sum?\n",
    "\n",
    "> **Exercise**: Write a short program using a `while` loop to compute the product of the integers from 1 through $n$.  (What is that product called?)\n",
    "\n",
    "> **Exercise**: Write a short program using a `while` loop to compute $a^n$ given a number (`int` or `float`) `a` and an integer `n`.\n"
   ]
  },
  {
   "cell_type": "markdown",
   "metadata": {},
   "source": [
    "## The `break` Clause\n",
    "\n",
    "So far, iteration has been limited to cases in which a fixed number of iterations is executed, usually with a condition like `counter < max_counter`.  Sometimes, iteration should cease based on criteria that can be satisfied at any value of `counter` and for reasons unrelated to `counter`.  \n",
    "\n",
    "As a simple example, suppose we modify the integer summation problem and look instead for the largest value of `n` that leads to a sum `s` below some maximumum value `s_max`.  You might be tempted to do the following:"
   ]
  },
  {
   "cell_type": "code",
   "execution_count": 3,
   "metadata": {},
   "outputs": [
    {
     "name": "stdout",
     "output_type": "stream",
     "text": [
      "i =  14\n",
      "s =  105\n"
     ]
    }
   ],
   "source": [
    "s_max = 100\n",
    "s = 0\n",
    "i = 0\n",
    "while s < s_max:\n",
    "    i = i + 1\n",
    "    s = s + i\n",
    "print(\"i = \", i)\n",
    "print(\"s = \", s)"
   ]
  },
  {
   "cell_type": "markdown",
   "metadata": {},
   "source": [
    "That's close, but not quite right: the final value of `s` is *greater* then the maximum value of 100.  The problem here is that the loop has to repeat *until* it has produced an `s` that exceeds the maximum.  Thus, in order to terminate, we must already have a value for `s` greater than we want.  A simple fix is a post correction, e.g.,"
   ]
  },
  {
   "cell_type": "code",
   "execution_count": 4,
   "metadata": {},
   "outputs": [
    {
     "name": "stdout",
     "output_type": "stream",
     "text": [
      "i =  13\n",
      "s =  91\n"
     ]
    }
   ],
   "source": [
    "s_max = 100\n",
    "s = 0\n",
    "i = 0\n",
    "while s < s_max:\n",
    "    i = i + 1\n",
    "    s = s + i\n",
    "s = s - i # subtract off the last amount added\n",
    "i = i - 1 # and adjust i accordingly\n",
    "print(\"i = \", i)\n",
    "print(\"s = \", s)"
   ]
  },
  {
   "cell_type": "markdown",
   "metadata": {},
   "source": [
    "However, such corrections are not always easy to do.  Instead, we can reorganize the `while` so that it terminates from within the loop.  It all starts with the *infinite* loop:\n",
    "\n",
    "```python\n",
    "while True:\n",
    "    print(\"this line will be displayed over and over again!\")\n",
    "```\n",
    "\n",
    "This loop will never end unless you terminate execution from outside the interpreter.  In Spyder, that's done by pressing the little red square to the upper right of the console.  It runs forever because the condition is `while True` and nothing can ever turn `True` into `False`.  What we need is some condition within the loop that leads to termination of the iteration.  Such conditions can be implemented using the `break` clause:\n"
   ]
  },
  {
   "cell_type": "code",
   "execution_count": 5,
   "metadata": {},
   "outputs": [
    {
     "name": "stdout",
     "output_type": "stream",
     "text": [
      "this line will now be displayed just once!\n"
     ]
    }
   ],
   "source": [
    "while True:\n",
    "    print(\"this line will now be displayed just once!\")\n",
    "    break"
   ]
  },
  {
   "cell_type": "markdown",
   "metadata": {},
   "source": [
    "A `break` statement may be used anywhere within a `while` loop.  Here, `break` is executed after just the first iteration.  If, instead, we wanted to print the message twice, we could do"
   ]
  },
  {
   "cell_type": "code",
   "execution_count": 6,
   "metadata": {},
   "outputs": [
    {
     "name": "stdout",
     "output_type": "stream",
     "text": [
      "this line will now be displayed just once!\n",
      "this line will now be displayed just once!\n"
     ]
    }
   ],
   "source": [
    "counter = 0\n",
    "while True:\n",
    "    print(\"this line will now be displayed just once!\")\n",
    "    counter += 1\n",
    "    if counter == 2: \n",
    "        break"
   ]
  },
  {
   "cell_type": "markdown",
   "metadata": {},
   "source": [
    "Note that an `if` statement has been inserted within the `while` statement.  \n",
    "\n",
    "By using the `break` statement, we can reorganize our program for finding the "
   ]
  },
  {
   "cell_type": "code",
   "execution_count": 7,
   "metadata": {},
   "outputs": [
    {
     "name": "stdout",
     "output_type": "stream",
     "text": [
      "i =  13\n",
      "s =  91\n"
     ]
    }
   ],
   "source": [
    "s_max = 100\n",
    "s = 0\n",
    "i = 0\n",
    "while True:\n",
    "    if s + i + 1 > s_max:\n",
    "        break\n",
    "    i = i + 1\n",
    "    s = s + i\n",
    "print(\"i = \", i)\n",
    "print(\"s = \", s)"
   ]
  },
  {
   "cell_type": "markdown",
   "metadata": {},
   "source": []
  }
 ],
 "metadata": {
  "kernelspec": {
   "display_name": "Python 3",
   "language": "python",
   "name": "python3"
  },
  "language_info": {
   "codemirror_mode": {
    "name": "ipython",
    "version": 3
   },
   "file_extension": ".py",
   "mimetype": "text/x-python",
   "name": "python",
   "nbconvert_exporter": "python",
   "pygments_lexer": "ipython3",
   "version": "3.6.1"
  }
 },
 "nbformat": 4,
 "nbformat_minor": 2
}
