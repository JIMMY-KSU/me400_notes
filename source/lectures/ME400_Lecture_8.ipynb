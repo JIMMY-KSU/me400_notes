{
 "cells": [
  {
   "cell_type": "markdown",
   "metadata": {},
   "source": [
    "# Lecture 8 - Loops in Python\n",
    "\n",
    "## Overview, Objectives, and Key Terms\n",
    " \n",
    "In [Lecture 5](ME400_Lecture_5.ipynb), the basics of programming logic were introduced, including the idea of *iteration*. The emphasis here and in [Lecture 9](ME400_Lecture_9.ipynb) is on the logic of *iteration* and its implementation via `while` and `for` loops in Python.  To proceed, one must be comfortable with the theoretical coverage of iteration presented in [Lecture 5](ME400_Lecture_5.ipynb).\n",
    "\n",
    "### Objectives\n",
    "\n",
    "By the end of this lesson, you should be able to\n",
    "\n",
    "- Use a `while` loop to solve simple problems using iteration\n",
    "- Turn pseudocode and flowcharts into Python code\n",
    "- Use the graphical debugger in Spyder to trace and debug a program with iteration\n",
    "\n",
    "### Key Terms\n",
    "\n",
    "- `while`\n",
    "- `break`\n",
    "- summation problem (as a common loop example)\n",
    "- numerical convergence (as another common loop example)\n",
    "- convergence criterion"
   ]
  },
  {
   "cell_type": "markdown",
   "metadata": {},
   "source": [
    "## A Motivating Problem\n",
    "\n",
    "To jumpstart the lesson, let's first look back to the example from [Lecture 5](ME400_Lecture_5.ipynb) in which the elements of an array `a` are printed.  The algorithm, in pseudocode, for solving that task is repeated here:\n",
    "\n",
    "```\n",
    "'''Algorithm to print out the elements of an array'''\n",
    "Input a and n # where n is the length of array a\n",
    "Set i to 0\n",
    "While i < n\n",
    "    Print a[i]\n",
    "    Set i = i + 1\n",
    "```\n",
    "\n",
    "We can do that in Python using a nearly identical syntax:"
   ]
  },
  {
   "cell_type": "code",
   "execution_count": 1,
   "metadata": {},
   "outputs": [
    {
     "name": "stdout",
     "output_type": "stream",
     "text": [
      "1\n",
      "1\n",
      "2\n",
      "3\n",
      "5\n",
      "8\n",
      "13\n"
     ]
    }
   ],
   "source": [
    "import numpy as np\n",
    "a = np.array([1, 1, 2, 3, 5, 8, 13])\n",
    "n = len(a)\n",
    "i = 0\n",
    "while i < n:    # always remember the :\n",
    "    print(a[i]) # indented 4 spaces\n",
    "    i = i + 1   # also indented 4 spaces"
   ]
  },
  {
   "cell_type": "markdown",
   "metadata": {},
   "source": [
    "Just like the `if` statement, the `while` statement requires the pesky `:` after the condition.  Moreover, all the things to be done at each iteration must be underneath and indented to the right of the `while`.\n",
    "\n",
    "Here's a slightly different problem, and one that serves as a template for many other problems: *add the integers from 1 through n*.  An algorithm for solving the problem is shown below.\n",
    "\n",
    "![Flowchart for adding integers](img/add_integer_range.png)\n"
   ]
  },
  {
   "cell_type": "markdown",
   "metadata": {},
   "source": [
    "This flowchart is very similar to the one we saw earlier for printing the element.  The only real addition is the new variable `s`, short for sum.\n",
    "\n",
    "> **Exercise**: Explain why using `s` is better than using `sum` for representing our integer sum.\n",
    "\n",
    "We can adapt this flowchart directly to Python:"
   ]
  },
  {
   "cell_type": "code",
   "execution_count": 2,
   "metadata": {},
   "outputs": [
    {
     "name": "stdout",
     "output_type": "stream",
     "text": [
      "55\n"
     ]
    }
   ],
   "source": [
    "n = 10 # or we could use input\n",
    "i = 1\n",
    "s = 0\n",
    "while i <= n:\n",
    "    s = s + i\n",
    "    i = i + 1\n",
    "print(s)"
   ]
  },
  {
   "cell_type": "markdown",
   "metadata": {},
   "source": [
    "Is that right?  A useful formula for the same sum is $s = \\frac{(n+1)n}{2}$, and substitution of $n = 10$ does yield $s = 55$."
   ]
  },
  {
   "cell_type": "markdown",
   "metadata": {},
   "source": [
    "Iteration is challenging, for sure.  Here are some simple exercises to tackle based on the example above for which you should be able to compute the expected value readily with pen and paper:\n",
    "\n",
    "> **Exercise**: Write a short program using a `while` loop to compute the sum of the integers from $m$ through $n$.  What is the analytical expression for that sum?\n",
    "\n",
    "> **Exercise**: Write a short program using a `while` loop to compute the product of the integers from 1 through $n$.  (What is that product called?)\n",
    "\n",
    "> **Exercise**: Write a short program using a `while` loop to compute $a^n$ given a number (`int` or `float`) `a` and an integer `n`.\n"
   ]
  },
  {
   "cell_type": "markdown",
   "metadata": {},
   "source": [
    "## The `break` Clause\n",
    "\n",
    "So far, iteration has been limited to cases in which a fixed number of iterations is executed, usually with a condition like `counter < max_counter`.  Sometimes, iteration should cease based on criteria that can be satisfied at any value of `counter` and for reasons unrelated to `counter`.  \n",
    "\n",
    "As a simple example, suppose we modify the integer summation problem and look instead for the largest value of `n` that leads to a sum `s` below some maximumum value `s_max`.  You might be tempted to do the following:"
   ]
  },
  {
   "cell_type": "code",
   "execution_count": 3,
   "metadata": {},
   "outputs": [
    {
     "name": "stdout",
     "output_type": "stream",
     "text": [
      "i =  14\n",
      "s =  105\n"
     ]
    }
   ],
   "source": [
    "s_max = 100\n",
    "s = 0\n",
    "i = 0\n",
    "while s < s_max:\n",
    "    i = i + 1\n",
    "    s = s + i\n",
    "print(\"i = \", i)\n",
    "print(\"s = \", s)"
   ]
  },
  {
   "cell_type": "markdown",
   "metadata": {},
   "source": [
    "That's close, but not quite right: the final value of `s` is *greater* then the maximum value of 100.  The problem here is that the loop has to repeat *until* it has produced an `s` that exceeds the maximum.  Thus, in order to terminate, we must already have a value for `s` greater than we want.  A simple fix is a post correction, e.g.,"
   ]
  },
  {
   "cell_type": "code",
   "execution_count": 4,
   "metadata": {},
   "outputs": [
    {
     "name": "stdout",
     "output_type": "stream",
     "text": [
      "i =  13\n",
      "s =  91\n"
     ]
    }
   ],
   "source": [
    "s_max = 100\n",
    "s = 0\n",
    "i = 0\n",
    "while s < s_max:\n",
    "    i = i + 1\n",
    "    s = s + i\n",
    "s = s - i # subtract off the last amount added\n",
    "i = i - 1 # and adjust i accordingly\n",
    "print(\"i = \", i)\n",
    "print(\"s = \", s)"
   ]
  },
  {
   "cell_type": "markdown",
   "metadata": {},
   "source": [
    "However, such corrections are not always easy to do.  Instead, we can reorganize the `while` so that it terminates from within the loop.  It all starts with the *infinite* loop:\n",
    "\n",
    "```python\n",
    "while True:\n",
    "    print(\"this line will be displayed over and over again!\")\n",
    "```\n",
    "\n",
    "This loop will never end unless you terminate execution from outside the interpreter.  In Spyder, that's done by pressing the little red square to the upper right of the console.  It runs forever because the condition is `while True` and nothing can ever turn `True` into `False`.  What we need is some condition within the loop that leads to termination of the iteration.  Such conditions can be implemented using the `break` clause:\n"
   ]
  },
  {
   "cell_type": "code",
   "execution_count": 5,
   "metadata": {},
   "outputs": [
    {
     "name": "stdout",
     "output_type": "stream",
     "text": [
      "this line will now be displayed just once!\n"
     ]
    }
   ],
   "source": [
    "while True:\n",
    "    print(\"this line will now be displayed just once!\")\n",
    "    break"
   ]
  },
  {
   "cell_type": "markdown",
   "metadata": {},
   "source": [
    "A `break` statement may be used anywhere within a `while` loop.  Here, `break` is executed after just the first iteration.  If, instead, we wanted to print the message twice, we could do"
   ]
  },
  {
   "cell_type": "code",
   "execution_count": 6,
   "metadata": {},
   "outputs": [
    {
     "name": "stdout",
     "output_type": "stream",
     "text": [
      "this line will now be displayed just once!\n",
      "this line will now be displayed just once!\n"
     ]
    }
   ],
   "source": [
    "counter = 0\n",
    "while True:\n",
    "    print(\"this line will now be displayed just once!\")\n",
    "    counter += 1\n",
    "    if counter == 2: \n",
    "        break"
   ]
  },
  {
   "cell_type": "markdown",
   "metadata": {},
   "source": [
    "Note that an `if` statement has been inserted within the `while` statement.  Just like `if` statements can be nested in other `if` statements, so to can they be nested inside `while` (and `for`, and other constructs).\n",
    "\n",
    "By using the `break` statement, we can reorganize our program for finding the "
   ]
  },
  {
   "cell_type": "code",
   "execution_count": 7,
   "metadata": {},
   "outputs": [
    {
     "name": "stdout",
     "output_type": "stream",
     "text": [
      "i =  13\n",
      "s =  91\n"
     ]
    }
   ],
   "source": [
    "s_max = 100\n",
    "s = 0\n",
    "i = 0\n",
    "while True:\n",
    "    if s + i + 1 > s_max:\n",
    "        break\n",
    "    i = i + 1\n",
    "    s = s + i\n",
    "print(\"i = \", i)\n",
    "print(\"s = \", s)"
   ]
  },
  {
   "cell_type": "markdown",
   "metadata": {},
   "source": [
    "> **Exercise:** Run this program in Spyder and use the graphical debugger to trace its execution."
   ]
  },
  {
   "cell_type": "markdown",
   "metadata": {},
   "source": [
    "## Numerical Convergence\n",
    "\n",
    "The integer summation problem posed above is one of the canonical examples to use iteration, and it serves as a template for many other tasks.  An equally important example is that of *numerical convergence*.\n",
    "\n",
    "A very common goal in numerical computing is to produce a sequence of numbers that converges (in the limit of many terms) to some value of interest or, more often, as close to that value of interest as is desired.  For example, Taylor series (and similar series) expansions can be used to evaluate the value of mathematical functions near a point of interest.  The Taylor series expansion of $\\frac{1}{1-x}$ about $x=0$ is given by\n",
    "\n",
    "$$\n",
    "  y(x) = \\frac{1}{1-x} = 1 + x + x^2 + \\sum^{\\infty}_{n=3} x^n \\, .\n",
    "$$\n",
    "\n",
    "and for very small $x$ ($|x| \\ll 1$), we'd expect just the first few terms of the series to be suffient for approximating $y(x)$ because $x^i$ is smaller and smaller for increasing $i$.   The questions, though, are (1) *how good is good enough?* and (2) *when do we know to stop?*\n",
    "\n",
    "The answer to the first question depends on the problem and what sort of information is provided.  If the goal is to approximate some quantity, then very rarely is the exact value of that quantity known (otherwise, why would we need the approximation?).  For such cases, we can only *estimate* how good an approximation is. \n",
    "\n",
    "**Exercise**:  Let $y(x) = 1/(1-x)$.  Approximate $y(0.1)$ by using the series above, and terminate the iteration when the magnitude of the next term to be added is less than or equal to $\\tau = 10^{-4}$.  Print out the approximate value for $y$, the true value of $y$, and the number of iterations performed.\n",
    "\n",
    "*Solution*:"
   ]
  },
  {
   "cell_type": "code",
   "execution_count": 8,
   "metadata": {},
   "outputs": [
    {
     "name": "stdout",
     "output_type": "stream",
     "text": [
      "approximate value  0.9091\n",
      "  reference value  0.9090909090909091\n",
      "  # of iterations  5\n"
     ]
    }
   ],
   "source": [
    "x = -0.1 \n",
    "y = 1/(1-x) # reference (exact) y\n",
    "ya = 0 # approximate y\n",
    "i = 0 # iteration counter\n",
    "while abs(x**i) > 1e-4: \n",
    "    ya += x**i\n",
    "    i += 1\n",
    "print('approximate value ', ya)      \n",
    "print('  reference value ', y) \n",
    "print('  # of iterations ', i)"
   ]
  },
  {
   "cell_type": "markdown",
   "metadata": {},
   "source": [
    "The trick here is to iterate only as long as the next term to be added $x^i$ is greater then the tolerance $\\tau$.  Here, that threshold is $10^{-4}$.  Although the sum of all the terms we're neglecting could be larger than the tolerance, often the series converges rapidly enough for such a criterion to work well in practice.  \n",
    "\n",
    "> **Note**: A common termination criterion is $|y_a - y^{old}_a| < \\tau$, where $y_a$ is the current approximation to $y$, $y_a^{old}$ is the previous value of $y_a$, and $\\tau$ is the tolerance.  \n",
    "\n",
    "Sometimes, it's not easy to pick a suitable tolerance.  For some values of $x$, the program above requires 1000's of iterations, way more than the 5 observed for $x=-0.1$.  An useful alternative (or additional) termination criterion is to set a maximum number of iterations.  By using both, one can provide a program that will produce a solution that meets the tolerance for any case not exceeding the maximum number of iterations allowed.\n",
    "\n",
    "> **Note**:  It is good practice to include a limit on the number of iterations in addition to a tolerance on the approximation.\n",
    "\n",
    "Based on this discussion, try tackling the following:\n",
    "\n",
    "> **Exercise**: Explain why we would not want to use `while x**i > 1e-4`.\n",
    "\n",
    "\n",
    "> **Exercise**: Modify this program to compute no more than 20 terms of the series.  For `x = 0.99`, which condition causes the loop to terminate?  What is the final value of `ya`?\n",
    "\n",
    "> **Exercise**: Modify this program to use the absolute error `abs(y-ya)`.  Do the results differ?  By how much?"
   ]
  },
  {
   "cell_type": "markdown",
   "metadata": {},
   "source": [
    "This program for approximating $1/(1+x)$ is a great one for understanding how iteration can be used to solve numerical problems.  The same pattern (i.e., keep iterating until the approximation looks good enough) shows up all over the place in the solution of both linear systems (i.e., $\\mathbf{Ax}=\\mathbf{b}$) and nonlinear systems (e.g., finding the roots of $f(x)$).  "
   ]
  },
  {
   "cell_type": "markdown",
   "metadata": {},
   "source": [
    "## Further Reading\n",
    "\n",
    "None at this time."
   ]
  }
 ],
 "metadata": {
  "kernelspec": {
   "display_name": "Python 3",
   "language": "python",
   "name": "python3"
  },
  "language_info": {
   "codemirror_mode": {
    "name": "ipython",
    "version": 3
   },
   "file_extension": ".py",
   "mimetype": "text/x-python",
   "name": "python",
   "nbconvert_exporter": "python",
   "pygments_lexer": "ipython3",
   "version": "3.6.1"
  }
 },
 "nbformat": 4,
 "nbformat_minor": 2
}
