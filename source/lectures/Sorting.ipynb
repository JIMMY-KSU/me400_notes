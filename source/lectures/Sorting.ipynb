{
 "cells": [
  {
   "cell_type": "markdown",
   "metadata": {},
   "source": [
    "# Lecture 15 - Sorting\n",
    "\n",
    "## Overview, Objectives, and Key Terms\n",
    " \n",
    "In this lecture and [Lecture 14](Searching.ipynb), we tackle two of the most important practical problems in computing: *searching* and *sorting*.  In this lecture, we turn to *sorting*, the more challenging problem and one that was a focus of much research in the early years of computing for making searching easier.  We'll flex our knowledge of functions to help write clean and clear sorting programs.\n",
    "\n",
    "### Objectives\n",
    "\n",
    "By the end of this lesson, you should be able to\n",
    "\n",
    "- Sort an array of numbers using brute-force, $\\mathcal{O}(n^2)$ schemes like *selection sort*.\n",
    "- Sort an array of numbers using divide-and-conquer, $\\mathcal{O}(n\\log n)$ schemes like *merge sort*.\n",
    "- Apply built-in Python functions to sort sequences.\n",
    "\n",
    "### Key Terms\n",
    "\n",
    "- selection sort\n",
    "- stable sorting algorithm (*hint*: see the exercises)\n",
    "- merge sort\n",
    "- merge \n",
    "- divide and conquer"
   ]
  },
  {
   "cell_type": "markdown",
   "metadata": {},
   "source": [
    "## Sorting is Hard Work\n",
    "\n",
    "Sorting a sequence of randomly arranged items is no easy task, often resulting in a lot of repetive motions and paper cuts (if the items are, e.g., student exams).  However, computers are great for such repetition, and they don't seem to suffer those paper cuts.  The question is: *how to sort*?  Sorting, it turns out, presents a rich opportunity for integrating much of the material covered so far.\n",
    "\n",
    "The simplest sorting algorithm is based on brute force and leverages the solution to a problem encountered as early as [Lecture 5](Algorithms_Flowcharts_and_Pseudocode.ipynb): finding the minimum value of a sequence of numbers.  The basic idea is simple.  Given a sequence of $n$ numbers to sort in increasing order, we \n",
    "\n",
    "1. Find the smallest value (just as we have previously done).\n",
    "2. Swap it with the first element in the sequence.\n",
    "3. Repeat steps (1) and (2) for the last $n-1$ items in the sequence.\n",
    "\n",
    "This algorithm is known as [selection sort](https://en.wikipedia.org/wiki/Selection_sort).  In more detailed pseudocode, **selection sort** can be written as"
   ]
  },
  {
   "cell_type": "markdown",
   "metadata": {},
   "source": [
    "```\n",
    "'''The selection sort algorithm to sort an array'''\n",
    "Input: a, n # sequence of numbers and its length\n",
    "# Loop through each element a[i] \n",
    "Set i = 0\n",
    "While i < n do\n",
    "   # Find the location k of the smallest element after a[i]\n",
    "   Set j = i + 1\n",
    "   Set k = i\n",
    "   While j < n do\n",
    "       If a[j] < a[k] then\n",
    "           Set k = j\n",
    "       Set j = j + 1\n",
    "   # Switch the values of a[i] and a[k], putting them in order\n",
    "   Swap a[i] and a[k]\n",
    "   i = i + 1\n",
    "```"
   ]
  },
  {
   "cell_type": "markdown",
   "metadata": {},
   "source": [
    "Take some time and digest this algorithm.  Then try the following exercises:\n",
    "\n",
    "***\n",
    "\n",
    "**Exercise**: Apply this algorithm to the sequence [5, 3, 7].  For each value of `i` and `j`, write out, using pen and paper, the values of `i`, `j`, `k`, `a[i]`, `a[j]`, `a[k]`, `a[j] < a[k]`, and `a` *before* the conditional statement.\n",
    "\n",
    "*Solution*:  \n",
    "\n",
    "```\n",
    "i    j    k    a[i]    a[j]    a[k]   a[j] < a[k]    a\n",
    "-------------------------------------------------------------\n",
    "0    1    0     5       3       5        True       [5, 3, 7]\n",
    "0    2    1     5       7       3        False      [5, 3, 7] \n",
    "1    2    1     5       7       5        False      [3, 5, 7]\n",
    "2    3    2     7      N/A      7        N/A        [3, 5, 7] \n",
    "```\n",
    "\n",
    "***\n",
    "\n",
    "**Exercise**: Repeat the above exercise for the sequence [4, 1, 8, 2, 3].\n",
    "\n",
    "***\n",
    "\n",
    "**Exercise**: What happens to `a[i]` if `a[j]` is never less than `a[k]`?  \n",
    "\n",
    "***\n",
    "\n",
    "**Exercise**: Produce a flowchart for this algorithm.\n",
    "\n",
    "***\n",
    "\n",
    "**Exercise**: Apply this algorithm to the sequence [3, $1_0$, 4, $1_1$, 2].  Here, the subscript is used to count the number of times a 1 appears in the sequence.  Does the algorithm produce [$1_0$, $1_1$, 2, 3, 4] or [$1_1$, $1_0$, 2, 3, 4]?  A sorting algorithm is **stable** if it preserves the original order of equal values (i.e., $1_0$ and then $1_1$).\n",
    "\n",
    "***"
   ]
  },
  {
   "cell_type": "markdown",
   "metadata": {},
   "source": [
    "Let's put selection sort into practice using Python.  Because sorting is something to be done for any array, it makes sense to implement the algorithm as a function:"
   ]
  },
  {
   "cell_type": "code",
   "execution_count": 1,
   "metadata": {},
   "outputs": [],
   "source": [
    "def selection_sort(a):\n",
    "    \"\"\"Applies the selection sort algorithm to sort the sequence a.\"\"\"\n",
    "    i = 0\n",
    "    while i < len(a):\n",
    "        j = i + 1\n",
    "        k = i\n",
    "        while j < len(a):\n",
    "            if a[j] < a[k]:\n",
    "                k = j\n",
    "            j += 1\n",
    "        a[i], a[k] = a[k], a[i]\n",
    "        i += 1\n",
    "    return a"
   ]
  },
  {
   "cell_type": "code",
   "execution_count": 2,
   "metadata": {},
   "outputs": [
    {
     "data": {
      "text/plain": [
       "[3, 5, 7]"
      ]
     },
     "execution_count": 2,
     "metadata": {},
     "output_type": "execute_result"
    }
   ],
   "source": [
    "selection_sort([5, 3, 7])"
   ]
  },
  {
   "cell_type": "code",
   "execution_count": 3,
   "metadata": {},
   "outputs": [
    {
     "data": {
      "text/plain": [
       "[1, 2, 3, 4, 5]"
      ]
     },
     "execution_count": 3,
     "metadata": {},
     "output_type": "execute_result"
    }
   ],
   "source": [
    "selection_sort([5, 4, 3, 2, 1])"
   ]
  },
  {
   "cell_type": "markdown",
   "metadata": {},
   "source": [
    "Download this notebook or copy the function above into your own Python file.  Then tackle the exercises that follow.\n",
    "\n",
    "***\n",
    "\n",
    "**Exercise**:  Define `x = [5, 3, 7]` and execute `y = selection_sort(x)`.  Print both `x` and `y`.  Why are they the same?  In other words, why is `x` also sorted?\n",
    "\n",
    "*Solution*: Remember, `y = x` does not produce a copy of `x`.  Rather, `x` and `y` are now just two names for the same data.  Similarly, when `x` is passed to `selection_sort`, it is given the new name `a` within the function, and any changes to `a` lead to changes in `x`.  Because `a` is returned and assigned to `y`, `y` and `x` are two names for the same (now sorted) `list`.\n",
    "\n",
    "***\n",
    "\n",
    "**Exercise**:  Define `x = (5, 3, 7)` and execute `y = selection_sort(x)`.  Why does it fail?\n",
    "\n",
    "***\n",
    "\n",
    "**Exercise**:  Modify `selection_sort` so that it sorts and returns a *copy* of `a`, making it suitable for sorting `tuple` variables.\n",
    "\n",
    "***\n",
    "\n",
    "**Exercise**:  Modify `selection_sort` so that it optionally sorts a sequence in decreasing order.  The function `def` statement should look like `def selection_sort(a, increasing=True):`.\n",
    "\n",
    "*Solution*: A one-line change is to switch `a[j] < a[k]` with `a[j] < a[k] if increasing else a[k] < a[j]`.  Otherwise, an `if/elif` structure would work just as well.  Revisit [Lecture 6](Conditional_Statements_and_the_Structure_of_Python_Code) for more tertiary `if` statements of the form `a if b else c`.  Verify this works!\n",
    "\n",
    "***\n",
    "\n",
    "**Exercise**: Modify `selection_sort` so that it uses `for` loops instead of `while` loops.  Check your result against the version provided above.\n",
    "\n",
    "***\n",
    "\n",
    "**Exercise**:  Could `while i < len(a)` be changed to `while i < len(a) - 1`?  Why or why not?\n",
    "\n",
    "*Solution*.  Yes!  Doing so would skip the loop when `a` has a single element, for which sorting is not required anyway.\n",
    "\n",
    "***"
   ]
  },
  {
   "cell_type": "markdown",
   "metadata": {},
   "source": [
    "## Quantifying that Hard Work\n",
    "\n",
    "So what's the *order*  of this algorithm?  In other words, given a sequence of $n$ elements, how many comparisons must be made?  \n",
    "\n",
    "Let's break it down a bit.  The algorithm is comprised of two loops.  The first one must go through all the elements of `a`.  For each value of `i`, the second loop makes `n - i` comparisons.  In other words, we have something like \n",
    "```\n",
    "i     # comparisons\n",
    "-------------------\n",
    "0       n\n",
    "1       n - 1\n",
    "2       n - 2\n",
    "...     ...\n",
    "n - 3   3\n",
    "n - 2   2\n",
    "n - 1   1\n",
    "```\n",
    "\n",
    "That total looks an awful lot like $1 + 2 + \\ldots + (n - 1) + n$, and that sum is $n(n+1)/2 = n^2/2 + n/2$.  Because $n \\ll n^2$ for large $n$, the algorithm is $\\mathcal{O}(n^2)$.  That's expensive, and for large sequences, we could wait a long, long time for the sort to finish. "
   ]
  },
  {
   "cell_type": "markdown",
   "metadata": {},
   "source": [
    "Let's verify that selection sort is $\\mathcal{O}(n^2)$ by performing a little experiment.  As done in [Lecture 14](Searching.ipynb) to assess the linear search, we can generate random sequences of different sizes using NumPy.  Then, we can sort them with selection sort and time how long it takes to do so for each size."
   ]
  },
  {
   "cell_type": "code",
   "execution_count": 4,
   "metadata": {},
   "outputs": [
    {
     "data": {
      "text/plain": [
       "<matplotlib.legend.Legend at 0x7f3e72381240>"
      ]
     },
     "execution_count": 4,
     "metadata": {},
     "output_type": "execute_result"
    },
    {
     "data": {
      "image/png": "[encoded data removed]",
      "text/plain": [
       "<Figure size 432x288 with 1 Axes>"
      ]
     },
     "metadata": {
      "needs_background": "light"
     },
     "output_type": "display_data"
    }
   ],
   "source": [
    "\"\"\"Program to show time as a function of size for selection sort.\"\"\"\n",
    "from time import time\n",
    "import numpy as np\n",
    "import matplotlib.pyplot as plt\n",
    "%matplotlib inline  \n",
    "\n",
    "# Set the seed to keep the output fixed\n",
    "np.random.seed(1234)\n",
    "\n",
    "# Set the n values and initialize a list for times\n",
    "n_values = np.arange(50, 1000, 50)\n",
    "t_values = []\n",
    "\n",
    "for n in n_values:\n",
    "    # Generate an array of random numbers\n",
    "    a = np.random.rand(n)\n",
    "    # Start the timer\n",
    "    t_start = time()\n",
    "    # Do the search\n",
    "    selection_sort(a)\n",
    "    # Determine the elapsed time (in seconds) and save it\n",
    "    t_elapsed = time() - t_start\n",
    "    t_values.append(t_elapsed)\n",
    "    \n",
    "# Plot the times vs values on a log log plot.\n",
    "# Also, an expected \"trend\" line is included.\n",
    "plt.figure(1)\n",
    "plt.loglog(n_values, t_values, 'k-o', label='times') \n",
    "plt.loglog(n_values, 1e-7*n_values**2, 'r--', label='$\\mathcal{O}(n^2)$')\n",
    "plt.grid(True)\n",
    "plt.xlabel('n')\n",
    "plt.ylabel('time (s)')\n",
    "plt.legend()"
   ]
  },
  {
   "cell_type": "markdown",
   "metadata": {},
   "source": [
    "It appears that the order is confirmed because the two lines are approximately parallel (for large enough $n$), and that the impact on time is as expected.  Basically, each comparison (which requires accessing two elements of `a`) requires a certain amount of time.  If the number of comparisons is goes as $n^2$, and the time goes with the number of comparisons, then selection sort is **100 times more expensive** for an array of size $10n$ than for an array of size $n$.  That's huge, and better methods are surely needed for the massive data sets out in the real world that must be sorted (think Google searches and other everyday lists with thousands of entries)."
   ]
  },
  {
   "cell_type": "markdown",
   "metadata": {},
   "source": [
    "***\n",
    "\n",
    "**Exercise**: The results from the numerical experiment suggest that an array of 100 elements takes about 0.001 s to sort using the selection sort algorithm.  About how many seconds would you expect the same algorithm to take for 1 million elements?\n",
    "\n",
    "***"
   ]
  },
  {
   "cell_type": "markdown",
   "metadata": {},
   "source": [
    "## Better Sorting for Bigger Data\n",
    "\n",
    "We saw in [Lecture 14](ME400_Lecture_14.ipynb) that the task of searching a pre-sorted array could be done in as few as $\\mathcal{O}(n \\log n)$ operations.  The trick was to split identify which half of a sequence contained the element, and to keep splitting the domain in half at every iteration until the element in question was found.  It was even suggested that such a **binary search** is a form of divide and conquer: split the work into ever smaller chunks and solve the smaller problems more quickly.  \n",
    "\n",
    "The same principle is the foundation of many of the most successive algorithms ever, including [quicksort](https://en.wikipedia.org/wiki/Quicksort), probably the most widely search algorithms, and the [fast Fourier transform](https://en.wikipedia.org/wiki/Fast_Fourier_transform), which drives much of signal processing across multiple domains.  Often, and as true for these algorithms, divide and conquer takes one from $\\mathcal{O}(n^2)$ to $\\mathcal{O}(n \\log n)$, a huge savings.\n",
    "\n",
    "For our purposes, it is sufficient to consider the simplest of the divide and conquer approaches to sorting: [merge sort](https://en.wikipedia.org/wiki/Merge_sort).  The algorithm combines two very simple ideas: (1) divide a sequence into smaller chunks that can be sorted directly and (2) merge two sorted (sub)sequences. \n",
    "\n",
    "### Merging Sorted Sequences\n",
    "\n",
    "The fundamental work done by mergesort is to merge two smaller, *sorted* sequences into one larger, *sorted* sequence.  For example, if one starts with `a = [1, 8]` and `b = [5, 7]`, the result of *merging* `a` and `b` should be `c = [1, 5, 7, 8]`.  \n",
    "\n",
    "How is this accomplished?  We know the total number of elements to be merged (here, that's 4).  Each element of the new, sorted sequence `c` can be defined by choosing the lowest of the remaining elements in `a` and `b`.  Because `a` and `b` are sorted, we can keep track of which elements have already been selected with two counters (one for `a` and one for `b`).  If the counter for `a` is equal to the length of `a` (i.e., all elements of `a` have been merged), then all of the remaining elements of `c` must come from `b`.  The same goes if the `b` counter equals the length of `b`.\n",
    "\n",
    "That's all a mouthful, for sure.  The idea can be shown more succinctly in pseudocode:"
   ]
  },
  {
   "cell_type": "markdown",
   "metadata": {},
   "source": [
    "```\n",
    "'''Merge: an algorithm to merge two sorted sequences'''\n",
    "Input: a, b \n",
    "Set m to the length of a\n",
    "Set n to the length of b\n",
    "# Initialize the sorted sequence\n",
    "Set c to be a sequence of length (m+n) \n",
    "# Initialize the counter for a, b, and c\n",
    "Set i = 0\n",
    "Set j = 0\n",
    "Set k = 0\n",
    "While k < m + n do\n",
    "    If i < m and j < n then\n",
    "        # Both a and b still have elements to merge\n",
    "        If a[i] <= b[j] then\n",
    "            Set c[k] = a[i] \n",
    "            Set i = i + 1\n",
    "        Otherwise\n",
    "            Set c[k] = b[j]\n",
    "            Set j = j + 1\n",
    "    Otherwise, if i == m then\n",
    "        # Only b has elements left to merge\n",
    "        Set c[k] = b[j]\n",
    "        Set j = j + 1\n",
    "    Otherwise,\n",
    "        # Only a has elements left to merge\n",
    "        Set c[k] = a[i]\n",
    "        Set i = i + 1\n",
    "    Set k = k + 1\n",
    "Output: c\n",
    "```"
   ]
  },
  {
   "cell_type": "markdown",
   "metadata": {},
   "source": [
    "Take some time and digest this algorithm.  Then try the following exercises:\n",
    "\n",
    "***\n",
    "\n",
    "**Exercise**: Apply this algorithm to  `a = [1, 3, 8]` and `b = [2, 5, 7]`.  Trace it by hand using the tecniques employed earlier in the course.\n",
    "\n",
    "***\n",
    "\n",
    "**Exercise**: Implement this algorithm as the Python function `merge(a, b)`.\n",
    "\n",
    "***\n",
    "\n",
    "**Exercise**: Is merge sort stable?  Try it on [3, 1$_0$, 4, 1$_1$, 2].\n",
    "\n",
    "***"
   ]
  },
  {
   "cell_type": "markdown",
   "metadata": {},
   "source": [
    "### Divide and Conquer\n",
    "\n",
    "Merging is half thee battle: we need to dive down and get the smaller arrays to sort.  A natural approach is to use recursion.  Here is a function that will divide a sequence and print out subsequences.  "
   ]
  },
  {
   "cell_type": "code",
   "execution_count": 5,
   "metadata": {},
   "outputs": [
    {
     "name": "stdout",
     "output_type": "stream",
     "text": [
      "--------> [8, 7, 6, 5, 4, 3, 2, 1]\n",
      "----> [8, 7, 6, 5]\n",
      "--> [8, 7]\n",
      "--> [6, 5]\n",
      "----> [4, 3, 2, 1]\n",
      "--> [4, 3]\n",
      "--> [2, 1]\n"
     ]
    }
   ],
   "source": [
    "def divide_and_print(a):\n",
    "    print('-'*len(a)+'>', a)\n",
    "    if len(a) <= 2:\n",
    "        return\n",
    "    else:\n",
    "        divide_and_print(a[:len(a)//2])\n",
    "        divide_and_print(a[len(a)//2:])\n",
    "    return\n",
    "divide_and_print([8,7,6,5,4,3,2,1])"
   ]
  },
  {
   "cell_type": "markdown",
   "metadata": {},
   "source": [
    "The output of this function clearly shows how the original sequence is divided at each level of recursion.  Like all recursive functions, there needs to be a termination criterion (or guard).  Here, if the sequence has two or fewer elements, the function returns without further dividing `a`."
   ]
  },
  {
   "cell_type": "markdown",
   "metadata": {},
   "source": [
    "To apply the basic idea of `divide_and_print` to sorting, the sequence must be sorted at the bottom level (i.e., when `len(a) <= 2`) and merged at successive levels.  For example, the very first chunk of `a` is the subsequence `[8, 7]`.  That is easily sorted by simple comparison: since `8 > 7`, swap the elements to yield (and return) `[7, 8]`.  The next chunk is `[6, 5]`, which is also reversed to `[5, 6]`.  These sorted subsequences of two elements can then be merged.\n",
    "\n",
    "Here is the full algorithm in pseudocode, where `Call` indicates that an algorithm (think a function, here) is to be supplied some input and is to provide some output:\n",
    "\n",
    "```\n",
    "'''Merge Sort: an algorithm to sort the sequence a'''\n",
    "Input: a\n",
    "Set n to the length of a\n",
    "If n == 2 and a[0] > a[1] then\n",
    "    Swap a[0] and a[1]\n",
    "Otherwise, if n > 2 then\n",
    "    Set a_L to be the first half of a \n",
    "    Set a_R to be the second half of a\n",
    "    Call Merge Sort to sort a_L and assign \n",
    "      its output to a_L\n",
    "    Call Merge Sort to sort a_R and assign\n",
    "      its output to a_R\n",
    "    Call Merge to combine a_L and a_R, and assign\n",
    "      its output to a\n",
    "# Note, nothing is done when n is 1\n",
    "Output: a\n",
    "```\n",
    "\n",
    "Although perhaps not obvious, the merge sort algorithm is $\\mathcal{O}(n\\log n)$.  Given $n$ elements in a sequence, the algorithm divides the array into smaller chunks $\\log_2 n - 1$ times.  For example, if one starts with 16 elements, those are then divided into subsequences with 8 elements, and then 4, and then 2.  That is $\\log_2 16 - 1 = 3$ levels.  At the last (deepest) level with subsequences of 1 or 2 elements, up to one comparison is made to decide whether to swap the elements or not.  For all other levels, the merge algorithm is applied.  To merge two sequences each of length $m$ requires at least $m$ comparisons (and up to $2m$ comparisons).  Because all $n$ elements of the original sequence are merged at every level (albeit as part of smaller subsequences), up to $2n$ comparisons are therefore required per level.  Hence, there are up to approximately $(\\log_2 n - 1)\\cdot 2n = \\mathcal{O}(n\\log n)$ comparisons.\n",
    "\n",
    "Spend some time and digest this alorithm.   Then tackle the following exercises.\n",
    "\n",
    "\n",
    "***\n",
    "\n",
    "**Exercise**: Apply this algorithm to `[6, 5, 4, 3, 2, 1]` and trace its progress by hand, writing down the value of `a` at the beginning of each call to Merge Sort.  Number these calls in the order in which they are made.  (In other words, predict what would happen if `a` were printed after `Input`.)\n",
    "\n",
    "*Solution*: \n",
    "\n",
    "```\n",
    "0      [6, 5, 4, 3, 2, 1]\n",
    "1      [6, 5, 4]\n",
    "2      [6] \n",
    "3      [5, 4]             \n",
    "4      [3, 2, 1]          \n",
    "5      [3]     \n",
    "6      [2, 1]  \n",
    "```\n",
    "\n",
    "***\n",
    "\n",
    "**Exercise**: Implement this algorithm as the Python function `merge_sort(a)`.  \n",
    "\n",
    "***\n",
    "\n",
    "**Exercise**: How many comparisons are made for `a = [6, 5, 4, 3, 2, 1]`?  Make sure to include the comparisons made when merging.  How does this compare to selection sort?\n",
    "\n",
    "***\n",
    "\n",
    "**Exercise**: Suppose you implement merge sort (correctly) in Python and use it to sort a list of 100 elements.  If the time required to sort 100 elements is about 0.001 s, how long would it take to sort a list with 1 million elements?\n",
    "\n",
    "*Solution*: $t \\approx \\frac{10^6 \\log 10^6}{100 \\log 100} \\times 0.001~\\text{s}= 30~\\text{s}$.\n",
    "\n",
    "***\n",
    "\n",
    "**Exercise**: Develop a modified merge sort algorithm that does not use recursion.  *Hint*: start simple and reproduce the behavior of `divide_and_print` using only loops.\n",
    "\n",
    "***"
   ]
  },
  {
   "cell_type": "markdown",
   "metadata": {
    "collapsed": true
   },
   "source": [
    "##  Built-in Sorting\n",
    "\n",
    "Sorting is so fundamental that algorithms are often implemented by default in high-level languages (like Python, MATLAB, and C++).  In Python, the built-in `sorted` function accepts as input a sequence `a` and returns the sorted results:"
   ]
  },
  {
   "cell_type": "code",
   "execution_count": 6,
   "metadata": {},
   "outputs": [
    {
     "data": {
      "text/plain": [
       "[1, 2, 3]"
      ]
     },
     "execution_count": 6,
     "metadata": {},
     "output_type": "execute_result"
    }
   ],
   "source": [
    "sorted([3, 2, 1])"
   ]
  },
  {
   "cell_type": "code",
   "execution_count": 7,
   "metadata": {},
   "outputs": [
    {
     "name": "stdout",
     "output_type": "stream",
     "text": [
      "Help on built-in function sorted in module builtins:\n",
      "\n",
      "sorted(iterable, /, *, key=None, reverse=False)\n",
      "    Return a new list containing all items from the iterable in ascending order.\n",
      "    \n",
      "    A custom key function can be supplied to customize the sort order, and the\n",
      "    reverse flag can be set to request the result in descending order.\n",
      "\n"
     ]
    }
   ],
   "source": [
    "help(sorted)"
   ]
  },
  {
   "cell_type": "markdown",
   "metadata": {},
   "source": [
    "As `help` indicates, two optional arguments `key` and `reverse` can be provided.  By default, `reverse` is `False`, and a sequence is sorted in increasing order.  By setting `reverse=True`, the opposite order can be achieve:"
   ]
  },
  {
   "cell_type": "code",
   "execution_count": 8,
   "metadata": {},
   "outputs": [
    {
     "data": {
      "text/plain": [
       "[1, 2, 3]"
      ]
     },
     "execution_count": 8,
     "metadata": {},
     "output_type": "execute_result"
    }
   ],
   "source": [
    "sorted([1, 2, 3])"
   ]
  },
  {
   "cell_type": "code",
   "execution_count": 9,
   "metadata": {},
   "outputs": [
    {
     "data": {
      "text/plain": [
       "[3, 2, 1]"
      ]
     },
     "execution_count": 9,
     "metadata": {},
     "output_type": "execute_result"
    }
   ],
   "source": [
    "sorted([1, 2, 3], reverse=True)"
   ]
  },
  {
   "cell_type": "markdown",
   "metadata": {},
   "source": [
    "The `key` argument is `None` by default.  Any other value passed must be a callable function that is given an item of the sequence and returns a value to be used when comparing that item to others. \n",
    "\n",
    "Consider, for example, the list `a = [1, 2, 3]`. The value of `a[0]` is 1, while `a[1]` is 2.  Hence, `a[0] < a[1]` is `1 < 2` is `True`.  The result of this comparison (`True`) can be modified by using the `key` function to change the value of each item compared.  For example, if both `a[0]` and `a[1]` are *negated* before their comparison, the result  is `-1 < -2`, i.e., `False`.  Such a change produces a sorted array in reverse order:"
   ]
  },
  {
   "cell_type": "code",
   "execution_count": 10,
   "metadata": {},
   "outputs": [
    {
     "data": {
      "text/plain": [
       "[3, 2, 1]"
      ]
     },
     "execution_count": 10,
     "metadata": {},
     "output_type": "execute_result"
    }
   ],
   "source": [
    "sorted([1, 2, 3], key=lambda x: -x)"
   ]
  },
  {
   "cell_type": "markdown",
   "metadata": {},
   "source": [
    "One can also define a key function using a standard `def` statement, or"
   ]
  },
  {
   "cell_type": "code",
   "execution_count": 11,
   "metadata": {},
   "outputs": [
    {
     "data": {
      "text/plain": [
       "[3, 2, 1]"
      ]
     },
     "execution_count": 11,
     "metadata": {},
     "output_type": "execute_result"
    }
   ],
   "source": [
    "def my_key_function(x):\n",
    "    return -x # each item of the list is negated before comparing\n",
    "sorted([1, 2, 3], key=my_key_function)"
   ]
  },
  {
   "cell_type": "markdown",
   "metadata": {},
   "source": [
    "The `key` function can make sorting items with many components easier.  Those items could be the rows of a spread sheet whose components are the valiues in various columns.  Suppose such data were read from  `.csv` file to produce a list of each row of data, e.g.,"
   ]
  },
  {
   "cell_type": "code",
   "execution_count": 12,
   "metadata": {},
   "outputs": [],
   "source": [
    "data = [(\"Julia\", \"Roberts\", 2, 5), \n",
    "        (\"Harrison\", \"Ford\", 4, 1), \n",
    "        (\"Meryl\", \"Streep\", 3, 6)]"
   ]
  },
  {
   "cell_type": "markdown",
   "metadata": {},
   "source": [
    "Perhaps obviously, these are famous names coupled with arbitrary numbers.  We can print out these items by last name via"
   ]
  },
  {
   "cell_type": "code",
   "execution_count": 13,
   "metadata": {},
   "outputs": [
    {
     "name": "stdout",
     "output_type": "stream",
     "text": [
      "('Harrison', 'Ford', 4, 1)\n",
      "('Julia', 'Roberts', 2, 5)\n",
      "('Meryl', 'Streep', 3, 6)\n"
     ]
    }
   ],
   "source": [
    "for item in sorted(data, key=lambda x: x[1]):\n",
    "    print(item)"
   ]
  },
  {
   "cell_type": "markdown",
   "metadata": {},
   "source": [
    "The `key` function returns `x[1]`, with is `Ford`, `Roberts`, or `Streep` for the given data.  Certainly, more complex data types (dictionaries, nested lists, etc.) may be similarly *keyed* and sorted."
   ]
  },
  {
   "cell_type": "markdown",
   "metadata": {},
   "source": [
    "***\n",
    "\n",
    "**Exercise** Take this famous-person data and sort the three items in order based on the number of `e`'s in the last name.\n",
    "\n",
    "***"
   ]
  },
  {
   "cell_type": "markdown",
   "metadata": {},
   "source": [
    "Python's built-in `list` type has its own `sort` function.  Like `sorted`, it accepts optional `key` and `reverse` arguments:"
   ]
  },
  {
   "cell_type": "code",
   "execution_count": 14,
   "metadata": {},
   "outputs": [
    {
     "name": "stdout",
     "output_type": "stream",
     "text": [
      "Help on method_descriptor:\n",
      "\n",
      "sort(...)\n",
      "    L.sort(key=None, reverse=False) -> None -- stable sort *IN PLACE*\n",
      "\n"
     ]
    }
   ],
   "source": [
    "help(list.sort)"
   ]
  },
  {
   "cell_type": "markdown",
   "metadata": {},
   "source": [
    "The major difference between `list.sort` and `sorted` is that `list.sort` sorts the elements *in place*.  In other words, `a.sort()` changes `a` directly, while `b = sorted(a)` produced a copy of `a`, sorts that copy, and then returns the sorted sequence, which is assigned to `b`."
   ]
  },
  {
   "cell_type": "markdown",
   "metadata": {},
   "source": [
    "Finally, `NumPy` provides its own `np.sort(a)` function to sort an array `a`.  It also accepts three optional arguments: `axis`, `kind`, and `order`.  By setting the axis (e.g., 0 for rows and 1 for columns in a 2-D array), the elements are sorted along that axis.  By default, the data is sorted along the last axis.  \n",
    "\n",
    "For example, consider the following:"
   ]
  },
  {
   "cell_type": "code",
   "execution_count": 15,
   "metadata": {},
   "outputs": [
    {
     "data": {
      "text/plain": [
       "array([[ 3,  2,  1],\n",
       "       [ 2,  4,  6],\n",
       "       [ 1,  5, 10]])"
      ]
     },
     "execution_count": 15,
     "metadata": {},
     "output_type": "execute_result"
    }
   ],
   "source": [
    "A = np.array([[3, 2, 1],[2,4,6],[1, 5, 10]])\n",
    "A"
   ]
  },
  {
   "cell_type": "code",
   "execution_count": 16,
   "metadata": {},
   "outputs": [
    {
     "data": {
      "text/plain": [
       "array([[ 1,  2,  1],\n",
       "       [ 2,  4,  6],\n",
       "       [ 3,  5, 10]])"
      ]
     },
     "execution_count": 16,
     "metadata": {},
     "output_type": "execute_result"
    }
   ],
   "source": [
    "np.sort(A, axis=0)"
   ]
  },
  {
   "cell_type": "code",
   "execution_count": 17,
   "metadata": {},
   "outputs": [
    {
     "data": {
      "text/plain": [
       "array([[ 1,  2,  3],\n",
       "       [ 2,  4,  6],\n",
       "       [ 1,  5, 10]])"
      ]
     },
     "execution_count": 17,
     "metadata": {},
     "output_type": "execute_result"
    }
   ],
   "source": [
    "np.sort(A, axis=1)"
   ]
  },
  {
   "cell_type": "markdown",
   "metadata": {},
   "source": [
    "For sorting NumPy arrays, the `np.sort` function is most likely the fastest option. \n",
    "\n",
    "***\n",
    "\n",
    "**Exercise**: Perform a numerical experiment like the one above for selection sort using `np.sort` with the optional argument `kind='mergesort'`.  Does its order appear to be $\\mathcal{O}(n\\log n)$?\n",
    "\n",
    "***"
   ]
  },
  {
   "cell_type": "markdown",
   "metadata": {},
   "source": [
    "## Further Reading\n",
    "\n",
    "None at this time, but *sorting* is a rich topic for which many resources are available.  We've seen $\\mathcal{O}(n^2)$ and $\\mathcal{O}(n\\log n)$ sorting.  Nothing is better (for general data), but there exist other algorithms (insertion, bubble, heap, and other sorts).  There's even one out there that of order $\\mathcal{O}(n!)$.  Would you want to use it?"
   ]
  }
 ],
 "metadata": {
  "kernelspec": {
   "display_name": "Python 3",
   "language": "python",
   "name": "python3"
  },
  "language_info": {
   "codemirror_mode": {
    "name": "ipython",
    "version": 3
   },
   "file_extension": ".py",
   "mimetype": "text/x-python",
   "name": "python",
   "nbconvert_exporter": "python",
   "pygments_lexer": "ipython3",
   "version": "3.5.5"
  }
 },
 "nbformat": 4,
 "nbformat_minor": 2
}
