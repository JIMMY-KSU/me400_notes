{
 "cells": [
  {
   "cell_type": "markdown",
   "metadata": {
    "nbpresent": {
     "id": "2e399b29-d227-4a3a-9667-e7a38677ed1c"
    },
    "slideshow": {
     "slide_type": "slide"
    }
   },
   "source": [
    "# Lecture 3 - Basic Data Processing with NumPy and Matplotlib\n",
    "\n",
    "## Overview, Objectives, and Key Terms\n",
    " \n",
    "In this lesson, we'll explore some core features of NumPy and Matplotlib and extend our Python based \"calculator\" to include processing of *arrays* of data.  [NumPy](http://www.numpy.org/) is the basic numerical package for Python.  A lot of its utility comes from its numerical, multidimensional array type, `ndarray`. Use of these arrays in a *vectorized* way often leads to significantly faster (and much more compact) code.  Moreover, the array-valued results of numerical computations are  easily visualized using Matplotlib, which was originally developed to provide MATLAB-like graphics in the Python environment.   \n",
    "\n",
    "I think it's so important that students can create, process, and display data that I highlight it early in the course and revisit it throughtout.  NumPy and Matplotlib together provide about the easiest way to work with data.\n",
    "\n",
    "### Objectives\n",
    "\n",
    "By the end of this lesson, you should be able to\n",
    "\n",
    "- *define and manipulate one-dimensional and two-dimensionanal NumPy arrays*\n",
    "- *produce plots of data following best practices*\n",
    "- *load data from text files*\n",
    "- *save data to text files*\n",
    "\n",
    "\n",
    "### Key Terms\n",
    "\n",
    "- `numpy`\n",
    "- `ndarray` \n",
    "- `np.array`\n",
    "- `np.ones`\n",
    "- `np.zeros`\n",
    "- `np.linspace`\n",
    "- `np.sin`\n",
    "- `np.mean` (or `v.mean` where `v` is of type `ndarray`)\n",
    "- `max` (or `np.max` or `v.max`)\n",
    "- `sum` (or `np.sum` or `v.sum`) \n",
    "- `matplotlib.pyplot`\n",
    "- `np.loadtxt`"
   ]
  },
  {
   "cell_type": "markdown",
   "metadata": {
    "nbpresent": {
     "id": "d944635a-8fcb-4dd8-9fd8-3d951df43601"
    },
    "slideshow": {
     "slide_type": "slide"
    }
   },
   "source": [
    "## NumPy and One-Dimensional Arrays\n",
    "\n",
    "NumPy is not part of Python, but it is a well-supported package.  It comes by default in the Anaconda distribution, so you should already have it. Like all packages, we can import NumPy via "
   ]
  },
  {
   "cell_type": "code",
   "execution_count": 1,
   "metadata": {
    "collapsed": true,
    "nbpresent": {
     "id": "c7d6c030-605a-4284-a69a-fb09dc69061e"
    },
    "slideshow": {
     "slide_type": "subslide"
    }
   },
   "outputs": [],
   "source": [
    "import numpy"
   ]
  },
  {
   "cell_type": "markdown",
   "metadata": {
    "nbpresent": {
     "id": "40df7c21-ec21-4697-a6ce-56b1c8c0d2dd"
    },
    "slideshow": {
     "slide_type": "subslide"
    }
   },
   "source": [
    "However, it is far more common to use "
   ]
  },
  {
   "cell_type": "code",
   "execution_count": 2,
   "metadata": {
    "collapsed": true,
    "nbpresent": {
     "id": "b749b600-3e7f-4f3e-b82e-2d90dda169d6"
    },
    "slideshow": {
     "slide_type": "subslide"
    }
   },
   "outputs": [],
   "source": [
    "import numpy as np"
   ]
  },
  {
   "cell_type": "markdown",
   "metadata": {
    "nbpresent": {
     "id": "f353b376-e74b-49d1-89d4-155658283c9d"
    },
    "slideshow": {
     "slide_type": "subslide"
    }
   },
   "source": [
    "The difference between these approaches is in how we use the `numpy` module.  Built in to `numpy` are a number of same functions we saw in `math`, e.g., `sin`.  Hence, we could use `numpy.sin(1.0)`, but if we import `numpy` as `np`, we would use `np.sin(1.0)`.  I recommend the latter because (1) it is shorter and (2) most online documentation uses the `np` abbreviation.\n",
    "\n",
    "> **Note**: Use `import numpy as np` instead of `import numpy`."
   ]
  },
  {
   "cell_type": "markdown",
   "metadata": {
    "nbpresent": {
     "id": "c3ac8b3e-c8af-4d04-a74a-2f99222fec62"
    }
   },
   "source": [
    "### A Motivating Example\n",
    "\n",
    "Here's a common task easily solved using NumPy: evaluate a\n",
    "mathematical function `f(x)` at discrete\n",
    "points.  Why discrete data? Perhaps because that's all the input data \n",
    "we have, e.g., from measurements,  or perhaps we're trying to plot that \n",
    "function.  In any case, this is where NumPy excels.  Consider the specific\n",
    "case for which we want to evaluate $f(x) = \\sin(x)$\n",
    "for $x \\in [0, 1]$, where `x` is to limited to 10 evenly-spaced\n",
    "points.  \n",
    "\n",
    "Here's what we need to do.  First, always make sure NumPy is imported; in this \n",
    "notebook, we did that above, but here it is again for completeness."
   ]
  },
  {
   "cell_type": "code",
   "execution_count": 3,
   "metadata": {
    "collapsed": true,
    "nbpresent": {
     "id": "2bf16a59-f0e4-4b84-a224-3499f4be6ca2"
    }
   },
   "outputs": [],
   "source": [
    "import numpy as np "
   ]
  },
  {
   "cell_type": "markdown",
   "metadata": {
    "nbpresent": {
     "id": "2910ae3c-511b-4e00-aebb-072a601ee9c8"
    }
   },
   "source": [
    "Now, we create an array `x` with 10, evenly-spaced points from 0 to 1\n",
    "using the function `np.linspace` as follows:"
   ]
  },
  {
   "cell_type": "code",
   "execution_count": 4,
   "metadata": {
    "collapsed": false,
    "nbpresent": {
     "id": "5d34201c-814d-4eb0-a6df-2b3d8ab41684"
    }
   },
   "outputs": [
    {
     "data": {
      "text/plain": [
       "array([ 0.        ,  0.11111111,  0.22222222,  0.33333333,  0.44444444,\n",
       "        0.55555556,  0.66666667,  0.77777778,  0.88888889,  1.        ])"
      ]
     },
     "execution_count": 4,
     "metadata": {},
     "output_type": "execute_result"
    }
   ],
   "source": [
    "x = np.linspace(0, 1, 10)\n",
    "x # remember, a variable all by itself as input prints its value as output"
   ]
  },
  {
   "cell_type": "markdown",
   "metadata": {
    "nbpresent": {
     "id": "ef9c28a3-5bdb-46b6-a78b-431fd1d30805"
    }
   },
   "source": [
    "Finally, we evaluate the function `np.sin` at these points."
   ]
  },
  {
   "cell_type": "code",
   "execution_count": 5,
   "metadata": {
    "collapsed": false,
    "nbpresent": {
     "id": "0d77e572-b4c3-4e48-8097-adcef183ee44"
    }
   },
   "outputs": [
    {
     "data": {
      "text/plain": [
       "array([ 0.        ,  0.11088263,  0.22039774,  0.3271947 ,  0.42995636,\n",
       "        0.52741539,  0.6183698 ,  0.70169788,  0.77637192,  0.84147098])"
      ]
     },
     "execution_count": 5,
     "metadata": {},
     "output_type": "execute_result"
    }
   ],
   "source": [
    "y = np.sin(x)\n",
    "y"
   ]
  },
  {
   "cell_type": "markdown",
   "metadata": {
    "nbpresent": {
     "id": "047813b2-f745-4719-9494-24c0cd9bffe6"
    }
   },
   "source": [
    "Note that :code:`np.sin(x)` is used and not `math.sin(x)`.  \n",
    "That's because :code:`x` in this case is a `ndarray`, to which the\n",
    "base Python :code:`math` functions do not apply.  \n",
    "\n",
    "The function `np.linspace(a, b, n)` gives `n` evenly-spaced points starting \n",
    "with `a` and ending with `b`.  Writing the equivalent C++ or\n",
    "Fortran to define such an `x` is a royal pain; that's why Python + \n",
    "NumPy (or MATLAB/Octave) is so nice for this type of problem."
   ]
  },
  {
   "cell_type": "markdown",
   "metadata": {
    "collapsed": true,
    "nbpresent": {
     "id": "34091a11-965e-410c-8301-7a1478106486"
    }
   },
   "source": [
    "### Creating and Manipulating 1-D Arrays"
   ]
  },
  {
   "cell_type": "markdown",
   "metadata": {
    "nbpresent": {
     "id": "843efd91-8f2e-4abc-b7af-3deb9f003eb4"
    }
   },
   "source": [
    "We already saw one way to create a one-dimensional array, i.e., `np.linspace`.  There are many other ways to create these arrays.  Suppose we have a list of numbers, e.g., 1.5, 2.7, and 3.1, and we'd like to make an array filled with these numbers.  That's easy:"
   ]
  },
  {
   "cell_type": "code",
   "execution_count": 6,
   "metadata": {
    "collapsed": false,
    "nbpresent": {
     "id": "d1338d3b-74f3-45ae-b49c-e9bbc3d499c9"
    }
   },
   "outputs": [
    {
     "data": {
      "text/plain": [
       "array([ 1.5,  2.7,  3.1])"
      ]
     },
     "execution_count": 6,
     "metadata": {},
     "output_type": "execute_result"
    }
   ],
   "source": [
    "a = np.array([1.5, 2.7, 3.1])\n",
    "a"
   ]
  },
  {
   "cell_type": "markdown",
   "metadata": {
    "nbpresent": {
     "id": "32fff475-8295-4b72-b660-d4dad320bb25"
    }
   },
   "source": [
    "(It turns out that `[1.5, 2.7, 3.1]` is actually a Python `list`, but we'll cover those later on when we need them; for now, we'll stick with NumPy arrays exclusively.)\n",
    "\n",
    "The common ways to make 1-D arrays are listed in the table below.\n",
    "\n",
    "| function      | example use                     | what it creates creates     | \n",
    "|---------------|---------------------------------|-----------------------------|\n",
    "| `np.array(sequence)`    | `np.array([1.5, 2.7, 3.1])`     | `array([ 1.5,  2.7,  3.1])` |\n",
    "| `np.linspace(start, stop, num)` | `np.linspace(0, 1, 3)`          | `array([ 0. ,  0.5,  1. ])` |\n",
    "| `np.ones(shape)`     | `np.ones(3)`                    | `array([ 1.,  1.,  1.])`    |\n",
    "| `np.zeros(shape)`    | `np.zeros(3)`                   | `array([ 0.,  0.,  0.])`    |\n",
    "| `np.arange(start, end, step)`   | `np.arange(1, 7, 2)`               | ` array([1, 3, 5])`         |\n",
    "\n",
    "The table does not tell the whole story of these functions; use `help()` or the `?` mark for further details."
   ]
  },
  {
   "cell_type": "markdown",
   "metadata": {
    "collapsed": true,
    "nbpresent": {
     "id": "73cffb9a-90ee-4f92-a71f-858759133eb0"
    }
   },
   "source": [
    "A useful aspect of NumPy arrays is that the basic arithmetic \n",
    "operations of Python (think `+` and `*`) apply to such arrays via *vectorized* operations.\n",
    "For example, two arrays *of equal length* can easily be multiplied:"
   ]
  },
  {
   "cell_type": "code",
   "execution_count": 7,
   "metadata": {
    "collapsed": false,
    "nbpresent": {
     "id": "d83ea8c1-3fd3-4f42-ac60-2f3334dc5d1a"
    }
   },
   "outputs": [
    {
     "data": {
      "text/plain": [
       "array([ 2,  6, 12])"
      ]
     },
     "execution_count": 7,
     "metadata": {},
     "output_type": "execute_result"
    }
   ],
   "source": [
    "a = np.array([1, 2, 3])\n",
    "b = np.array([2, 3, 4])\n",
    "c = a*b\n",
    "c"
   ]
  },
  {
   "cell_type": "markdown",
   "metadata": {
    "nbpresent": {
     "id": "f4c615a0-5c0a-4537-8886-ff0d1f2df3cc"
    }
   },
   "source": [
    "Individual arrays can also be operated on by arithmetic operaters.  For instance, we could double each element of `a` by doing"
   ]
  },
  {
   "cell_type": "code",
   "execution_count": 8,
   "metadata": {
    "collapsed": false,
    "nbpresent": {
     "id": "cee25d6f-74f7-47b4-adfa-7181b1fdf9cb"
    }
   },
   "outputs": [
    {
     "data": {
      "text/plain": [
       "array([2, 4, 6])"
      ]
     },
     "execution_count": 8,
     "metadata": {},
     "output_type": "execute_result"
    }
   ],
   "source": [
    "d = 2*a\n",
    "d"
   ]
  },
  {
   "cell_type": "markdown",
   "metadata": {
    "nbpresent": {
     "id": "16301cce-e2f8-4df6-8145-dd4d2205aab0"
    }
   },
   "source": [
    "### Inspecting Arrays and Their Elements"
   ]
  },
  {
   "cell_type": "markdown",
   "metadata": {
    "nbpresent": {
     "id": "a9a4543c-39d7-4f53-aefd-d9e1548f114c"
    }
   },
   "source": [
    "What if we need to get the value of an array element?  For example, suppose, as done above, we doubled the array `a`, called it `d`, and wanted the first value of `d`.  We need to use array `indexing` via the operator `[]`.  Here's how we get that first value of `d`:"
   ]
  },
  {
   "cell_type": "code",
   "execution_count": 9,
   "metadata": {
    "collapsed": false,
    "nbpresent": {
     "id": "2aea0c67-93d3-4332-84ad-d75fe0225a9d"
    }
   },
   "outputs": [
    {
     "data": {
      "text/plain": [
       "2"
      ]
     },
     "execution_count": 9,
     "metadata": {},
     "output_type": "execute_result"
    }
   ],
   "source": [
    "d[0]"
   ]
  },
  {
   "cell_type": "markdown",
   "metadata": {
    "nbpresent": {
     "id": "ca145966-b9d7-4317-816e-c7fe6ff2e983"
    }
   },
   "source": [
    "Yes--the first element is accessed using a zero.  Python, like C, C++, and many other languages, is based on *[zero indexing](https://en.wikipedia.org/wiki/Zero-based_numbering)*, in which the numbering of sequences starts with zero.  Get used to it!\n",
    "\n",
    "> **Warning**: Numbering starts with zero in Python\n",
    "\n",
    "By using indexing, we can *change* the value of `d[0]`, too, e.g.,"
   ]
  },
  {
   "cell_type": "code",
   "execution_count": 10,
   "metadata": {
    "collapsed": false,
    "nbpresent": {
     "id": "9dba623e-eeae-4fba-9819-15429ed53f9e"
    }
   },
   "outputs": [
    {
     "data": {
      "text/plain": [
       "array([99,  4,  6])"
      ]
     },
     "execution_count": 10,
     "metadata": {},
     "output_type": "execute_result"
    }
   ],
   "source": [
    "d[0] = 99\n",
    "d"
   ]
  },
  {
   "cell_type": "markdown",
   "metadata": {
    "nbpresent": {
     "id": "f68a00b1-2587-4c13-9aa4-b841d3f20185"
    }
   },
   "source": [
    "The number of elements in an array can be found in two ways.  First, we can use the built-in `len` function:"
   ]
  },
  {
   "cell_type": "code",
   "execution_count": 11,
   "metadata": {
    "collapsed": false,
    "nbpresent": {
     "id": "b120c52a-1966-46db-ab64-83a226ea74d3"
    }
   },
   "outputs": [
    {
     "data": {
      "text/plain": [
       "3"
      ]
     },
     "execution_count": 11,
     "metadata": {},
     "output_type": "execute_result"
    }
   ],
   "source": [
    "len(d)"
   ]
  },
  {
   "cell_type": "markdown",
   "metadata": {
    "nbpresent": {
     "id": "8870b445-238d-4dec-b25f-d4ebeb5ddb02"
    }
   },
   "source": [
    "We can also use the `size` *attribute*, associated with any array, that can be accessed through the `.` operator:"
   ]
  },
  {
   "cell_type": "code",
   "execution_count": 12,
   "metadata": {
    "collapsed": false,
    "nbpresent": {
     "id": "0a95b785-c644-42b0-bd2f-2a990b8559c0"
    }
   },
   "outputs": [
    {
     "data": {
      "text/plain": [
       "3"
      ]
     },
     "execution_count": 12,
     "metadata": {},
     "output_type": "execute_result"
    }
   ],
   "source": [
    "d.size"
   ]
  },
  {
   "cell_type": "markdown",
   "metadata": {
    "nbpresent": {
     "id": "7cd39b4b-3858-4138-a9e7-76a6d3b07a13"
    }
   },
   "source": [
    "What else do arrays have to help us?  Try using `dir`! "
   ]
  },
  {
   "cell_type": "code",
   "execution_count": 13,
   "metadata": {
    "collapsed": false,
    "nbpresent": {
     "id": "cd03f52d-725f-4b62-bc32-78a3a37de256"
    }
   },
   "outputs": [
    {
     "data": {
      "text/plain": [
       "['T',\n",
       " '__abs__',\n",
       " '__add__',\n",
       " '__and__',\n",
       " '__array__',\n",
       " '__array_finalize__',\n",
       " '__array_interface__',\n",
       " '__array_prepare__',\n",
       " '__array_priority__',\n",
       " '__array_struct__',\n",
       " '__array_wrap__',\n",
       " '__bool__',\n",
       " '__class__',\n",
       " '__contains__',\n",
       " '__copy__',\n",
       " '__deepcopy__',\n",
       " '__delattr__',\n",
       " '__delitem__',\n",
       " '__dir__',\n",
       " '__divmod__',\n",
       " '__doc__',\n",
       " '__eq__',\n",
       " '__float__',\n",
       " '__floordiv__',\n",
       " '__format__',\n",
       " '__ge__',\n",
       " '__getattribute__',\n",
       " '__getitem__',\n",
       " '__gt__',\n",
       " '__hash__',\n",
       " '__iadd__',\n",
       " '__iand__',\n",
       " '__ifloordiv__',\n",
       " '__ilshift__',\n",
       " '__imatmul__',\n",
       " '__imod__',\n",
       " '__imul__',\n",
       " '__index__',\n",
       " '__init__',\n",
       " '__int__',\n",
       " '__invert__',\n",
       " '__ior__',\n",
       " '__ipow__',\n",
       " '__irshift__',\n",
       " '__isub__',\n",
       " '__iter__',\n",
       " '__itruediv__',\n",
       " '__ixor__',\n",
       " '__le__',\n",
       " '__len__',\n",
       " '__lshift__',\n",
       " '__lt__',\n",
       " '__matmul__',\n",
       " '__mod__',\n",
       " '__mul__',\n",
       " '__ne__',\n",
       " '__neg__',\n",
       " '__new__',\n",
       " '__or__',\n",
       " '__pos__',\n",
       " '__pow__',\n",
       " '__radd__',\n",
       " '__rand__',\n",
       " '__rdivmod__',\n",
       " '__reduce__',\n",
       " '__reduce_ex__',\n",
       " '__repr__',\n",
       " '__rfloordiv__',\n",
       " '__rlshift__',\n",
       " '__rmatmul__',\n",
       " '__rmod__',\n",
       " '__rmul__',\n",
       " '__ror__',\n",
       " '__rpow__',\n",
       " '__rrshift__',\n",
       " '__rshift__',\n",
       " '__rsub__',\n",
       " '__rtruediv__',\n",
       " '__rxor__',\n",
       " '__setattr__',\n",
       " '__setitem__',\n",
       " '__setstate__',\n",
       " '__sizeof__',\n",
       " '__str__',\n",
       " '__sub__',\n",
       " '__subclasshook__',\n",
       " '__truediv__',\n",
       " '__xor__',\n",
       " 'all',\n",
       " 'any',\n",
       " 'argmax',\n",
       " 'argmin',\n",
       " 'argpartition',\n",
       " 'argsort',\n",
       " 'astype',\n",
       " 'base',\n",
       " 'byteswap',\n",
       " 'choose',\n",
       " 'clip',\n",
       " 'compress',\n",
       " 'conj',\n",
       " 'conjugate',\n",
       " 'copy',\n",
       " 'ctypes',\n",
       " 'cumprod',\n",
       " 'cumsum',\n",
       " 'data',\n",
       " 'diagonal',\n",
       " 'dot',\n",
       " 'dtype',\n",
       " 'dump',\n",
       " 'dumps',\n",
       " 'fill',\n",
       " 'flags',\n",
       " 'flat',\n",
       " 'flatten',\n",
       " 'getfield',\n",
       " 'imag',\n",
       " 'item',\n",
       " 'itemset',\n",
       " 'itemsize',\n",
       " 'max',\n",
       " 'mean',\n",
       " 'min',\n",
       " 'nbytes',\n",
       " 'ndim',\n",
       " 'newbyteorder',\n",
       " 'nonzero',\n",
       " 'partition',\n",
       " 'prod',\n",
       " 'ptp',\n",
       " 'put',\n",
       " 'ravel',\n",
       " 'real',\n",
       " 'repeat',\n",
       " 'reshape',\n",
       " 'resize',\n",
       " 'round',\n",
       " 'searchsorted',\n",
       " 'setfield',\n",
       " 'setflags',\n",
       " 'shape',\n",
       " 'size',\n",
       " 'sort',\n",
       " 'squeeze',\n",
       " 'std',\n",
       " 'strides',\n",
       " 'sum',\n",
       " 'swapaxes',\n",
       " 'take',\n",
       " 'tobytes',\n",
       " 'tofile',\n",
       " 'tolist',\n",
       " 'tostring',\n",
       " 'trace',\n",
       " 'transpose',\n",
       " 'var',\n",
       " 'view']"
      ]
     },
     "execution_count": 13,
     "metadata": {},
     "output_type": "execute_result"
    }
   ],
   "source": [
    "dir(d)"
   ]
  },
  {
   "cell_type": "markdown",
   "metadata": {
    "nbpresent": {
     "id": "8a35d33a-bfd6-456a-bb3f-d3d9a15a37b0"
    }
   },
   "source": [
    "Several names worth pointing out are `dot`, `max`, `mean`, `shape`, and `sum`.  The `max`, `mean`, and `sum` functions have pretty intuitive names (and purposes):"
   ]
  },
  {
   "cell_type": "code",
   "execution_count": 14,
   "metadata": {
    "collapsed": false,
    "nbpresent": {
     "id": "2a53b60e-b4f0-4967-817b-dc15bba9bf22"
    }
   },
   "outputs": [
    {
     "data": {
      "text/plain": [
       "99"
      ]
     },
     "execution_count": 14,
     "metadata": {},
     "output_type": "execute_result"
    }
   ],
   "source": [
    "d.max()"
   ]
  },
  {
   "cell_type": "code",
   "execution_count": 15,
   "metadata": {
    "collapsed": false,
    "nbpresent": {
     "id": "bca634f7-6639-407c-85b2-ba0d3ba2ad9c"
    }
   },
   "outputs": [
    {
     "data": {
      "text/plain": [
       "36.333333333333336"
      ]
     },
     "execution_count": 15,
     "metadata": {},
     "output_type": "execute_result"
    }
   ],
   "source": [
    "d.mean() # here, (99+4+6)/3"
   ]
  },
  {
   "cell_type": "code",
   "execution_count": 16,
   "metadata": {
    "collapsed": false,
    "nbpresent": {
     "id": "15c2afe2-64fb-470e-aadd-84e22f7ccb72"
    }
   },
   "outputs": [
    {
     "data": {
      "text/plain": [
       "109"
      ]
     },
     "execution_count": 16,
     "metadata": {},
     "output_type": "execute_result"
    }
   ],
   "source": [
    "d.sum()"
   ]
  },
  {
   "cell_type": "markdown",
   "metadata": {
    "nbpresent": {
     "id": "b150c2ce-4268-4e3f-94ef-3f0dd7088b79"
    }
   },
   "source": [
    "It turns out that Python has `max` and `sum` as built-in functions.  Hence, we could instead do"
   ]
  },
  {
   "cell_type": "code",
   "execution_count": 17,
   "metadata": {
    "collapsed": false,
    "nbpresent": {
     "id": "983c773e-9265-4dfc-b9c0-de5d867a5a06"
    }
   },
   "outputs": [
    {
     "data": {
      "text/plain": [
       "99"
      ]
     },
     "execution_count": 17,
     "metadata": {},
     "output_type": "execute_result"
    }
   ],
   "source": [
    "max(d)"
   ]
  },
  {
   "cell_type": "code",
   "execution_count": 18,
   "metadata": {
    "collapsed": false,
    "nbpresent": {
     "id": "591b707d-dd57-4460-a76a-9fb1a80d7a76"
    }
   },
   "outputs": [
    {
     "data": {
      "text/plain": [
       "109"
      ]
     },
     "execution_count": 18,
     "metadata": {},
     "output_type": "execute_result"
    }
   ],
   "source": [
    "sum(d)"
   ]
  },
  {
   "cell_type": "markdown",
   "metadata": {
    "nbpresent": {
     "id": "c20cb43d-37ea-4f1a-bca2-4f7a4f2b8242"
    }
   },
   "source": [
    "but not `mean(d)` because `mean` is not a built-in function.  However, `mean` *is* a NumPy function, so we could do"
   ]
  },
  {
   "cell_type": "code",
   "execution_count": 21,
   "metadata": {
    "collapsed": false,
    "nbpresent": {
     "id": "7d5aea0d-8552-4408-b402-54db871102f3"
    }
   },
   "outputs": [
    {
     "data": {
      "text/plain": [
       "36.333333333333336"
      ]
     },
     "execution_count": 21,
     "metadata": {},
     "output_type": "execute_result"
    }
   ],
   "source": [
    "np.mean(d)"
   ]
  },
  {
   "cell_type": "markdown",
   "metadata": {
    "nbpresent": {
     "id": "0846eae5-9037-436a-80c4-f146ea24c6d8"
    }
   },
   "source": [
    "There is no real difference between `d.mean()` and `np.mean(d)`.  My own personal preference is the latter because it looks closer to the programming I first learned eons ago."
   ]
  },
  {
   "cell_type": "markdown",
   "metadata": {
    "nbpresent": {
     "id": "c734f840-7a1d-40c8-9df4-9f905d3e330f"
    }
   },
   "source": [
    "The `shape` attribute is somewhat special; here it is for `d`:"
   ]
  },
  {
   "cell_type": "code",
   "execution_count": 22,
   "metadata": {
    "collapsed": false,
    "nbpresent": {
     "id": "c0f58cf7-3066-489d-a673-751126c4ea26"
    }
   },
   "outputs": [
    {
     "data": {
      "text/plain": [
       "(3,)"
      ]
     },
     "execution_count": 22,
     "metadata": {},
     "output_type": "execute_result"
    }
   ],
   "source": [
    "d.shape"
   ]
  },
  {
   "cell_type": "markdown",
   "metadata": {
    "nbpresent": {
     "id": "19e6a46b-1ce8-4ed6-98a3-3e1dc012d1c0"
    }
   },
   "source": [
    "Here, the shape indicates a purely one-dimensional array.  We'll see that `shape` is a bit more interesting for two-dimensional arrays."
   ]
  },
  {
   "cell_type": "markdown",
   "metadata": {
    "nbpresent": {
     "id": "ccdc1aaf-d5fd-45d2-ace2-befe2ddcbba3"
    }
   },
   "source": [
    "## Diving into `pyplot`"
   ]
  },
  {
   "cell_type": "markdown",
   "metadata": {
    "nbpresent": {
     "id": "591b8b01-66ce-4003-a2dc-6aad17308a73"
    }
   },
   "source": [
    "Recall our motivating example: defined `x` at evenly spaced points, and evaluate `np.sin` at those points.  We printed the points and the function at those points, but it's often useful to *show* it via a graph.  [Matplotlib](https://matplotlib.org) gives us the tools to do just that.  The most common way to import Matplotlib (and, specifically, its `pyplot` \"submodule\") is via"
   ]
  },
  {
   "cell_type": "code",
   "execution_count": 23,
   "metadata": {
    "collapsed": true,
    "nbpresent": {
     "id": "591a3dac-2afc-4055-a043-a75b15a15e84"
    }
   },
   "outputs": [],
   "source": [
    "import matplotlib.pyplot as plt"
   ]
  },
  {
   "cell_type": "markdown",
   "metadata": {
    "nbpresent": {
     "id": "fbbc7a45-be27-4130-a861-a31380127143"
    }
   },
   "source": [
    "> **Note**: Just like NumPy is often shorted to `np`, `matplotlib.pyplot` is often used as `plt`.  "
   ]
  },
  {
   "cell_type": "markdown",
   "metadata": {
    "nbpresent": {
     "id": "5f5a272b-a97d-411d-ae62-12c637a40f6e"
    }
   },
   "source": [
    "The most basic plot is very easy to make using `plt.plot`:"
   ]
  },
  {
   "cell_type": "code",
   "execution_count": 24,
   "metadata": {
    "collapsed": false,
    "nbpresent": {
     "id": "ef2abeac-8f8c-48c0-a3ea-c6e93409e5da"
    }
   },
   "outputs": [
    {
     "data": {
      "text/plain": [
       "[<matplotlib.lines.Line2D at 0x10d20dda0>]"
      ]
     },
     "execution_count": 24,
     "metadata": {},
     "output_type": "execute_result"
    }
   ],
   "source": [
    "plt.plot(x, y) # x and y were defined above"
   ]
  },
  {
   "cell_type": "markdown",
   "metadata": {
    "nbpresent": {
     "id": "c1d6e507-2c59-477b-9000-d4458050888b"
    }
   },
   "source": [
    "To show the plot, we need to use `plt.show`:"
   ]
  },
  {
   "cell_type": "code",
   "execution_count": 25,
   "metadata": {
    "collapsed": false,
    "nbpresent": {
     "id": "298df42f-86a5-47ef-97f7-c9eb75a27ec3"
    }
   },
   "outputs": [
    {
     "data": {
      "image/png": "[encoded data removed]",
      "text/plain": [
       "<matplotlib.figure.Figure at 0x10d176c18>"
      ]
     },
     "metadata": {},
     "output_type": "display_data"
    }
   ],
   "source": [
    "plt.show()"
   ]
  },
  {
   "cell_type": "markdown",
   "metadata": {
    "nbpresent": {
     "id": "47fb4b50-a33d-4d01-b72a-608226dcd179"
    }
   },
   "source": [
    "### Multiple Curves and Best Practices\n",
    "\n",
    "What about multiple curves?  Let's define a second curved equal to `np.cos` evaluated at `x`:"
   ]
  },
  {
   "cell_type": "code",
   "execution_count": 26,
   "metadata": {
    "collapsed": false,
    "nbpresent": {
     "id": "8f02aa22-6c80-4f40-b224-1b3bc3855898"
    }
   },
   "outputs": [],
   "source": [
    "z = np.cos(x)"
   ]
  },
  {
   "cell_type": "markdown",
   "metadata": {
    "nbpresent": {
     "id": "d63733fb-11ed-4dd1-8f60-c2a5fc3903c1"
    }
   },
   "source": [
    "To plot both `y` and `z` is also easy, and here, I've added a couple extra features that define the basic ingredients needed for a good plot:"
   ]
  },
  {
   "cell_type": "code",
   "execution_count": 29,
   "metadata": {
    "collapsed": false,
    "nbpresent": {
     "id": "5b5b877c-7b4c-4adf-852c-ea73ffd6a3be"
    }
   },
   "outputs": [
    {
     "data": {
      "image/png": "[encoded data removed]",
      "text/plain": [
       "<matplotlib.figure.Figure at 0x10ff0f630>"
      ]
     },
     "metadata": {},
     "output_type": "display_data"
    }
   ],
   "source": [
    "plt.plot(x, y, 'k-o', x, z, 'r--x')\n",
    "plt.legend(['sin(x)', 'cos(x)'], loc=0)\n",
    "plt.xlabel('x')\n",
    "plt.show()"
   ]
  },
  {
   "cell_type": "markdown",
   "metadata": {
    "nbpresent": {
     "id": "0cd62b9d-8a39-4f2a-ad98-e29d9db87029"
    }
   },
   "source": [
    "Let's breakdown the new components.  First, consider `x, y, 'k-o'`.  That means `y` is to be plotted against `x`, and the line to be used is black (the `k`), a solid line (the `-`), and has circle markers (the `o`).  The second curve is defined by `x, z, 'r--x'`.  Here, that plots `z` against `x` with a red (the `r`), dashed (the `--`) line with x's as markers (the `x`).  A *legend* is provided indicating which line is which.  The format of the legend always has a sequence of `str` labels for each line enclosed in `[]`'s (again, that's a `list` in Python, but just follow the syntax for now.  By setting `loc=0`, we're putting the legend in the best possible place to avoid overlapping with the curves displayed.  As a baseline rule, any plot produced should contain an `xlabel` and either a `ylabel` (if a single curve) or a `legend` (if multiple curves).\n",
    "\n",
    "> **Note**: All plots should include appropriate axis labels and legends.\n",
    "\n",
    "Some of the available colors, line styles, and markers available in `plt.plot` are summarized in the tables below.\n",
    "\n",
    "| symbol      | color     | \n",
    "|-------------|-----------|\n",
    "| `k`         | black     |\n",
    "| `b`         | blue      |\n",
    "| `r`         | red       |\n",
    "| `g`         | green     |\n",
    "| `c`         | cyan      |\n",
    "| `m`         | magenta   |\n",
    "\n",
    "| symbol      | style     | \n",
    "|-------------|-----------|\n",
    "| `-`         | solid     |\n",
    "| `--`        | dash-dash |\n",
    "| `-.`        | dash-dot  |\n",
    "| `:`         | dot-dot   |\n",
    "\n",
    "| symbol      | marker    | \n",
    "|-------------|-----------|\n",
    "| `o`         | circle    |\n",
    "| `x`         | x         |\n",
    "| `^`         | triangle pointed up  |\n",
    "| `>`         | triangle pointed right  |\n",
    "| `s`         | square  |\n",
    "| `h`         | hexagon  |\n",
    "\n",
    "\n",
    "\n",
    "\n",
    "\n"
   ]
  },
  {
   "cell_type": "markdown",
   "metadata": {
    "nbpresent": {
     "id": "416a720b-83df-41e6-9f12-81ffe971b63c"
    }
   },
   "source": [
    "In some applications, it can be very important to use a combination of colors, line styles, and markers that produce good looking and easily read graphics when viewed in color and in black and white formats.  \n",
    "\n",
    "> **Note**: Choose good colors, line styles, and markers to ensure excellent contrast in all media."
   ]
  },
  {
   "cell_type": "markdown",
   "metadata": {
    "nbpresent": {
     "id": "584b914f-dd40-44a4-9854-d5159d80bb4b"
    }
   },
   "source": [
    "## Data Input and Output via NumPy"
   ]
  },
  {
   "cell_type": "markdown",
   "metadata": {
    "nbpresent": {
     "id": "e1305ca8-2eb1-403d-a85f-8cf030493d46"
    }
   },
   "source": [
    "For many problems, the data we need to process lives in a file outside our Python code.  There are a variety of ways to load data, but NumPy provides an easy way to load data that is in a relatively simple format.  Consider a text file that has the following data:\n",
    "\n",
    "```\n",
    "time (s)   vel (m/s)  acc (m/s**2)\n",
    "0.00000000 1.00000000 0.00000000\n",
    "0.22222222 1.24884887 0.01097394\n",
    "0.44444444 1.55962350 0.08779150\n",
    "0.66666667 1.94773404 0.29629630\n",
    "0.88888889 2.43242545 0.70233196\n",
    "1.11111111 3.03773178 1.37174211\n",
    "1.33333333 3.79366789 2.37037037\n",
    "1.55555556 4.73771786 3.76406036\n",
    "1.77777778 5.91669359 5.61865569\n",
    "2.00000000 7.38905610 8.00000000\n",
    "```\n",
    "\n",
    "The structure is simple: three columns separated by white space.  The first row contains information about what the data represent.  Here, the columns correspond to times at which the velocity and acceleration of some object are given.  \n",
    "\n",
    "Go ahead and save this text in a file.  Mine is called `data.txt`.  To load this file, we'll use `np.loadtxt`.  The basic use of this function is just `np.loadtxt(filename)`, where `filename` is a `str` that contains the name of the file.  Here, we need just a bit more.  In particular, we need tell NumPy to skip the very first row since it contains regular text and not the numbers of interest.  Here's one way to read in that text: "
   ]
  },
  {
   "cell_type": "code",
   "execution_count": 38,
   "metadata": {
    "collapsed": false,
    "nbpresent": {
     "id": "4a4e2c90-015a-486b-a51f-0a85e604f551"
    }
   },
   "outputs": [
    {
     "data": {
      "text/plain": [
       "array([[ 0.        ,  1.        ,  0.        ],\n",
       "       [ 0.22222222,  1.24884887,  0.01097394],\n",
       "       [ 0.44444444,  1.5596235 ,  0.0877915 ],\n",
       "       [ 0.66666667,  1.94773404,  0.2962963 ],\n",
       "       [ 0.88888889,  2.43242545,  0.70233196],\n",
       "       [ 1.11111111,  3.03773178,  1.37174211],\n",
       "       [ 1.33333333,  3.79366789,  2.37037037],\n",
       "       [ 1.55555556,  4.73771786,  3.76406036],\n",
       "       [ 1.77777778,  5.91669359,  5.61865569],\n",
       "       [ 2.        ,  7.3890561 ,  8.        ]])"
      ]
     },
     "execution_count": 38,
     "metadata": {},
     "output_type": "execute_result"
    }
   ],
   "source": [
    "data = np.loadtxt('data.txt', skiprows=1)\n",
    "data"
   ]
  },
  {
   "cell_type": "markdown",
   "metadata": {
    "nbpresent": {
     "id": "37fdd2e9-eda3-4855-ab20-8fa44b88d40c"
    }
   },
   "source": [
    "We have the data stored in the variable `data`.  The type looks like an `ndarray`, but the structure is more like a matrix, i.e., a two-dimensional array---and it is!  We can try out the `shape` attribute again:"
   ]
  },
  {
   "cell_type": "code",
   "execution_count": 39,
   "metadata": {
    "collapsed": false,
    "nbpresent": {
     "id": "be8d3e6c-7489-4e88-9305-15b7b2ce3ae8"
    }
   },
   "outputs": [
    {
     "data": {
      "text/plain": [
       "(10, 3)"
      ]
     },
     "execution_count": 39,
     "metadata": {},
     "output_type": "execute_result"
    }
   ],
   "source": [
    "data.shape"
   ]
  },
  {
   "cell_type": "markdown",
   "metadata": {
    "nbpresent": {
     "id": "5230cff0-8cd6-448c-83aa-03cd57a79981"
    }
   },
   "source": [
    "That makes sense: we had 10 times at which the velocity and acceleration were provided.  10 rows, and 3 columns.  We'll see next time how to access entire rows and columns of multidimensional arrays, but there is a better way to load in this data directly into three meaningful variables `t`, `v`, and `a`.  "
   ]
  },
  {
   "cell_type": "code",
   "execution_count": 42,
   "metadata": {
    "collapsed": false,
    "nbpresent": {
     "id": "cf9e7c63-9075-4bed-be5b-660713a9b073"
    }
   },
   "outputs": [
    {
     "data": {
      "text/plain": [
       "array([ 0.        ,  0.22222222,  0.44444444,  0.66666667,  0.88888889,\n",
       "        1.11111111,  1.33333333,  1.55555556,  1.77777778,  2.        ])"
      ]
     },
     "execution_count": 42,
     "metadata": {},
     "output_type": "execute_result"
    }
   ],
   "source": [
    "t, v, a = np.loadtxt('data.txt', skiprows=1, unpack=True)\n",
    "t"
   ]
  },
  {
   "cell_type": "markdown",
   "metadata": {
    "nbpresent": {
     "id": "303db569-7531-4fe6-9116-bdfa7fb7fda0"
    }
   },
   "source": [
    "Now, we've got the times, velocities, and accelerations as three, separate, one-dimensional arrays.  With NumPy, loading this sort of data is easy and recommended.\n",
    "\n",
    "> **Note**: If data is numerical and stored in a simple, collimated format, use `np.loadtxt`"
   ]
  },
  {
   "cell_type": "markdown",
   "metadata": {
    "nbpresent": {
     "id": "ac5bf565-0e63-4090-af12-78ec1d3dabab"
    }
   },
   "source": [
    "We can save the same data back to file."
   ]
  }
 ],
 "metadata": {
  "anaconda-cloud": {},
  "celltoolbar": "Slideshow",
  "kernelspec": {
   "display_name": "Python [default]",
   "language": "python",
   "name": "python3"
  },
  "language_info": {
   "codemirror_mode": {
    "name": "ipython",
    "version": 3
   },
   "file_extension": ".py",
   "mimetype": "text/x-python",
   "name": "python",
   "nbconvert_exporter": "python",
   "pygments_lexer": "ipython3",
   "version": "3.5.2"
  },
  "nbpresent": {
   "slides": {
    "02f8ee21-16f9-4da2-b3f4-e7a367648740": {
     "id": "02f8ee21-16f9-4da2-b3f4-e7a367648740",
     "prev": "6c4fe21b-4b7e-494e-bccd-fb2cdaf20e16",
     "regions": {
      "3f3d4bcf-b012-4763-a226-5106446168eb": {
       "attrs": {
        "height": 0.8,
        "width": 0.8,
        "x": 0.1,
        "y": 0.1
       },
       "content": {
        "cell": "ca145966-b9d7-4317-816e-c7fe6ff2e983",
        "part": "whole"
       },
       "id": "3f3d4bcf-b012-4763-a226-5106446168eb"
      }
     }
    },
    "061ab4a8-4168-45f7-835c-9cdf9cd5529c": {
     "id": "061ab4a8-4168-45f7-835c-9cdf9cd5529c",
     "prev": "81519902-7c6b-4136-9add-490b4a993bcd",
     "regions": {
      "39b5c3b9-f03e-4468-84ef-6f134408e9b0": {
       "attrs": {
        "height": 0.8,
        "width": 0.8,
        "x": 0.1,
        "y": 0.1
       },
       "content": {
        "cell": "8870b445-238d-4dec-b25f-d4ebeb5ddb02",
        "part": "whole"
       },
       "id": "39b5c3b9-f03e-4468-84ef-6f134408e9b0"
      }
     }
    },
    "08ff05f8-e5b4-4e69-9c99-08544ae8b105": {
     "id": "08ff05f8-e5b4-4e69-9c99-08544ae8b105",
     "prev": "2a0bd635-6490-40c8-90a4-b9e716dc1413",
     "regions": {
      "4cb950f8-b864-4992-af20-9d75d778d3f9": {
       "attrs": {
        "height": 0.8,
        "width": 0.8,
        "x": 0.1,
        "y": 0.1
       },
       "content": {
        "cell": "cd03f52d-725f-4b62-bc32-78a3a37de256",
        "part": "whole"
       },
       "id": "4cb950f8-b864-4992-af20-9d75d778d3f9"
      }
     }
    },
    "0ef8e784-08e5-4870-ad8d-b657ac25d42d": {
     "id": "0ef8e784-08e5-4870-ad8d-b657ac25d42d",
     "prev": "365d9e52-4a9b-4aef-80f5-4fb688697357",
     "regions": {
      "2be91d34-033d-4fec-bb2a-6b26c85a8da5": {
       "attrs": {
        "height": 0.8,
        "width": 0.8,
        "x": 0.1,
        "y": 0.1
       },
       "content": {
        "cell": "73cffb9a-90ee-4f92-a71f-858759133eb0",
        "part": "whole"
       },
       "id": "2be91d34-033d-4fec-bb2a-6b26c85a8da5"
      }
     }
    },
    "112cf242-7afd-41bd-88d3-526115f59615": {
     "id": "112cf242-7afd-41bd-88d3-526115f59615",
     "prev": "cae17098-bb79-40f0-a1a2-11ef8263af53",
     "regions": {
      "fa42efab-7c84-407a-ba91-9b90a68a6e22": {
       "attrs": {
        "height": 0.8,
        "width": 0.8,
        "x": 0.1,
        "y": 0.1
       },
       "content": {
        "cell": "be8d3e6c-7489-4e88-9305-15b7b2ce3ae8",
        "part": "whole"
       },
       "id": "fa42efab-7c84-407a-ba91-9b90a68a6e22"
      }
     }
    },
    "1febbbcf-84fb-4836-8a4b-b403f3206c57": {
     "id": "1febbbcf-84fb-4836-8a4b-b403f3206c57",
     "prev": "6d3a12e3-b722-4f66-8a4f-5e89d0f2ecea",
     "regions": {
      "4b2b2012-01fe-4f80-8a77-2db1dff79f95": {
       "attrs": {
        "height": 0.8,
        "width": 0.8,
        "x": 0.1,
        "y": 0.1
       },
       "content": {
        "cell": "983c773e-9265-4dfc-b9c0-de5d867a5a06",
        "part": "whole"
       },
       "id": "4b2b2012-01fe-4f80-8a77-2db1dff79f95"
      }
     }
    },
    "2104c032-dfcc-41f3-a0ff-5ad0d9d57b44": {
     "id": "2104c032-dfcc-41f3-a0ff-5ad0d9d57b44",
     "prev": "0ef8e784-08e5-4870-ad8d-b657ac25d42d",
     "regions": {
      "fe6c189f-dccc-434d-96dd-9382a57c8913": {
       "attrs": {
        "height": 0.8,
        "width": 0.8,
        "x": 0.1,
        "y": 0.1
       },
       "content": {
        "cell": "d83ea8c1-3fd3-4f42-ac60-2f3334dc5d1a",
        "part": "whole"
       },
       "id": "fe6c189f-dccc-434d-96dd-9382a57c8913"
      }
     }
    },
    "2901d73c-d5bd-4fa9-bda0-05cbb2441541": {
     "id": "2901d73c-d5bd-4fa9-bda0-05cbb2441541",
     "prev": "847612dd-a57d-4d3b-adf6-2638ff009abc",
     "regions": {
      "23ca1667-83be-41a7-9579-e864c91fc9ce": {
       "attrs": {
        "height": 0.8,
        "width": 0.8,
        "x": 0.1,
        "y": 0.1
       },
       "content": {
        "cell": "2bf16a59-f0e4-4b84-a224-3499f4be6ca2",
        "part": "whole"
       },
       "id": "23ca1667-83be-41a7-9579-e864c91fc9ce"
      }
     }
    },
    "2a0bd635-6490-40c8-90a4-b9e716dc1413": {
     "id": "2a0bd635-6490-40c8-90a4-b9e716dc1413",
     "prev": "3a6d0a22-5e23-46aa-9982-8f19c6036db5",
     "regions": {
      "1a78eeef-9bd0-46a5-89dc-9d4727c5de2e": {
       "attrs": {
        "height": 0.8,
        "width": 0.8,
        "x": 0.1,
        "y": 0.1
       },
       "content": {
        "cell": "7cd39b4b-3858-4138-a9e7-76a6d3b07a13",
        "part": "whole"
       },
       "id": "1a78eeef-9bd0-46a5-89dc-9d4727c5de2e"
      }
     }
    },
    "2dc8d019-4770-42b9-9af9-f1ec17601ad2": {
     "id": "2dc8d019-4770-42b9-9af9-f1ec17601ad2",
     "prev": "e7395586-419e-4aee-abab-cddb4b3499bf",
     "regions": {
      "7b6043e5-2680-4ca0-8ab4-211315fecc50": {
       "attrs": {
        "height": 0.8,
        "width": 0.8,
        "x": 0.1,
        "y": 0.1
       },
       "content": {
        "cell": "19e6a46b-1ce8-4ed6-98a3-3e1dc012d1c0",
        "part": "whole"
       },
       "id": "7b6043e5-2680-4ca0-8ab4-211315fecc50"
      }
     }
    },
    "365d9e52-4a9b-4aef-80f5-4fb688697357": {
     "id": "365d9e52-4a9b-4aef-80f5-4fb688697357",
     "prev": "66db5ec4-025e-4748-b391-476452f4620a",
     "regions": {
      "fa24282f-dc7a-4bbd-81f4-31e5e9a8c676": {
       "attrs": {
        "height": 0.8,
        "width": 0.8,
        "x": 0.1,
        "y": 0.1
       },
       "content": {
        "cell": "32fff475-8295-4b72-b660-d4dad320bb25",
        "part": "whole"
       },
       "id": "fa24282f-dc7a-4bbd-81f4-31e5e9a8c676"
      }
     }
    },
    "37ca5021-4f09-43c5-ab3d-52741ea34ce2": {
     "id": "37ca5021-4f09-43c5-ab3d-52741ea34ce2",
     "prev": "7a825839-decf-4944-89f7-4e271ec627f3",
     "regions": {
      "e71a87fc-81bd-4a0d-9b0e-61d5c89a7394": {
       "attrs": {
        "height": 0.8,
        "width": 0.8,
        "x": 0.1,
        "y": 0.1
       },
       "content": {
        "cell": "47fb4b50-a33d-4d01-b72a-608226dcd179",
        "part": "whole"
       },
       "id": "e71a87fc-81bd-4a0d-9b0e-61d5c89a7394"
      }
     }
    },
    "3a1dc4b8-18ff-4563-9e6b-e7a045b18820": {
     "id": "3a1dc4b8-18ff-4563-9e6b-e7a045b18820",
     "prev": "2104c032-dfcc-41f3-a0ff-5ad0d9d57b44",
     "regions": {
      "aace180a-5102-48e3-a4cc-cedc8eea7f8f": {
       "attrs": {
        "height": 0.8,
        "width": 0.8,
        "x": 0.1,
        "y": 0.1
       },
       "content": {
        "cell": "f4c615a0-5c0a-4537-8886-ff0d1f2df3cc",
        "part": "whole"
       },
       "id": "aace180a-5102-48e3-a4cc-cedc8eea7f8f"
      }
     }
    },
    "3a61de2e-0b3f-4e76-b4f5-37d9b4548b28": {
     "id": "3a61de2e-0b3f-4e76-b4f5-37d9b4548b28",
     "prev": "de42cd45-29ec-4653-965a-f91547a0ca18",
     "regions": {
      "18ef0b4f-686a-4116-abd6-597731094d33": {
       "attrs": {
        "height": 0.8,
        "width": 0.8,
        "x": 0.1,
        "y": 0.1
       },
       "content": {
        "cell": "ef9c28a3-5bdb-46b6-a78b-431fd1d30805",
        "part": "whole"
       },
       "id": "18ef0b4f-686a-4116-abd6-597731094d33"
      }
     }
    },
    "3a6d0a22-5e23-46aa-9982-8f19c6036db5": {
     "id": "3a6d0a22-5e23-46aa-9982-8f19c6036db5",
     "prev": "061ab4a8-4168-45f7-835c-9cdf9cd5529c",
     "regions": {
      "83e2f2ac-98cb-42b7-857c-7e771a32868f": {
       "attrs": {
        "height": 0.8,
        "width": 0.8,
        "x": 0.1,
        "y": 0.1
       },
       "content": {
        "cell": "0a95b785-c644-42b0-bd2f-2a990b8559c0",
        "part": "whole"
       },
       "id": "83e2f2ac-98cb-42b7-857c-7e771a32868f"
      }
     }
    },
    "3fdca1da-89b8-4d9a-b1b1-f0a59e8e6270": {
     "id": "3fdca1da-89b8-4d9a-b1b1-f0a59e8e6270",
     "prev": "4260bf4c-2c83-4ff5-9ec7-334ad91f21df",
     "regions": {
      "320ea712-f0ba-4dd6-8915-12d7983331ef": {
       "attrs": {
        "height": 0.8,
        "width": 0.8,
        "x": 0.1,
        "y": 0.1
       },
       "content": {
        "cell": "2a53b60e-b4f0-4967-817b-dc15bba9bf22",
        "part": "whole"
       },
       "id": "320ea712-f0ba-4dd6-8915-12d7983331ef"
      }
     }
    },
    "420d5081-c5ac-4503-bee9-c297fdab812e": {
     "id": "420d5081-c5ac-4503-bee9-c297fdab812e",
     "prev": "c09da137-d9b0-4642-a8e0-d5ce3f493482",
     "regions": {
      "20b73ce3-06a3-4a63-b8d8-8648605ccb28": {
       "attrs": {
        "height": 0.8,
        "width": 0.8,
        "x": 0.1,
        "y": 0.1
       },
       "content": {
        "cell": "047813b2-f745-4719-9494-24c0cd9bffe6",
        "part": "whole"
       },
       "id": "20b73ce3-06a3-4a63-b8d8-8648605ccb28"
      }
     }
    },
    "4260bf4c-2c83-4ff5-9ec7-334ad91f21df": {
     "id": "4260bf4c-2c83-4ff5-9ec7-334ad91f21df",
     "prev": "08ff05f8-e5b4-4e69-9c99-08544ae8b105",
     "regions": {
      "688b3214-2a41-4b37-b702-d85503dd154f": {
       "attrs": {
        "height": 0.8,
        "width": 0.8,
        "x": 0.1,
        "y": 0.1
       },
       "content": {
        "cell": "8a35d33a-bfd6-456a-bb3f-d3d9a15a37b0",
        "part": "whole"
       },
       "id": "688b3214-2a41-4b37-b702-d85503dd154f"
      }
     }
    },
    "4ed5808b-dddd-415b-9a33-00f9abe32b1c": {
     "id": "4ed5808b-dddd-415b-9a33-00f9abe32b1c",
     "prev": "9929ca97-03e8-45df-b086-28a2f0d88ea9",
     "regions": {
      "32d8c677-3315-42e3-84fe-38a211f0e554": {
       "attrs": {
        "height": 0.8,
        "width": 0.8,
        "x": 0.1,
        "y": 0.1
       },
       "content": {
        "cell": "5b5b877c-7b4c-4adf-852c-ea73ffd6a3be",
        "part": "whole"
       },
       "id": "32d8c677-3315-42e3-84fe-38a211f0e554"
      }
     }
    },
    "51c3906d-0215-4509-b2e0-909c2d98d101": {
     "id": "51c3906d-0215-4509-b2e0-909c2d98d101",
     "prev": "88d92870-83da-46cb-ade3-a181b3271eb5",
     "regions": {
      "64010f48-94f7-4184-9907-a5ae2be72d86": {
       "attrs": {
        "height": 0.8,
        "width": 0.8,
        "x": 0.1,
        "y": 0.1
       },
       "content": {
        "cell": "ac5bf565-0e63-4090-af12-78ec1d3dabab",
        "part": "whole"
       },
       "id": "64010f48-94f7-4184-9907-a5ae2be72d86"
      }
     }
    },
    "5d8faeeb-e6dd-4e91-aae4-b0d4822e502f": {
     "id": "5d8faeeb-e6dd-4e91-aae4-b0d4822e502f",
     "prev": "cb83f14f-1cad-4aff-af5b-8ca8a05a43ae",
     "regions": {
      "89cd93aa-d67b-44a5-a122-1c595dccb2ac": {
       "attrs": {
        "height": 0.8,
        "width": 0.8,
        "x": 0.1,
        "y": 0.1
       },
       "content": {
        "cell": "584b914f-dd40-44a4-9854-d5159d80bb4b",
        "part": "whole"
       },
       "id": "89cd93aa-d67b-44a5-a122-1c595dccb2ac"
      }
     }
    },
    "5f21d086-3beb-4248-8205-b3f7fcde3fa6": {
     "id": "5f21d086-3beb-4248-8205-b3f7fcde3fa6",
     "prev": "9768df67-bbe9-4d1e-8345-34a56edf2e1b",
     "regions": {
      "5de83f14-e6f0-4e86-9989-f11a07d20edf": {
       "attrs": {
        "height": 0.8,
        "width": 0.8,
        "x": 0.1,
        "y": 0.1
       },
       "content": {
        "cell": "7d5aea0d-8552-4408-b402-54db871102f3",
        "part": "whole"
       },
       "id": "5de83f14-e6f0-4e86-9989-f11a07d20edf"
      }
     }
    },
    "638384ce-c0f4-4318-aa6c-389ae749354d": {
     "id": "638384ce-c0f4-4318-aa6c-389ae749354d",
     "prev": "3fdca1da-89b8-4d9a-b1b1-f0a59e8e6270",
     "regions": {
      "debf23c1-29d9-449f-a398-81fec4e962bf": {
       "attrs": {
        "height": 0.8,
        "width": 0.8,
        "x": 0.1,
        "y": 0.1
       },
       "content": {
        "cell": "bca634f7-6639-407c-85b2-ba0d3ba2ad9c",
        "part": "whole"
       },
       "id": "debf23c1-29d9-449f-a398-81fec4e962bf"
      }
     }
    },
    "66db5ec4-025e-4748-b391-476452f4620a": {
     "id": "66db5ec4-025e-4748-b391-476452f4620a",
     "prev": "77c59f01-cdd0-4a3e-a39a-0cb2d9873a94",
     "regions": {
      "8d9e9fbb-29b1-45f8-87a4-59b906fe67f5": {
       "attrs": {
        "height": 0.8,
        "width": 0.8,
        "x": 0.1,
        "y": 0.1
       },
       "content": {
        "cell": "d1338d3b-74f3-45ae-b49c-e9bbc3d499c9",
        "part": "whole"
       },
       "id": "8d9e9fbb-29b1-45f8-87a4-59b906fe67f5"
      }
     }
    },
    "6c4fe21b-4b7e-494e-bccd-fb2cdaf20e16": {
     "id": "6c4fe21b-4b7e-494e-bccd-fb2cdaf20e16",
     "prev": "89163416-085d-4eec-be2f-f1995175d47c",
     "regions": {
      "9ec890c8-eb62-4ad1-97b3-ad724320cf66": {
       "attrs": {
        "height": 0.8,
        "width": 0.8,
        "x": 0.1,
        "y": 0.1
       },
       "content": {
        "cell": "2aea0c67-93d3-4332-84ad-d75fe0225a9d",
        "part": "whole"
       },
       "id": "9ec890c8-eb62-4ad1-97b3-ad724320cf66"
      }
     }
    },
    "6d3a12e3-b722-4f66-8a4f-5e89d0f2ecea": {
     "id": "6d3a12e3-b722-4f66-8a4f-5e89d0f2ecea",
     "prev": "b86fc250-a3b2-4312-b7b5-c5635a57cb38",
     "regions": {
      "9b61e9e0-46ee-4be5-a7ef-9e676735f9ae": {
       "attrs": {
        "height": 0.8,
        "width": 0.8,
        "x": 0.1,
        "y": 0.1
       },
       "content": {
        "cell": "b150c2ce-4268-4e3f-94ef-3f0dd7088b79",
        "part": "whole"
       },
       "id": "9b61e9e0-46ee-4be5-a7ef-9e676735f9ae"
      }
     }
    },
    "75606e09-a641-4ff0-bb50-079886942e34": {
     "id": "75606e09-a641-4ff0-bb50-079886942e34",
     "prev": "5d8faeeb-e6dd-4e91-aae4-b0d4822e502f",
     "regions": {
      "d2054855-599f-478f-84f2-522494aba357": {
       "attrs": {
        "height": 0.8,
        "width": 0.8,
        "x": 0.1,
        "y": 0.1
       },
       "content": {
        "cell": "e1305ca8-2eb1-403d-a85f-8cf030493d46",
        "part": "whole"
       },
       "id": "d2054855-599f-478f-84f2-522494aba357"
      }
     }
    },
    "768acc21-9af6-457a-ae4d-5018bdc3c36b": {
     "id": "768acc21-9af6-457a-ae4d-5018bdc3c36b",
     "prev": "b72623a4-5243-4b04-bb1c-8b1d3c472c93",
     "regions": {
      "0495e51d-9f07-493b-ab81-0058a83e0190": {
       "attrs": {
        "height": 0.8,
        "width": 0.8,
        "x": 0.1,
        "y": 0.1
       },
       "content": {
        "cell": "c734f840-7a1d-40c8-9df4-9f905d3e330f",
        "part": "whole"
       },
       "id": "0495e51d-9f07-493b-ab81-0058a83e0190"
      }
     }
    },
    "77c59f01-cdd0-4a3e-a39a-0cb2d9873a94": {
     "id": "77c59f01-cdd0-4a3e-a39a-0cb2d9873a94",
     "prev": "8bc952e1-cde2-4980-a397-a7abc57d5f29",
     "regions": {
      "fb692fe6-dc54-46fa-b57c-f3093058eb93": {
       "attrs": {
        "height": 0.8,
        "width": 0.8,
        "x": 0.1,
        "y": 0.1
       },
       "content": {
        "cell": "843efd91-8f2e-4abc-b7af-3deb9f003eb4",
        "part": "whole"
       },
       "id": "fb692fe6-dc54-46fa-b57c-f3093058eb93"
      }
     }
    },
    "77e407f2-e061-4110-9d1a-81a3caf6e410": {
     "id": "77e407f2-e061-4110-9d1a-81a3caf6e410",
     "prev": "4ed5808b-dddd-415b-9a33-00f9abe32b1c",
     "regions": {
      "150a6195-b35b-43a2-bab6-c795a9e9c1fd": {
       "attrs": {
        "height": 0.8,
        "width": 0.8,
        "x": 0.1,
        "y": 0.1
       },
       "content": {
        "cell": "0cd62b9d-8a39-4f2a-ad98-e29d9db87029",
        "part": "whole"
       },
       "id": "150a6195-b35b-43a2-bab6-c795a9e9c1fd"
      }
     }
    },
    "7a825839-decf-4944-89f7-4e271ec627f3": {
     "id": "7a825839-decf-4944-89f7-4e271ec627f3",
     "prev": "cb1ec09f-779a-476b-a948-f9806e4713cc",
     "regions": {
      "82a3c159-d35d-4af3-a595-a80c88833d34": {
       "attrs": {
        "height": 0.8,
        "width": 0.8,
        "x": 0.1,
        "y": 0.1
       },
       "content": {
        "cell": "298df42f-86a5-47ef-97f7-c9eb75a27ec3",
        "part": "whole"
       },
       "id": "82a3c159-d35d-4af3-a595-a80c88833d34"
      }
     }
    },
    "7bca4b8d-7213-4094-b5fb-825fe05bd98a": {
     "id": "7bca4b8d-7213-4094-b5fb-825fe05bd98a",
     "prev": "8c738d23-d5f5-4f58-8e9e-772a89dd2ff6",
     "regions": {
      "dd32b718-bc3f-4a91-a8d4-00fc6235b9ad": {
       "attrs": {
        "height": 0.8,
        "width": 0.8,
        "x": 0.1,
        "y": 0.1
       },
       "content": {
        "cell": "f68a00b1-2587-4c13-9aa4-b841d3f20185",
        "part": "whole"
       },
       "id": "dd32b718-bc3f-4a91-a8d4-00fc6235b9ad"
      }
     }
    },
    "80fc4044-455e-4254-bd15-f5f09ff906b1": {
     "id": "80fc4044-455e-4254-bd15-f5f09ff906b1",
     "prev": "bec94ea6-fe5c-4fc4-a3a9-ead674c3d92c",
     "regions": {
      "98cb1768-b3a6-4bd4-afd9-7a248f42832c": {
       "attrs": {
        "height": 0.8,
        "width": 0.8,
        "x": 0.1,
        "y": 0.1
       },
       "content": {
        "cell": "d944635a-8fcb-4dd8-9fd8-3d951df43601",
        "part": "whole"
       },
       "id": "98cb1768-b3a6-4bd4-afd9-7a248f42832c"
      }
     }
    },
    "81519902-7c6b-4136-9add-490b4a993bcd": {
     "id": "81519902-7c6b-4136-9add-490b4a993bcd",
     "prev": "7bca4b8d-7213-4094-b5fb-825fe05bd98a",
     "regions": {
      "4f308efa-04db-44c7-b371-0d7598ed9607": {
       "attrs": {
        "height": 0.8,
        "width": 0.8,
        "x": 0.1,
        "y": 0.1
       },
       "content": {
        "cell": "b120c52a-1966-46db-ab64-83a226ea74d3",
        "part": "whole"
       },
       "id": "4f308efa-04db-44c7-b371-0d7598ed9607"
      }
     }
    },
    "847612dd-a57d-4d3b-adf6-2638ff009abc": {
     "id": "847612dd-a57d-4d3b-adf6-2638ff009abc",
     "prev": "cf9799f2-1da9-478b-bd91-b8fcef910361",
     "regions": {
      "1a58c5a2-3add-4e42-ab32-e6c89e0e2453": {
       "attrs": {
        "height": 0.8,
        "width": 0.8,
        "x": 0.1,
        "y": 0.1
       },
       "content": {
        "cell": "c3ac8b3e-c8af-4d04-a74a-2f99222fec62",
        "part": "whole"
       },
       "id": "1a58c5a2-3add-4e42-ab32-e6c89e0e2453"
      }
     }
    },
    "864608a2-ce94-4631-b101-f9e669dc1066": {
     "id": "864608a2-ce94-4631-b101-f9e669dc1066",
     "prev": "fb2b55b5-1002-4175-9dca-ba3dbf207b1c",
     "regions": {
      "1f8fe6de-286a-428b-814a-92fbf4490269": {
       "attrs": {
        "height": 0.8,
        "width": 0.8,
        "x": 0.1,
        "y": 0.1
       },
       "content": {
        "cell": "ef2abeac-8f8c-48c0-a3ea-c6e93409e5da",
        "part": "whole"
       },
       "id": "1f8fe6de-286a-428b-814a-92fbf4490269"
      }
     }
    },
    "88d92870-83da-46cb-ade3-a181b3271eb5": {
     "id": "88d92870-83da-46cb-ade3-a181b3271eb5",
     "prev": "bd9252b4-54cb-43c3-bc01-4453495bbbf9",
     "regions": {
      "354e50ae-c7e4-4b40-9564-f5f13a0ba150": {
       "attrs": {
        "height": 0.8,
        "width": 0.8,
        "x": 0.1,
        "y": 0.1
       },
       "content": {
        "cell": "303db569-7531-4fe6-9116-bdfa7fb7fda0",
        "part": "whole"
       },
       "id": "354e50ae-c7e4-4b40-9564-f5f13a0ba150"
      }
     }
    },
    "89163416-085d-4eec-be2f-f1995175d47c": {
     "id": "89163416-085d-4eec-be2f-f1995175d47c",
     "prev": "b9b07209-69cf-4b3e-85b9-fe95664d790c",
     "regions": {
      "d64676c3-bb3f-4d2d-930e-b1d5e79d643e": {
       "attrs": {
        "height": 0.8,
        "width": 0.8,
        "x": 0.1,
        "y": 0.1
       },
       "content": {
        "cell": "a9a4543c-39d7-4f53-aefd-d9e1548f114c",
        "part": "whole"
       },
       "id": "d64676c3-bb3f-4d2d-930e-b1d5e79d643e"
      }
     }
    },
    "8bc952e1-cde2-4980-a397-a7abc57d5f29": {
     "id": "8bc952e1-cde2-4980-a397-a7abc57d5f29",
     "prev": "420d5081-c5ac-4503-bee9-c297fdab812e",
     "regions": {
      "706d3d5b-8015-481d-98df-27ccf7fa4735": {
       "attrs": {
        "height": 0.8,
        "width": 0.8,
        "x": 0.1,
        "y": 0.1
       },
       "content": {
        "cell": "34091a11-965e-410c-8301-7a1478106486",
        "part": "whole"
       },
       "id": "706d3d5b-8015-481d-98df-27ccf7fa4735"
      }
     }
    },
    "8bdb0a8e-2436-4662-be67-3828f99ce1db": {
     "id": "8bdb0a8e-2436-4662-be67-3828f99ce1db",
     "prev": "75606e09-a641-4ff0-bb50-079886942e34",
     "regions": {
      "b90fe601-6ee9-49ff-a4ac-744dd8e9419c": {
       "attrs": {
        "height": 0.8,
        "width": 0.8,
        "x": 0.1,
        "y": 0.1
       },
       "content": {
        "cell": "4a4e2c90-015a-486b-a51f-0a85e604f551",
        "part": "whole"
       },
       "id": "b90fe601-6ee9-49ff-a4ac-744dd8e9419c"
      }
     }
    },
    "8c738d23-d5f5-4f58-8e9e-772a89dd2ff6": {
     "id": "8c738d23-d5f5-4f58-8e9e-772a89dd2ff6",
     "prev": "02f8ee21-16f9-4da2-b3f4-e7a367648740",
     "regions": {
      "55fb7253-cbd2-4936-a538-60950ec488ee": {
       "attrs": {
        "height": 0.8,
        "width": 0.8,
        "x": 0.1,
        "y": 0.1
       },
       "content": {
        "cell": "9dba623e-eeae-4fba-9819-15429ed53f9e",
        "part": "whole"
       },
       "id": "55fb7253-cbd2-4936-a538-60950ec488ee"
      }
     }
    },
    "8d21ccf1-00ef-49ae-a4c8-d8160b4609f0": {
     "id": "8d21ccf1-00ef-49ae-a4c8-d8160b4609f0",
     "prev": "2901d73c-d5bd-4fa9-bda0-05cbb2441541",
     "regions": {
      "c20e3841-8fb1-44c4-b1d5-a85e6b01fcd0": {
       "attrs": {
        "height": 0.8,
        "width": 0.8,
        "x": 0.1,
        "y": 0.1
       },
       "content": {
        "cell": "2910ae3c-511b-4e00-aebb-072a601ee9c8",
        "part": "whole"
       },
       "id": "c20e3841-8fb1-44c4-b1d5-a85e6b01fcd0"
      }
     }
    },
    "95ed4754-630a-46ff-8a5a-a89eac543eec": {
     "id": "95ed4754-630a-46ff-8a5a-a89eac543eec",
     "prev": "cf8ad9fd-fc71-4ce3-b710-921d9f8da51a",
     "regions": {
      "400879d3-af5c-481b-a0d4-0f62b97f0162": {
       "attrs": {
        "height": 0.8,
        "width": 0.8,
        "x": 0.1,
        "y": 0.1
       },
       "content": {
        "cell": "fbbc7a45-be27-4130-a861-a31380127143",
        "part": "whole"
       },
       "id": "400879d3-af5c-481b-a0d4-0f62b97f0162"
      }
     }
    },
    "9768df67-bbe9-4d1e-8345-34a56edf2e1b": {
     "id": "9768df67-bbe9-4d1e-8345-34a56edf2e1b",
     "prev": "d460e553-45e2-41ae-b4b8-b2a4db4f85da",
     "regions": {
      "9be25018-2817-4877-b476-3901ffdffc37": {
       "attrs": {
        "height": 0.8,
        "width": 0.8,
        "x": 0.1,
        "y": 0.1
       },
       "content": {
        "cell": "c20cb43d-37ea-4f1a-bca2-4f7a4f2b8242",
        "part": "whole"
       },
       "id": "9be25018-2817-4877-b476-3901ffdffc37"
      }
     }
    },
    "9929ca97-03e8-45df-b086-28a2f0d88ea9": {
     "id": "9929ca97-03e8-45df-b086-28a2f0d88ea9",
     "prev": "ee7c1264-60fc-4492-a86b-0524e1b5a8fe",
     "regions": {
      "1c574c76-6c4d-4450-8d4b-f2c63eb81668": {
       "attrs": {
        "height": 0.8,
        "width": 0.8,
        "x": 0.1,
        "y": 0.1
       },
       "content": {
        "cell": "d63733fb-11ed-4dd1-8f60-c2a5fc3903c1",
        "part": "whole"
       },
       "id": "1c574c76-6c4d-4450-8d4b-f2c63eb81668"
      }
     }
    },
    "a9560553-9684-430c-9e5d-8e2b0907d236": {
     "id": "a9560553-9684-430c-9e5d-8e2b0907d236",
     "prev": "eba4db38-efd0-4dd8-bbbb-86d9ec8fd916",
     "regions": {
      "00300653-7a56-475f-9cbe-ffbeddfebf6e": {
       "attrs": {
        "height": 0.8,
        "width": 0.8,
        "x": 0.1,
        "y": 0.1
       },
       "content": {
        "cell": "b749b600-3e7f-4f3e-b82e-2d90dda169d6",
        "part": "whole"
       },
       "id": "00300653-7a56-475f-9cbe-ffbeddfebf6e"
      }
     }
    },
    "b72623a4-5243-4b04-bb1c-8b1d3c472c93": {
     "id": "b72623a4-5243-4b04-bb1c-8b1d3c472c93",
     "prev": "5f21d086-3beb-4248-8205-b3f7fcde3fa6",
     "regions": {
      "d4710784-c777-414d-a636-74882aaeb390": {
       "attrs": {
        "height": 0.8,
        "width": 0.8,
        "x": 0.1,
        "y": 0.1
       },
       "content": {
        "cell": "0846eae5-9037-436a-80c4-f146ea24c6d8",
        "part": "whole"
       },
       "id": "d4710784-c777-414d-a636-74882aaeb390"
      }
     }
    },
    "b86fc250-a3b2-4312-b7b5-c5635a57cb38": {
     "id": "b86fc250-a3b2-4312-b7b5-c5635a57cb38",
     "prev": "638384ce-c0f4-4318-aa6c-389ae749354d",
     "regions": {
      "6db909bc-f8ba-4312-a4c8-700803a44644": {
       "attrs": {
        "height": 0.8,
        "width": 0.8,
        "x": 0.1,
        "y": 0.1
       },
       "content": {
        "cell": "15c2afe2-64fb-470e-aadd-84e22f7ccb72",
        "part": "whole"
       },
       "id": "6db909bc-f8ba-4312-a4c8-700803a44644"
      }
     }
    },
    "b9b07209-69cf-4b3e-85b9-fe95664d790c": {
     "id": "b9b07209-69cf-4b3e-85b9-fe95664d790c",
     "prev": "da4c91b4-846f-45a2-83e6-9eaa964d9a9f",
     "regions": {
      "8cdb3abf-9ab5-4854-a070-b6f9ec8aeae4": {
       "attrs": {
        "height": 0.8,
        "width": 0.8,
        "x": 0.1,
        "y": 0.1
       },
       "content": {
        "cell": "16301cce-e2f8-4df6-8145-dd4d2205aab0",
        "part": "whole"
       },
       "id": "8cdb3abf-9ab5-4854-a070-b6f9ec8aeae4"
      }
     }
    },
    "bcd90869-3de3-432a-949a-af68deb1297a": {
     "id": "bcd90869-3de3-432a-949a-af68deb1297a",
     "prev": "80fc4044-455e-4254-bd15-f5f09ff906b1",
     "regions": {
      "4c817142-6cac-4d62-befb-972bc91888dc": {
       "attrs": {
        "height": 0.8,
        "width": 0.8,
        "x": 0.1,
        "y": 0.1
       },
       "content": {
        "cell": "c7d6c030-605a-4284-a69a-fb09dc69061e",
        "part": "whole"
       },
       "id": "4c817142-6cac-4d62-befb-972bc91888dc"
      }
     }
    },
    "bd9252b4-54cb-43c3-bc01-4453495bbbf9": {
     "id": "bd9252b4-54cb-43c3-bc01-4453495bbbf9",
     "prev": "e97776f8-4931-453f-9156-6ebc634eba42",
     "regions": {
      "b37edac2-8094-42e1-ab64-ba63a61c9f3b": {
       "attrs": {
        "height": 0.8,
        "width": 0.8,
        "x": 0.1,
        "y": 0.1
       },
       "content": {
        "cell": "cf9e7c63-9075-4bed-be5b-660713a9b073",
        "part": "whole"
       },
       "id": "b37edac2-8094-42e1-ab64-ba63a61c9f3b"
      }
     }
    },
    "bec94ea6-fe5c-4fc4-a3a9-ead674c3d92c": {
     "id": "bec94ea6-fe5c-4fc4-a3a9-ead674c3d92c",
     "prev": null,
     "regions": {
      "2df80672-1114-41a5-90ff-575e3330c1a3": {
       "attrs": {
        "height": 0.8,
        "width": 0.8,
        "x": 0.1,
        "y": 0.1
       },
       "content": {
        "cell": "2e399b29-d227-4a3a-9667-e7a38677ed1c",
        "part": "whole"
       },
       "id": "2df80672-1114-41a5-90ff-575e3330c1a3"
      }
     }
    },
    "c09da137-d9b0-4642-a8e0-d5ce3f493482": {
     "id": "c09da137-d9b0-4642-a8e0-d5ce3f493482",
     "prev": "3a61de2e-0b3f-4e76-b4f5-37d9b4548b28",
     "regions": {
      "1fc3cac4-a1d4-45dc-a612-5b677400d87a": {
       "attrs": {
        "height": 0.8,
        "width": 0.8,
        "x": 0.1,
        "y": 0.1
       },
       "content": {
        "cell": "0d77e572-b4c3-4e48-8097-adcef183ee44",
        "part": "whole"
       },
       "id": "1fc3cac4-a1d4-45dc-a612-5b677400d87a"
      }
     }
    },
    "c0ba2104-6bdf-4b0b-a013-5199e54656f7": {
     "id": "c0ba2104-6bdf-4b0b-a013-5199e54656f7",
     "prev": "2dc8d019-4770-42b9-9af9-f1ec17601ad2",
     "regions": {
      "b7aa5e83-add0-4103-87c5-84a19d42edff": {
       "attrs": {
        "height": 0.8,
        "width": 0.8,
        "x": 0.1,
        "y": 0.1
       },
       "content": {
        "cell": "ccdc1aaf-d5fd-45d2-ace2-befe2ddcbba3",
        "part": "whole"
       },
       "id": "b7aa5e83-add0-4103-87c5-84a19d42edff"
      }
     }
    },
    "c9cbbbac-2a57-45d2-a14e-54d1a47957f9": {
     "id": "c9cbbbac-2a57-45d2-a14e-54d1a47957f9",
     "prev": "c0ba2104-6bdf-4b0b-a013-5199e54656f7",
     "regions": {
      "085fe725-457d-436e-881a-85d4e70270b0": {
       "attrs": {
        "height": 0.8,
        "width": 0.8,
        "x": 0.1,
        "y": 0.1
       },
       "content": {
        "cell": "591b8b01-66ce-4003-a2dc-6aad17308a73",
        "part": "whole"
       },
       "id": "085fe725-457d-436e-881a-85d4e70270b0"
      }
     }
    },
    "cae17098-bb79-40f0-a1a2-11ef8263af53": {
     "id": "cae17098-bb79-40f0-a1a2-11ef8263af53",
     "prev": "8bdb0a8e-2436-4662-be67-3828f99ce1db",
     "regions": {
      "b93c411d-614d-4099-91a3-39464a2b5a7e": {
       "attrs": {
        "height": 0.8,
        "width": 0.8,
        "x": 0.1,
        "y": 0.1
       },
       "content": {
        "cell": "37fdd2e9-eda3-4855-ab20-8fa44b88d40c",
        "part": "whole"
       },
       "id": "b93c411d-614d-4099-91a3-39464a2b5a7e"
      }
     }
    },
    "cb1ec09f-779a-476b-a948-f9806e4713cc": {
     "id": "cb1ec09f-779a-476b-a948-f9806e4713cc",
     "prev": "864608a2-ce94-4631-b101-f9e669dc1066",
     "regions": {
      "5524a950-ada3-4373-8a1a-d94a2b15ff79": {
       "attrs": {
        "height": 0.8,
        "width": 0.8,
        "x": 0.1,
        "y": 0.1
       },
       "content": {
        "cell": "c1d6e507-2c59-477b-9000-d4458050888b",
        "part": "whole"
       },
       "id": "5524a950-ada3-4373-8a1a-d94a2b15ff79"
      }
     }
    },
    "cb83f14f-1cad-4aff-af5b-8ca8a05a43ae": {
     "id": "cb83f14f-1cad-4aff-af5b-8ca8a05a43ae",
     "prev": "77e407f2-e061-4110-9d1a-81a3caf6e410",
     "regions": {
      "0a373235-f082-4fbd-90cb-c37c2c428500": {
       "attrs": {
        "height": 0.8,
        "width": 0.8,
        "x": 0.1,
        "y": 0.1
       },
       "content": {
        "cell": "416a720b-83df-41e6-9f12-81ffe971b63c",
        "part": "whole"
       },
       "id": "0a373235-f082-4fbd-90cb-c37c2c428500"
      }
     }
    },
    "cf8ad9fd-fc71-4ce3-b710-921d9f8da51a": {
     "id": "cf8ad9fd-fc71-4ce3-b710-921d9f8da51a",
     "prev": "c9cbbbac-2a57-45d2-a14e-54d1a47957f9",
     "regions": {
      "5dac95ed-5730-44e5-b184-32ae7bfb4e04": {
       "attrs": {
        "height": 0.8,
        "width": 0.8,
        "x": 0.1,
        "y": 0.1
       },
       "content": {
        "cell": "591a3dac-2afc-4055-a043-a75b15a15e84",
        "part": "whole"
       },
       "id": "5dac95ed-5730-44e5-b184-32ae7bfb4e04"
      }
     }
    },
    "cf9799f2-1da9-478b-bd91-b8fcef910361": {
     "id": "cf9799f2-1da9-478b-bd91-b8fcef910361",
     "prev": "a9560553-9684-430c-9e5d-8e2b0907d236",
     "regions": {
      "765bc95a-1ef5-40e0-92b7-919a2e0ab9a0": {
       "attrs": {
        "height": 0.8,
        "width": 0.8,
        "x": 0.1,
        "y": 0.1
       },
       "content": {
        "cell": "f353b376-e74b-49d1-89d4-155658283c9d",
        "part": "whole"
       },
       "id": "765bc95a-1ef5-40e0-92b7-919a2e0ab9a0"
      }
     }
    },
    "d460e553-45e2-41ae-b4b8-b2a4db4f85da": {
     "id": "d460e553-45e2-41ae-b4b8-b2a4db4f85da",
     "prev": "1febbbcf-84fb-4836-8a4b-b403f3206c57",
     "regions": {
      "857d667c-0cb2-4358-9402-d62a76ce2de7": {
       "attrs": {
        "height": 0.8,
        "width": 0.8,
        "x": 0.1,
        "y": 0.1
       },
       "content": {
        "cell": "591b707d-dd57-4460-a76a-9fb1a80d7a76",
        "part": "whole"
       },
       "id": "857d667c-0cb2-4358-9402-d62a76ce2de7"
      }
     }
    },
    "da4c91b4-846f-45a2-83e6-9eaa964d9a9f": {
     "id": "da4c91b4-846f-45a2-83e6-9eaa964d9a9f",
     "prev": "3a1dc4b8-18ff-4563-9e6b-e7a045b18820",
     "regions": {
      "7d778c16-e2b0-4d2e-962b-81c442040be2": {
       "attrs": {
        "height": 0.8,
        "width": 0.8,
        "x": 0.1,
        "y": 0.1
       },
       "content": {
        "cell": "cee25d6f-74f7-47b4-adfa-7181b1fdf9cb",
        "part": "whole"
       },
       "id": "7d778c16-e2b0-4d2e-962b-81c442040be2"
      }
     }
    },
    "de42cd45-29ec-4653-965a-f91547a0ca18": {
     "id": "de42cd45-29ec-4653-965a-f91547a0ca18",
     "prev": "8d21ccf1-00ef-49ae-a4c8-d8160b4609f0",
     "regions": {
      "230025f5-2ca8-4b56-99a4-fccf4c94f6b4": {
       "attrs": {
        "height": 0.8,
        "width": 0.8,
        "x": 0.1,
        "y": 0.1
       },
       "content": {
        "cell": "5d34201c-814d-4eb0-a6df-2b3d8ab41684",
        "part": "whole"
       },
       "id": "230025f5-2ca8-4b56-99a4-fccf4c94f6b4"
      }
     }
    },
    "e7395586-419e-4aee-abab-cddb4b3499bf": {
     "id": "e7395586-419e-4aee-abab-cddb4b3499bf",
     "prev": "768acc21-9af6-457a-ae4d-5018bdc3c36b",
     "regions": {
      "cb3f2ed1-5d29-4602-a5f6-4980247a89f3": {
       "attrs": {
        "height": 0.8,
        "width": 0.8,
        "x": 0.1,
        "y": 0.1
       },
       "content": {
        "cell": "c0f58cf7-3066-489d-a673-751126c4ea26",
        "part": "whole"
       },
       "id": "cb3f2ed1-5d29-4602-a5f6-4980247a89f3"
      }
     }
    },
    "e97776f8-4931-453f-9156-6ebc634eba42": {
     "id": "e97776f8-4931-453f-9156-6ebc634eba42",
     "prev": "112cf242-7afd-41bd-88d3-526115f59615",
     "regions": {
      "9a20dd2a-231a-4fa1-9442-e1b377951195": {
       "attrs": {
        "height": 0.8,
        "width": 0.8,
        "x": 0.1,
        "y": 0.1
       },
       "content": {
        "cell": "5230cff0-8cd6-448c-83aa-03cd57a79981",
        "part": "whole"
       },
       "id": "9a20dd2a-231a-4fa1-9442-e1b377951195"
      }
     }
    },
    "eba4db38-efd0-4dd8-bbbb-86d9ec8fd916": {
     "id": "eba4db38-efd0-4dd8-bbbb-86d9ec8fd916",
     "prev": "bcd90869-3de3-432a-949a-af68deb1297a",
     "regions": {
      "c03be5ef-20dc-4859-9189-7b3a5e5ee295": {
       "attrs": {
        "height": 0.8,
        "width": 0.8,
        "x": 0.1,
        "y": 0.1
       },
       "content": {
        "cell": "40df7c21-ec21-4697-a6ce-56b1c8c0d2dd",
        "part": "whole"
       },
       "id": "c03be5ef-20dc-4859-9189-7b3a5e5ee295"
      }
     }
    },
    "ee7c1264-60fc-4492-a86b-0524e1b5a8fe": {
     "id": "ee7c1264-60fc-4492-a86b-0524e1b5a8fe",
     "prev": "37ca5021-4f09-43c5-ab3d-52741ea34ce2",
     "regions": {
      "949e2d04-64c8-46fc-ac2a-0defc0bee65e": {
       "attrs": {
        "height": 0.8,
        "width": 0.8,
        "x": 0.1,
        "y": 0.1
       },
       "content": {
        "cell": "8f02aa22-6c80-4f40-b224-1b3bc3855898",
        "part": "whole"
       },
       "id": "949e2d04-64c8-46fc-ac2a-0defc0bee65e"
      }
     }
    },
    "fb2b55b5-1002-4175-9dca-ba3dbf207b1c": {
     "id": "fb2b55b5-1002-4175-9dca-ba3dbf207b1c",
     "prev": "95ed4754-630a-46ff-8a5a-a89eac543eec",
     "regions": {
      "dbf25ba1-fa09-43a5-8a9b-b14499c1a81a": {
       "attrs": {
        "height": 0.8,
        "width": 0.8,
        "x": 0.1,
        "y": 0.1
       },
       "content": {
        "cell": "5f5a272b-a97d-411d-ae62-12c637a40f6e",
        "part": "whole"
       },
       "id": "dbf25ba1-fa09-43a5-8a9b-b14499c1a81a"
      }
     }
    }
   },
   "themes": {}
  }
 },
 "nbformat": 4,
 "nbformat_minor": 2
}
