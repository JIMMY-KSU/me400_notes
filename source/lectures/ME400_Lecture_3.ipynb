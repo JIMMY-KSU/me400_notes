{
 "cells": [
  {
   "cell_type": "markdown",
   "metadata": {},
   "source": [
    "# Lecture 3 - Basic Data Processing with NumPy and Matplotlib\n",
    "\n",
    "## Overview, Objectives, and Key Terms\n",
    " \n",
    "In this lesson, we'll explore some core features of NumPy and Matplotlib and extend our Python based \"calculator\" to include processing of *arrays* of data.  [NumPy](http://www.numpy.org/) is the basic numerical package for Python.  A lot of its utility comes from its numerical, multidimensional array type, :code:`ndarray`. Use of these arrays in a *vectorized* way often leads to significantly faster (and much more compact) code.  Moreover, the array-valued results of numerical computations are  easily visualized using Matplotlib, which was originally developed to provide MATLAB-like graphics in the Python environment.   \n",
    "\n",
    "I think it's so important that students can create, process, and display data that I highlight it early in the course and revisit it throughtout.  NumPy and Matplotlib together provide about the easiest way to work with data.\n",
    "\n",
    "### Objectives\n",
    "\n",
    "By the end of this lesson, you should be able to\n",
    "\n",
    "- *define and manipulate one-dimensional and two-dimensionanal NumPy arrays*\n",
    "- *load and save data from and to text files*\n",
    "- *produce plots of data following best practices*\n",
    "\n",
    "\n",
    "### Key Terms\n",
    "\n",
    "- `numpy`\n",
    "- `ndarray` \n",
    "- `np.array`\n",
    "- `np.ones`\n",
    "- `np.zeros`\n",
    "- `np.linspace`\n",
    "- `np.sin`\n",
    "- `matplotlib.pyplot`"
   ]
  },
  {
   "cell_type": "markdown",
   "metadata": {},
   "source": [
    "## NumPy and One-Dimensional Arrays\n",
    "\n",
    "NumPy is not part of Python, but it is a well-supported package.  It comes by default in the Anaconda distribution, so you should already have it. Like all packages, we can import NumPy via "
   ]
  },
  {
   "cell_type": "code",
   "execution_count": 1,
   "metadata": {
    "collapsed": true
   },
   "outputs": [],
   "source": [
    "import numpy"
   ]
  },
  {
   "cell_type": "markdown",
   "metadata": {},
   "source": [
    "However, it is far more common to use "
   ]
  },
  {
   "cell_type": "code",
   "execution_count": 3,
   "metadata": {
    "collapsed": true
   },
   "outputs": [],
   "source": [
    "import numpy as np"
   ]
  },
  {
   "cell_type": "markdown",
   "metadata": {},
   "source": [
    "The difference between these approaches is in how we use the `numpy` module.  Built in to `numpy` are a number of same functions we saw in `math`, e.g., `sin`.  Hence, we could use `numpy.sin(1.0)`, but if we import `numpy` as `np`, we would use `np.sin(1.0)`.  I recommend the latter because (1) it is shorter and (2) most online documentation uses the `np` abbreviation.\n",
    "\n",
    "> **Note**: Use `import numpy as np` instead of `import numpy`."
   ]
  },
  {
   "cell_type": "markdown",
   "metadata": {},
   "source": [
    "### A Motivating Example\n",
    "\n",
    "Here's a common task easily solved using NumPy: evaluate a\n",
    "mathematical function `f(x)` at discrete\n",
    "points.  Why discrete data? Perhaps because that's all the input data \n",
    "we have, e.g., from measurements,  or perhaps we're trying to plot that \n",
    "function.  In any case, this is where NumPy excels.  Consider the specific\n",
    "case for which we want to evaluate $f(x) = \\sin(x)$\n",
    "for $x \\in [0, 1]$, where `x` is to limited to 10 evenly-spaced\n",
    "points.  \n",
    "\n",
    "Here's what we need to do.  First, always make sure NumPy is imported; in this \n",
    "notebook, we did that above, but here it is again for completeness."
   ]
  },
  {
   "cell_type": "code",
   "execution_count": 4,
   "metadata": {
    "collapsed": true
   },
   "outputs": [],
   "source": [
    "import numpy as np "
   ]
  },
  {
   "cell_type": "markdown",
   "metadata": {},
   "source": [
    "Now, we create an array `x` with 10, evenly-spaced points from 0 to 1\n",
    "using the function `np.linspace` as follows:"
   ]
  },
  {
   "cell_type": "code",
   "execution_count": 6,
   "metadata": {
    "collapsed": false
   },
   "outputs": [
    {
     "data": {
      "text/plain": [
       "array([ 0.        ,  0.11111111,  0.22222222,  0.33333333,  0.44444444,\n",
       "        0.55555556,  0.66666667,  0.77777778,  0.88888889,  1.        ])"
      ]
     },
     "execution_count": 6,
     "metadata": {},
     "output_type": "execute_result"
    }
   ],
   "source": [
    "x = np.linspace(0, 1, 10)\n",
    "x"
   ]
  },
  {
   "cell_type": "markdown",
   "metadata": {},
   "source": [
    "Finally, we evaluate the function `np.sin` at these points."
   ]
  },
  {
   "cell_type": "code",
   "execution_count": 7,
   "metadata": {
    "collapsed": false
   },
   "outputs": [
    {
     "data": {
      "text/plain": [
       "array([ 0.        ,  0.11088263,  0.22039774,  0.3271947 ,  0.42995636,\n",
       "        0.52741539,  0.6183698 ,  0.70169788,  0.77637192,  0.84147098])"
      ]
     },
     "execution_count": 7,
     "metadata": {},
     "output_type": "execute_result"
    }
   ],
   "source": [
    "y = np.sin(x)\n",
    "y"
   ]
  },
  {
   "cell_type": "markdown",
   "metadata": {},
   "source": [
    "Note that :code:`np.sin(x)` is used and not `math.sin(x)`.  \n",
    "That's because :code:`x` in this case is a `ndarray`, to which the\n",
    "base Python :code:`math` functions do not apply.  \n",
    "\n",
    "The function `np.linspace(a, b, n)` gives `n` evenly-spaced points starting \n",
    "with `a` and ending with `b`.  Writing the equivalent C++ or\n",
    "Fortran to define such an `x` is a royal pain; that's why Python + \n",
    "NumPy (or MATLAB/Octave) is so nice for this type of problem."
   ]
  },
  {
   "cell_type": "markdown",
   "metadata": {
    "collapsed": true
   },
   "source": [
    "### Creating and Manipulating 1-D Arrays"
   ]
  },
  {
   "cell_type": "markdown",
   "metadata": {},
   "source": [
    "We already saw one way to create a one-dimensional array, i.e., `np.linspace`.  There are many other ways to create these arrays.  Suppose we have a list of numbers, e.g., 1.5, 2.7, and 3.1, and we'd like to make an array filled with these numbers.  That's easy:"
   ]
  },
  {
   "cell_type": "code",
   "execution_count": 10,
   "metadata": {
    "collapsed": false
   },
   "outputs": [
    {
     "data": {
      "text/plain": [
       "array([ 1.5,  2.7,  3.1])"
      ]
     },
     "execution_count": 10,
     "metadata": {},
     "output_type": "execute_result"
    }
   ],
   "source": [
    "a = np.array([1.5, 2.7, 3.1])\n",
    "a"
   ]
  },
  {
   "cell_type": "markdown",
   "metadata": {},
   "source": [
    "(It turns out that `[1.5, 2.7, 3.1]` is actually a Python `list`, but we'll cover those later on when we need them; for now, we'll stick with NumPy arrays exclusively.)\n",
    "\n",
    "The common ways to make 1-D arrays are listed in the table below.\n",
    "\n",
    "| function      | example use                     | what it creates creates     | \n",
    "|---------------|---------------------------------|-----------------------------|\n",
    "| `np.array`    | `np.array([1.5, 2.7, 3.1])`     | `array([ 1.5,  2.7,  3.1])` |\n",
    "| `np.linspace` | `np.linspace(0, 1, 3)`          | `array([ 0. ,  0.5,  1. ])` |\n",
    "| `np.ones`     | `np.ones(3)`                    | `array([ 1.,  1.,  1.])`    |\n",
    "| `np.zeros`    | `np.zeros(3)`                   | `array([ 0.,  0.,  0.])`    |\n",
    "| `np.arange`   | `np.arange(1, 4)`               | ` array([1, 2, 3])`         |\n",
    "\n"
   ]
  },
  {
   "cell_type": "code",
   "execution_count": 9,
   "metadata": {
    "collapsed": false
   },
   "outputs": [
    {
     "data": {
      "text/plain": [
       "array([ 1.,  1.])"
      ]
     },
     "execution_count": 9,
     "metadata": {},
     "output_type": "execute_result"
    }
   ],
   "source": [
    "np.ones(2)"
   ]
  },
  {
   "cell_type": "code",
   "execution_count": null,
   "metadata": {
    "collapsed": true
   },
   "outputs": [],
   "source": [
    "\n",
    "Another useful aspect of NumPy arrays is that the basic arithmetic \n",
    "operations of Python apply to such array a *element-wise* operations.\n",
    "For example, consider the following code:"
   ]
  }
 ],
 "metadata": {
  "kernelspec": {
   "display_name": "Python 3",
   "language": "python",
   "name": "python3"
  },
  "language_info": {
   "codemirror_mode": {
    "name": "ipython",
    "version": 3
   },
   "file_extension": ".py",
   "mimetype": "text/x-python",
   "name": "python",
   "nbconvert_exporter": "python",
   "pygments_lexer": "ipython3",
   "version": "3.6.0"
  }
 },
 "nbformat": 4,
 "nbformat_minor": 2
}
