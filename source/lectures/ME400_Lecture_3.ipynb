{
 "cells": [
  {
   "cell_type": "markdown",
   "metadata": {},
   "source": [
    "# Lecture 3 - Basic Data Processing with NumPy and Matplotlib\n",
    "\n",
    "## Overview, Objectives, and Key Terms\n",
    "\n",
    "In this lesson, we'll extend our Python based \"calculator\" to include processing of *arrays* of data.  By using NumPy, we get access to a very powerful, vectorized tool, and with Matplotlib, we can easily create professional looking graphics.  I think it's so important that students can create, process, and display data that I highlight it early in the course and revisit it throughtout.\n",
    "\n",
    "In this lesson, we'll explore some core features of NumPy and Matplotlib. In fact, you already saw these two packages action in the first homework. NumPy is the basic numerical package for Python.  A lot of its utility\n",
    "comes from its numerical, multidimensional array type, :code:`ndarray`. Use of these arrays in a *vectorized* way often leads to significantly faster code.  Moreover, the array-valued results of numerical computations are  easily visualized using Matplotlib, which was originally developed to provide MATLAB-like graphics in the Python environment.\n",
    "\n",
    "### Objectives\n",
    "\n",
    "By the end of this lesson, you should be able to\n",
    "\n",
    "- *define and manipulate one-dimensional and two-dimensionanal NumPy arrays*\n",
    "- *load and save data from and to text files*\n",
    "- *produce plots of data following best practices*\n",
    "\n",
    "\n",
    "### Key Terms\n",
    "\n",
    "- `numpy`\n",
    "- `matplotlib.pyplot`\n",
    "- `ndarray`"
   ]
  },
  {
   "cell_type": "markdown",
   "metadata": {},
   "source": [
    "## NumPy and One-Dimensional Arrays\n",
    "\n",
    "NumPy is not part of Python, but it is a well-supported package.  You've\n",
    "already installed it if you completed the first module.  Like all\n",
    "packages, we can import NumPy via \n",
    "\n",
    "```\n",
    "import numpy\n",
    "```\n",
    "\n",
    "However, it is far more common to use \n",
    "\n",
    "```\n",
    "import numpy as np\n",
    "```\n",
    "\n",
    "The difference between these approaches is in how we use the `numpy` module.  Built in to `numpy` are a number of same functions we saw in `math`, e.g., `sin`.  Hence, we could use `numpy.sin(1.0)`, but if we import `numpy` as `np`, we would use `np.sin(1.0)`.  I recommend the latter because (1) it is shorter and (2) most online documentation uses the `np` abbreviation.\n",
    "\n",
    "> **Note**: Use `import numpy as np` instead of `import numpy`.\n",
    "\n",
    "Here's a common task easily solved using NumPy: suppose we have some\n",
    "mathematical function `f(x)` that we need to evaluate at discrete\n",
    "points.  Why discrete data? Perhaps because that's all the input data \n",
    "we have, e.g., from measurements,  or perhaps we're trying to plot that \n",
    "function.  In any case, this is where NumPy excels.  Consider the specific\n",
    "case for which we want to evaluate $f(x) = \\sin(x)$\n",
    "for $x \\in [0, 1]$, where `x` is to limited to 10 evenly-spaced\n",
    "points.  All we need is the following:\n",
    "\n",
    "```\n",
    "    >>> import numpy as np\n",
    "    >>> x = np.linspace(0, 1, 10)\n",
    "    >>> print x\n",
    "    [ 0.          0.11111111  0.22222222  0.33333333  0.44444444  0.55555556\n",
    "      0.66666667  0.77777778  0.88888889  1.        ]\n",
    "    >>> f = np.sin(x)\n",
    "    >>> print f\n",
    "    [ 0.          0.11088263  0.22039774  0.3271947   0.42995636  0.52741539\n",
    "      0.6183698   0.70169788  0.77637192  0.84147098]\n",
    "```\n",
    "\n",
    "Note that :code:`np.sin(x)` is used and not `math.sin(x)`.  \n",
    "That's because :code:`x` in this case is a `ndarray`, to which the\n",
    "base Python :code:`math` functions do not apply.  The function \n",
    ":code:`np.linspace(a, b, n)` gives :code:`n` evenly-spaced points starting \n",
    "with :code:`a` and ending with :code:`b`.  Writing the equivalent C++ or\n",
    "Fortran to define such an :code:`x` is a royal pain; that's why Python + \n",
    "NumPy (or MATLAB/Octave) is so nice for this type of problem.\n",
    "\n",
    "Another useful aspect of NumPy arrays is that the basic arithmetic \n",
    "operations of Python apply to such array a *element-wise* operations.\n",
    "For example, consider the following code:"
   ]
  },
  {
   "cell_type": "code",
   "execution_count": null,
   "metadata": {
    "collapsed": true
   },
   "outputs": [],
   "source": []
  }
 ],
 "metadata": {
  "kernelspec": {
   "display_name": "Python 3",
   "language": "python",
   "name": "python3"
  },
  "language_info": {
   "codemirror_mode": {
    "name": "ipython",
    "version": 3
   },
   "file_extension": ".py",
   "mimetype": "text/x-python",
   "name": "python",
   "nbconvert_exporter": "python",
   "pygments_lexer": "ipython3",
   "version": "3.6.0"
  }
 },
 "nbformat": 4,
 "nbformat_minor": 2
}
