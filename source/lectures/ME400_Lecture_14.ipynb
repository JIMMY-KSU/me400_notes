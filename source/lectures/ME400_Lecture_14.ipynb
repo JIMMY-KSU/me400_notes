{
 "cells": [
  {
   "cell_type": "markdown",
   "metadata": {},
   "source": [
    "# Lecture 14 - Searching\n",
    "\n",
    "## Overview, Objectives, and Key Terms\n",
    " \n",
    "In this lecture and [Lecture 14](ME400_Lecture_14.ipynb), we tackle two of the most important practical problems in computing: *searching* and *sorting*.  We'll start with *searching* in this lecture because it is the simpler problem, but efficient searching depends on sorted values.  Along the way, algorithms will be classified by their *order*, a way to describe how good (or bad) an algorithm is for problems of different sizes.\n",
    "\n",
    "### Objectives\n",
    "\n",
    "By the end of this lesson, you should be able to\n",
    "\n",
    "- Sort an array of numbers using a linear search.\n",
    "- Sort an array of numbers using a binary search.\n",
    "- Describe what is meant by order and use it to compare algorithms.\n",
    "\n",
    "### Key Terms\n",
    "\n",
    "- linear search\n",
    "- binary search\n",
    "- `time.time()`\n",
    "- numerical experiment\n",
    "- order\n",
    "- $\\mathcal{O}$ (big-O) notation"
   ]
  },
  {
   "cell_type": "markdown",
   "metadata": {},
   "source": [
    "## The Basic, Linear Search\n",
    "\n",
    "A search algorithm solves the following problem: given a sequence of values, find the location of the element in the sequence equal to some value of interest.  If all we want is equality, then the order of the elements does not matter, and a simple solution is a **linear search** of the unsorted sequence.  Linear search algorithms represent the brute-force approach: search every element in the sequence, from one end to the other, until the match is found.  The algorithm can be summarized in pseudocode as follows:\n",
    "\n",
    "```\n",
    "\"\"\"Algorithm for linear search of an unsorted sequence\"\"\"\n",
    "Input: a, n, v # sequence, number elements, value of interest\n",
    "Set location = Not found\n",
    "Set i = 0\n",
    "while i < n\n",
    "    If a[i] == v then\n",
    "        Set location = i\n",
    "        Break  # stealing an idea from the Python we've learned\n",
    "Output: location\n",
    "```\n",
    "\n",
    "Searching requires that an expression line `a[i] == v` has meaning.  For `int`, `float`, and `str` values, it does.  For more complicated types, it might not be so obvious.  Are the lists `[1, 2, 3]` and `[2, 2, 2]` equal?  In total, no, but some elements are, and maybe that's what matters.\n",
    "\n",
    "\n",
    "> **Exercise**: Implement this algorithm in Python and test with sequence `[2, 6, 1, 7, 3]` and value `7`.\n",
    "\n",
    "One does not need to sort values before searching them with a linear search if *equality* is to be checked.  However, what if one wants to find (1) the location of an element in a sequence equal to some value or, if not found, (2) the location of the value that is closest to but less than the value of interest.  For this latter case, values need to be sorted.  Those algorithms will be studied next time, but an easy way to sort a sequence is with the `sorted()` function:"
   ]
  },
  {
   "cell_type": "code",
   "execution_count": 1,
   "metadata": {},
   "outputs": [
    {
     "data": {
      "text/plain": [
       "[1, 2, 3, 6, 7]"
      ]
     },
     "execution_count": 1,
     "metadata": {},
     "output_type": "execute_result"
    }
   ],
   "source": [
    "a = [2, 6, 1, 7, 3]\n",
    "sorted(a)"
   ]
  },
  {
   "cell_type": "markdown",
   "metadata": {},
   "source": [
    "Hence, we can modify somewhat the pseudocode to search sorted values and to find the element equal to (or nearest but smaller than) a value of interest.\n",
    "\n",
    "```\n",
    "\"\"\"Algorithm for linear search of a sorted sequence\"\"\"\n",
    "Input: a, n, v # sorted sequence, number elements, value of interest\n",
    "Set location = Not found\n",
    "Set i = 0\n",
    "while i < n\n",
    "    If a[i] > v then\n",
    "        Break\n",
    "    Set location = i\n",
    "    Set i = i + 1\n",
    "Output: location\n",
    "```"
   ]
  },
  {
   "cell_type": "markdown",
   "metadata": {},
   "source": [
    "Lets implement this algorithm as a function:"
   ]
  },
  {
   "cell_type": "code",
   "execution_count": 2,
   "metadata": {
    "collapsed": true
   },
   "outputs": [],
   "source": [
    "def linear_search(a, v):\n",
    "    \"\"\"Search a sorted sequence for value v. Return nearest \n",
    "       index to left if not found.\n",
    "    \"\"\"\n",
    "    location = None\n",
    "    i = 0\n",
    "    while i < len(a):\n",
    "        if a[i] > v:\n",
    "            break\n",
    "        location = i\n",
    "        i += 1\n",
    "    return location"
   ]
  },
  {
   "cell_type": "markdown",
   "metadata": {},
   "source": [
    "Now, let's test it on a sorted array and search for a few values:"
   ]
  },
  {
   "cell_type": "code",
   "execution_count": 3,
   "metadata": {},
   "outputs": [
    {
     "data": {
      "text/plain": [
       "2"
      ]
     },
     "execution_count": 3,
     "metadata": {},
     "output_type": "execute_result"
    }
   ],
   "source": [
    "a = [1, 5, 8, 11, 18]\n",
    "linear_search(a, 8) # expect 2"
   ]
  },
  {
   "cell_type": "code",
   "execution_count": 4,
   "metadata": {},
   "outputs": [
    {
     "data": {
      "text/plain": [
       "0"
      ]
     },
     "execution_count": 4,
     "metadata": {},
     "output_type": "execute_result"
    }
   ],
   "source": [
    "linear_search(a, 1) # expect 0"
   ]
  },
  {
   "cell_type": "code",
   "execution_count": 5,
   "metadata": {},
   "outputs": [
    {
     "data": {
      "text/plain": [
       "4"
      ]
     },
     "execution_count": 5,
     "metadata": {},
     "output_type": "execute_result"
    }
   ],
   "source": [
    "linear_search(a, 18) # expect 4"
   ]
  },
  {
   "cell_type": "code",
   "execution_count": 6,
   "metadata": {},
   "outputs": [
    {
     "data": {
      "text/plain": [
       "2"
      ]
     },
     "execution_count": 6,
     "metadata": {},
     "output_type": "execute_result"
    }
   ],
   "source": [
    "linear_search(a, 8) # expect 4 again"
   ]
  },
  {
   "cell_type": "markdown",
   "metadata": {},
   "source": [
    "So far, so good.  Does it work for all values of `v`?\n",
    "\n",
    "> **Exercise**: Produce a flow chart for the linear search algorithm (for sorted sequences).\n",
    "\n",
    "> **Exercise**: Modify the `linear_search` algorithm to accept a third argument `compare`, which should be a function that accepts two arguments.  For a sequence `a` and value `v`, `compare(a[i], v)` should return `True` if `a[i]` is greater than `v` and `False` otherwise.  Test your modified search function with `compare = lambda x, y: x[1] > y[1]`,  `a = [(1, 2), (4, 3), (1, 9), (4, 11)]` and `v = (1, 9)`.\n",
    "\n",
    ">> *Solution*:\n",
    ">>\n",
    "```python\n",
    "def linear_search(a, v, compare=lambda x, y: x > y):\n",
    "    \"\"\"Search a sorted sequence for value v. Return nearest \n",
    "       index to left if not found.\n",
    "    \"\"\"\n",
    "    location = None\n",
    "    i = 0\n",
    "    while i < len(a):\n",
    "        if compare(a[i], v):\n",
    "            break\n",
    "        location = i\n",
    "        i += 1\n",
    "    return location\n",
    "# Now test it\n",
    "a = [(1, 2), (4, 3), (1, 9), (4, 11)]\n",
    "v = (1, 9)\n",
    "result = linear_search(a, v, compare=lambda x, y: x[1] > y[1])\n",
    "```"
   ]
  },
  {
   "cell_type": "markdown",
   "metadata": {},
   "source": [
    "## A Bit About Order\n",
    "\n",
    "Why call linear search *linear*?  One reason might be that the process is pretty linear in that each element is checked one after another (i.e., no skipping around the elements to find the proverbial needle).  Another reason is that the number of times elements have to be compared (i.e., the number of times `a[i] > v` is evaluated) is proportional (and, in the worst, case *equal*) to the number of elements.  Any time we have a proportional relationship, that relationship is *linear*.  The familiar $y = ax + b$ is linear, because $y$ varies linearly with $x$.  For an array of $n$ elements, the number of comparisons is linear with $n$.  The exact number of comparisons depends on the value for which one is searching and the sequence of values.\n",
    "\n",
    "Generically, this linear relationship is given the fancy name *order $n$*, written compactly in the [big O](https://en.wikipedia.org/wiki/Big_O_notation) notation $\\mathcal{O}(n)$.  Quite frequently, the computational cost of an algorithm (i.e., how long it takes to run) is directly proportional to its order.  Hence, the time it takes for linear search to find its match should grow, roughly linearly, with the number of elements being searched.\n",
    "\n",
    "This fact may be intuitive, but it's always nice to see things demonstrated.  Here's what we'll do.  We'll write a little loop that goes from $n = 10$ to $n = 10^6$.  At each size of $n$, we'll draw a random number from 1 to $10^6$ and search for it in the `np.arange(1, n+1)`, a sorted sequence for sure.  For each step, we'll time things.  All together, these steps form the basis for a **numerical experiment**.  Here it all is:"
   ]
  },
  {
   "cell_type": "code",
   "execution_count": 7,
   "metadata": {},
   "outputs": [
    {
     "data": {
      "image/png": "[encoded data removed]",
      "text/plain": [
       "<matplotlib.figure.Figure at 0x10df23358>"
      ]
     },
     "metadata": {},
     "output_type": "display_data"
    }
   ],
   "source": [
    "\"\"\"Program to show time as a function of size for linear search.\"\"\"\n",
    "from time import time\n",
    "import numpy as np\n",
    "import matplotlib.pyplot as plt\n",
    "\n",
    "# Set the seed to keep the output fixed\n",
    "np.random.seed(12345)\n",
    "\n",
    "# Set the n values and initialize a list for times\n",
    "n_values = np.logspace(1, 6, 10)\n",
    "t_values = []\n",
    "\n",
    "for n in n_values:\n",
    "    n = int(n)\n",
    "    # Generate the array 1, 2, ..., n\n",
    "    a = np.arange(1, n+1)\n",
    "    # Get a random int from [1, n]\n",
    "    v = np.random.randint(1,n+1)\n",
    "    # Start the timer\n",
    "    t_start = time()\n",
    "    # Do the search\n",
    "    location = linear_search(a, v)\n",
    "    # Determine the elapsed time (in seconds) and save it\n",
    "    t_elapsed = time() - t_start\n",
    "    t_values.append(t_elapsed)\n",
    "    \n",
    "# Plot the times vs values on a log log plot.\n",
    "# Also, an expected \"trend\" line is included.\n",
    "plt.figure(1)\n",
    "plt.loglog(n_values, t_values, 'k-o', label='times') \n",
    "plt.loglog(n_values, 1e-7*n_values, 'r--', label='linear')\n",
    "plt.xlabel('n')\n",
    "plt.ylabel('time (s)')\n",
    "plt.legend()\n",
    "plt.show()"
   ]
  },
  {
   "cell_type": "markdown",
   "metadata": {},
   "source": [
    "Based on the figure, the times are not perfectly linear with $n$, but then again, the experiment is based on searching for a random value (which could be at the very beginning or the very end of the sorted array).  A more complete approach would be to do the search *at each $n$ several times* and average the resulting elapsed times.\n",
    "\n",
    "> **Exercise**: Modify the program above so that five different values of `v` are selected for each value of `n`.  Then, average the times and plot the results."
   ]
  },
  {
   "cell_type": "markdown",
   "metadata": {},
   "source": [
    "Such **numerical experiments** based on randome numbers are great ways to explore the behavior of algorithms for a variety of inputs.  "
   ]
  },
  {
   "cell_type": "markdown",
   "metadata": {},
   "source": [
    "## Binary Search\n",
    "\n",
    "**Linear search** is easy to understand and easy to implement, but it is not the fastest way to search, and it's probably not what you use when searching ordered data.  \n",
    "\n",
    "Think about real-life scenarios in which ordered data is searched by hand.  One such scenario is when looking up a word in a dictionary (an actual, dead-tree book, not the website with the search tool).  Surely, you don't flip through, page by page, from \"a\" to \"z,\" until the item is found.  Rather, you likely take a large jump to the letter of interest (a bonafide search algorithm for things organized into smaller collections like alphabetized words).  If you're like me, you then quickly identify a page near to but *before* the one of interest and a page near to but *after* the one of interest.  Next, you check some page between those.  If it contains the word of interest, great, your job is done.  If it is before (or after) the word of interest, you have just reduced the number of pages to search by about two.\n",
    "\n",
    "The process just described is the basic idea of **binary search**: always divide the search domain in half.  One can consider binary search to be the simplest of **divide and conquer** techniques.  [Lecture 15](ME400_Lecture_15.ipynb) will show how divide and conquer applies to the problem of sorting."
   ]
  },
  {
   "cell_type": "markdown",
   "metadata": {},
   "source": [
    "### The basic algorithm\n",
    "\n",
    "For a sorted sequence `a` of `n` values, a simple, binary search algorithm is defined by the following pseudocode:\n",
    "\n",
    "```octave\n",
    "\"\"\"Algorithm for binary search of a sorted sequence\"\"\"\n",
    "Input: a, n, v # Sorted sequence, number elements, value of interest\n",
    "\n",
    "# Initialize the location\n",
    "Set location = Not Found\n",
    "# Set the left and right search bounds\n",
    "Set L = 0           \n",
    "Set R = n - 1\n",
    "While L < R\n",
    "    # Set the central point (use integer division!)\n",
    "    Set C = (L + R) // 2 \n",
    "    If v == a[C] then\n",
    "        # Our search is successful, so we set\n",
    "        # the location and call it quits early.\n",
    "        Set location = C\n",
    "        Break\n",
    "    If v < a[C] then\n",
    "        # V is in the first half of a[L:R],\n",
    "        # so modify the right bound\n",
    "        Set R = C - 1\n",
    "    If v > a[C] then\n",
    "        # V is in the second half of a[L:R]\n",
    "        # so modify the left bound\n",
    "        Set L = C + 1\n",
    "```\n",
    "\n",
    "This algorithm is substantially more complex than linear search.  Notice what happens at each step: either (1) the value `v` is found or (2) one of the bounds (`L` or `R`) are changed, reducing the range to be searched by half.\n",
    "\n",
    "\n",
    "> **Exercise**: Step through this algorithm for `a = [1, 3, 7, 9, 11]` and `v = 3`.  We know that `L = 0` and `R = 4` before the loop begins.  What are `L` and `R` after one time through the loop?  Twice?  Three times?  If it helps, you can add `Set counter = 0` before the `While` and increment it.  Then, trace the values of `counter`, `L`, `R`, and `C` at each iteration.\n",
    "\n",
    "> **Exercise**: Do the same for `v = 2` (which is not in `a`).\n",
    "\n",
    "> **Exercise**: Develop a flowchart for the binary search algorithm shown above in pseudocode.\n"
   ]
  },
  {
   "cell_type": "markdown",
   "metadata": {},
   "source": [
    "### Back to Order\n",
    "\n",
    "Linear search is $\\mathcal{O}(n)$, i.e., order $n$.  Binary search is faster.  It requires fewer comparisons.  Think about it this way: apply both search algorithms to find `9` in `[1, 3, 7, 9, 11]`.  At each step, the elements left to search are as follows (where the bolded entry indicates the element is found at that step):\n",
    "\n",
    "| Step  | Linear              |  Binary             |\n",
    "|-------|---------------------|---------------------|\n",
    "| 0     | `[1, 3, 7, 9, 11]`  |  `[1, 3, 7, 9, 11]` |\n",
    "| 1     | `[3, 7, 9, 11]`     |  **`[9, 11]`**      |\n",
    "| 2     | `[7, 9, 11]`        |                     |\n",
    "| 3     | **`[9, 11]`**       |                     |\n",
    "\n",
    "\n",
    "Here, it appears binary search outperforms linear search by about a factor of two, but in general it is *much better*.  In fact, binary search is $\\mathcal{O}(\\log n)$.  More specifically, the number of comparisons required is proportional to $\\log_2 n$, but remember that $\\log_x n = \\alpha \\log_y n$ for $\\alpha = \\log_x(y)$.  How *much* better is $\\mathcal{O}(\\log n)$ than $\\mathcal{O}(n)$? "
   ]
  },
  {
   "cell_type": "code",
   "execution_count": 8,
   "metadata": {},
   "outputs": [
    {
     "name": "stdout",
     "output_type": "stream",
     "text": [
      "For n =      10, binary is better by about a factor of 4.3e+00\n",
      "For n =     100, binary is better by about a factor of 2.2e+01\n",
      "For n =    1000, binary is better by about a factor of 1.4e+02\n",
      "For n =   10000, binary is better by about a factor of 1.1e+03\n",
      "For n =  100000, binary is better by about a factor of 8.7e+03\n",
      "For n = 1000000, binary is better by about a factor of 7.2e+04\n"
     ]
    }
   ],
   "source": [
    "for n in np.logspace(1, 6, 6) :\n",
    "    print(\"For n = {:7.0f}, binary is better by about a factor of {:.1e}\".format(n, n/np.log(n)))"
   ]
  },
  {
   "cell_type": "markdown",
   "metadata": {},
   "source": [
    "That's a huge savings when $n$ is greater than about 10!  The savings just get better with larger $n$.\n",
    "\n",
    "> **Exercise**: Implement the binary search algorithm above as a Python function `binary_search_basic`.\n",
    "\n",
    "> **Exercise**:  Implement a *modified* binary search algorithm in Python as a function `binary_search` that returns the location of the element nearest to but less than `v` when `v` is not found.\n",
    "\n",
    "> **Exercise**: Repeat the numerical experiment performed above using `binary_search` in place of `linear_search`.  Make sure to replace the trend line with what you expect.\n",
    "\n",
    "> **Exercise**: Implement the binary search function using recursion."
   ]
  },
  {
   "cell_type": "markdown",
   "metadata": {},
   "source": [
    "## A Comment on Built-In Functions\n",
    "\n",
    "Given `a = [1, 3, 7, 9, 11]`, Python already has a way to find the location of `v = 9`:"
   ]
  },
  {
   "cell_type": "code",
   "execution_count": 9,
   "metadata": {},
   "outputs": [
    {
     "data": {
      "text/plain": [
       "3"
      ]
     },
     "execution_count": 9,
     "metadata": {},
     "output_type": "execute_result"
    }
   ],
   "source": [
    "a = [1, 3, 7, 9, 11]\n",
    "a.index(9)"
   ]
  },
  {
   "cell_type": "code",
   "execution_count": 10,
   "metadata": {},
   "outputs": [
    {
     "name": "stdout",
     "output_type": "stream",
     "text": [
      "Help on built-in function index:\n",
      "\n",
      "index(...) method of builtins.list instance\n",
      "    L.index(value, [start, [stop]]) -> integer -- return first index of value.\n",
      "    Raises ValueError if the value is not present.\n",
      "\n"
     ]
    }
   ],
   "source": [
    "help(a.index)"
   ]
  },
  {
   "cell_type": "code",
   "execution_count": 11,
   "metadata": {},
   "outputs": [
    {
     "ename": "ValueError",
     "evalue": "2 is not in list",
     "output_type": "error",
     "traceback": [
      "\u001b[0;31m---------------------------------------------------------------------------\u001b[0m",
      "\u001b[0;31mValueError\u001b[0m                                Traceback (most recent call last)",
      "\u001b[0;32m<ipython-input-11-8e455ff4af22>\u001b[0m in \u001b[0;36m<module>\u001b[0;34m()\u001b[0m\n\u001b[0;32m----> 1\u001b[0;31m \u001b[0ma\u001b[0m\u001b[0;34m.\u001b[0m\u001b[0mindex\u001b[0m\u001b[0;34m(\u001b[0m\u001b[0;36m2\u001b[0m\u001b[0;34m)\u001b[0m\u001b[0;34m\u001b[0m\u001b[0m\n\u001b[0m",
      "\u001b[0;31mValueError\u001b[0m: 2 is not in list"
     ]
    }
   ],
   "source": [
    "a.index(2)"
   ]
  },
  {
   "cell_type": "markdown",
   "metadata": {},
   "source": [
    "The `index` function does not require that the elements of `a`  be sorted:"
   ]
  },
  {
   "cell_type": "code",
   "execution_count": 12,
   "metadata": {},
   "outputs": [
    {
     "data": {
      "text/plain": [
       "3"
      ]
     },
     "execution_count": 12,
     "metadata": {},
     "output_type": "execute_result"
    }
   ],
   "source": [
    "[3, 11, 7, 9, 1].index(9)"
   ]
  },
  {
   "cell_type": "markdown",
   "metadata": {},
   "source": [
    "Based on the documentation, it's not clear what sort of search is powering the `index` function.  You could dig in to the underlying code, or you could try a numerical experiment!\n",
    "\n",
    "> **Exercise**:  Adapt the numerical experiment above to determine whether the `index` function is linear or binary.  Does its behavior change if `a` is unsorted?  "
   ]
  },
  {
   "cell_type": "markdown",
   "metadata": {},
   "source": [
    "## Further Reading\n",
    "\n",
    "None at this time."
   ]
  }
 ],
 "metadata": {
  "kernelspec": {
   "display_name": "Python 3",
   "language": "python",
   "name": "python3"
  },
  "language_info": {
   "codemirror_mode": {
    "name": "ipython",
    "version": 3
   },
   "file_extension": ".py",
   "mimetype": "text/x-python",
   "name": "python",
   "nbconvert_exporter": "python",
   "pygments_lexer": "ipython3",
   "version": "3.6.1"
  }
 },
 "nbformat": 4,
 "nbformat_minor": 2
}
