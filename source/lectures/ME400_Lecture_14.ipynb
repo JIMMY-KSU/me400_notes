{
 "cells": [
  {
   "cell_type": "markdown",
   "metadata": {},
   "source": [
    "# Lecture 14 - Searching\n",
    "\n",
    "## Overview, Objectives, and Key Terms\n",
    " \n",
    "In this lecture and [Lecture 14](ME400_Lecture_14.ipynb), we tackle two of the most important practical problems in computing: *searching* and *sorting*.  We'll start with *searching* in this lecture because it is the simpler problem, but efficient searching depends on sorted values.  Along the way, algorithms will be classified by their *order*, a way to describe how good (or bad) an algorithm is for problems of different sizes.\n",
    "\n",
    "### Objectives\n",
    "\n",
    "By the end of this lesson, you should be able to\n",
    "\n",
    "- Sort an array of numbers using a linear search.\n",
    "- Sort an array of numbers using a binary search.\n",
    "- Describe what is mean by order and use it to compare algorithms.\n",
    "\n",
    "### Key Terms\n",
    "\n",
    "- linear search\n",
    "- binary search\n",
    "- `time.time()`\n",
    "- `%timeit"
   ]
  },
  {
   "cell_type": "markdown",
   "metadata": {},
   "source": [
    "## The Basic, Linear Search\n",
    "\n",
    "A search algorithm solves the following problem: given a sequence of values, find the location of the element in the sequence equal to some value of interest.  If all we want is equality, then the order of the elements does not matter, and a simple solution is a **linear search** of the unsorted sequence.  Linear search algorithms represent the brute-force approach: search every element in the sequence, from one end to the other, until the match is found.  The algorithm can be summarized in pseudocode as follows:\n",
    "\n",
    "```\n",
    "\"\"\"Linear search for unsorted sequence\"\"\"\n",
    "Input: a, n, v # sequence, number elements, value of interest\n",
    "Set location = Not found\n",
    "Set i = 0\n",
    "while i < n\n",
    "    If a[i] == v then\n",
    "        Set location = i\n",
    "        Break  # stealing an idea from the Python we've learned\n",
    "Output: location\n",
    "```\n",
    "\n",
    "Searching requires that an expression line `a[i] == v` has meaning.  For `int`, `float`, and `str` values, it does.  For more complicated types, it might not be so obvious.  Are the lists `[1, 2, 3]` and `[2, 2, 2]` equal?  In total, no, but some elements are, and maybe that's what matters.\n",
    "\n",
    "\n",
    "> **Exercise**: Implement this algorithm in Python and test with sequence `[2, 6, 1, 7, 3]` and value `7`.\n",
    "\n",
    "One does not need to sort values before searching them with a linear search if *equality* is to be checked.  However, what if one wants to find (1) the location of an element in a sequence equal to some value or, if not found, (2) the location of the value that is closest to but less than the value of interest.  For this latter case, values need to be sorted.  Those algorithms will be studied next time, but an easy way to sort a sequence is with the `sorted()` function:"
   ]
  },
  {
   "cell_type": "code",
   "execution_count": 1,
   "metadata": {},
   "outputs": [
    {
     "data": {
      "text/plain": [
       "[1, 2, 3, 6, 7]"
      ]
     },
     "execution_count": 1,
     "metadata": {},
     "output_type": "execute_result"
    }
   ],
   "source": [
    "a = [2, 6, 1, 7, 3]\n",
    "sorted(a)"
   ]
  },
  {
   "cell_type": "markdown",
   "metadata": {},
   "source": [
    "Hence, we can modify somewhat the pseudocode to search sorted values and to find the element equal to (or nearest but smaller than) a value of interest.\n",
    "\n",
    "```\n",
    "\"\"\"Linear search for sorted sequence\"\"\"\n",
    "Input: a, n, v # sorted sequence, number elements, value of interest\n",
    "Set location = Not found\n",
    "Set i = 0\n",
    "while i < n\n",
    "    If a[i] > v then\n",
    "        Break\n",
    "    Set location = i\n",
    "    Set i = i + 1\n",
    "Output: location\n",
    "```"
   ]
  },
  {
   "cell_type": "markdown",
   "metadata": {},
   "source": [
    "Lets implement this algorithm as a function:"
   ]
  },
  {
   "cell_type": "code",
   "execution_count": 12,
   "metadata": {
    "collapsed": true
   },
   "outputs": [],
   "source": [
    "def linear_search(a, v):\n",
    "    \"\"\"Search a sorted sequence for value v. Return nearest \n",
    "       index to left if not found.\n",
    "    \"\"\"\n",
    "    location = None\n",
    "    i = 0\n",
    "    while i < len(a):\n",
    "        if a[i] > v:\n",
    "            break\n",
    "        location = i\n",
    "        i += 1\n",
    "    return location"
   ]
  },
  {
   "cell_type": "markdown",
   "metadata": {},
   "source": [
    "Now, let's test it on a sorted array and search for a few values:"
   ]
  },
  {
   "cell_type": "code",
   "execution_count": 19,
   "metadata": {},
   "outputs": [
    {
     "data": {
      "text/plain": [
       "2"
      ]
     },
     "execution_count": 19,
     "metadata": {},
     "output_type": "execute_result"
    }
   ],
   "source": [
    "a = [1, 5, 8, 11, 18]\n",
    "linear_search(a, 8) # expect 2"
   ]
  },
  {
   "cell_type": "code",
   "execution_count": 20,
   "metadata": {},
   "outputs": [
    {
     "data": {
      "text/plain": [
       "0"
      ]
     },
     "execution_count": 20,
     "metadata": {},
     "output_type": "execute_result"
    }
   ],
   "source": [
    "linear_search(a, 1) # expect 0"
   ]
  },
  {
   "cell_type": "code",
   "execution_count": 21,
   "metadata": {},
   "outputs": [
    {
     "data": {
      "text/plain": [
       "4"
      ]
     },
     "execution_count": 21,
     "metadata": {},
     "output_type": "execute_result"
    }
   ],
   "source": [
    "linear_search(a, 18) # expect 4"
   ]
  },
  {
   "cell_type": "code",
   "execution_count": 22,
   "metadata": {},
   "outputs": [
    {
     "data": {
      "text/plain": [
       "2"
      ]
     },
     "execution_count": 22,
     "metadata": {},
     "output_type": "execute_result"
    }
   ],
   "source": [
    "linear_search(a, 8) # expect 4 again"
   ]
  },
  {
   "cell_type": "markdown",
   "metadata": {},
   "source": [
    "So far, so good.  \n",
    "\n",
    "> **Exercise**: Modify the `linear_search` algorithm to accept a third argument `compare`, which should be a function that accepts two arguments.  For a sequence `a` and value `v`, `compare(a[i], v)` should return `True` if `a[i]` is greater than `v` and `False` otherwise.  Test your modified search function with `compare = lambda x, y: x[1] > y[1]`,  `a = [(1, 2), (4, 3), (1, 9), (4, 11)]` and `v = (1, 9)`."
   ]
  },
  {
   "cell_type": "markdown",
   "metadata": {},
   "source": [
    "## A Bit About Order\n",
    "\n",
    "Why call linear search *linear*?  One reason might be that the process is pretty linear.  One element is checked after another.  Another reason is that the number of times elements have to be compared (i.e., the number of times `a[i] > v` is evaluated) is proportional (and, in the worst, case *equal*) to the number of elements.  Any time we have a proportional relationship, that relationship is *linear*.  Good old $y = ax + b$ is linear, because $y$ varies linearly with $x$.  For an array of $n$ elements, the number of comparisons is linear with $n$.  The exact number of comparisons depends on the value for which one is searching and the sequence of values.\n",
    "\n",
    "Generically, this linear relationship is given the fancy name *order $n$*, written compactly as $\\mathcal{O}(n)$.  Quite frequently, the computational cost (i.e., how long it takes to run) of an algorithm is directly proportional to its order.  Hence, the time it takes for linear search to find its match should grow, roughly linearly, with the number of elements being searched.\n",
    "\n",
    "This fact may be intuitive, but it's always nice to see things demonstrated.  Here's what we'll do.  We'll write a little loop that goes from $n = 10$ to $n = 10^6$.  At each size of $n$, we'll draw a random number from 1 to $10^6$ and search for it in the `np.arange(1, n+1)`$, a sorted sequence for sure.  For each step, we'll time things."
   ]
  },
  {
   "cell_type": "code",
   "execution_count": 41,
   "metadata": {},
   "outputs": [
    {
     "data": {
      "image/png": "[encoded data removed]",
      "text/plain": [
       "<matplotlib.figure.Figure at 0x11a8fdcf8>"
      ]
     },
     "metadata": {},
     "output_type": "display_data"
    }
   ],
   "source": [
    "\"\"\"Program to show time as a function of size for linear search.\"\"\"\n",
    "from time import time\n",
    "import numpy as np\n",
    "import matplotlib.pyplot as plt\n",
    "\n",
    "# Set the seed to keep the output fixed\n",
    "np.random.seed(12345)\n",
    "\n",
    "# Set the n values and initialize a list for times\n",
    "n_values = [1e1, 5e1, 1e2, 5e2, 1e3, 5e3, 1e4, 5e4, 1e5, 5e5, 1e6]\n",
    "t_values = []\n",
    "\n",
    "for n in n_values:\n",
    "    # Generate the array 1, 2, ..., n\n",
    "    a = np.arange(1, n+1)\n",
    "    # Get a random int from [1, n]\n",
    "    v = np.random.randint(1,n+1)\n",
    "    # Start the timer\n",
    "    t_start = time()\n",
    "    # Do the search\n",
    "    location = linear_search(a, v)\n",
    "    # Determine the elapsed time (in seconds) and save it\n",
    "    t_elapsed = time() - t_start\n",
    "    t_values.append(t_elapsed)\n",
    "    \n",
    "# Plot the times vs values on a log log plot.\n",
    "plt.figure(1)\n",
    "plt.loglog(n_values, t_values, 'k-o')  \n",
    "plt.xlabel('n')\n",
    "plt.ylabel('time (s)')\n",
    "plt.show()"
   ]
  },
  {
   "cell_type": "markdown",
   "metadata": {},
   "source": [
    "Well, this output is not perfectly linear, but then it is based on searching for a random value (which could be at the very beginning or the very end of the sorted array).  A more complete approach would be to do the search *at each n several times* and average the resulting times.\n",
    "\n",
    "> **Exercise**: Modify the program above so that five different values of `v` are selected for each value of `n`.  Then, average the times and plot the results."
   ]
  },
  {
   "cell_type": "code",
   "execution_count": null,
   "metadata": {
    "collapsed": true
   },
   "outputs": [],
   "source": []
  }
 ],
 "metadata": {
  "kernelspec": {
   "display_name": "Python 3",
   "language": "python",
   "name": "python3"
  },
  "language_info": {
   "codemirror_mode": {
    "name": "ipython",
    "version": 3
   },
   "file_extension": ".py",
   "mimetype": "text/x-python",
   "name": "python",
   "nbconvert_exporter": "python",
   "pygments_lexer": "ipython3",
   "version": "3.6.1"
  }
 },
 "nbformat": 4,
 "nbformat_minor": 2
}
