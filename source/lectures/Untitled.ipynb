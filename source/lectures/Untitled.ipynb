{
 "cells": [
  {
   "cell_type": "code",
   "execution_count": 55,
   "metadata": {},
   "outputs": [],
   "source": [
    "import sympy as sy\n",
    "sy.init_printing()\n",
    "D, SigA, S, phi, x, nu, SigF, k, a, B = sy.symbols('D Sigma_a S phi x nu Sigma_f k a B')"
   ]
  },
  {
   "cell_type": "code",
   "execution_count": 49,
   "metadata": {},
   "outputs": [
    {
     "data": {
      "image/png": "[encoded data removed]",
      "text/latex": [
       "$$- D \\frac{d^{2}}{d x^{2}}  \\phi{\\left (x \\right )} + \\Sigma_{a} \\phi{\\left (x \\right )} = \\frac{\\Sigma_{f} \\nu}{k} \\phi{\\left (x \\right )}$$"
      ],
      "text/plain": [
       "      2                             \n",
       "     d                    Σ_f⋅ν⋅φ(x)\n",
       "- D⋅───(φ(x)) + Σₐ⋅φ(x) = ──────────\n",
       "      2                       k     \n",
       "    dx                              "
      ]
     },
     "execution_count": 49,
     "metadata": {},
     "output_type": "execute_result"
    }
   ],
   "source": [
    "ode = sy.Eq(-D*sy.diff(phi(x), x, 2) + SigA*phi(x), (1/k)*nu*SigF*phi(x))\n",
    "ode"
   ]
  },
  {
   "cell_type": "code",
   "execution_count": 50,
   "metadata": {},
   "outputs": [
    {
     "data": {
      "image/png": "[encoded data removed]",
      "text/latex": [
       "$$\\phi{\\left (x \\right )} = C_{1} e^{- x \\sqrt{\\frac{1}{D} \\left(\\Sigma_{a} - \\frac{\\Sigma_{f} \\nu}{k}\\right)}} + C_{2} e^{x \\sqrt{\\frac{1}{D} \\left(\\Sigma_{a} - \\frac{\\Sigma_{f} \\nu}{k}\\right)}}$$"
      ],
      "text/plain": [
       "                    ____________               ____________\n",
       "                   ╱      Σ_f⋅ν               ╱      Σ_f⋅ν \n",
       "                  ╱  Σₐ - ─────              ╱  Σₐ - ───── \n",
       "                 ╱          k               ╱          k   \n",
       "           -x⋅  ╱    ──────────        x⋅  ╱    ────────── \n",
       "              ╲╱         D               ╲╱         D      \n",
       "φ(x) = C₁⋅ℯ                      + C₂⋅ℯ                    "
      ]
     },
     "execution_count": 50,
     "metadata": {},
     "output_type": "execute_result"
    }
   ],
   "source": [
    "sol = sy.dsolve(ode)\n",
    "sol"
   ]
  },
  {
   "cell_type": "markdown",
   "metadata": {},
   "source": [
    "One of these constants arbitrary.  Let's set $C_1$ to 1 and $C_2$ to C."
   ]
  },
  {
   "cell_type": "code",
   "execution_count": 51,
   "metadata": {},
   "outputs": [
    {
     "data": {
      "image/png": "[encoded data removed]",
      "text/latex": [
       "$$C e^{x \\sqrt{\\frac{1}{D} \\left(\\Sigma_{a} - \\frac{\\Sigma_{f} \\nu}{k}\\right)}} + e^{- x \\sqrt{\\frac{1}{D} \\left(\\Sigma_{a} - \\frac{\\Sigma_{f} \\nu}{k}\\right)}}$$"
      ],
      "text/plain": [
       "           ____________             ____________\n",
       "          ╱      Σ_f⋅ν             ╱      Σ_f⋅ν \n",
       "         ╱  Σₐ - ─────            ╱  Σₐ - ───── \n",
       "        ╱          k             ╱          k   \n",
       "   x⋅  ╱    ──────────     -x⋅  ╱    ────────── \n",
       "     ╲╱         D             ╲╱         D      \n",
       "C⋅ℯ                     + ℯ                     "
      ]
     },
     "execution_count": 51,
     "metadata": {},
     "output_type": "execute_result"
    }
   ],
   "source": [
    "C1, C2, C = sy.symbols('C1 C2 C')\n",
    "sol = sol.rhs.subs(C1, 1).subs(C2, C)\n",
    "sol"
   ]
  },
  {
   "cell_type": "markdown",
   "metadata": {},
   "source": [
    "Boundary conditions: zero current at $x = \\pm a$."
   ]
  },
  {
   "cell_type": "code",
   "execution_count": 53,
   "metadata": {},
   "outputs": [
    {
     "data": {
      "image/png": "[encoded data removed]",
      "text/latex": [
       "$$\\frac{1}{4} \\left(C - 2 D \\sqrt{\\frac{1}{D k} \\left(\\Sigma_{a} k - \\Sigma_{f} \\nu\\right)} \\left(C - e^{2 a \\sqrt{\\frac{1}{D k} \\left(\\Sigma_{a} k - \\Sigma_{f} \\nu\\right)}}\\right) + e^{2 a \\sqrt{\\frac{1}{D k} \\left(\\Sigma_{a} k - \\Sigma_{f} \\nu\\right)}}\\right) e^{- a \\sqrt{\\frac{1}{D k} \\left(\\Sigma_{a} k - \\Sigma_{f} \\nu\\right)}} = 0$$"
      ],
      "text/plain": [
       "⎛                           ⎛             ______________⎞            _________\n",
       "⎜                           ⎜            ╱ Σₐ⋅k - Σ_f⋅ν ⎟           ╱ Σₐ⋅k - Σ\n",
       "⎜            ______________ ⎜     2⋅a⋅  ╱  ──────────── ⎟    2⋅a⋅  ╱  ────────\n",
       "⎜           ╱ Σₐ⋅k - Σ_f⋅ν  ⎜         ╲╱       D⋅k      ⎟        ╲╱       D⋅k \n",
       "⎜C - 2⋅D⋅  ╱  ──────────── ⋅⎝C - ℯ                      ⎠ + ℯ                 \n",
       "⎝        ╲╱       D⋅k                                                         \n",
       "──────────────────────────────────────────────────────────────────────────────\n",
       "                                                     4                        \n",
       "\n",
       "_____⎞         ______________    \n",
       "_f⋅ν ⎟        ╱ Σₐ⋅k - Σ_f⋅ν     \n",
       "──── ⎟  -a⋅  ╱  ────────────     \n",
       "     ⎟     ╲╱       D⋅k          \n",
       "     ⎟⋅ℯ                         \n",
       "     ⎠                           \n",
       "───────────────────────────── = 0\n",
       "                                 "
      ]
     },
     "execution_count": 53,
     "metadata": {},
     "output_type": "execute_result"
    }
   ],
   "source": [
    "J_right = phi(x)/4 - D*sy.diff(phi(x), x)/2\n",
    "J_left = phi(x)/4 + D*sy.diff(phi(x), x)/2\n",
    "bc_left = sy.Eq(J_right.subs(phi(x), sol).doit().subs(x, -a), 0)\n",
    "bc_left.simplify()"
   ]
  },
  {
   "cell_type": "code",
   "execution_count": 56,
   "metadata": {},
   "outputs": [
    {
     "data": {
      "image/png": "[encoded data removed]",
      "text/latex": [
       "$$\\frac{1}{4} \\left(C - 2 D \\sqrt{\\frac{1}{D k} \\left(\\Sigma_{a} k - \\Sigma_{f} \\nu\\right)} \\left(C - e^{2 a \\sqrt{\\frac{1}{D k} \\left(\\Sigma_{a} k - \\Sigma_{f} \\nu\\right)}}\\right) + e^{2 a \\sqrt{\\frac{1}{D k} \\left(\\Sigma_{a} k - \\Sigma_{f} \\nu\\right)}}\\right) e^{- a \\sqrt{\\frac{1}{D k} \\left(\\Sigma_{a} k - \\Sigma_{f} \\nu\\right)}} = 0$$"
      ],
      "text/plain": [
       "⎛                           ⎛             ______________⎞            _________\n",
       "⎜                           ⎜            ╱ Σₐ⋅k - Σ_f⋅ν ⎟           ╱ Σₐ⋅k - Σ\n",
       "⎜            ______________ ⎜     2⋅a⋅  ╱  ──────────── ⎟    2⋅a⋅  ╱  ────────\n",
       "⎜           ╱ Σₐ⋅k - Σ_f⋅ν  ⎜         ╲╱       D⋅k      ⎟        ╲╱       D⋅k \n",
       "⎜C - 2⋅D⋅  ╱  ──────────── ⋅⎝C - ℯ                      ⎠ + ℯ                 \n",
       "⎝        ╲╱       D⋅k                                                         \n",
       "──────────────────────────────────────────────────────────────────────────────\n",
       "                                                     4                        \n",
       "\n",
       "_____⎞         ______________    \n",
       "_f⋅ν ⎟        ╱ Σₐ⋅k - Σ_f⋅ν     \n",
       "──── ⎟  -a⋅  ╱  ────────────     \n",
       "     ⎟     ╲╱       D⋅k          \n",
       "     ⎟⋅ℯ                         \n",
       "     ⎠                           \n",
       "───────────────────────────── = 0\n",
       "                                 "
      ]
     },
     "execution_count": 56,
     "metadata": {},
     "output_type": "execute_result"
    }
   ],
   "source": [
    "bc_left.simplify().subs( (1/D*k)*(SigA*k-SigF*nu), B)"
   ]
  },
  {
   "cell_type": "code",
   "execution_count": 33,
   "metadata": {},
   "outputs": [
    {
     "data": {
      "image/png": "[encoded data removed]",
      "text/latex": [
       "$$\\frac{C_{1}}{4} e^{- a \\sqrt{\\frac{1}{D} \\left(\\Sigma_{a} - \\Sigma_{f} \\nu\\right)}} + \\frac{C_{2}}{4} e^{a \\sqrt{\\frac{1}{D} \\left(\\Sigma_{a} - \\Sigma_{f} \\nu\\right)}} + \\frac{D}{2} \\left(- C_{1} \\sqrt{\\frac{1}{D} \\left(\\Sigma_{a} - \\Sigma_{f} \\nu\\right)} e^{- a \\sqrt{\\frac{1}{D} \\left(\\Sigma_{a} - \\Sigma_{f} \\nu\\right)}} + C_{2} \\sqrt{\\frac{1}{D} \\left(\\Sigma_{a} - \\Sigma_{f} \\nu\\right)} e^{a \\sqrt{\\frac{1}{D} \\left(\\Sigma_{a} - \\Sigma_{f} \\nu\\right)}}\\right) = 0$$"
      ],
      "text/plain": [
       "                                                     ⎛                        \n",
       "           ____________             ____________     ⎜                        \n",
       "          ╱ Σₐ - Σ_f⋅ν             ╱ Σₐ - Σ_f⋅ν      ⎜         ____________  -\n",
       "    -a⋅  ╱  ──────────        a⋅  ╱  ──────────      ⎜        ╱ Σₐ - Σ_f⋅ν    \n",
       "       ╲╱       D               ╲╱       D         D⋅⎜- C₁⋅  ╱  ────────── ⋅ℯ \n",
       "C₁⋅ℯ                      C₂⋅ℯ                       ⎝     ╲╱       D         \n",
       "─────────────────────── + ────────────────────── + ───────────────────────────\n",
       "           4                        4                                         \n",
       "\n",
       "      ____________                              ____________⎞    \n",
       "     ╱ Σₐ - Σ_f⋅ν                              ╱ Σₐ - Σ_f⋅ν ⎟    \n",
       "a⋅  ╱  ──────────           ____________  a⋅  ╱  ────────── ⎟    \n",
       "  ╲╱       D               ╱ Σₐ - Σ_f⋅ν     ╲╱       D      ⎟    \n",
       "                   + C₂⋅  ╱  ────────── ⋅ℯ                  ⎟    \n",
       "                        ╲╱       D                          ⎠    \n",
       "───────────────────────────────────────────────────────────── = 0\n",
       "                2                                                "
      ]
     },
     "execution_count": 33,
     "metadata": {},
     "output_type": "execute_result"
    }
   ],
   "source": [
    "bc_right = sy.Eq(J_left.subs(phi(x), sol.rhs).doit().subs(x, a), 0)\n",
    "bc_right"
   ]
  },
  {
   "cell_type": "code",
   "execution_count": 23,
   "metadata": {},
   "outputs": [],
   "source": []
  },
  {
   "cell_type": "code",
   "execution_count": 34,
   "metadata": {},
   "outputs": [
    {
     "data": {
      "image/png": "[encoded data removed]",
      "text/latex": [
       "$$\\left [ \\right ]$$"
      ],
      "text/plain": [
       "[]"
      ]
     },
     "execution_count": 34,
     "metadata": {},
     "output_type": "execute_result"
    }
   ],
   "source": [
    "sy.solve([bc_right, bc_left], C1)"
   ]
  },
  {
   "cell_type": "code",
   "execution_count": 30,
   "metadata": {},
   "outputs": [
    {
     "data": {
      "image/png": "[encoded data removed]",
      "text/latex": [
       "$$\\frac{C_{1}}{4} e^{- x \\sqrt{\\frac{1}{D} \\left(\\Sigma_{a} - \\Sigma_{f} \\nu\\right)}} + \\frac{C_{2}}{4} e^{x \\sqrt{\\frac{1}{D} \\left(\\Sigma_{a} - \\Sigma_{f} \\nu\\right)}} - \\frac{D}{2} \\left(- C_{1} \\sqrt{\\frac{1}{D} \\left(\\Sigma_{a} - \\Sigma_{f} \\nu\\right)} e^{- x \\sqrt{\\frac{1}{D} \\left(\\Sigma_{a} - \\Sigma_{f} \\nu\\right)}} + C_{2} \\sqrt{\\frac{1}{D} \\left(\\Sigma_{a} - \\Sigma_{f} \\nu\\right)} e^{x \\sqrt{\\frac{1}{D} \\left(\\Sigma_{a} - \\Sigma_{f} \\nu\\right)}}\\right)$$"
      ],
      "text/plain": [
       "                                                     ⎛                        \n",
       "           ____________             ____________     ⎜                        \n",
       "          ╱ Σₐ - Σ_f⋅ν             ╱ Σₐ - Σ_f⋅ν      ⎜         ____________  -\n",
       "    -x⋅  ╱  ──────────        x⋅  ╱  ──────────      ⎜        ╱ Σₐ - Σ_f⋅ν    \n",
       "       ╲╱       D               ╲╱       D         D⋅⎜- C₁⋅  ╱  ────────── ⋅ℯ \n",
       "C₁⋅ℯ                      C₂⋅ℯ                       ⎝     ╲╱       D         \n",
       "─────────────────────── + ────────────────────── - ───────────────────────────\n",
       "           4                        4                                         \n",
       "\n",
       "      ____________                              ____________⎞\n",
       "     ╱ Σₐ - Σ_f⋅ν                              ╱ Σₐ - Σ_f⋅ν ⎟\n",
       "x⋅  ╱  ──────────           ____________  x⋅  ╱  ────────── ⎟\n",
       "  ╲╱       D               ╱ Σₐ - Σ_f⋅ν     ╲╱       D      ⎟\n",
       "                   + C₂⋅  ╱  ────────── ⋅ℯ                  ⎟\n",
       "                        ╲╱       D                          ⎠\n",
       "─────────────────────────────────────────────────────────────\n",
       "                2                                            "
      ]
     },
     "execution_count": 30,
     "metadata": {},
     "output_type": "execute_result"
    }
   ],
   "source": [
    "J_right.subs(phi(x), sol.rhs).doit()"
   ]
  },
  {
   "cell_type": "code",
   "execution_count": 35,
   "metadata": {},
   "outputs": [
    {
     "data": {
      "image/png": "[encoded data removed]",
      "text/latex": [
       "$$\\frac{C_{1}}{4} e^{- a \\sqrt{\\frac{1}{D} \\left(\\Sigma_{a} - \\Sigma_{f} \\nu\\right)}} + \\frac{C_{2}}{4} e^{a \\sqrt{\\frac{1}{D} \\left(\\Sigma_{a} - \\Sigma_{f} \\nu\\right)}} + \\frac{D}{2} \\left(- C_{1} \\sqrt{\\frac{1}{D} \\left(\\Sigma_{a} - \\Sigma_{f} \\nu\\right)} e^{- a \\sqrt{\\frac{1}{D} \\left(\\Sigma_{a} - \\Sigma_{f} \\nu\\right)}} + C_{2} \\sqrt{\\frac{1}{D} \\left(\\Sigma_{a} - \\Sigma_{f} \\nu\\right)} e^{a \\sqrt{\\frac{1}{D} \\left(\\Sigma_{a} - \\Sigma_{f} \\nu\\right)}}\\right) = 0$$"
      ],
      "text/plain": [
       "                                                     ⎛                        \n",
       "           ____________             ____________     ⎜                        \n",
       "          ╱ Σₐ - Σ_f⋅ν             ╱ Σₐ - Σ_f⋅ν      ⎜         ____________  -\n",
       "    -a⋅  ╱  ──────────        a⋅  ╱  ──────────      ⎜        ╱ Σₐ - Σ_f⋅ν    \n",
       "       ╲╱       D               ╲╱       D         D⋅⎜- C₁⋅  ╱  ────────── ⋅ℯ \n",
       "C₁⋅ℯ                      C₂⋅ℯ                       ⎝     ╲╱       D         \n",
       "─────────────────────── + ────────────────────── + ───────────────────────────\n",
       "           4                        4                                         \n",
       "\n",
       "      ____________                              ____________⎞    \n",
       "     ╱ Σₐ - Σ_f⋅ν                              ╱ Σₐ - Σ_f⋅ν ⎟    \n",
       "a⋅  ╱  ──────────           ____________  a⋅  ╱  ────────── ⎟    \n",
       "  ╲╱       D               ╱ Σₐ - Σ_f⋅ν     ╲╱       D      ⎟    \n",
       "                   + C₂⋅  ╱  ────────── ⋅ℯ                  ⎟    \n",
       "                        ╲╱       D                          ⎠    \n",
       "───────────────────────────────────────────────────────────── = 0\n",
       "                2                                                "
      ]
     },
     "execution_count": 35,
     "metadata": {},
     "output_type": "execute_result"
    }
   ],
   "source": [
    "bc_right"
   ]
  },
  {
   "cell_type": "code",
   "execution_count": null,
   "metadata": {
    "collapsed": true
   },
   "outputs": [],
   "source": [
    "bc_right()"
   ]
  }
 ],
 "metadata": {
  "kernelspec": {
   "display_name": "Python 3",
   "language": "python",
   "name": "python3"
  },
  "language_info": {
   "codemirror_mode": {
    "name": "ipython",
    "version": 3
   },
   "file_extension": ".py",
   "mimetype": "text/x-python",
   "name": "python",
   "nbconvert_exporter": "python",
   "pygments_lexer": "ipython3",
   "version": "3.6.2"
  }
 },
 "nbformat": 4,
 "nbformat_minor": 2
}
