{
 "cells": [
  {
   "cell_type": "markdown",
   "metadata": {
    "slideshow": {
     "slide_type": "subslide"
    }
   },
   "source": [
    "# Lecture 22 - Numerical Integration\n",
    "\n",
    "## Overview, Objectives, and Key Terms\n",
    " \n",
    "In [Lecture 21](ME400_Lecture_21.ipynb), finite-difference approximations were developed and used to evaluate derivatives numerically.  In this lecture, we'll explore and implement our own numerical methods for evaluation of integrals.  We'll also use the SciPy module for the first time, which provides its own set of tools for numerical integration."
   ]
  },
  {
   "cell_type": "markdown",
   "metadata": {
    "slideshow": {
     "slide_type": "subslide"
    }
   },
   "source": [
    "### Objectives\n",
    "\n",
    "By the end of this lesson, you should be able to\n",
    "\n",
    "- Evaluate definite integrals numerically using left- and right-sided Riemann sums, the mid-point rule, and the trapezoid rule.\n",
    "- Evaluate definite integrals numerically using the built-in functions of `scipy.integrate`\n",
    "- Establish the order of an integration scheme using numerical, graphical, or symbolic means."
   ]
  },
  {
   "cell_type": "markdown",
   "metadata": {
    "slideshow": {
     "slide_type": "subslide"
    }
   },
   "source": [
    "### Key Terms\n",
    "\n",
    "- Riemann sum\n",
    "- left-sided Riemann sum\n",
    "- right-sided Riemann sum\n",
    "- mid-point rule\n",
    "- trapezoid rule\n",
    "- `scipy.integrate`\n",
    "- `scipy.integrate.quad`\n",
    "- $n$th-order approximation"
   ]
  },
  {
   "cell_type": "markdown",
   "metadata": {
    "slideshow": {
     "slide_type": "subslide"
    }
   },
   "source": [
    "## An Aside: Homework 9"
   ]
  },
  {
   "cell_type": "markdown",
   "metadata": {
    "slideshow": {
     "slide_type": "subslide"
    }
   },
   "source": [
    "### Problem 1\n",
    "\n",
    "Snippet from my own solution:\n",
    "```python\n",
    "    # Member forces\n",
    "    F_AB, F_AC, F_BC, F_BD, F_CD = sy.symbols('F_AB, F_AC, F_BC, F_BD, F_CD')\n",
    "    # Reaction forces\n",
    "    A_v, D_h, D_v = sy.symbols('A_v, D_h, D_v')\n",
    "    # Angles, length, and external force\n",
    "    theta, phi, alpha, d, F_B, F_C = sy.symbols('theta, phi, alpha, d, F_B, F_C')  \n",
    "    # Height\n",
    "    h = sy.tan(phi) * d\n",
    "    # Moments about A should be zero (following right hand rule)\n",
    "    eq_M_A = sy.cos(theta)*F_B*h + sy.sin(alpha)*F_C*d \\\n",
    "             + sy.sin(theta)*F_B*d - D_v*(2*d)\n",
    "    # .... skipped steps ....      \n",
    "    # Member forces\n",
    "    eq_Av = A_v - F_AB*sy.sin(phi)\n",
    "    eq_Ah = -F_AB*sy.cos(phi) - F_AC\n",
    "    eq_Bv = -F_B*sy.sin(theta) + F_BC + F_BD*sy.sin(phi) + F_AB*sy.sin(phi)       \n",
    "    # .... more skipped steps ...\n",
    "    equations = [eq_M_A, eq_M_D, eq_F_h, ...\n",
    "    unknowns = [F_AB, F_AC, ...\n",
    "    return sy.solve(equations, unknowns)\n",
    "```"
   ]
  },
  {
   "cell_type": "markdown",
   "metadata": {
    "slideshow": {
     "slide_type": "subslide"
    }
   },
   "source": [
    "### Problem 2\n",
    "\n",
    "Find $dw/dv$ from\n",
    "$$\n",
    "  5\\sin(v) + 3\\sec(w) = w - v^2 + 3\n",
    "$$\n",
    "\n",
    "```python\n",
    "v, w = sp.symbols('v w')\n",
    "expr = 5*sp.sin(v) + 3*sp.sec(w(v)) - w(v) + v**2 - 3\n",
    "d_expr = sp.diff(expr, v) \n",
    "sol = sp.solve(d_expr, sp.diff(w(v), v))\n",
    "# just one solution returned, so\n",
    "dwdv = sol[0].subs(w(v), w) # sub that problem statement suggested\n",
    "# help(lambdify)\n",
    "```"
   ]
  },
  {
   "cell_type": "markdown",
   "metadata": {
    "slideshow": {
     "slide_type": "fragment"
    }
   },
   "source": [
    "Wait, that's not the homework problem, it's the example from Lecture 19."
   ]
  },
  {
   "cell_type": "markdown",
   "metadata": {
    "slideshow": {
     "slide_type": "subslide"
    }
   },
   "source": [
    "### Problem 3\n",
    "\n",
    "Draw pictures,  do sanity checks, etc. etc.  We'll revisit this one later."
   ]
  },
  {
   "cell_type": "markdown",
   "metadata": {
    "slideshow": {
     "slide_type": "slide"
    }
   },
   "source": [
    "## Riemann Sums in Practice\n",
    "\n",
    "For $df/dx$, choose two or more values of $f$ (forward, backward, etc.) and take $\\Delta$ to some small but finite value.\n",
    "\n",
    "For $\\int^b_a f(x) dx$, we have analogs to these choices based on how we define the rectangles (or other shapes)."
   ]
  },
  {
   "cell_type": "markdown",
   "metadata": {
    "slideshow": {
     "slide_type": "subslide"
    }
   },
   "source": [
    "In [Lecture 19](ME400_Lecture_19.ipynb), our Riemann sum was\n",
    "\n",
    "$$\n",
    "  S = \\frac{b-a}{n} \\sum^{n}_{i=1} f \\Bigg ( \\frac{ i(b-a) }{n} + a \\Bigg ) \n",
    "$$\n",
    "\n",
    "for uniformly spaced points."
   ]
  },
  {
   "cell_type": "markdown",
   "metadata": {
    "slideshow": {
     "slide_type": "fragment"
    }
   },
   "source": [
    "Let's look at this concretely for $f(x) = x^2$ over $x\\in[0, 1]$ with $n=5$:"
   ]
  },
  {
   "cell_type": "code",
   "execution_count": 1,
   "metadata": {
    "slideshow": {
     "slide_type": "fragment"
    }
   },
   "outputs": [
    {
     "data": {
      "image/png": "[encoded data removed]",
      "text/plain": [
       "<matplotlib.figure.Figure at 0x7f41b80cc630>"
      ]
     },
     "metadata": {},
     "output_type": "display_data"
    }
   ],
   "source": [
    "import riemann_sum_plots\n",
    "riemann_sum_plots.right_sided_sum()"
   ]
  },
  {
   "cell_type": "markdown",
   "metadata": {
    "slideshow": {
     "slide_type": "subslide"
    }
   },
   "source": [
    "If instead we defined our sum to be\n",
    "\n",
    "$$\n",
    "  S =\\frac{b-a}{n} \\sum^{n}_{i=1} f \\Bigg ( \\frac{ (i-1)(b-a) }{n} + a \\Bigg ) \n",
    "$$\n",
    "\n",
    "the picture becomes"
   ]
  },
  {
   "cell_type": "code",
   "execution_count": 2,
   "metadata": {
    "slideshow": {
     "slide_type": "fragment"
    }
   },
   "outputs": [
    {
     "data": {
      "image/png": "[encoded data removed]",
      "text/plain": [
       "<matplotlib.figure.Figure at 0x7f419301bc88>"
      ]
     },
     "metadata": {},
     "output_type": "display_data"
    }
   ],
   "source": [
    "riemann_sum_plots.left_sided_sum()"
   ]
  },
  {
   "cell_type": "markdown",
   "metadata": {
    "slideshow": {
     "slide_type": "subslide"
    }
   },
   "source": [
    "**Exercise**: Both sums are only approximate.  Which *overestimate*, which *underestimates*, and is this always the case?"
   ]
  },
  {
   "cell_type": "markdown",
   "metadata": {
    "slideshow": {
     "slide_type": "subslide"
    }
   },
   "source": [
    "**Exercise**:  Consider the following two columns of data:\n",
    "\n",
    "| $x$   | $\\sqrt{x}$ |\n",
    "|-------|------------|\n",
    "|0.0000 | 0.0000     |\n",
    "|0.3333 | 0.5774     |\n",
    "|1.0000 | 1.0000     |\n",
    "|1.5000 | 1.2247     |\n",
    "|2.0000 | 1.4142     |\n",
    "\n",
    "Estimate $\\int^2_0 f(x) dx$ using the right-sided sum and left-sided sum.  Note that the $x$ points are **not evenly spaced**."
   ]
  },
  {
   "cell_type": "code",
   "execution_count": 3,
   "metadata": {
    "slideshow": {
     "slide_type": "skip"
    }
   },
   "outputs": [
    {
     "data": {
      "text/plain": [
       "(2.17859742, 1.4973025799999999, 1.8856180831641267, 1.83795)"
      ]
     },
     "execution_count": 3,
     "metadata": {},
     "output_type": "execute_result"
    }
   ],
   "source": [
    "import numpy as np\n",
    "x = np.array([0, 0.3333, 1.0000, 1.5000, 2.0000])\n",
    "f = np.array([0, 0.5774, 1.0000, 1.2247, 1.4142])\n",
    "dx = x[1:]-x[:-1]\n",
    "I_rss = np.sum(dx * f[1:])\n",
    "I_lss = np.sum(dx * f[:-1])\n",
    "I_rss, I_lss,  (2/3)*(2**(3/2)), 0.5*(I_rss+I_lss)"
   ]
  },
  {
   "cell_type": "markdown",
   "metadata": {
    "slideshow": {
     "slide_type": "subslide"
    }
   },
   "source": [
    "## Beyond the One-Side Sums\n",
    "\n",
    "We can do better.  As motivation, note that the central difference is nothing\n",
    "but an *average* of the forward and backward differences:\n",
    "\n",
    "$$\n",
    "  \\frac{1}{2} \\Bigg ( \\frac{f(x+h)-f(x)}{h} + \\frac{f(x)-f(x-h)}{h} \\Bigg ) = \\frac{f(x+h)-f(x-h)}{2h}\n",
    "$$"
   ]
  },
  {
   "cell_type": "markdown",
   "metadata": {
    "slideshow": {
     "slide_type": "subslide"
    }
   },
   "source": [
    "**Option I**: evaluate $f$ at the average (middle) $x$ points: \n",
    "\n",
    "$$\n",
    " S = \\frac{b-a}{n} \\sum^{n}_{i=1} f \\Bigg ( \\frac{ (i-1/2)(b-a) }{n} + a \\Bigg ) \n",
    "$$\n",
    "  \n",
    "for which the picture becomes"
   ]
  },
  {
   "cell_type": "code",
   "execution_count": 4,
   "metadata": {
    "slideshow": {
     "slide_type": "fragment"
    }
   },
   "outputs": [
    {
     "data": {
      "image/png": "[encoded data removed]",
      "text/plain": [
       "<matplotlib.figure.Figure at 0x7f4192ef9630>"
      ]
     },
     "metadata": {},
     "output_type": "display_data"
    }
   ],
   "source": [
    "riemann_sum_plots.midpoint_sum()"
   ]
  },
  {
   "cell_type": "markdown",
   "metadata": {
    "slideshow": {
     "slide_type": "subslide"
    }
   },
   "source": [
    "**Option II**: Use the same points as one-sides sums, but *average* the $f$ values:\n",
    "\n",
    "$$\n",
    "\\begin{split}\n",
    "  S &= \\frac{b-a}{2n} \n",
    "    \\Bigg [ \\sum^{n}_{i=1} f \\Bigg ( \\frac{ (i)(b-a) }{n} + a \\Bigg ) \n",
    "         +  \\sum^{n}_{i=1} f \\Bigg ( \\frac{ (i-1)(b-a) }{n} + a \\Bigg ) \\Bigg ] \\\\\n",
    "    &= \\frac{b-a}{2n} \n",
    "    \\Bigg [ f(a) + f(b) + \\sum^{n-1}_{i=1} f \\Bigg ( \\frac{ i(b-a) }{n} + a \\Bigg ) \\Bigg ]  \n",
    "\\end{split}\n",
    "$$\n",
    "\n",
    "This is the **trapezoid rule** for uniformly-spaced points. "
   ]
  },
  {
   "cell_type": "markdown",
   "metadata": {
    "slideshow": {
     "slide_type": "slide"
    }
   },
   "source": [
    "## What About Accuracy?\n",
    "\n",
    "It is possible to determine the *order* of various numerical integration rules.  The basic idea is to observe the (absolute) error between an exact, reference value for an integral and the approximation of that integral for various step sizes $\\Delta$."
   ]
  },
  {
   "cell_type": "markdown",
   "metadata": {
    "slideshow": {
     "slide_type": "subslide"
    }
   },
   "source": [
    "**Exercise**:  Determine whether the right-sided and midpoint sums are first order or second order using the definite integral $\\int^1_0 e^x dx = e - 1$ as a test case.  "
   ]
  },
  {
   "cell_type": "markdown",
   "metadata": {
    "slideshow": {
     "slide_type": "slide"
    }
   },
   "source": [
    "## Using `scipy.integrate`\n",
    "\n",
    "The module `scipy.integrate` provides several integration functions, including the powerful `quad` function:"
   ]
  },
  {
   "cell_type": "markdown",
   "metadata": {
    "slideshow": {
     "slide_type": "fragment"
    }
   },
   "source": [
    "```\n",
    "In [99]: help(quad)\n",
    "Help on function quad in module scipy.integrate.quadpack:\n",
    "\n",
    "quad(func, a, b, args=(), full_output=0, epsabs=1.49e-08, epsrel=1.49e-08, limit=50, points=None, weight=None, wvar=None, wopts=None, maxp1=50, limlst=50)\n",
    "    Compute a definite integral.\n",
    "    \n",
    "    Integrate func from `a` to `b` (possibly infinite interval) using a\n",
    "    technique from the Fortran library QUADPACK.\n",
    "```"
   ]
  },
  {
   "cell_type": "markdown",
   "metadata": {
    "slideshow": {
     "slide_type": "subslide"
    }
   },
   "source": [
    "**Exercise**:  Use `quad` to evaluate $\\int^1_0 e^x dx = e - 1$."
   ]
  },
  {
   "cell_type": "markdown",
   "metadata": {
    "slideshow": {
     "slide_type": "subslide"
    }
   },
   "source": [
    "**Exercise**:  Use `quad` to evaluate $\\int^1_0 (ax^2 + bx + c)dx$ for $a=b=c=1$."
   ]
  },
  {
   "cell_type": "markdown",
   "metadata": {
    "slideshow": {
     "slide_type": "subslide"
    }
   },
   "source": [
    "**Exercise**:  Use `dblquad` to evaluate the volume of the tetrahedron (i.e., triangular pyramid) that lies in the first octant and is bounded by the three coordinate planes (i.e., $xy$, $yz$, and $zx$ planes) and the plane\n",
    "$z = 4 - 3x - y$."
   ]
  },
  {
   "cell_type": "code",
   "execution_count": 5,
   "metadata": {
    "slideshow": {
     "slide_type": "fragment"
    }
   },
   "outputs": [
    {
     "data": {
      "text/plain": [
       "(3.555555555555556, 8.84325393432354e-14)"
      ]
     },
     "execution_count": 5,
     "metadata": {},
     "output_type": "execute_result"
    }
   ],
   "source": [
    "from scipy.integrate import dblquad\n",
    "dblquad(lambda y, x: 4-3*x-y, a=0, b=4/3, gfun=lambda x: 0, hfun=lambda x: 4 - 3*x)"
   ]
  },
  {
   "cell_type": "markdown",
   "metadata": {
    "slideshow": {
     "slide_type": "slide"
    }
   },
   "source": [
    "## Recap\n",
    "\n",
    "\n",
    "By the end of this lesson, you should be able to\n",
    "\n",
    "- Evaluate definite integrals numerically using left- and right-sided Riemann sums, the mid-point rule, and the trapezoid rule.\n",
    "- Evaluate definite integrals numerically using the built-in functions of `scipy.integrate`\n",
    "- Establish the order of an integration scheme using numerical, graphical, or symbolic means (actually, this isn't covered, but I'm willing to bet you could do it with `series`!)."
   ]
  },
  {
   "cell_type": "markdown",
   "metadata": {
    "slideshow": {
     "slide_type": "fragment"
    }
   },
   "source": [
    "**Reminder**: Exam 2 is on Friday.  Exam from last year posted. Confirm ASAP (email, office hours) for accommodations.  "
   ]
  }
 ],
 "metadata": {
  "celltoolbar": "Slideshow",
  "kernelspec": {
   "display_name": "Python 3",
   "language": "python",
   "name": "python3"
  },
  "language_info": {
   "codemirror_mode": {
    "name": "ipython",
    "version": 3
   },
   "file_extension": ".py",
   "mimetype": "text/x-python",
   "name": "python",
   "nbconvert_exporter": "python",
   "pygments_lexer": "ipython3",
   "version": "3.6.2"
  }
 },
 "nbformat": 4,
 "nbformat_minor": 2
}
