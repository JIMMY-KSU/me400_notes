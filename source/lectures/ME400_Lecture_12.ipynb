{
 "cells": [
  {
   "cell_type": "markdown",
   "metadata": {},
   "source": [
    "# Lecture 12 - Basics of Functions\n",
    "\n",
    "## Overview, Objectives, and Key Terms\n",
    " \n",
    "With some simple programs under our belts, it is time to *modularize* our programs by using *functions*.  In this lecture and [Lecture 13](ME400_Lecture_13.ipynb), you will learn how to define your own functions to meet a variety of needs. \n",
    "\n",
    "### Objectives\n",
    "\n",
    "By the end of this lesson, you should be able to\n",
    "\n",
    "- Define a function that accepts (zero or more) input arguments and returns (zero or more) values.\n",
    "- Explain the meaning of a named and default argument.\n",
    "\n",
    "\n",
    "### Key Terms\n",
    "\n",
    "- function\n",
    "- `def`\n",
    "- argument\n",
    "- return value\n",
    "\n"
   ]
  },
  {
   "cell_type": "markdown",
   "metadata": {},
   "source": [
    "## What is a Function?\n",
    "\n",
    "For our purposes, a function is something that is executed (possibly with input) and provides some sort of output. Often, this output will be a value (or several values) explicitly returned by the function. However, functions can also be used to modify the very data given to them as input. Although you’ve been using functions all along (e.g., those provided by the math module like `math.cos`), you'll understand how to define and use your own functions by the end of this lesson.\n",
    "\n",
    "Let's start by example.  Consider the sum of an array $x$, defined mathematically as $s = \\sum^n_{i=1} x_i$ and computed in Python via "
   ]
  },
  {
   "cell_type": "code",
   "execution_count": 1,
   "metadata": {
    "collapsed": true
   },
   "outputs": [],
   "source": [
    "x = [1, 3, 4, 2, 4] \n",
    "s = 0\n",
    "for i in range(len(x)):\n",
    "    s += x[i]"
   ]
  },
  {
   "cell_type": "markdown",
   "metadata": {},
   "source": [
    "This short program is specific to the value of `x` defined.  If it were to be applied for any value of `x`, it must first be turned into a function.  Functions, like conditional statements and loops, are defined in Python using a special *keyword*.  The basic structure is as follows:\n",
    "\n",
    "```python\n",
    "def function_name(arg1, arg2, ...):\n",
    "    # do something to define rval1\n",
    "    # do something else to define rval2\n",
    "    # and so on...\n",
    "    return rval1, rval2, ...\n",
    "```\n",
    "\n",
    "Following the `def` keyword is the name of the function and a pair of parentheses.  Inside these parentheses are the names of zero or more input *arguments*.   Each argument name (e.g., `arg1`) can be used within the function like normal variables.  After all computations are performed, the function can include a `return` statement with zero or more *return values* (e.g., `rval1`).  As observed for `if`, `while`, and `for` statements, the block of code following the `def` line must be indented. \n",
    "\n",
    "Let's adapt this structure for the summation problem.  The input required is the sequence of numbers `x`, and the output is the sum of `x`.  Hence, we need one input *argument* and one *return value*:"
   ]
  },
  {
   "cell_type": "code",
   "execution_count": 2,
   "metadata": {
    "collapsed": true
   },
   "outputs": [],
   "source": [
    "def compute_sum(x):\n",
    "    s = 0\n",
    "    for i in range(len(x)):\n",
    "        s += x[i]\n",
    "    return s"
   ]
  },
  {
   "cell_type": "markdown",
   "metadata": {},
   "source": [
    "Now, just like the other functions we've used (e.g.,`math.cos`), the function `compute_sum` can be *called* repeatedly with different arguments:"
   ]
  },
  {
   "cell_type": "code",
   "execution_count": 3,
   "metadata": {
    "collapsed": false
   },
   "outputs": [
    {
     "data": {
      "text/plain": [
       "10"
      ]
     },
     "execution_count": 3,
     "metadata": {},
     "output_type": "execute_result"
    }
   ],
   "source": [
    "compute_sum([1, 2, 3, 4])"
   ]
  },
  {
   "cell_type": "code",
   "execution_count": 4,
   "metadata": {
    "collapsed": false
   },
   "outputs": [
    {
     "data": {
      "text/plain": [
       "600"
      ]
     },
     "execution_count": 4,
     "metadata": {},
     "output_type": "execute_result"
    }
   ],
   "source": [
    "compute_sum([100, 200, 300])"
   ]
  },
  {
   "cell_type": "markdown",
   "metadata": {},
   "source": [
    "Even though the initial `x` was a list, the input to `compute_sum` need not be a list: it just has to support indexing via `[]` and have values that are numbers.  \n",
    "\n",
    "> **Exercise**:  See what happens when `(1, 2, 3)` and `np.linspace(0, 10)` are given to `compute_sum`. \n",
    "\n",
    "> **Exercise**:  Write a function named `factorial` that computes $n!$.\n",
    "\n",
    "> **Exercise**:  Write a function that determines whether a positive integer `n` is prime.  A prime number is any number divisible only by one and itself.  By definition, one is not considered prime.  The function should return `True` or `False`.\n",
    "\n",
    "> **Exercise**:  Write a function with no arguments and no return values that prints out"
   ]
  },
  {
   "cell_type": "code",
   "execution_count": 7,
   "metadata": {
    "collapsed": false
   },
   "outputs": [
    {
     "data": {
      "text/plain": [
       "'False'"
      ]
     },
     "execution_count": 7,
     "metadata": {},
     "output_type": "execute_result"
    }
   ],
   "source": [
    "str(False)"
   ]
  },
  {
   "cell_type": "code",
   "execution_count": null,
   "metadata": {
    "collapsed": true
   },
   "outputs": [],
   "source": []
  }
 ],
 "metadata": {
  "kernelspec": {
   "display_name": "Python 3",
   "language": "python",
   "name": "python3"
  },
  "language_info": {
   "codemirror_mode": {
    "name": "ipython",
    "version": 3
   },
   "file_extension": ".py",
   "mimetype": "text/x-python",
   "name": "python",
   "nbconvert_exporter": "python",
   "pygments_lexer": "ipython3",
   "version": "3.6.0"
  }
 },
 "nbformat": 4,
 "nbformat_minor": 2
}
