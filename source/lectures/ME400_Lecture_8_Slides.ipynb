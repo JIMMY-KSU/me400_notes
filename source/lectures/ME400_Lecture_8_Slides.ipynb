{
 "cells": [
  {
   "cell_type": "markdown",
   "metadata": {
    "slideshow": {
     "slide_type": "slide"
    }
   },
   "source": [
    "# Lecture 8 - Loops in Python\n",
    "\n",
    "## Overview, Objectives, and Key Terms\n",
    " \n",
    "In [Lecture 5](ME400_Lecture_5.ipynb), the basics of programming logic were introduced, including the idea of *iteration*. The emphasis here and in [Lecture 9](ME400_Lecture_9.ipynb) is on the logic of *iteration* and its implementation via `while` and `for` loops in Python.  To proceed, one must be comfortable with the theoretical coverage of iteration presented in [Lecture 5](ME400_Lecture_5.ipynb)."
   ]
  },
  {
   "cell_type": "markdown",
   "metadata": {
    "slideshow": {
     "slide_type": "subslide"
    }
   },
   "source": [
    "### Objectives\n",
    "\n",
    "By the end of this lesson, you should be able to\n",
    "\n",
    "- Use a `while` loop to solve simple problems using iteration\n",
    "- Turn pseudocode and flowcharts into Python code\n",
    "- Use the graphical debugger in Spyder to trace and debug a program with iteration"
   ]
  },
  {
   "cell_type": "markdown",
   "metadata": {
    "slideshow": {
     "slide_type": "subslide"
    }
   },
   "source": [
    "### Key Terms\n",
    "\n",
    "- `while`\n",
    "- `break`\n",
    "- summation problem (as a common loop example)\n",
    "- numerical convergence (as another common loop example)\n",
    "- convergence criterion"
   ]
  },
  {
   "cell_type": "markdown",
   "metadata": {
    "slideshow": {
     "slide_type": "slide"
    }
   },
   "source": [
    "## A Motivating Problem\n",
    "\n",
    "**Define an algorithm to print out the elements of an array**.\n"
   ]
  },
  {
   "cell_type": "markdown",
   "metadata": {
    "slideshow": {
     "slide_type": "fragment"
    }
   },
   "source": [
    "\n",
    "```\n",
    "'''Algorithm to print out the elements of an array'''\n",
    "Input a and n # where n is the length of array a\n",
    "Set i to 0\n",
    "While i < n\n",
    "    Print a[i]\n",
    "    Set i = i + 1\n",
    "```"
   ]
  },
  {
   "cell_type": "markdown",
   "metadata": {
    "slideshow": {
     "slide_type": "subslide"
    }
   },
   "source": [
    "\n",
    "We can do that in Python using a nearly identical syntax:"
   ]
  },
  {
   "cell_type": "code",
   "execution_count": 1,
   "metadata": {
    "slideshow": {
     "slide_type": "fragment"
    }
   },
   "outputs": [
    {
     "name": "stdout",
     "output_type": "stream",
     "text": [
      "1\n",
      "1\n",
      "2\n",
      "3\n",
      "5\n",
      "8\n",
      "13\n"
     ]
    }
   ],
   "source": [
    "import numpy as np\n",
    "a = np.array([1, 1, 2, 3, 5, 8, 13])\n",
    "n = len(a)\n",
    "i = 0\n",
    "while i < n:    # always remember the :\n",
    "    print(a[i]) # indented 4 spaces\n",
    "    i = i + 1   # also indented 4 spaces"
   ]
  },
  {
   "cell_type": "markdown",
   "metadata": {
    "slideshow": {
     "slide_type": "subslide"
    }
   },
   "source": [
    "Here's another problem: **add the integers from 1 through n**."
   ]
  },
  {
   "cell_type": "markdown",
   "metadata": {
    "slideshow": {
     "slide_type": "fragment"
    }
   },
   "source": [
    "![Flowchart for adding integers](img/add_integer_range.png)\n",
    "\n"
   ]
  },
  {
   "cell_type": "markdown",
   "metadata": {
    "slideshow": {
     "slide_type": "fragment"
    }
   },
   "source": [
    "**Question**: Why not use `sum` in place of `s`?"
   ]
  },
  {
   "cell_type": "code",
   "execution_count": 2,
   "metadata": {
    "slideshow": {
     "slide_type": "subslide"
    }
   },
   "outputs": [
    {
     "name": "stdout",
     "output_type": "stream",
     "text": [
      "55\n"
     ]
    }
   ],
   "source": [
    "\"\"\"A program to add the integers from 1 through 10\"\"\"\n",
    "n = 10 # or we could use input\n",
    "i = 1\n",
    "s = 0\n",
    "while i <= n:\n",
    "    s = s + i\n",
    "    i = i + 1\n",
    "print(s)"
   ]
  },
  {
   "cell_type": "markdown",
   "metadata": {
    "slideshow": {
     "slide_type": "subslide"
    }
   },
   "source": [
    "**Iteration is challenging**: a little code yields many operations.\n",
    "\n",
    "**Common features**: \n",
    "- *termination criterion*\n",
    "- *counter variable*\n",
    "- *aggregate variable* modified at each iteration (like the sum `s`)"
   ]
  },
  {
   "cell_type": "markdown",
   "metadata": {
    "slideshow": {
     "slide_type": "subslide"
    }
   },
   "source": [
    "**Exercise**: Write a short program using a `while` loop to compute the product of the integers from 1 through n.  What is that product called?"
   ]
  },
  {
   "cell_type": "markdown",
   "metadata": {
    "slideshow": {
     "slide_type": "slide"
    }
   },
   "source": [
    "## The `break` Clause\n",
    "\n",
    "The `break` clause allows any loop (`while` or, next time `for`) to be terminated any time.\n",
    "\n",
    "```python\n",
    "while condition_1:   # keep going while condition_1 is True\n",
    "    do_something() \n",
    "    if condition_2:  # quit the loop if condition_2 is True\n",
    "        break\n",
    "```        "
   ]
  },
  {
   "cell_type": "markdown",
   "metadata": {
    "slideshow": {
     "slide_type": "subslide"
    }
   },
   "source": [
    "Simplest example:"
   ]
  },
  {
   "cell_type": "code",
   "execution_count": 3,
   "metadata": {
    "slideshow": {
     "slide_type": "fragment"
    }
   },
   "outputs": [
    {
     "name": "stdout",
     "output_type": "stream",
     "text": [
      "this line will now be displayed just once!\n"
     ]
    }
   ],
   "source": [
    "while True:\n",
    "    print(\"this line will now be displayed just once!\")\n",
    "    break"
   ]
  },
  {
   "cell_type": "markdown",
   "metadata": {
    "slideshow": {
     "slide_type": "subslide"
    }
   },
   "source": [
    "**Exercise**: Write a program that asks for a positive integer, displays whether it is odd or even, and then repeats, terminating only if the user provides a nonpositive response."
   ]
  },
  {
   "cell_type": "markdown",
   "metadata": {
    "slideshow": {
     "slide_type": "slide"
    }
   },
   "source": [
    "## Numerical Convergence\n",
    "\n",
    "The integer summation problem posed above is one of the canonical examples to use iteration, and it serves as a template for many other tasks.  An equally important example is that of  **numerical convergence**."
   ]
  },
  {
   "cell_type": "markdown",
   "metadata": {
    "slideshow": {
     "slide_type": "subslide"
    }
   },
   "source": [
    "The **Taylor series** expansion of $\\frac{1}{1-x}$ about $x=0$ is given by\n",
    "\n",
    "$$\n",
    "  y(x) = \\frac{1}{1-x} = 1 + x + x^2 + \\sum^{\\infty}_{i=3} x^i \\, .\n",
    "$$\n",
    "\n",
    "It converges if $|x| < 1$. In fact, here, the result is just a **geometric series**."
   ]
  },
  {
   "cell_type": "markdown",
   "metadata": {
    "slideshow": {
     "slide_type": "subslide"
    }
   },
   "source": [
    "**Goal**: Approximate $y(x)$ using a **truncated** expansion $\\sum^{n}_{i=0} x^i$."
   ]
  },
  {
   "cell_type": "markdown",
   "metadata": {
    "slideshow": {
     "slide_type": "fragment"
    }
   },
   "source": [
    "But, **how good is good enough?** and **what does good mean in this case?**\n",
    "\n",
    "Need to define the **convergence criterion**."
   ]
  },
  {
   "cell_type": "markdown",
   "metadata": {
    "slideshow": {
     "slide_type": "subslide"
    }
   },
   "source": [
    "**Exercise**: Write a program to determine $n$ such that $\\Big |(1-x)^{-1} - \\sum^{n}_{i=0} x^i \\Big| < 10^{-4}$, and trace the program graphically."
   ]
  },
  {
   "cell_type": "markdown",
   "metadata": {
    "slideshow": {
     "slide_type": "slide"
    }
   },
   "source": [
    "## Recap\n",
    "\n",
    "You should now be able to:\n",
    "\n",
    "- Use a `while` loop to solve simple problems using iteration\n",
    "- Turn pseudocode and flowcharts into Python code\n",
    "- Use the graphical debugger in Spyder to trace and debug a program with iteration\n",
    "\n"
   ]
  },
  {
   "cell_type": "markdown",
   "metadata": {
    "slideshow": {
     "slide_type": "fragment"
    }
   },
   "source": [
    "Quick reminder about plagiarism: *...the ideas you present in your problem solutions and laboratory reports must be your own. When you adapt the ideas of another, you need to reference those ideas correctly. If you fail to do so, you are committing academic dishonesty...*  \n",
    "\n",
    "Possible examples:\n",
    "- *Divide and conquer*, in which problems are split among a group of students.\n",
    "- *Copy, paste, and capitalize*, in which one student's solution is copied by another and modified just enough to make seem new and original (btw: I have mad data-mining skills.)\n",
    "- *Google said*, in which solutions are copied and pasted from StackOverflow and other sites.\n"
   ]
  }
 ],
 "metadata": {
  "celltoolbar": "Slideshow",
  "kernelspec": {
   "display_name": "Python 3",
   "language": "python",
   "name": "python3"
  },
  "language_info": {
   "codemirror_mode": {
    "name": "ipython",
    "version": 3
   },
   "file_extension": ".py",
   "mimetype": "text/x-python",
   "name": "python",
   "nbconvert_exporter": "python",
   "pygments_lexer": "ipython3",
   "version": "3.6.1"
  }
 },
 "nbformat": 4,
 "nbformat_minor": 2
}
