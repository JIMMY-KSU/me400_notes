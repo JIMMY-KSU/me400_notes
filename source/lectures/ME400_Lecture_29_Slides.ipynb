{
 "cells": [
  {
   "cell_type": "markdown",
   "metadata": {
    "slideshow": {
     "slide_type": "slide"
    }
   },
   "source": [
    "# Lecture 29 - Solving ODEs Symbolically\n",
    " \n",
    "Last time: the basics of `SymPy` to solve *algebraic* equations\n",
    "\n",
    "This time: use of `SymPy` to solve *differential* equations"
   ]
  },
  {
   "cell_type": "markdown",
   "metadata": {
    "slideshow": {
     "slide_type": "subslide"
    }
   },
   "source": [
    "### Objectives\n",
    "\n",
    "By the end of this lesson, you should be able to\n",
    "\n",
    "- Define first- and second-order, ordinary differential equations symbolically\n",
    "- Solve first- and second-order, ODEs symbollically\n",
    "- Apply initial and boundary conditions as is appropriate to determine complete solutions to ODEs important in engineering disciplines."
   ]
  },
  {
   "cell_type": "markdown",
   "metadata": {
    "slideshow": {
     "slide_type": "subslide"
    }
   },
   "source": [
    "### Prerequisites\n",
    "\n",
    "You should already be able to\n",
    "\n",
    "- Solve ODEs based on what you've learned in a course like MATH 340 (this is not a strict requirement, but if you have *not* had MATH 340, you may wish to set up a time with me or the TAs).\n",
    "- Set up and solve algebraic systems using SymPy\n",
    "- Perform subsitution into symbolic values using SymPy\n",
    "- Define derivatives of arbitrary functions using SymPy"
   ]
  },
  {
   "cell_type": "markdown",
   "metadata": {
    "slideshow": {
     "slide_type": "subslide"
    }
   },
   "source": [
    "### Key Terms\n",
    "\n",
    "- differential equation\n",
    "- ordinary\n",
    "- linear\n",
    "- ODE\n",
    "- initial value problem\n",
    "- boundary value problem"
   ]
  },
  {
   "cell_type": "markdown",
   "metadata": {
    "slideshow": {
     "slide_type": "slide"
    }
   },
   "source": [
    "## Derivatives and Integrals\n",
    "\n",
    "SymPy can be used to differentiate and integrate a symbolic expression `expr` with respect to a symbol `x`:\n",
    "\n",
    "```python\n",
    "sy.diff(expr, x)              # first derivative\n",
    "sy.diff(expr, x, 2)           # second derivative\n",
    "sy.integrate(expr, x)         # indefinite integral\n",
    "sy.integrate(expr, (x, a, b)) # definite integral\n",
    "```"
   ]
  },
  {
   "cell_type": "markdown",
   "metadata": {
    "slideshow": {
     "slide_type": "subslide"
    }
   },
   "source": [
    "**Exercise**:  Let $f(x) = ax^2$.  Evaluate the following (a) $\\frac{d}{dx} f$, (b) $\\frac{d^3}{dx^3} f$, (c) $\\int f(x) dx$ and (d) $\\int^{2}_{0} f(x) dx$."
   ]
  },
  {
   "cell_type": "code",
   "execution_count": 37,
   "metadata": {
    "slideshow": {
     "slide_type": "slide"
    }
   },
   "outputs": [
    {
     "data": {
      "image/png": "[encoded data removed]",
      "text/latex": [
       "$$\\frac{8 a}{3}$$"
      ],
      "text/plain": [
       "8⋅a\n",
       "───\n",
       " 3 "
      ]
     },
     "execution_count": 37,
     "metadata": {},
     "output_type": "execute_result"
    }
   ],
   "source": [
    "import sympy as sy\n",
    "sy.init_printing()\n",
    "a, x = sy.symbols('a x')\n",
    "f = a*x**2\n",
    "# a\n",
    "sy.integrate(f, (x, 0, 2))"
   ]
  },
  {
   "cell_type": "code",
   "execution_count": null,
   "metadata": {
    "slideshow": {
     "slide_type": "fragment"
    }
   },
   "outputs": [],
   "source": []
  },
  {
   "cell_type": "markdown",
   "metadata": {
    "slideshow": {
     "slide_type": "slide"
    }
   },
   "source": [
    "SymPy also supports use of symbols as *functions*:\n",
    "\n",
    "```\n",
    "f, x = sy.symbols('f x')\n",
    "f(x) # <--- this is a valid expression that can be \n",
    "     # integrated, differentiated, etc.\n",
    "```"
   ]
  },
  {
   "cell_type": "markdown",
   "metadata": {
    "slideshow": {
     "slide_type": "subslide"
    }
   },
   "source": [
    "**Exercise**:  Use SymPy to \"prove\" (1) the produce rule $[f(x)g(x)]' = f(x)g'(x) + f'(x)g(x)$ and (2) the chain rule $(d/dx)f(g(x)) = (df/dg)(dg/dx)$"
   ]
  },
  {
   "cell_type": "code",
   "execution_count": 40,
   "metadata": {
    "slideshow": {
     "slide_type": "fragment"
    }
   },
   "outputs": [
    {
     "data": {
      "image/png": "[encoded data removed]",
      "text/latex": [
       "$$\\frac{d}{d g{\\left (x \\right )}} f{\\left (g{\\left (x \\right )} \\right )} \\frac{d}{d x} g{\\left (x \\right )}$$"
      ],
      "text/plain": [
       "  d            d       \n",
       "─────(f(g(x)))⋅──(g(x))\n",
       "dg(x)          dx      "
      ]
     },
     "execution_count": 40,
     "metadata": {},
     "output_type": "execute_result"
    }
   ],
   "source": [
    "x, f, g = sy.symbols('x f g')\n",
    "\n",
    "sy.diff(f(g(x)), x).doit()"
   ]
  },
  {
   "cell_type": "markdown",
   "metadata": {
    "slideshow": {
     "slide_type": "subslide"
    }
   },
   "source": [
    "## Defining ODEs\n",
    "\n",
    "Consider the first-order IVP with constant coefficients\n",
    "\n",
    "$$\n",
    "  y' + py(t) = q\\, , \\qquad y(0) = y_0 \\, .\n",
    "$$\n",
    "\n",
    "This can be represented using `sy.Eq` like an algebraic equation and solved using `sy.dsolve(eq, y(t))` to obtain the *general* solution.  Undetermined coefficients are found by applying the initial condition.\n",
    "\n",
    "**Exercise**:  Solve $y' + 2y = 1$ with $y(0) = 1$ and plot the solution for $t \\in [0, 10]$."
   ]
  },
  {
   "cell_type": "markdown",
   "metadata": {
    "slideshow": {
     "slide_type": "subslide"
    }
   },
   "source": [
    "Boundary-value problems can also be solved.  Consider the familiar equation\n",
    "\n",
    "$$\n",
    "  -\\frac{d}{dx} k(x) \\frac{dT}{dx} = q(x) \\, , \\qquad T(0) = 0, T(1) = 1.\n",
    "$$\n",
    "\n",
    "**Exercise**: Solve this for $k(x) = 1$ and $q(x) = x^2$."
   ]
  },
  {
   "cell_type": "markdown",
   "metadata": {
    "slideshow": {
     "slide_type": "slide"
    }
   },
   "source": [
    "## Recap\n",
    "\n",
    "You should now be able to\n",
    "\n",
    "- Define first- and second-order, ordinary differential equations symbolically\n",
    "- Solve first- and second-order, ODEs symbollically\n",
    "- Apply initial and boundary conditions as is appropriate to determine complete solutions to ODEs important in engineering disciplines."
   ]
  },
  {
   "cell_type": "markdown",
   "metadata": {
    "slideshow": {
     "slide_type": "fragment"
    }
   },
   "source": [
    "Lab 12 is the last \"required\" lab.  \n",
    "\n",
    "Homework 12 to be release soon; due last day of classes."
   ]
  },
  {
   "cell_type": "code",
   "execution_count": null,
   "metadata": {
    "collapsed": true
   },
   "outputs": [],
   "source": []
  },
  {
   "cell_type": "code",
   "execution_count": null,
   "metadata": {
    "collapsed": true
   },
   "outputs": [],
   "source": []
  },
  {
   "cell_type": "code",
   "execution_count": null,
   "metadata": {
    "collapsed": true
   },
   "outputs": [],
   "source": []
  },
  {
   "cell_type": "code",
   "execution_count": null,
   "metadata": {
    "collapsed": true
   },
   "outputs": [],
   "source": []
  }
 ],
 "metadata": {
  "celltoolbar": "Slideshow",
  "kernelspec": {
   "display_name": "Python 3",
   "language": "python",
   "name": "python3"
  },
  "language_info": {
   "codemirror_mode": {
    "name": "ipython",
    "version": 3
   },
   "file_extension": ".py",
   "mimetype": "text/x-python",
   "name": "python",
   "nbconvert_exporter": "python",
   "pygments_lexer": "ipython3",
   "version": "3.6.3"
  },
  "livereveal": {
   "scroll": true
  }
 },
 "nbformat": 4,
 "nbformat_minor": 2
}
