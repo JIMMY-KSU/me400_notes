{
 "cells": [
  {
   "cell_type": "markdown",
   "metadata": {
    "slideshow": {
     "slide_type": "slide"
    }
   },
   "source": [
    "# Lecture 20 - Linear Systems\n",
    " \n",
    "In this lecture, we consider the linear system $\\mathbf{Ax}=\\mathbf{b}$, where $\\mathbf{A}$ is a square $n\\times n$ matrix, while both $\\mathbf{x}$ and $\\mathbf{b}$ are vectors of $n$ elements.  We'll examine the basic *elimination* algorithm and review how to set up and solve such systems with NumPy."
   ]
  },
  {
   "cell_type": "markdown",
   "metadata": {
    "slideshow": {
     "slide_type": "subslide"
    }
   },
   "source": [
    "### Objectives\n",
    "\n",
    "By the end of this lesson, you should be able to\n",
    "\n",
    "- Explain what it means for $\\mathbf{Ax}=\\mathbf{b}$ to have a solution.\n",
    "- Define $\\mathbf{Ax}=\\mathbf{b}$ from engineering or other inputs.\n",
    "- Solve linear systems using basic Gaussian elimination.\n",
    "- Solve linear systems using NumPy."
   ]
  },
  {
   "cell_type": "markdown",
   "metadata": {
    "slideshow": {
     "slide_type": "subslide"
    }
   },
   "source": [
    "### Key Terms\n",
    "\n",
    "- matrix\n",
    "- vector\n",
    "- matrix-vector product\n",
    "- column space\n",
    "- Gaussian elimination\n",
    "- pivot\n",
    "- `np.linalg.solve`"
   ]
  },
  {
   "cell_type": "markdown",
   "metadata": {
    "slideshow": {
     "slide_type": "slide"
    }
   },
   "source": [
    "## Matrix-Vector Products and Relation to Linear Systems\n",
    "\n",
    "A fundamental operation in linear algebra is the *matrix-vector* product $\\mathbf{Av} \\to \\mathbf{w}$."
   ]
  },
  {
   "cell_type": "markdown",
   "metadata": {
    "slideshow": {
     "slide_type": "fragment"
    }
   },
   "source": [
    "Example for $3\\times 3$ system:\n",
    "$$\n",
    "\\mathbf{Av} = \n",
    "\\begin{bmatrix} \n",
    "  a_{00} & a_{01} & a_{02} \\\\\n",
    "  a_{10} & a_{11} & a_{12} \\\\\n",
    "  a_{20} & a_{21} & a_{22} \\\\\n",
    "\\end{bmatrix} \n",
    "\\times\n",
    "\\left[ \\begin{array}{c} \n",
    "   v_0 \\\\ \n",
    "   v_1 \\\\\n",
    "   v_2\n",
    "   \\end{array} \\right] =\n",
    "\\left[ \\begin{array}{c} \n",
    "   a_{00} v_0 + a_{01} v_1 + a_{02} v_2 \\\\ \n",
    "   a_{10} v_0 + a_{11} v_1 + a_{12} v_2 \\\\ \n",
    "   a_{20} v_0 + a_{21} v_1 + a_{22} v_2 \\\\ \n",
    "   \\end{array} \\right] \n",
    "= \\mathbf{w} \\, .\n",
    "$$"
   ]
  },
  {
   "cell_type": "markdown",
   "metadata": {
    "slideshow": {
     "slide_type": "subslide"
    }
   },
   "source": [
    "Each element of $\\mathbf{w}$ is a *dot product* or *inner product*:\n",
    "\n",
    "$$\n",
    "  w_i = \\sum_{j=0}^{j=n-1} a_{ij} v_j \\, = \\mathbf{a}_{i:}^T \\mathbf{v} \\, .\n",
    "$$"
   ]
  },
  {
   "cell_type": "code",
   "execution_count": 10,
   "metadata": {
    "collapsed": true,
    "slideshow": {
     "slide_type": "subslide"
    }
   },
   "outputs": [],
   "source": [
    "def matrix_vector(A, v):\n",
    "    \"\"\"Matrix-vector product for a square matrix A.\"\"\"\n",
    "    n = len(v)\n",
    "    w = np.zeros_like(v)\n",
    "    for i in range(n):\n",
    "        for j in range(n):\n",
    "            w[i] += A[i, j]*v[j] # or replace 6&7 by w[i] = A[i, :].dot(v)\n",
    "    return w"
   ]
  },
  {
   "cell_type": "markdown",
   "metadata": {
    "slideshow": {
     "slide_type": "fragment"
    }
   },
   "source": [
    "**Exercise**:  What *order* is this matrix-vector algorithm?  In other words, if we increase $n$ from $10$ to $100$, by how much would the time to execute `matrix_vector` increase?  Here, the unit of work is the product `A[i, j]*v[j]`, which is one *floating-point operation* or *FLOP*."
   ]
  },
  {
   "cell_type": "code",
   "execution_count": 20,
   "metadata": {
    "slideshow": {
     "slide_type": "fragment"
    }
   },
   "outputs": [
    {
     "name": "stdout",
     "output_type": "stream",
     "text": [
      "elapsed time = 1.55e-04 seconds\n"
     ]
    }
   ],
   "source": [
    "import numpy as np\n",
    "from time import time\n",
    "n = 10\n",
    "A, v = np.ones((n, n)), np.ones(n)\n",
    "t0 = time()\n",
    "w = matrix_vector(A, v)\n",
    "te = time() - t0\n",
    "print('elapsed time = {:.2e} seconds'.format(te))"
   ]
  },
  {
   "cell_type": "markdown",
   "metadata": {
    "slideshow": {
     "slide_type": "subslide"
    }
   },
   "source": [
    "An *alternative* view of $\\mathbf{Av} \\to \\mathbf{w}$:\n",
    "\n",
    "$$\n",
    "  \\mathbf{w} = \n",
    "v_0 \\left[ \\begin{array}{c} \n",
    "   a_{00} \\\\ \n",
    "   a_{10} \\\\\n",
    "   a_{20}\n",
    "   \\end{array} \\right] +\n",
    "v_1 \\left[ \\begin{array}{c} \n",
    "   a_{01} \\\\ \n",
    "   a_{11} \\\\\n",
    "   a_{21}\n",
    "   \\end{array} \\right] +\n",
    "v_2 \\left[ \\begin{array}{c} \n",
    "   a_{02} \\\\ \n",
    "   a_{12} \\\\\n",
    "   a_{22}\n",
    "   \\end{array} \\right] \n",
    "=  v_0 \\mathbf{a}_{:0} + v_1\\mathbf{a}_{:1} + v_2\\mathbf{a}_{:2} \\, .\n",
    "$$"
   ]
  },
  {
   "cell_type": "markdown",
   "metadata": {
    "slideshow": {
     "slide_type": "fragment"
    }
   },
   "source": [
    "Hence, $\\mathbf{w}$ is a *linear combination of the columns* of $\\mathbf{A}$, and all possible linear combinations of $\\mathbf{A}$'s represents the *column space* of $\\mathbf{A}$."
   ]
  },
  {
   "cell_type": "markdown",
   "metadata": {
    "slideshow": {
     "slide_type": "fragment"
    }
   },
   "source": [
    "The *connection*: left and right sides of $\\mathbf{Ax}=\\mathbf{b}$ equal if and only if $\\mathbf{b}$ is a linear combination of the columns of $\\mathbf{A}$:\n",
    "\n",
    "$$\n",
    "\\begin{split}\n",
    "\\mathbf{Ax} & = \n",
    "\\begin{bmatrix} \n",
    "  a_{00} & a_{01} & \\cdots & a_{0,n-1} \\\\\n",
    "  a_{10} & a_{11} & \\cdots & a_{1,n-1} \\\\\n",
    "  \\vdots  & \\vdots  & \\ddots & \\vdots  \\\\\n",
    "  a_{m-1,0} & a_{m-1,2} & \\cdots & a_{m-1,n-1} \n",
    "\\end{bmatrix} \n",
    "\\times \n",
    "\\left[ \\begin{array}{c} \n",
    "   x_0 \\\\ \n",
    "   x_1 \\\\\n",
    "   \\vdots \\\\\n",
    "   x_{m-1} \n",
    "   \\end{array} \\right] \\\\\n",
    "& = x_0 \\mathbf{a}_{:, 0} + x_1 \\mathbf{a}_{:, 1} + \\ldots + x_{m-1} \\mathbf{a}_{:,m-1}  \\\\\n",
    "& = \\mathbf{b}\n",
    "\\end{split}\n",
    "$$"
   ]
  },
  {
   "cell_type": "markdown",
   "metadata": {
    "slideshow": {
     "slide_type": "subslide"
    }
   },
   "source": [
    "## Elimination and Substitution for Solving Systems\n",
    "\n",
    "Consider the following (slightly modified from the reading:"
   ]
  },
  {
   "cell_type": "code",
   "execution_count": 52,
   "metadata": {
    "collapsed": true,
    "slideshow": {
     "slide_type": "fragment"
    }
   },
   "outputs": [],
   "source": [
    "import numpy as np\n",
    "def eliminate(A, b):\n",
    "    U, c = np.copy(A), np.copy(b)\n",
    "    for j in range(len(U)):\n",
    "        pivot = U[j, j]\n",
    "        assert pivot != 0.0, \"pivot is zero!\"\n",
    "        for i in range(j+1, len(A)):\n",
    "            multiple = U[i, j]/pivot\n",
    "            c[i] = c[i] - c[j]*multiple\n",
    "            for k in range(j, len(A)):\n",
    "                U[i, k] = U[i, k] - U[j, k]*multiple\n",
    "        print('column = {}, pivot = {:.4f}'.format(j, pivot))\n",
    "        s = \"U = \\n{}\".format(U)\n",
    "        s = s.replace('[[',' [').replace(']]', ']')\n",
    "        s = s.replace('[','|').replace(']',' |')\n",
    "        print(s)\n",
    "    return U, c"
   ]
  },
  {
   "cell_type": "code",
   "execution_count": 55,
   "metadata": {
    "slideshow": {
     "slide_type": "subslide"
    }
   },
   "outputs": [
    {
     "name": "stdout",
     "output_type": "stream",
     "text": [
      "column = 0, pivot = 2.0000\n",
      "U = \n",
      " | 2.  -1.   0.  |\n",
      " | 0.   1.5 -1.  |\n",
      " | 0.  -1.   2.  |\n",
      "column = 1, pivot = 1.5000\n",
      "U = \n",
      " | 2.         -1.          0.         |\n",
      " | 0.          1.5        -1.         |\n",
      " | 0.          0.          1.33333333 |\n",
      "column = 2, pivot = 1.3333\n",
      "U = \n",
      " | 2.         -1.          0.         |\n",
      " | 0.          1.5        -1.         |\n",
      " | 0.          0.          1.33333333 |\n"
     ]
    }
   ],
   "source": [
    "A = np.array([[ 2.0, -1.0,  0.0],\n",
    "              [-1.0,  2.0, -1.0],\n",
    "              [ 0.0, -1.0,  2.0]])\n",
    "b = np.array([1.0, 1.0, 1.0])\n",
    "U, c = eliminate(A, b)"
   ]
  },
  {
   "cell_type": "markdown",
   "metadata": {
    "slideshow": {
     "slide_type": "fragment"
    }
   },
   "source": [
    "**Exercise**: Can you reason out *a priori* what the order of elimination is?  Perform a numerical experiment to check your prediction."
   ]
  },
  {
   "cell_type": "markdown",
   "metadata": {
    "collapsed": true,
    "slideshow": {
     "slide_type": "fragment"
    }
   },
   "source": [
    "Elimination is the hard part, but we do not yet have the solution $\\mathbf{x}$. \n",
    "\n",
    "The *solution*:  use *backsubstitution* by solving for $x_{n-1}$ first, then using it to find $x_{n-2}$, etc."
   ]
  },
  {
   "cell_type": "code",
   "execution_count": 63,
   "metadata": {
    "collapsed": true,
    "slideshow": {
     "slide_type": "subslide"
    }
   },
   "outputs": [],
   "source": [
    "def back_substitute(U, c):\n",
    "    m = len(c)\n",
    "    x = np.zeros_like(c)\n",
    "    for i in range(m-1, -1, -1):\n",
    "        # Add up all the pieces that go on the right hand side\n",
    "        rhs = c[i] \n",
    "        j = i + 1 \n",
    "        for j in range(i+1, m):\n",
    "            rhs = rhs - U[i, j]*x[j] # Recall that x[j] is known!\n",
    "        x[i] = rhs / U[i, i] # Solve for the next unknown\n",
    "    return x"
   ]
  },
  {
   "cell_type": "code",
   "execution_count": 64,
   "metadata": {
    "slideshow": {
     "slide_type": "fragment"
    }
   },
   "outputs": [
    {
     "data": {
      "text/plain": [
       "array([ 1.5,  2. ,  1.5])"
      ]
     },
     "execution_count": 64,
     "metadata": {},
     "output_type": "execute_result"
    }
   ],
   "source": [
    "back_substitute(U, c)"
   ]
  },
  {
   "cell_type": "markdown",
   "metadata": {
    "slideshow": {
     "slide_type": "slide"
    }
   },
   "source": [
    "## Practical Use of Matrices\n",
    "\n",
    "<img src=\"small_truss.png\" alt=\"Truss\" style=\"width: 300px;\"/>"
   ]
  },
  {
   "cell_type": "markdown",
   "metadata": {
    "slideshow": {
     "slide_type": "slide"
    }
   },
   "source": [
    "## Recap\n",
    "\n",
    "You should now be able to\n",
    "\n",
    "- Explain what it means for $\\mathbf{Ax}=\\mathbf{b}$ to have a solution.\n",
    "- Define $\\mathbf{Ax}=\\mathbf{b}$ from engineering or other inputs.\n",
    "- Solve linear systems using basic Gaussian elimination.\n",
    "- Solve linear systems using NumPy."
   ]
  }
 ],
 "metadata": {
  "celltoolbar": "Slideshow",
  "kernelspec": {
   "display_name": "Python 3",
   "language": "python",
   "name": "python3"
  },
  "language_info": {
   "codemirror_mode": {
    "name": "ipython",
    "version": 3
   },
   "file_extension": ".py",
   "mimetype": "text/x-python",
   "name": "python",
   "nbconvert_exporter": "python",
   "pygments_lexer": "ipython3",
   "version": "3.6.3"
  }
 },
 "nbformat": 4,
 "nbformat_minor": 2
}
