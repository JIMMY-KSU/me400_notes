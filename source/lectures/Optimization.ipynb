{
 "cells": [
  {
   "cell_type": "markdown",
   "metadata": {},
   "source": [
    "# Optimization\n",
    "<a name=\"optimization\"></a>\n",
    "\n",
    "## Overview, Objectives, and Key Terms\n",
    " \n",
    "In [Root Finding](#root_finding), the bisection method and Newton's method were used to solve nonlinear equations.  Now, those methods (and tools like `fsolve`) are used to solve **optimization problems**. The subject is rich, so we'll touch on only the basics, but you'll have tools at your disposal to tackle such problems in varied applications.\n",
    " \n",
    "### Objectives\n",
    "\n",
    "By the end of this lesson, you should be able to\n",
    "\n",
    "- Find local extrema of a function $f(x)$ using the bisection and Newton methods.\n",
    "- Use `minimize` to solve nonlinear optimization problems.\n",
    "\n",
    "### Key Terms\n",
    "\n",
    "- optimization\n",
    "- uncontrained optimization\n",
    "- constrained optimization\n",
    "- extremum\n",
    "- critical point\n",
    "- objective function\n",
    "- linear program\n",
    "- `scipy.optimize.minimize`\n",
    "- `scipy.optimize.linprog`"
   ]
  },
  {
   "cell_type": "markdown",
   "metadata": {},
   "source": [
    "## Some Nomenclature\n",
    "\n",
    "Optimization problems often defined by minimizing an **objective function**\n",
    "\n",
    "$$\n",
    "  \\min_{x} f(x) \\qquad \\text{or} \\qquad \\min_{\\mathbf{x}} f(\\mathbf{x}) \\, ,\n",
    "$$\n",
    "\n",
    "subject to the **inequality constraints**\n",
    "\n",
    "$$\n",
    "  g(x) \\ge 0 \\qquad \\text{or} \\qquad \\mathbf{g(x)}  \\ge \\mathbf{0} \\, ,\n",
    "$$\n",
    "\n",
    "and/or the **equality constraints**\n",
    "\n",
    "$$\n",
    "  h(x) = 0 \\qquad \\text{or} \\qquad \\mathbf{h(x)} = \\mathbf{0} \\, .\n",
    "$$\n",
    "\n",
    "An optimization problem is *unconstrained* if it is subject to no inequality constraints and no equality constraints.  Otherwise, the problem is *constrained*.  In practice, unconstrained problems are often easier to solve using a variety of techniques for finding *extrema*.  We'll start with unconstrained problems and then consider an important class of constrained problems known as *linear programs*."
   ]
  },
  {
   "cell_type": "markdown",
   "metadata": {},
   "source": [
    "## Finding Extrema\n",
    "\n",
    "One of the great applications of differentiation is its ability\n",
    "to identify the *critical points* of a function $f(x)$, which\n",
    "include its *minima* and *maxima*, i.e., its *extrema*.  Suppose\n",
    "$f(x)$ represents some quantity of interest, perhaps the cost \n",
    "of materials for some component or the signal-to-noise ratio of\n",
    "some sensor.  If we want to mininimize those costs or maximize those\n",
    "ratios, we need to use *optimization*.  Although optimization problems\n",
    "and the techniques to solve them are quite diverse, we will stick to\n",
    "1-D problems in which the *objective function* to be minimized or \n",
    "maximized is continuous (as opposed to discrete).\n",
    "\n",
    "You've had calculus (and we've reviewed some its topics).  Hence, you might recall that a function $f(x)$ exhibits an **extremum**, i.e., a **minimum** or **maximum**, at any point $x$ for which $f'(x)$ is zero and $f''(x)$ is nonzero.  When $f'(x)$ *and* $f''(x)$ vanish, the point is often called a **saddle point**, though that term is more meaningful in multiple dimensions."
   ]
  },
  {
   "cell_type": "markdown",
   "metadata": {},
   "source": [
    "***\n",
    "\n",
    "**Exercise**: Given some fencing of *fixed* length `L`, what is the largest area that fencing can enclose if arranged in a rectangle  of sides `a` and  `b`?  \n",
    "\n",
    "*Solution*:\n",
    "\n",
    "Here's the problem.  We want to maximize $A = ab$ where $2a+2b = L$ or $b = L/2 - a$.  We know $L$ and $b$ depends on $a$, so there is just one free parameter (i.e., we're in 1-D where we'll stay throughout).  Note that $a$ (and $b$) can range from 0 to $L/2$.\n",
    "\n",
    "Formally, we see a solution to\n",
    "\n",
    "$$\n",
    "  \\max_{a \\in [0,\\, L/2]} a\\left (\\frac{L}{2}-a \\right)\n",
    "$$\n",
    "\n",
    "which reads \"find the value of $a$ in the range $[0, L/2]$ that maximizes the quantity $f(a) = a(L/2-a)$.  Here, $f(a)$ is the **objective function**.\n",
    "\n",
    "Differentiation of $f(a)$ gives\n",
    "\n",
    "$$\n",
    "  f'(a) = L/2 - 2a \n",
    "$$\n",
    "\n",
    "which, when set to zero, requires that $a = L/4$.  Consequently, $b = L/2-a = L/4 = a$.  That is to say, our fence must form a square to maximize the area enclosed.\n",
    "\n",
    "***"
   ]
  },
  {
   "cell_type": "markdown",
   "metadata": {},
   "source": [
    "## The Connection To Nonlinear Functions\n",
    "\n",
    "\n",
    "As the fence exercise illustrates, if we can write down the derivative and explicitly find the point at which it vanishes, our problem is solved.  That is rarely the case.  Often, the functions of interest have complicated derivatives that make $f'(x) = 0$ a nonlinear equation.  We generally can't solve that problem directly. In many cases, we don't even have $f'(x)$, and at best, we can approximate it numerically using finite differences.  \n",
    "\n",
    "Further complicating matters is that even if we can solve  $f'(x)=0$, the result might not be an extremum (consider $f(x)=x^3$ and the  zeros of its derivative $3x^2$), and it might not be unique. \n",
    "\n",
    "Consider the following example (for $f(x) = \\sin(x^22)-3)^2$): "
   ]
  },
  {
   "cell_type": "code",
   "execution_count": 1,
   "metadata": {},
   "outputs": [
    {
     "data": {
      "text/plain": [
       "<Figure size 640x480 with 1 Axes>"
      ]
     },
     "metadata": {},
     "output_type": "display_data"
    }
   ],
   "source": [
    "import nonlinear_plots\n",
    "nonlinear_plots.extrema()"
   ]
  },
  {
   "cell_type": "markdown",
   "metadata": {},
   "source": [
    "Of the three roots, two correspond to minima---but the left one (blue circle) is greater than the right one (red square), so is it really a minimum?  *Yes*, if we make the distinction between *local* and *global* minima.  For this problem, the right minimum is the *global* minimum, while the central root (green star) represents a local maximum ($f(x)$ is *unbounded*, i.e.,  there is no value $M < \\infty$ such that $|f(x)| < M$ for all possible values of $x$).  Given the choice,  a global optimum is usualy preferred, but for many cases, we're at best guaranteed a local minimum.  There are techniques to increase our  chances of finding a global optimum, but that's outside the present scope!"
   ]
  },
  {
   "cell_type": "markdown",
   "metadata": {},
   "source": [
    "## Solving Unconstrained Optimization Problems\n",
    "\n",
    "\n",
    "### When the Derivative is Available\n",
    "\n",
    "If we have $f(x)$ and can evaluate $f'(x)$, then either Newton's method or the secant method can be applied to $f'(x) = 0$.  The same goes for multi-variable problems, where the gradient $\\nabla f(\\mathbf{x})$ replaces $f'(x)$, and the *hessian* matrix $\\mathbf{H}(\\mathbf{x})$ replaces $f''(x)$."
   ]
  },
  {
   "cell_type": "markdown",
   "metadata": {},
   "source": [
    "***\n",
    "\n",
    "**Exercise**: Find the value of $x$ that maximizes the function $f(x) = 2\\sin(x) - x^2/10$ starting with $x_0 = 2.5$.  Then, confirm your result by showing it on a graph of $f(x)$.\n",
    "\n",
    "*Solution*.  We can immediately differentiate $f(x)$ to find $f'(x) = 2\\cos(x) + x/5$ and $f''(x) = -2\\sin(x) + 1/5$. Then, Newton's method gives"
   ]
  },
  {
   "cell_type": "code",
   "execution_count": 2,
   "metadata": {},
   "outputs": [
    {
     "data": {
      "text/plain": [
       "<matplotlib.legend.Legend at 0x7f3a3f320d68>"
      ]
     },
     "execution_count": 2,
     "metadata": {},
     "output_type": "execute_result"
    },
    {
     "data": {
      "image/png": "[encoded data removed]",
      "text/plain": [
       "<Figure size 432x288 with 1 Axes>"
      ]
     },
     "metadata": {},
     "output_type": "display_data"
    }
   ],
   "source": [
    "import numpy as np\n",
    "import matplotlib.pyplot as plt\n",
    "\n",
    "f = lambda z: 2*np.sin(z) - z**2/10 # objective function\n",
    "fp = lambda z: 2*np.cos(z) - z/5    \n",
    "fpp = lambda z: -2*np.sin(z) - 1/5  \n",
    "\n",
    "x = 2.5 # initial guess\n",
    "while abs(fp(x)) > 1e-12:\n",
    "    x = x - fp(x)/fpp(x)\n",
    "\n",
    "x_vals = np.linspace(0, 5)\n",
    "plt.plot(x_vals, f(x_vals), 'k', label='f(x)')\n",
    "plt.plot(x_vals, fp(x_vals), 'g--', label=\"f'(x)\")\n",
    "plt.plot(x, f(x), 'rx', ms='20', label='optimum') # X marks the spot...\n",
    "plt.xlabel('x')\n",
    "plt.title('maximum values of f(x) is {:.2e} at x={:.2e}'.format(f(x), x))\n",
    "plt.legend()"
   ]
  },
  {
   "cell_type": "markdown",
   "metadata": {},
   "source": [
    "\n",
    "***\n",
    "\n",
    "**Exercise**: Consider the objective function $f(\\mathbf{x}) = ax_0 + bx_1 - (2x_0^2 + x_0 x_1 + 2x_1^2)$.  Compute $\\nabla f(\\mathbf{x})$ and $\\mathbf{H}(\\mathbf{x})$ (which is the jacobian of $\\mathbf{\\nabla g}(x)$.  Then, for $a = 5$ and $b = 10$, determine the values of $x_0$ and $x_1$ that maximize $f(\\mathbf{x})$ starting with $\\mathbf{x} = [1, 2]^T$.\n",
    "\n",
    "*Solution*:\n",
    "\n",
    "The gradient is\n",
    "\n",
    "$$\n",
    "\\nabla f(\\mathbf{x}) = \n",
    "\\left [ \\begin{array}{c}\n",
    "  \\partial f / \\partial x_0 \\\\\n",
    "  \\partial f / \\partial x_1 \n",
    "\\end{array} \\right ] =\n",
    "\\left [ \\begin{array}{c}\n",
    "   a - 4 x_0 - x_1 \\\\\n",
    "   b - 4 x_1 - x_0\n",
    "\\end{array} \\right ] \\, .\n",
    "$$\n",
    "\n",
    "The hessian matrix is the jacobian matrix for $\\mathbf{\\nabla f}(\\mathbf{x})$, or\n",
    "$$\n",
    "\\mathbf{H}(\\mathbf{x}) =\n",
    "\\left [ \\begin{array}{cc}\n",
    "  \\partial \\nabla f_0 / \\partial x_0 & \\partial \\nabla f_0 / \\partial x_1 \\\\\n",
    "  \\partial \\nabla f_1 / \\partial x_0 & \\partial \\nabla f_1 / \\partial x_1 \\\\\n",
    "\\end{array} \\right ] =\n",
    "\\left [ \\begin{array}{c}\n",
    "   -4 & -1 \\\\\n",
    "   -1 & -4\n",
    "\\end{array} \\right ] \\, .\n",
    "$$\n",
    "\n",
    "Now, apply Newton's method:"
   ]
  },
  {
   "cell_type": "code",
   "execution_count": 3,
   "metadata": {},
   "outputs": [
    {
     "ename": "NameError",
     "evalue": "name 'g' is not defined",
     "output_type": "error",
     "traceback": [
      "\u001b[0;31m---------------------------------------------------------------------------\u001b[0m",
      "\u001b[0;31mNameError\u001b[0m                                 Traceback (most recent call last)",
      "\u001b[0;32m<ipython-input-3-f67d6031561e>\u001b[0m in \u001b[0;36m<module>\u001b[0;34m()\u001b[0m\n\u001b[1;32m      9\u001b[0m \u001b[0;31m# Apply Newton's method\u001b[0m\u001b[0;34m\u001b[0m\u001b[0;34m\u001b[0m\u001b[0m\n\u001b[1;32m     10\u001b[0m \u001b[0mx\u001b[0m \u001b[0;34m=\u001b[0m \u001b[0mnp\u001b[0m\u001b[0;34m.\u001b[0m\u001b[0marray\u001b[0m\u001b[0;34m(\u001b[0m\u001b[0;34m[\u001b[0m\u001b[0;36m1.0\u001b[0m\u001b[0;34m,\u001b[0m \u001b[0;36m2.0\u001b[0m\u001b[0;34m]\u001b[0m\u001b[0;34m)\u001b[0m\u001b[0;34m\u001b[0m\u001b[0m\n\u001b[0;32m---> 11\u001b[0;31m \u001b[0;32mwhile\u001b[0m \u001b[0msum\u001b[0m\u001b[0;34m(\u001b[0m\u001b[0mabs\u001b[0m\u001b[0;34m(\u001b[0m\u001b[0mg\u001b[0m\u001b[0;34m(\u001b[0m\u001b[0mx\u001b[0m\u001b[0;34m)\u001b[0m\u001b[0;34m)\u001b[0m\u001b[0;34m)\u001b[0m \u001b[0;34m>\u001b[0m \u001b[0;36m1e-8\u001b[0m\u001b[0;34m:\u001b[0m\u001b[0;34m\u001b[0m\u001b[0m\n\u001b[0m\u001b[1;32m     12\u001b[0m     \u001b[0mx\u001b[0m \u001b[0;34m=\u001b[0m \u001b[0mx\u001b[0m \u001b[0;34m-\u001b[0m \u001b[0mnp\u001b[0m\u001b[0;34m.\u001b[0m\u001b[0mlinalg\u001b[0m\u001b[0;34m.\u001b[0m\u001b[0msolve\u001b[0m\u001b[0;34m(\u001b[0m\u001b[0mH\u001b[0m\u001b[0;34m,\u001b[0m \u001b[0mgf\u001b[0m\u001b[0;34m(\u001b[0m\u001b[0mx\u001b[0m\u001b[0;34m)\u001b[0m\u001b[0;34m)\u001b[0m\u001b[0;34m\u001b[0m\u001b[0m\n\u001b[1;32m     13\u001b[0m \u001b[0;34m\u001b[0m\u001b[0m\n",
      "\u001b[0;31mNameError\u001b[0m: name 'g' is not defined"
     ]
    }
   ],
   "source": [
    "import numpy as np\n",
    "import matplotlib.pyplot as plt\n",
    "f = lambda z: 5*z[0] + 10*z[1] - (2*z[0]**2 + z[0]*z[1] + 2*z[1]**2)\n",
    "gf = lambda z: np.array([5-4*x[0]-x[1], \n",
    "                        10-4*x[1]-x[0]]) # gradient of f\n",
    "H = np.array([[-4.0, -1.0],\n",
    "              [-1.0, -4.0]])  \n",
    "\n",
    "# Apply Newton's method\n",
    "x = np.array([1.0, 2.0])\n",
    "while sum(abs(g(x))) > 1e-8:\n",
    "    x = x - np.linalg.solve(H, gf(x))\n",
    "    \n",
    "# Plot the results and show where the maximum exists\n",
    "x0, x1 = np.linspace(0, 5), np.linspace(0, 5)\n",
    "x0, x1 = np.meshgrid(x0, x1)\n",
    "plt.contourf(x0, x1, f([x0, x1]), 25)\n",
    "plt.colorbar()\n",
    "plt.plot(x[0], x[1], 'rx', ms=20)\n",
    "plt.xlabel('$x_0$')\n",
    "plt.ylabel('$x_1$')\n",
    "plt.title('$f(x_0, x_1)$')"
   ]
  },
  {
   "cell_type": "markdown",
   "metadata": {},
   "source": [
    "### When the Derivative is Unavailable\n",
    "\n",
    "If we have $f'(x)$, we can apply Newton's method to $f'(x) = 0$.  Assuming we don't, how can we proceed?  One option is to adapt the bisection method.  Now, the search is not based on the change of the sign of $f(x)$ but rather it's magnitude relative to the left and right points.  Again, we have to have isolated our (single) target value in some finite range, which may be no easy task (plotting helps).   Alternatively, Newton-like methods can be used by approximating both $f'(x)$ and $f''(x)$ (or their multi-dimensional analogs) with finite differences."
   ]
  },
  {
   "cell_type": "markdown",
   "metadata": {},
   "source": [
    "### Using `scipy.optimize.minimize`\n",
    "\n",
    "An alternative to Newton's method is the `minimize` function in `scipy.optimize`. From `help(minimize)`, we find\n",
    "\n",
    "```\n",
    "Help on function minimize in module scipy.optimize._minimize:\n",
    "\n",
    "minimize(fun, x0, args=(), method=None, jac=None, hess=None, hessp=None, bounds=None, constraints=(), \n",
    "         tol=None, callback=None, options=None)\n",
    "    Minimization of scalar function of one or more variables.\n",
    "```\n",
    "\n",
    "At a minimum, one must define (1) the function `fun` to minimize, and (2) an initial guess `x0` for the solution.  The function minimize returns an *object* with several attributes, one of which is the solution `x`.  Therefore, if one calls `sol = minimize(fun, x0)`, the solution is `sol.x`."
   ]
  },
  {
   "cell_type": "markdown",
   "metadata": {},
   "source": [
    "***\n",
    "\n",
    "**Exercise**: Use `minimize` to find the *maximum* of $f(x) = 2\\sin(x) - x^2/10$ starting with $x_0 = 2.5$.  \n",
    "\n",
    "**Solution**: Note that any maximization problem can be turned into a minimization problem negating the objective function, i.e., $f(x)$ becomes $-f(x)$.  Then:"
   ]
  },
  {
   "cell_type": "code",
   "execution_count": null,
   "metadata": {},
   "outputs": [],
   "source": [
    "import numpy as np\n",
    "from scipy.optimize import minimize\n",
    "f = lambda x: -2*np.sin(x) + x**2 / 10\n",
    "sol = minimize(f, x0=2.5)\n",
    "print(sol.x) "
   ]
  },
  {
   "cell_type": "markdown",
   "metadata": {},
   "source": [
    "***\n",
    "\n"
   ]
  },
  {
   "cell_type": "markdown",
   "metadata": {},
   "source": [
    "## Solving Constrained Optimization Problems\n",
    "\n",
    "Optimization with constraints is a much more challenging problem.  Although `minimize` can be used for such problems, we limit our focus to a specific class of constrained optimization problems known as [linear programs](https://en.wikipedia.org/wiki/Linear_programming).  The standard form of a linear program is\n",
    "\n",
    "$$\n",
    "  \\min_{\\mathbf{x}} \\mathbf{c}^T \\mathbf{x}\\, ,\n",
    "$$\n",
    "\n",
    "subject to \n",
    "\n",
    "$$\n",
    "  \\mathbf{A}_{ub}\\mathbf{x} \\le \\mathbf{b}_{ub} \\, ,\n",
    "$$\n",
    "\n",
    "and \n",
    "\n",
    "$$\n",
    "  \\mathbf{A}_{eq}\\mathbf{x} = \\mathbf{b}_{eq} \\, .\n",
    "$$\n",
    "\n",
    "Note, the objective function is *linear*, and $\\mathbf{c}$ represents a vector of costs associated with each element of $\\mathbf{x}$.  \n"
   ]
  },
  {
   "cell_type": "markdown",
   "metadata": {},
   "source": [
    "The ideal tool for solving such problems is `scipy.optimize.linprog`, for which help provides\n",
    "\n",
    "```\n",
    "linprog(c, A_ub=None, b_ub=None, A_eq=None, b_eq=None, bounds=None, method='simplex', callback=None, options=None)\n",
    "    Minimize a linear objective function subject to linear\n",
    "    equality and inequality constraints.\n",
    "    \n",
    "    Linear Programming is intended to solve the following problem form::\n",
    "    \n",
    "        Minimize:     c^T * x\n",
    "    \n",
    "        Subject to:   A_ub * x <= b_ub\n",
    "                      A_eq * x == b_eq\n",
    "```\n",
    "\n",
    "Here, `A_ub` and `A_eq` are two-dimensional arrays, while `c`, `b_ub`, and `b_eq` are one-dimensional arrays. "
   ]
  },
  {
   "cell_type": "markdown",
   "metadata": {},
   "source": [
    "***\n",
    "\n",
    "**Exercise**.  Use `linprog` to find $\\mathbf{x} = [x_0, x_1]^T$ that *maximizes* $x_0 + x_1$ subject to the constraints\n",
    "\n",
    "$$\n",
    "x_0 \\ge 0 \\\\\n",
    "x_1 \\ge 0 \\\\\n",
    "x_0 + 2 x_1 \\leq 4 \\\\\n",
    "4 x_0 + 2 x_1 \\leq 12 \\\\\n",
    "-x_0 +  x_1 \\leq 1 \\\\\n",
    "$$\n",
    "\n",
    "*Solution*:  Note first that the cost vector $\\mathbf{c}$ should be $[-1, -1]^T$ so that the sum of $x_0$ and $x_1$ is *maximized*.  All of the inequality constraints can be cast in $\\mathbf{A}_{ub} \\mathbf{x} \\le \\mathbf{b}_{ub}$ form by noting that if $x_0 \\ge 0$ then $-x_0 \\le 0$.  Therefore, these constraints can be written as\n",
    "\n",
    "$$\n",
    "\\left [ \\begin{array}{cc}\n",
    "-1 & 0 \\\\\n",
    " 0 & -1 \\\\\n",
    " 1 & 2 \\\\\n",
    " 4 & 2 \\\\\n",
    "-1 & 1\n",
    "\\end{array} \\right] \n",
    "\\left [ \\begin{array}{cc}\n",
    "x_0 \\\\\n",
    "x_1 \n",
    "\\end{array} \\right] \\leq\n",
    "\\left [ \\begin{array}{c}\n",
    " 0 \\\\\n",
    " 0 \\\\\n",
    " 4 \\\\\n",
    "12 \\\\\n",
    "1 \n",
    "\\end{array} \\right] \n",
    "$$\n",
    "\n",
    "Finally, there are no equality constraints.  From here, `linprog` can be used via "
   ]
  },
  {
   "cell_type": "code",
   "execution_count": null,
   "metadata": {},
   "outputs": [],
   "source": [
    "from scipy.optimize import linprog\n",
    "import numpy as np\n",
    "c = np.array([-1, -1])\n",
    "A_ub = np.array([[-1.0, 0.0],\n",
    "                 [0.0, -1.0],\n",
    "                 [1.0, 2.0],\n",
    "                 [4.0, 2.0],\n",
    "                 [-1.0, 1.0]])\n",
    "b_ub = np.array([0, 0, 4, 12, 1])\n",
    "sol=linprog(c, A_ub, b_ub)\n",
    "print(sol.x) # like minimize, linprog returns an object \n",
    "             # with attribute x"
   ]
  },
  {
   "cell_type": "markdown",
   "metadata": {},
   "source": [
    "\n",
    "***\n"
   ]
  },
  {
   "cell_type": "markdown",
   "metadata": {},
   "source": [
    "\n",
    "\n",
    "**Exercise**.  Suppose the Acme Concrete Company is supplying concrete for three large-scale projects.  The company has production facilities in four different locations.  Projects 0, 1, and 2 require 250, 400, and 500 cubic meters of concrete each week.  Plants A, B, C, and D produce 350, 200, 400, and 450 cubic meters each week. Although the plants, in total, produce more than enough to supply all three projects, the cost to provide the concrete depends on the distance traveled between the plant and the project. The cost per cubic meter to ship from any plant to any project is summarized n the table below:\n",
    "\n",
    "|    | 0  | 1  | 2 |\n",
    "|----|---|---|\n",
    "| **A**  | 10  | 20 | 30  |\n",
    "| **B**  | 15  |  5 | 20  |\n",
    "| **C**  | 25 |  20  |15  |\n",
    "| **D**  | 30  | 10  | 20 |\n",
    "\n",
    "How much should each plant supply to each project?  Convert this problem into a linear program, and then use `linprog` to determine the solution.\n",
    "\n",
    "***\n"
   ]
  },
  {
   "cell_type": "markdown",
   "metadata": {},
   "source": [
    "## Further Reading\n",
    "\n",
    "Checkout out the [SciPy documentation](https://docs.scipy.org/doc/scipy/reference/optimize.html) on optimization and root finding."
   ]
  }
 ],
 "metadata": {
  "kernelspec": {
   "display_name": "Python 3",
   "language": "python",
   "name": "python3"
  },
  "language_info": {
   "codemirror_mode": {
    "name": "ipython",
    "version": 3
   },
   "file_extension": ".py",
   "mimetype": "text/x-python",
   "name": "python",
   "nbconvert_exporter": "python",
   "pygments_lexer": "ipython3",
   "version": "3.6.5"
  }
 },
 "nbformat": 4,
 "nbformat_minor": 2
}
