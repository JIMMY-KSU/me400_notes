{
 "cells": [
  {
   "cell_type": "markdown",
   "metadata": {},
   "source": [
    "# Lecture 21 - Numerical Differentiation\n",
    "\n",
    "## Overview, Objectives, and Key Terms\n",
    " \n",
    "In [Lecture 20](ME400_Lecture_20.ipynb), Taylor series were reviewed, and SymPy was used to define and study such series.  A key idea introduced was that a *truncated* Taylor series expansion of $f(x)$ about $x_0$ is (1) accurate near the point $x_0$ and (2) made better by including additional terms of the full series.  In this lesson, such truncated series are used to define **finite difference** approximations for derivatives.\n",
    " \n",
    "### Objectives\n",
    "\n",
    "By the end of this lesson, you should be able to\n",
    "\n",
    "- Symbolically compute series expansions of a function\n",
    "- Explain what is meant by *order* in the context of series expansions (and numerical approximation)\n",
    "- Numerically demonstrate that a series expansion of a function provides a good, *local* approximation\n",
    "\n",
    "### Key Terms\n",
    "\n",
    "- Taylor series\n",
    "- Maclaurin series\n",
    "- $\\mathcal{O}(\\Delta^n)$ as *order* in a different way\n",
    "- local approximation"
   ]
  },
  {
   "cell_type": "markdown",
   "metadata": {},
   "source": [
    "$$\n",
    "  y(x+h) = y(x) + y'(x)\\Delta + (1/2) y''(x) \\Delta^2 + \\mathcal{O}(\\Delta^3) \\\\\n",
    "  y(x-h) = y(x) - y'(x)\\Delta + (1/2) y''(x) \\Delta^2 + ..\n",
    "$$"
   ]
  },
  {
   "cell_type": "code",
   "execution_count": null,
   "metadata": {
    "collapsed": true
   },
   "outputs": [],
   "source": []
  }
 ],
 "metadata": {
  "kernelspec": {
   "display_name": "Python 3",
   "language": "python",
   "name": "python3"
  },
  "language_info": {
   "codemirror_mode": {
    "name": "ipython",
    "version": 3
   },
   "file_extension": ".py",
   "mimetype": "text/x-python",
   "name": "python",
   "nbconvert_exporter": "python",
   "pygments_lexer": "ipython3",
   "version": "3.6.2"
  }
 },
 "nbformat": 4,
 "nbformat_minor": 2
}
