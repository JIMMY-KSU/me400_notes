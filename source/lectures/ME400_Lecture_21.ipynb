{
 "cells": [
  {
   "cell_type": "markdown",
   "metadata": {},
   "source": [
    "# Lecture 21 - Numerical Differentiation\n",
    "\n",
    "## Overview, Objectives, and Key Terms\n",
    " \n",
    "In [Lecture 20](ME400_Lecture_20.ipynb), Taylor series were reviewed, and SymPy was used to define and study such series.  A key idea introduced was that a *truncated* Taylor series expansion of $f(x)$ about $x_0$ is (1) accurate near the point $x_0$ and (2) made better by including additional terms of the full series.  In this lesson, such truncated series are used to define **finite difference** approximations for derivatives.  Although good for some applications by themselves, finite-difference approximations are critical for solving differential equations numerically, a topic to be covered in several lectures.\n",
    " \n",
    "### Objectives\n",
    "\n",
    "By the end of this lesson, you should be able to\n",
    "\n",
    "- Derive finite-difference approximations for first- and second-order derivatives using Taylor series.\n",
    "- Apply SymPy to compute finite-difference approximations of arbitrary order for any derivative.\n",
    "- Numerically/graphically/symbolically demonstrate that the error of an $n$th-order approximation as $\\Delta \\to 0$ exhibits the right behavior.\n",
    "\n",
    "### Key Terms\n",
    "\n",
    "- finite difference\n",
    "- forward difference\n",
    "- backward difference\n",
    "- central difference\n",
    "- truncation error\n",
    "- first-order approximation\n",
    "- second-order approximation\n",
    "- $n$th-order approximation"
   ]
  },
  {
   "cell_type": "markdown",
   "metadata": {},
   "source": [
    "## If, in the beginning, $h$ didn't go to 0...\n",
    "\n",
    "Recall from [Lecture 19](ME400_Lecture_19.ipynb) that the derivative of $f(x)$ is\n",
    "\n",
    "$$\n",
    "  \\frac{df}{dx} = \\lim_{\\Delta \\to 0} \\frac{f(x+\\Delta)-f(x)}{\\Delta} \\, .\n",
    "$$\n",
    "\n",
    "Here, $h$ (the ubiquitous \"step\" used in calculus books around the world) is swapped for $\\Delta$ (a better symbol that represents \"small change\").  What if that limit is not taken and, instead, a \"small\" value of $\\Delta$ is used?  The result is our first **finite-difference** approximation, the **forward difference**:\n",
    "\n",
    "$$\n",
    "  f'(x) \\approx  \\frac{f(x+\\Delta)-f(x)}{\\Delta} \\, .\n",
    "$$\n",
    "\n",
    "This is called the *forward* difference approximation because $f'(x)$ depends on information (1) at point $x$ and (2) to the right (or forward) of $x$ at $x+\\Delta$.  Intuition suggests that this approximation improves with smaller $\\Delta$. \n",
    "\n",
    "An equally valid approximation is the **backward difference**:\n",
    "$$\n",
    "  f'(x) \\approx  \\frac{f(x)-f(x-\\Delta)}{\\Delta} \\, .\n",
    "$$"
   ]
  },
  {
   "cell_type": "markdown",
   "metadata": {},
   "source": [
    "***\n",
    "\n",
    "**Exercise**: Use the forward-difference approximation to approximate the derivative of $e^x$ at $x = 1$ for $\\Delta = 1, 0.1, 0.01, and 0.001$ and plot the error as a function of $\\Delta$.\n",
    "\n",
    "*Solution*:"
   ]
  },
  {
   "cell_type": "code",
   "execution_count": 1,
   "metadata": {},
   "outputs": [
    {
     "data": {
      "image/png": "[encoded data removed]",
      "text/plain": [
       "<matplotlib.figure.Figure at 0x7f64283d3e80>"
      ]
     },
     "metadata": {},
     "output_type": "display_data"
    }
   ],
   "source": [
    "import numpy as np\n",
    "import matplotlib.pyplot as plt\n",
    "x = 1.0\n",
    "fp_ref = np.exp(x) # fp for \"f prime\"\n",
    "Delta = np.logspace(0, -3, 4)\n",
    "fp_appx = np.zeros(len(Delta))\n",
    "for i in range(len(Delta)):\n",
    "    fp_appx[i] = (np.exp(x+Delta[i])-np.exp(x))/Delta[i]\n",
    "plt.loglog(Delta, abs(fp_appx-fp_ref), 'k-o')\n",
    "plt.xlabel('$\\Delta$', fontsize=16)\n",
    "plt.ylabel(\"$|f_{appx}'(x)-f'(x)|$\", fontsize=16)\n",
    "plt.grid(True)\n",
    "plt.show()"
   ]
  },
  {
   "cell_type": "markdown",
   "metadata": {},
   "source": [
    "***\n",
    "\n",
    "**Exercise**: Repeat the previous exercise but use the *backward* difference.  Do you observe any difference?\n",
    "\n",
    "***\n",
    "\n",
    "**Exercise**: Apply the *central* difference to the function $f(x) = \\sin(2x - 0.17) + 0.3 \\cos(3.4x + 0.1)$ at $x = 0.5$. Plot the error for $\\Delta = 10^{-1}, 10^{-2}, \\ldots, 10^{-7}$.\n",
    "\n",
    "***"
   ]
  },
  {
   "cell_type": "markdown",
   "metadata": {},
   "source": [
    "## Back to Order\n",
    "\n",
    "The solved exercise above suggests that the forward-difference approximation yields a better approximation as $\\Delta$ grows smaller, but *how much better*?  To answer this, we revisit the Taylor series for $f(x+\\Delta)$ about the point $x$:\n",
    "\n",
    "$$\n",
    "  f(x+\\Delta) = f(x) + f'(x)\\Delta + \\frac{1}{2}f''(x)\\Delta^2 + \\mathcal{O}(\\Delta^3) \\, .\n",
    "$$\n",
    "\n",
    "By isolating $f'(x)$ on one side, we have\n",
    "\n",
    "$$\n",
    "\\begin{split}\n",
    "  f'(x) &= \\frac{f(x+\\Delta) - f(x)}{\\Delta} - \\frac{1}{2}f''(x)\\Delta + \\mathcal{O}(\\Delta^2) \\\\\n",
    "        &= \\frac{f(x+\\Delta) - f(x)}{\\Delta} + \\mathcal{O}(\\Delta) \\\\\n",
    "\\end{split}\n",
    "$$\n",
    "\n",
    "In other words, the forward difference leaves out terms proportional to $\\Delta$ and higher powers of $\\Delta$.  Moreover, as $\\Delta$ shrinks, $\\Delta \\gg \\Delta^p$ for $p > 1$.   The terms left out represent the **truncation error**, and because this error goes as $\\Delta^1$ for small $\\Delta$, the forward-difference approximation is a **first-order approximation**.\n",
    "\n",
    "***\n",
    "\n",
    "**Exercise**: Show that the backward-difference approximation is also first order.\n",
    "\n",
    "***\n",
    "\n",
    "Can we do better than first order?  It turns out that we can.  Consider the following Taylor series:\n",
    "$$\n",
    "  f(x-\\Delta) = f(x) - f'(x)\\Delta + \\frac{1}{2}f''(x)\\Delta^2 + \\mathcal{O}(\\Delta^3) \\, .\n",
    "$$\n",
    "Subtraction of this series from the one above for $f(x+\\Delta)$ leads to\n",
    "$$\n",
    "  f(x+\\Delta)-f(x-\\Delta) = 2 f'(x)\\Delta + \\mathcal{O}(\\Delta^3) \\, ,\n",
    "$$\n",
    "or\n",
    "$$\n",
    "  f'(x) = \\frac{f(x+\\Delta)-f(x-\\Delta)}{2\\Delta} + \\mathcal{O}(\\Delta^2) \\, .\n",
    "$$\n",
    "This latter approximation for $f'(x)$ is a **central difference** and is a **second-order approximation** because $\\Delta$ is raised to the second power.  \n",
    "\n",
    "> **Note**: Forward and backward differences yield first-order approximations to $f'(x)$, while the central difference yields a second-order approximation for $f'(x)$.\n",
    "\n",
    "\n",
    "*** \n",
    "\n",
    "**Exercise**: Consider the Taylor series for $f(x-\\Delta)$, $f(x+\\Delta)$, $f(x-2\\Delta)$, and $f(x+2\\Delta)$.  Try to develop a fourth-order approximation for $f'(x)$ that involves these four values of $f$.\n",
    "\n",
    "***\n",
    "\n",
    "**Exercise**: Consider a function $f(x)$ for which you are given values only at $x = i\\Delta$ for $i = 0, 1, 2, \\ldots$ for small $\\Delta$. Suppose that some application requires that you evaluate $f(x)$ at some middle point $(i+1/2)\\Delta$.   Of course, the natural thing to do is *average* the two adjacent values at $i\\Delta$ and $(i+1)\\Delta$.  What order is this *averaging* approximation? \n",
    "\n",
    "***"
   ]
  },
  {
   "cell_type": "markdown",
   "metadata": {},
   "source": [
    "## Approximating the Second Derivative\n",
    "\n",
    "So far, the finite differences developed represent approximations to the *first* derivative, $f'(x)$.  Approximations for the *second* derivative can be derived in a similar fashion.  Consider again the Taylor series for $f(x+\\Delta)$ and $f(x-\\Delta)$.  Whereas these series were *subtracted* to yield the central-difference approximation for $f'(x)$, they can insteady be *added* to yield the following:\n",
    "\n",
    "$$\n",
    "f(x+\\Delta)+f(x-\\Delta) = 2f(x) +  f''(x)\\Delta^2 + \\mathcal{O}(\\Delta^4) \\, ,\n",
    "$$\n",
    "\n",
    "where both the $f'$ and $f'''$ terms cancel.  By isolating $f''(x)$, we have\n",
    "\n",
    "$$\n",
    "f''(x) = \\frac{f(x+\\Delta)+-2f(x)+f(x-\\Delta)}{\\Delta^2} + \\mathcal{O}(\\Delta^2) \\, ,\n",
    "$$\n",
    "\n",
    "which is the central-difference approximation for the second derivative.  Like the central-difference approximation for the first derivative, the truncation error is second order."
   ]
  },
  {
   "cell_type": "markdown",
   "metadata": {},
   "source": [
    "By the way, how can we establish order?  In fact, [Lecture 14](ME400_Lecture_14.ipynb) and [Lecture 15](ME400_Lecture_15.ipynb) introduced numerical experiments for searching and sorting to establish an algorithm's order.  Although \"order\" means something different here, the technique is similar: we test the approximation for different values of $\\Delta$ and see whether the error goes as $\\Delta$ or $\\Delta^2$ or something else entirely.  By \"see\", I mean literally: use a graphic!\n",
    "\n",
    "***\n",
    "\n",
    "**Exercise**: Confirm graphically that the central-difference approximation for the second derivative is, in fact, second order.  Use $f(x) = e^x$ for demonstration.\n",
    "\n",
    "*Solution*: I set us up for success with the last solved exercise, which is adapted here."
   ]
  },
  {
   "cell_type": "code",
   "execution_count": 2,
   "metadata": {},
   "outputs": [
    {
     "data": {
      "image/png": "[encoded data removed]",
      "text/plain": [
       "<matplotlib.figure.Figure at 0x7f6403ad2278>"
      ]
     },
     "metadata": {},
     "output_type": "display_data"
    }
   ],
   "source": [
    "import numpy as np\n",
    "import matplotlib.pyplot as plt\n",
    "x = 1.0\n",
    "fpp_ref = np.exp(x) # fpp for \"f prime prime\"\n",
    "Delta = np.logspace(0, -3, 4)\n",
    "fpp_appx = np.zeros(len(Delta))\n",
    "for i in range(len(Delta)):\n",
    "    fpp_appx[i] = (np.exp(x+Delta[i])-2*np.exp(x)+np.exp(x-Delta[i]))/Delta[i]**2\n",
    "plt.loglog(Delta, abs(fpp_appx-fpp_ref), 'k-o', label='$|f_{appx}''(x)-f''(x)|$')\n",
    "plt.loglog(Delta, Delta, 'r--', label='$\\mathcal{O}(\\Delta)$')\n",
    "plt.loglog(Delta, Delta**2, 'g--', label='$\\mathcal{O}(\\Delta^2)$')\n",
    "plt.xlabel('$\\Delta$', fontsize=16)\n",
    "plt.legend()\n",
    "plt.grid(True)\n",
    "plt.title('The error follows $\\Delta^2$, so confirmed!')\n",
    "plt.show()"
   ]
  },
  {
   "cell_type": "markdown",
   "metadata": {},
   "source": [
    "***\n",
    "\n",
    "## Finite-Difference Approximations of Arbitrary Order\n",
    "\n",
    "The finite-difference approximations explored were identified pretty easily by manipulating the Taylor series of a function.  Approximations that are higher order or that can be used for higher derivatives are somewhat more challenging to develop.\n",
    "\n",
    "### Simple Rules\n",
    "\n",
    "Generally, approximations that use values of $f$ at more values of $x$ (e.g., $x-\\Delta$ and $x+\\Delta$) are better than those that use fewer.  \n",
    "\n",
    "*A more specific rule-of-thumb*: an $n$th-order approximation for the $m$th derivative requires that $f$ be evaluated at $n+m-1$ evenly-spaced $x$ values if those values are symmetric about $x$ (e.g., $x-\\Delta$ and $x+\\Delta$ as used for the central difference) or $n+m$ points, if the points are not symmetric about $x$ (e.g., $x-\\Delta$ and $x$ as used for the backward difference).\n",
    "\n",
    "> **Exercise**: Does the backward-difference approximation for $df/dx$ follow this rule?  \n",
    "\n",
    ">> *Solution*: The backward-difference approximation for the first derivative ($m=1$) is first order ($n=1$).  The points are not symmetric about $x$.  Hence, the rule requires $m+n = 2$ points, consistent with the approximation. \n",
    "\n",
    "> **Exercise**: Does the forward-difference approximation for $df/dx$ follow this rule?  \n",
    "\n",
    "> **Exercise**: Does the central-difference approximation for $df/dx$ follow this rule?  \n",
    "\n",
    "> **Exercise**: Does the central-difference approximation for $d^2f/dx^2$ follow this rule?  "
   ]
  },
  {
   "cell_type": "markdown",
   "metadata": {},
   "source": [
    "### Developing New Schemes\n",
    "\n",
    "Finite-difference schemes of arbitrary order can always be determined directly from Taylor series, but the work involved can be tedious and requires intuition that one builds over time working with such schemes.  Hence, to develop such approximations from scratch is outside our scope, but we can turn again to SymPy for some help using its `as_finite_difference` function.  For example, we can recreate our forward difference scheme via"
   ]
  },
  {
   "cell_type": "code",
   "execution_count": 3,
   "metadata": {},
   "outputs": [
    {
     "data": {
      "image/png": "[encoded data removed]",
      "text/latex": [
       "$$- \\frac{1}{\\Delta} f{\\left (x \\right )} + \\frac{1}{\\Delta} f{\\left (\\Delta + x \\right )}$$"
      ],
      "text/plain": [
       "  f(x)   f(Δ + x)\n",
       "- ──── + ────────\n",
       "   Δ        Δ    "
      ]
     },
     "execution_count": 3,
     "metadata": {},
     "output_type": "execute_result"
    }
   ],
   "source": [
    "import sympy as sy\n",
    "sy.init_printing()\n",
    "f, x, Delta = sy.symbols('f x Delta')\n",
    "fp = sy.diff(f(x), x)\n",
    "fp.as_finite_difference([x, x+Delta])"
   ]
  },
  {
   "cell_type": "markdown",
   "metadata": {},
   "source": [
    "The syntax is straightforward.  Given an expression `expr` that represents a derivative (e.g., `sy.diff(f(x), x)`), then `expr.as_finite_difference(list)` accepts a `list` of symbolic points.  To follow our development above, these points should be some subsequence of $x \\pm i\\Delta$ where $i = \\ldots, -2, -1, 0, 1, 2, \\ldots$.\n",
    "\n",
    "***\n",
    "\n",
    "**Exercise**:  Apply the rule-of-thumb to determine a third-order definition for $f'(x)$ and *verify the order* numerically.  (Hint: if the method is second order, that means it goes as $\\Delta^2$.  Hence, a reduction of $\\Delta$ by two should lead to what reduction in the error?)\n",
    "\n",
    "*Solution*:  A quick attempt will show that the points $x-\\Delta$, $x$, and $x+\\Delta$ do not work. Can you work out why using the Taylor series from above?.  Alternatively, choose a fourth point $x+2\\Delta$:"
   ]
  },
  {
   "cell_type": "code",
   "execution_count": 4,
   "metadata": {},
   "outputs": [
    {
     "data": {
      "image/png": "[encoded data removed]",
      "text/latex": [
       "$$\\frac{1}{\\Delta} \\left(- \\frac{1}{2} f{\\left (x \\right )} - \\frac{1}{3} f{\\left (- \\Delta + x \\right )} + f{\\left (\\Delta + x \\right )} - \\frac{1}{6} f{\\left (2 \\Delta + x \\right )}\\right)$$"
      ],
      "text/plain": [
       "  f(x)   f(-Δ + x)              f(2⋅Δ + x)\n",
       "- ──── - ───────── + f(Δ + x) - ──────────\n",
       "   2         3                      6     \n",
       "──────────────────────────────────────────\n",
       "                    Δ                     "
      ]
     },
     "execution_count": 4,
     "metadata": {},
     "output_type": "execute_result"
    }
   ],
   "source": [
    "expr = fp.as_finite_difference([x-Delta, x, x+Delta, x+2*Delta]).simplify()\n",
    "expr"
   ]
  },
  {
   "cell_type": "code",
   "execution_count": 5,
   "metadata": {},
   "outputs": [
    {
     "data": {
      "text/plain": [
       "'2.360e-04 2.274e-07 2.271e-10'"
      ]
     },
     "execution_count": 5,
     "metadata": {},
     "output_type": "execute_result"
    }
   ],
   "source": [
    "from math import exp, log10\n",
    "ref = exp(1)\n",
    "err = lambda x, d: abs(ref - (-exp(x-d)/3-exp(x)/2+exp(x+d)-exp(x+2*d)/6)/d)\n",
    "err_0_100 = err(1.0, 0.1)\n",
    "err_0_010 = err(1.0, 0.01)\n",
    "err_0_001 = err(1.0, 0.001)\n",
    "\"{:.3e} {:.3e} {:.3e}\".format(err_0_100, err_0_010, err_0_001)"
   ]
  },
  {
   "cell_type": "markdown",
   "metadata": {},
   "source": [
    "Reduction of $\\Delta$ by a a factor of 10 leads to a reduction in the error of approximately 1000 (i.e., $10^3$), exactly as expected if the error were proportional to $\\Delta^3$.  To confirm, check the logarithm of each ratio:"
   ]
  },
  {
   "cell_type": "code",
   "execution_count": 6,
   "metadata": {},
   "outputs": [
    {
     "data": {
      "image/png": "[encoded data removed]",
      "text/latex": [
       "$$\\left ( 3.0160082311842182, \\quad 3.0005824517909137\\right )$$"
      ],
      "text/plain": [
       "(3.0160082311842182, 3.0005824517909137)"
      ]
     },
     "execution_count": 6,
     "metadata": {},
     "output_type": "execute_result"
    }
   ],
   "source": [
    "log10(err_0_100/err_0_010), log10(err_0_010/err_0_001)"
   ]
  },
  {
   "cell_type": "markdown",
   "metadata": {},
   "source": [
    "These values are very close to three, therefore confirming the third order expected.  Note that the second ratio is even closer to 3 than the first. Recall, the notion of order (here, $\\mathcal{O}(\\Delta^3)$) is defined specifically as $\\Delta$ goes to zero.  Hence, only as $\\Delta$ becomes very small will the $\\Delta^3$ terms dominate, making any other contributions to the error appear to be negligible.\n",
    "\n",
    "***\n",
    "\n",
    "**Exercise**: Use `sympy.series` to show that that the finite-difference scheme $\\frac{1}{\\Delta} \\left(- \\frac{1}{2} f{\\left (x \\right )} - \\frac{1}{3} f{\\left (- \\Delta + x \\right )} + f{\\left (\\Delta + x \\right )} - \\frac{1}{6} f{\\left (2 \\Delta + x \\right )}\\right)$ is, in fact, third order.\n",
    "\n",
    "***\n",
    "\n",
    "**Exercise**: Develop a second-order finite-difference approximation for $d^3 f/dx^3$ using just four points and confirm its order numerically, graphically, or symbolically.\n",
    "\n",
    "***"
   ]
  },
  {
   "cell_type": "markdown",
   "metadata": {},
   "source": [
    "## Further Reading\n",
    "\n",
    "None for now."
   ]
  }
 ],
 "metadata": {
  "kernelspec": {
   "display_name": "Python 3",
   "language": "python",
   "name": "python3"
  },
  "language_info": {
   "codemirror_mode": {
    "name": "ipython",
    "version": 3
   },
   "file_extension": ".py",
   "mimetype": "text/x-python",
   "name": "python",
   "nbconvert_exporter": "python",
   "pygments_lexer": "ipython3",
   "version": "3.6.2"
  }
 },
 "nbformat": 4,
 "nbformat_minor": 2
}
