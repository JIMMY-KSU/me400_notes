{
 "cells": [
  {
   "cell_type": "markdown",
   "metadata": {},
   "source": [
    "# Lecture 14 - Searching\n",
    "\n",
    "## Overview, Objectives, and Key Terms\n",
    " \n",
    "In this lecture and [Lecture 15](ME400_Lecture_15.ipynb), we tackle two of the most important practical problems in computing: *searching* and *sorting*.  We'll start with *searching* in this lecture because it is the simpler problem, but efficient searching depends on sorted values.  Along the way, algorithms will be classified by their *order*, a way to describe how good (or bad) an algorithm is for problems of different sizes."
   ]
  },
  {
   "cell_type": "markdown",
   "metadata": {},
   "source": [
    "### Objectives\n",
    "\n",
    "By the end of this lesson, you should be able to\n",
    "\n",
    "- Search an array of numbers using a linear search.\n",
    "- Search an array of numbers using a binary search.\n",
    "- Describe what is meant by order and use it to compare algorithms\n",
    "- Perform simple, numerical experiments to confirm the order of an algorithm\n"
   ]
  },
  {
   "cell_type": "markdown",
   "metadata": {},
   "source": [
    "### Key Terms\n",
    "\n",
    "- linear search\n",
    "- binary search\n",
    "- `time.time()`\n",
    "- numerical experiment\n",
    "- order\n",
    "- $\\mathcal{O}$ (big-O) notation"
   ]
  },
  {
   "cell_type": "markdown",
   "metadata": {
    "slideshow": {
     "slide_type": "slide"
    }
   },
   "source": [
    "## The Basic, Linear Search"
   ]
  },
  {
   "cell_type": "markdown",
   "metadata": {
    "slideshow": {
     "slide_type": "fragment"
    }
   },
   "source": [
    "**The Problem**: given a sequence of values, find the location of the element in the sequence equal to some value of interest. "
   ]
  },
  {
   "cell_type": "markdown",
   "metadata": {
    "slideshow": {
     "slide_type": "fragment"
    }
   },
   "source": [
    "**Question**: Does order matter?  "
   ]
  },
  {
   "cell_type": "markdown",
   "metadata": {
    "slideshow": {
     "slide_type": "subslide"
    }
   },
   "source": [
    "```\n",
    "\"\"\"Algorithm for linear search of an unsorted sequence\"\"\"\n",
    "Input: a, n, v # sequence, number elements, value of interest\n",
    "Set location = Not found\n",
    "Set i = 0\n",
    "While i < n\n",
    "    If a[i] == v then\n",
    "        Set location = i\n",
    "        Break  # stealing an idea from the Python we've learned\n",
    "Output: location\n",
    "```"
   ]
  },
  {
   "cell_type": "markdown",
   "metadata": {
    "slideshow": {
     "slide_type": "fragment"
    }
   },
   "source": [
    "Note that `a[i] == v` must have meaning.  Is that always true?"
   ]
  },
  {
   "cell_type": "markdown",
   "metadata": {
    "slideshow": {
     "slide_type": "subslide"
    }
   },
   "source": [
    "**Exercise**: Implement this algorithm in Python and test with sequence `[2, 6, 1, 7, 3]` and value `7`."
   ]
  },
  {
   "cell_type": "markdown",
   "metadata": {
    "slideshow": {
     "slide_type": "subslide"
    }
   },
   "source": [
    "## When Searching for Equality is Not Enough\n",
    "\n",
    "What if one wants to find...."
   ]
  },
  {
   "cell_type": "markdown",
   "metadata": {
    "slideshow": {
     "slide_type": "fragment"
    }
   },
   "source": [
    "- The location of an element in a sequence equal to some value or, *if not found*."
   ]
  },
  {
   "cell_type": "markdown",
   "metadata": {
    "slideshow": {
     "slide_type": "fragment"
    }
   },
   "source": [
    "- The location of the value that is closest to but less than the value of interest.  **Sorted elements are needed**"
   ]
  },
  {
   "cell_type": "markdown",
   "metadata": {
    "slideshow": {
     "slide_type": "fragment"
    }
   },
   "source": [
    "Those algorithms will be studied next time, but an easy way to sort a sequence is with the `sorted()` function:"
   ]
  },
  {
   "cell_type": "code",
   "execution_count": 1,
   "metadata": {
    "slideshow": {
     "slide_type": "fragment"
    }
   },
   "outputs": [
    {
     "data": {
      "text/plain": [
       "[1, 2, 3, 4, 5]"
      ]
     },
     "execution_count": 1,
     "metadata": {},
     "output_type": "execute_result"
    }
   ],
   "source": [
    "sorted([2, 1, 3, 5, 4])"
   ]
  },
  {
   "cell_type": "markdown",
   "metadata": {
    "slideshow": {
     "slide_type": "subslide"
    }
   },
   "source": [
    "Hence, we can modify somewhat the pseudocode to search sorted values and to find the first element equal to (or the first element greater than) a value of interest:"
   ]
  },
  {
   "cell_type": "markdown",
   "metadata": {
    "slideshow": {
     "slide_type": "fragment"
    }
   },
   "source": [
    "\n",
    "```\n",
    "\"\"\"Algorithm for linear search of a sorted sequence\"\"\"\n",
    "Input: a, n, v # sorted sequence, number elements, value of interest\n",
    "Set location = n - 1\n",
    "Set i = 0\n",
    "While i < n \n",
    "    If a[i] >= v then\n",
    "        Set location = i\n",
    "        Break\n",
    "    Set i = i + 1\n",
    "Output: location\n",
    "```"
   ]
  },
  {
   "cell_type": "markdown",
   "metadata": {
    "slideshow": {
     "slide_type": "subslide"
    }
   },
   "source": [
    "**Seeking two volunteers for...**\n",
    "\n",
    "- `a = [1, 5, 8, 11, 18]` and `v = 8`\n",
    "- `a = [1, 5, 8, 11, 18]` and `v = 17`\n",
    "\n",
    "Show `i`, `a[i]`, and `location` *before* `i` is updated in the loop."
   ]
  },
  {
   "cell_type": "markdown",
   "metadata": {
    "slideshow": {
     "slide_type": "subslide"
    }
   },
   "source": [
    "As a Python function:"
   ]
  },
  {
   "cell_type": "code",
   "execution_count": 2,
   "metadata": {
    "collapsed": true,
    "slideshow": {
     "slide_type": "fragment"
    }
   },
   "outputs": [],
   "source": [
    "def linear_search(a, v):\n",
    "    \"\"\"Search a sorted sequence for value v. Return nearest \n",
    "       index to right (or last position) if not found.\n",
    "    \"\"\"\n",
    "    location = len(a) - 1\n",
    "    i = 0\n",
    "    while i < len(a):   \n",
    "        if a[i] >= v:\n",
    "            location = i\n",
    "            break\n",
    "        i += 1\n",
    "    return location"
   ]
  },
  {
   "cell_type": "markdown",
   "metadata": {
    "slideshow": {
     "slide_type": "subslide"
    }
   },
   "source": [
    "**Exercise**: Modify the `linear_search` algorithm to accept a third argument `compare`, which should be a function that accepts two arguments.  For a sequence `a` and value `v`, `compare(a[i], v)` should return `True` if `a[i]` is greater than or equal to `v` and `False` otherwise.  Test your modified search function with `compare = lambda x, y: x[1] > y[1]`,  `a = [(1, 2), (4, 3), (1, 9), (4, 11)]` and `v = (1, 9)`.\n"
   ]
  },
  {
   "cell_type": "markdown",
   "metadata": {
    "slideshow": {
     "slide_type": "slide"
    }
   },
   "source": [
    "## A Bit About Order\n",
    "\n",
    "Why call linear search *linear*? "
   ]
  },
  {
   "cell_type": "markdown",
   "metadata": {
    "slideshow": {
     "slide_type": "fragment"
    }
   },
   "source": [
    "- elements are looked at in order; usually, that's called *sequential* but *linear* seems okay"
   ]
  },
  {
   "cell_type": "markdown",
   "metadata": {
    "slideshow": {
     "slide_type": "fragment"
    }
   },
   "source": [
    "- the number of comparisons (e.g., `a[i] > v`) requires depends linearly on the number of elements, i.e., the number is proportional to $n$."
   ]
  },
  {
   "cell_type": "markdown",
   "metadata": {
    "slideshow": {
     "slide_type": "fragment"
    }
   },
   "source": [
    "The fancy way to say it: \n",
    " - **order n** \n",
    " - $\\mathcal{O}(n)$ (this is \"Big O\" notation)"
   ]
  },
  {
   "cell_type": "markdown",
   "metadata": {
    "slideshow": {
     "slide_type": "fragment"
    }
   },
   "source": [
    "The computational cost of an algorithm (time and, sometimes, memory) is often proportional to its order.  **Smaller order means a faster algorithm.**"
   ]
  },
  {
   "cell_type": "markdown",
   "metadata": {
    "slideshow": {
     "slide_type": "slide"
    }
   },
   "source": [
    "## Binary Search\n",
    "\n",
    "**Linear search** is easy to understand and easy to implement, but is it what you use to search sorted data?\n"
   ]
  },
  {
   "cell_type": "markdown",
   "metadata": {
    "slideshow": {
     "slide_type": "fragment"
    }
   },
   "source": [
    "Better approach (for sorted data): check the middle of the sequence to decide in which half the value must live (if it does).  Check the middle of the new half, and repeat."
   ]
  },
  {
   "cell_type": "markdown",
   "metadata": {
    "slideshow": {
     "slide_type": "fragment"
    }
   },
   "source": [
    "The process just described is the basic idea of **binary search** and is the simplest of **divide and conquer** algorithms."
   ]
  },
  {
   "cell_type": "markdown",
   "metadata": {
    "slideshow": {
     "slide_type": "subslide"
    }
   },
   "source": [
    "### The basic algorithm\n",
    "\n",
    "```\n",
    "\"\"\"Algorithm for binary search of a sorted sequence\"\"\"\n",
    "Input: a, n, v # sorted sequence, its length, and value\n",
    "Set location = Not Found\n",
    "Set L = 0           \n",
    "Set R = n - 1\n",
    "While L <= R\n",
    "    Set C = (L + R) // 2 \n",
    "    If v == a[C] then\n",
    "        Set location = C\n",
    "        Break\n",
    "    If v < a[C] then\n",
    "        Set R = C - 1\n",
    "    If v > a[C] then\n",
    "        Set L = C + 1\n",
    "Output: location\n",
    "```"
   ]
  },
  {
   "cell_type": "markdown",
   "metadata": {
    "slideshow": {
     "slide_type": "fragment"
    }
   },
   "source": [
    "**Exercise**: Step through this algorithm for `a = [1, 3, 7, 9, 11]` and `v = 3`.  We know that `L = 0` and `R = 4` before the loop begins.  What are `L` and `R` after one time through the loop?  Twice?  Three times?  If it helps, you can add `Set counter = 0` before the `While` and increment it.  Then, trace the values of `counter`, `L`, `R`, and `C` at each iteration.  **Volunteer???**"
   ]
  },
  {
   "cell_type": "markdown",
   "metadata": {
    "slideshow": {
     "slide_type": "subslide"
    }
   },
   "source": [
    "### Back to Order\n",
    "\n",
    "Binary search is $\\mathcal{O}(\\log n)$. "
   ]
  },
  {
   "cell_type": "code",
   "execution_count": 3,
   "metadata": {
    "collapsed": true,
    "slideshow": {
     "slide_type": "skip"
    }
   },
   "outputs": [],
   "source": [
    "def binary_search(a, v):\n",
    "    location = False\n",
    "    L = 0           \n",
    "    R = len(a) - 1\n",
    "    while L <= R:\n",
    "        C = (L + R) // 2 \n",
    "        if v == a[C]:\n",
    "            location = C\n",
    "            break\n",
    "        if v < a[C]:\n",
    "            R = C - 1\n",
    "        if v > a[C]:\n",
    "            L = C + 1\n",
    "    return location"
   ]
  },
  {
   "cell_type": "markdown",
   "metadata": {
    "slideshow": {
     "slide_type": "subslide"
    }
   },
   "source": [
    "**Numerical experiments** are a great way to investigate algorithms and their performance.  To test search algorithms, we need:\n",
    " - random arrays\n",
    " - (and/or) random value to search\n",
    " - arrays of different sizes\n",
    " - a way to record how long it takes to search"
   ]
  },
  {
   "cell_type": "code",
   "execution_count": 4,
   "metadata": {
    "collapsed": true,
    "slideshow": {
     "slide_type": "subslide"
    }
   },
   "outputs": [],
   "source": [
    "import time\n",
    "import numpy as np\n",
    "def run_experiment(sizes):\n",
    "    t_lin = np.zeros(len(sizes))\n",
    "    t_bin = np.zeros(len(sizes))\n",
    "    for i in range(len(sizes)):\n",
    "        a = np.arange(sizes[i]) # always sorted\n",
    "        v = np.random.randint(0, sizes[i])\n",
    "        # linear\n",
    "        t0 = time.time()\n",
    "        linear_search(a, v)\n",
    "        t_lin[i] = time.time() - t0\n",
    "        # binary\n",
    "        t0 = time.time()\n",
    "        binary_search(a, v)\n",
    "        t_bin[i] = time.time() - t0\n",
    "    return t_lin, t_bin"
   ]
  },
  {
   "cell_type": "code",
   "execution_count": 5,
   "metadata": {
    "slideshow": {
     "slide_type": "subslide"
    }
   },
   "outputs": [
    {
     "data": {
      "image/png": "[encoded data removed]",
      "text/plain": [
       "<matplotlib.figure.Figure at 0x7fd34caa5da0>"
      ]
     },
     "metadata": {},
     "output_type": "display_data"
    }
   ],
   "source": [
    "import matplotlib.pyplot as plt\n",
    "n = np.array(list(map(int, np.logspace(1, 6))))\n",
    "t_lin, t_bin = run_experiment(n)\n",
    "plt.loglog(n, t_lin, 'k-o', label='linear')\n",
    "plt.loglog(n, t_bin, 'b--^', label='binary')\n",
    "plt.loglog(n, 1e-6*n, 'r:', label='$\\mathcal{O}(n)$')\n",
    "plt.loglog(n, 0.5e-6*np.log(n), 'g:', label='$\\mathcal{O}(\\log n)$')\n",
    "plt.xlabel('n')\n",
    "plt.ylabel('time (s)')\n",
    "plt.legend()\n",
    "plt.show()"
   ]
  },
  {
   "cell_type": "markdown",
   "metadata": {
    "slideshow": {
     "slide_type": "subslide"
    }
   },
   "source": [
    "## Recap\n",
    "\n",
    "By now, you should be able to\n",
    "\n",
    "- Search an array of numbers using a linear search.\n",
    "- Search an array of numbers using a binary search.\n",
    "- Describe what is meant by order and use it to compare algorithms\n",
    "- Perform simple, numerical experiments to confirm the order of an algorithm"
   ]
  },
  {
   "cell_type": "markdown",
   "metadata": {
    "slideshow": {
     "slide_type": "fragment"
    }
   },
   "source": [
    "**Note on office hours**: I have a meeting 2:30 to 3:00, and I have to leave by 3:45.  John (Ward 133) can take questions before and after until 4 pm."
   ]
  }
 ],
 "metadata": {
  "celltoolbar": "Slideshow",
  "kernelspec": {
   "display_name": "Python 3",
   "language": "python",
   "name": "python3"
  },
  "language_info": {
   "codemirror_mode": {
    "name": "ipython",
    "version": 3
   },
   "file_extension": ".py",
   "mimetype": "text/x-python",
   "name": "python",
   "nbconvert_exporter": "python",
   "pygments_lexer": "ipython3",
   "version": "3.6.1"
  }
 },
 "nbformat": 4,
 "nbformat_minor": 2
}
