{
 "cells": [
  {
   "cell_type": "markdown",
   "metadata": {},
   "source": [
    "# Lecture 13 - More on Functions\n",
    "\n",
    "## Overview, Objectives, and Key Terms\n",
    " \n",
    "In [Lecture 12](ME400_Lecture_12.ipynb), the basics of defining functions were presented.  In this lecture, more advanced features of function definitions are presented, including the use of the special `*arg` and `**kwarg` structures.  In addition, anonymous `lambda` functions are presented for quick, in-line applications.  Finally, some interesting (and possibly suprising) applications of functions are considered, which include use of functions as arguments to other functions and the use of functions that call themselves (i.e., *recursion*). \n",
    "\n",
    "Note that much of the content of this lecture is focused primarily on features of functions specific to Python that provide a lot of flexibility.  For many students, these features are likely not needed for routine programming, but an awareness of these features is useful when understanding the code of others.\n",
    "\n",
    "### Objectives\n",
    "\n",
    "By the end of this lesson, you should be able to\n",
    "\n",
    "- Define a function using `*args` and `**kwargs`.\n",
    "- Define a `lambda` function.\n",
    "- Define a recursive function.\n",
    "\n",
    "\n",
    "### Key Terms\n",
    "\n",
    "- `*args`\n",
    "- `**kwargs`\n",
    "- anonymous function\n",
    "- `lambda`\n",
    "- `filter`\n",
    "- recursion\n",
    "- recursive function\n",
    "- recursive sequence"
   ]
  },
  {
   "cell_type": "markdown",
   "metadata": {},
   "source": [
    "## `*args` and `**kwargs`\n",
    "\n",
    "What on earth are `*args` and `**kwargs`?  Before moving along, let's look at a function introduced back in [Lecture 3](ME400_Lecture_3.ipynb): `plt.plot`.  If you forgot how to use it, just use `help`:"
   ]
  },
  {
   "cell_type": "code",
   "execution_count": 1,
   "metadata": {},
   "outputs": [
    {
     "name": "stdout",
     "output_type": "stream",
     "text": [
      "Help on function plot in module matplotlib.pyplot:\n",
      "\n",
      "plot(*args, **kwargs)\n",
      "    Plot lines and/or markers to the\n",
      "    :class:`~matplotlib.axes.Axes`.  *args* is a variable length\n",
      "    argument, allowing for multiple *x*, *y* pairs with an\n",
      "    optional format string.  For example, each of the following is\n",
      "    legal::\n",
      "    \n",
      "        plot(x, y)        # plot x and y using default line style and color\n",
      "        plot(x, y, 'bo')  # plot x and y using blue circle markers\n",
      "        plot(y)           # plot y using x as index array 0..N-1\n",
      "        plot(y, 'r+')     # ditto, but with red plusses\n",
      "    \n",
      "    If *x* and/or *y* is 2-dimensional, then the corresponding columns\n",
      "    will be plotted.\n",
      "    \n",
      "    If used with labeled data, make sure that the color spec is not\n",
      "    included as an element in data, as otherwise the last case\n",
      "    ``plot(\"v\",\"r\", data={\"v\":..., \"r\":...)``\n",
      "    can be interpreted as the first case which would do ``plot(v, r)``\n",
      "    using the default line style and color.\n",
      "    \n",
      "    If not used with labeled data (i.e., without a data argument),\n",
      "    an arbitrary number of *x*, *y*, *fmt* groups can be specified, as in::\n",
      "    \n",
      "        a.plot(x1, y1, 'g^', x2, y2, 'g-')\n",
      "    \n",
      "    Return value is a list of lines that were added.\n",
      "    \n",
      "    By default, each line is assigned a different style specified by a\n",
      "    'style cycle'.  To change this behavior, you can edit the\n",
      "    axes.prop_cycle rcParam.\n",
      "    \n",
      "    The following format string characters are accepted to control\n",
      "    the line style or marker:\n",
      "    \n",
      "    ================    ===============================\n",
      "    character           description\n",
      "    ================    ===============================\n",
      "    ``'-'``             solid line style\n",
      "    ``'--'``            dashed line style\n",
      "    ``'-.'``            dash-dot line style\n",
      "    ``':'``             dotted line style\n",
      "    ``'.'``             point marker\n",
      "    ``','``             pixel marker\n",
      "    ``'o'``             circle marker\n",
      "    ``'v'``             triangle_down marker\n",
      "    ``'^'``             triangle_up marker\n",
      "    ``'<'``             triangle_left marker\n",
      "    ``'>'``             triangle_right marker\n",
      "    ``'1'``             tri_down marker\n",
      "    ``'2'``             tri_up marker\n",
      "    ``'3'``             tri_left marker\n",
      "    ``'4'``             tri_right marker\n",
      "    ``'s'``             square marker\n",
      "    ``'p'``             pentagon marker\n",
      "    ``'*'``             star marker\n",
      "    ``'h'``             hexagon1 marker\n",
      "    ``'H'``             hexagon2 marker\n",
      "    ``'+'``             plus marker\n",
      "    ``'x'``             x marker\n",
      "    ``'D'``             diamond marker\n",
      "    ``'d'``             thin_diamond marker\n",
      "    ``'|'``             vline marker\n",
      "    ``'_'``             hline marker\n",
      "    ================    ===============================\n",
      "    \n",
      "    \n",
      "    The following color abbreviations are supported:\n",
      "    \n",
      "    ==========  ========\n",
      "    character   color\n",
      "    ==========  ========\n",
      "    'b'         blue\n",
      "    'g'         green\n",
      "    'r'         red\n",
      "    'c'         cyan\n",
      "    'm'         magenta\n",
      "    'y'         yellow\n",
      "    'k'         black\n",
      "    'w'         white\n",
      "    ==========  ========\n",
      "    \n",
      "    In addition, you can specify colors in many weird and\n",
      "    wonderful ways, including full names (``'green'``), hex\n",
      "    strings (``'#008000'``), RGB or RGBA tuples (``(0,1,0,1)``) or\n",
      "    grayscale intensities as a string (``'0.8'``).  Of these, the\n",
      "    string specifications can be used in place of a ``fmt`` group,\n",
      "    but the tuple forms can be used only as ``kwargs``.\n",
      "    \n",
      "    Line styles and colors are combined in a single format string, as in\n",
      "    ``'bo'`` for blue circles.\n",
      "    \n",
      "    The *kwargs* can be used to set line properties (any property that has\n",
      "    a ``set_*`` method).  You can use this to set a line label (for auto\n",
      "    legends), linewidth, anitialising, marker face color, etc.  Here is an\n",
      "    example::\n",
      "    \n",
      "        plot([1,2,3], [1,2,3], 'go-', label='line 1', linewidth=2)\n",
      "        plot([1,2,3], [1,4,9], 'rs',  label='line 2')\n",
      "        axis([0, 4, 0, 10])\n",
      "        legend()\n",
      "    \n",
      "    If you make multiple lines with one plot command, the kwargs\n",
      "    apply to all those lines, e.g.::\n",
      "    \n",
      "        plot(x1, y1, x2, y2, antialiased=False)\n",
      "    \n",
      "    Neither line will be antialiased.\n",
      "    \n",
      "    You do not need to use format strings, which are just\n",
      "    abbreviations.  All of the line properties can be controlled\n",
      "    by keyword arguments.  For example, you can set the color,\n",
      "    marker, linestyle, and markercolor with::\n",
      "    \n",
      "        plot(x, y, color='green', linestyle='dashed', marker='o',\n",
      "             markerfacecolor='blue', markersize=12).\n",
      "    \n",
      "    See :class:`~matplotlib.lines.Line2D` for details.\n",
      "    \n",
      "    The kwargs are :class:`~matplotlib.lines.Line2D` properties:\n",
      "    \n",
      "      agg_filter: unknown\n",
      "      alpha: float (0.0 transparent through 1.0 opaque) \n",
      "      animated: [True | False] \n",
      "      antialiased or aa: [True | False] \n",
      "      axes: an :class:`~matplotlib.axes.Axes` instance \n",
      "      clip_box: a :class:`matplotlib.transforms.Bbox` instance \n",
      "      clip_on: [True | False] \n",
      "      clip_path: [ (:class:`~matplotlib.path.Path`, :class:`~matplotlib.transforms.Transform`) | :class:`~matplotlib.patches.Patch` | None ] \n",
      "      color or c: any matplotlib color \n",
      "      contains: a callable function \n",
      "      dash_capstyle: ['butt' | 'round' | 'projecting'] \n",
      "      dash_joinstyle: ['miter' | 'round' | 'bevel'] \n",
      "      dashes: sequence of on/off ink in points \n",
      "      drawstyle: ['default' | 'steps' | 'steps-pre' | 'steps-mid' | 'steps-post'] \n",
      "      figure: a :class:`matplotlib.figure.Figure` instance \n",
      "      fillstyle: ['full' | 'left' | 'right' | 'bottom' | 'top' | 'none'] \n",
      "      gid: an id string \n",
      "      label: string or anything printable with '%s' conversion. \n",
      "      linestyle or ls: ['solid' | 'dashed', 'dashdot', 'dotted' | (offset, on-off-dash-seq) | ``'-'`` | ``'--'`` | ``'-.'`` | ``':'`` | ``'None'`` | ``' '`` | ``''``]\n",
      "      linewidth or lw: float value in points \n",
      "      marker: :mod:`A valid marker style <matplotlib.markers>`\n",
      "      markeredgecolor or mec: any matplotlib color \n",
      "      markeredgewidth or mew: float value in points \n",
      "      markerfacecolor or mfc: any matplotlib color \n",
      "      markerfacecoloralt or mfcalt: any matplotlib color \n",
      "      markersize or ms: float \n",
      "      markevery: [None | int | length-2 tuple of int | slice | list/array of int | float | length-2 tuple of float]\n",
      "      path_effects: unknown\n",
      "      picker: float distance in points or callable pick function ``fn(artist, event)`` \n",
      "      pickradius: float distance in points \n",
      "      rasterized: [True | False | None] \n",
      "      sketch_params: unknown\n",
      "      snap: unknown\n",
      "      solid_capstyle: ['butt' | 'round' |  'projecting'] \n",
      "      solid_joinstyle: ['miter' | 'round' | 'bevel'] \n",
      "      transform: a :class:`matplotlib.transforms.Transform` instance \n",
      "      url: a url string \n",
      "      visible: [True | False] \n",
      "      xdata: 1D array \n",
      "      ydata: 1D array \n",
      "      zorder: any number \n",
      "    \n",
      "    kwargs *scalex* and *scaley*, if defined, are passed on to\n",
      "    :meth:`~matplotlib.axes.Axes.autoscale_view` to determine\n",
      "    whether the *x* and *y* axes are autoscaled; the default is\n",
      "    *True*.\n",
      "    \n",
      "    .. note::\n",
      "        In addition to the above described arguments, this function can take a\n",
      "        **data** keyword argument. If such a **data** argument is given, the\n",
      "        following arguments are replaced by **data[<arg>]**:\n",
      "    \n",
      "        * All arguments with the following names: 'x', 'y'.\n",
      "\n"
     ]
    }
   ],
   "source": [
    "import matplotlib.pyplot as plt\n",
    "help(plt.plot)"
   ]
  },
  {
   "cell_type": "code",
   "execution_count": null,
   "metadata": {
    "collapsed": true
   },
   "outputs": [],
   "source": []
  },
  {
   "cell_type": "markdown",
   "metadata": {},
   "source": [
    "Wait, consider the line `plot(*args, **kwargs)`.  Those arguments do not look like `(x, y)` or `(x, y, x, z)` or `(x, y, 'k-', x, z, 'r--')`, similar to what we've previously used.  Indeed, `*args` and `**kwargs` represent two different ways to pass arguments.  \n",
    "\n",
    "In [Lecture 12](ME400_Lecture_12.ipynb), functions were defined with a pretty specific structure, e.g., \n",
    "```python\n",
    "    def some_function(arg1, arg2 = default2, arg3 = default3):\n",
    "        # do stuff and maybe return a value \n",
    "        # (but don't have only a comments like these!)\n",
    "```\n",
    "Such a function has arguments explicitly listed, and sometimes, they are given default values.  \n",
    "\n",
    "For a function like `plt.plot`, something else is happening, and the arguments that we pass (like `x` and `y`) are somehow being passed in `*args*` or `**kwargs`.  Perhaps, before explaining the details, it is worth considering an example.  First, define the following three functions:"
   ]
  },
  {
   "cell_type": "code",
   "execution_count": 2,
   "metadata": {
    "collapsed": true
   },
   "outputs": [],
   "source": [
    "def foo(*args) :\n",
    "    print(args)\n",
    "\n",
    "def goo(**kwargs) :\n",
    "    print(kwargs)\n",
    "    \n",
    "def hoo(a, b, c) :\n",
    "    print(a, b, c)"
   ]
  },
  {
   "cell_type": "markdown",
   "metadata": {},
   "source": [
    "Now, let's call `foo` with the three arguments 1, 2, and 3:"
   ]
  },
  {
   "cell_type": "code",
   "execution_count": 3,
   "metadata": {},
   "outputs": [
    {
     "name": "stdout",
     "output_type": "stream",
     "text": [
      "(1, 2, 3)\n"
     ]
    }
   ],
   "source": [
    "foo(1, 2, 3)"
   ]
  },
  {
   "cell_type": "markdown",
   "metadata": {},
   "source": [
    "That output looks like like a `tuple` containing the values provided as individual arguments.  Moreover, the order of the values in the `tuple` is the same as the order in which they were passed.\n",
    "\n",
    "> **Exercise**: Modify `foo` with a second `print` statement to verify that the type of `args` is, in fact, a `tuple`.\n",
    "\n",
    "Out of curiosity, what if we pass just one value to `foo`?  Or two?"
   ]
  },
  {
   "cell_type": "code",
   "execution_count": 4,
   "metadata": {},
   "outputs": [
    {
     "name": "stdout",
     "output_type": "stream",
     "text": [
      "(1,)\n"
     ]
    }
   ],
   "source": [
    "foo(1)"
   ]
  },
  {
   "cell_type": "code",
   "execution_count": 5,
   "metadata": {},
   "outputs": [
    {
     "name": "stdout",
     "output_type": "stream",
     "text": [
      "(1, 2)\n"
     ]
    }
   ],
   "source": [
    "foo(1, 2)"
   ]
  },
  {
   "cell_type": "markdown",
   "metadata": {},
   "source": [
    "The observation is the same: a `tuple` whose values are the arguments given.\n",
    "\n",
    "Now, let's try the same with `goo`:"
   ]
  },
  {
   "cell_type": "code",
   "execution_count": 6,
   "metadata": {},
   "outputs": [
    {
     "ename": "TypeError",
     "evalue": "goo() takes 0 positional arguments but 3 were given",
     "output_type": "error",
     "traceback": [
      "\u001b[0;31m---------------------------------------------------------------------------\u001b[0m",
      "\u001b[0;31mTypeError\u001b[0m                                 Traceback (most recent call last)",
      "\u001b[0;32m<ipython-input-6-9f6a052e5b7f>\u001b[0m in \u001b[0;36m<module>\u001b[0;34m()\u001b[0m\n\u001b[0;32m----> 1\u001b[0;31m \u001b[0mgoo\u001b[0m\u001b[0;34m(\u001b[0m\u001b[0;36m1\u001b[0m\u001b[0;34m,\u001b[0m \u001b[0;36m2\u001b[0m\u001b[0;34m,\u001b[0m \u001b[0;36m3\u001b[0m\u001b[0;34m)\u001b[0m\u001b[0;34m\u001b[0m\u001b[0m\n\u001b[0m",
      "\u001b[0;31mTypeError\u001b[0m: goo() takes 0 positional arguments but 3 were given"
     ]
    }
   ],
   "source": [
    "goo(1, 2, 3)"
   ]
  },
  {
   "cell_type": "markdown",
   "metadata": {},
   "source": [
    "Interesting.  The error indicates that `**kwargs` is different from `*args`.  What does the error mean, though? \n",
    "\n",
    "When we pass an argument to a function without naming it, the argument is called a **positional argument**.  In other words, Python assigns the value to the appropriate name based on the position of the value relative to the other arguments.  For example, Python knows that when one calls `hoo(1, 2, 3)` the value `1` should be assigned to `a` because `1` is the first values passed, and `a` is the first argument named in the `def` statement.\n",
    "\n",
    "If an argument is not **positional**, then it is a **keyword argument**.  As seen in [Lecture 12](ME400_Lecture_12.ipynb), keyword arguments are named arguments.  The error suggests that `goo` requires *only* keyword arguments, so let's try the following:"
   ]
  },
  {
   "cell_type": "code",
   "execution_count": 7,
   "metadata": {},
   "outputs": [
    {
     "name": "stdout",
     "output_type": "stream",
     "text": [
      "{'a': 1, 'b': 2, 'c': 3}\n"
     ]
    }
   ],
   "source": [
    "goo(a=1, b=2, c=3)"
   ]
  },
  {
   "cell_type": "markdown",
   "metadata": {},
   "source": [
    "That worked, and the output suggests that `kwargs` is a `dict` whose keys and values are the names and values of the arguments given as input.\n",
    "\n",
    "> **Exercise**: Modify `goo` with a second `print` statement to verify that the type of `kwargs` is, in fact, a `dict`.\n",
    "\n",
    "Take a moment to consider what `*args` and `**kwargs` let one do.  A function whose argument is `*args` can be passed *any number of positional arguments*.  Maybe these arguments look like `(x, x**2, 'r--', x, x**3, x, x**4, 'bx')`, like those used for `plt.plot`.\n",
    "\n",
    "Likewise, a function whose argument is `**kwargs` can be passed *any number of keywork (i.e., named) arguments*.  Maybe these arguments look like `(lw=2, color='black', label = 'line 1')`, which are common options used for `plt.plot`.\n",
    "\n",
    "To make these examples concrete, consider the following:"
   ]
  },
  {
   "cell_type": "code",
   "execution_count": 8,
   "metadata": {},
   "outputs": [
    {
     "data": {
      "image/png": "[encoded data removed]",
      "text/plain": [
       "<matplotlib.figure.Figure at 0x11561c8d0>"
      ]
     },
     "metadata": {},
     "output_type": "display_data"
    }
   ],
   "source": [
    "import matplotlib.pyplot as plt\n",
    "import numpy as np\n",
    "x = np.linspace(0, 10, 10)\n",
    "#       <positional args> <keyword args>\n",
    "plt.plot(x, x**2,  '-*',   color='red', linewidth=2, label='$x^2$', markersize=10)\n",
    "plt.plot(x, x**3, '--h',   color='blue', linewidth=5, label='$x^3$', markersize=15)\n",
    "plt.legend() # automatically uses the labels\n",
    "plt.grid(True)\n",
    "plt.show()"
   ]
  },
  {
   "cell_type": "markdown",
   "metadata": {},
   "source": [
    "In summary, `*args` and `**kwargs` are extremely powerful constructs, and when used together, let one write functions that can handle an arbitrary number of arguments.  You'll probably encounter these constructs most often when inspecting functions defined in modules like `matplotlib.pyplot`, so knowing what they are and how to use them can be very useful when learning to use such functions.\n",
    "\n",
    "> **Exercise**:  Define a function `ideal_gas(**kwargs)` that implements the ideal gas law $PV = nRT$.  Specifically, a user should enters just three of the four physical quantities $P$, $V$, $n$, and $T$, and the fourth should be computed.  Assume that $R = 8.314$ J/K mol.  In addition to applying the `**kwargs` construct, this exercise flexes what you remember about `if` statements and the `dict` type.\n",
    "\n",
    "> **Exercise**: Define a function `are_they_bool(*args)` that returns a `list` whose length is equal to the number of arguments passed.  The `i`th element of this `list` is `True` if the `i`th argument is (logically equal to) `True` and is otherwise `False`."
   ]
  },
  {
   "cell_type": "markdown",
   "metadata": {},
   "source": [
    "## Anonymous Functions\n",
    "\n",
    "So far, functions have been defined by a `def` statement.  However, that's not the only way to define functions in Python, and for some applications, a shorter (if not simpler) approach is useful.\n",
    "\n",
    "### A simple `lambda`\n",
    "\n",
    "To get the syntax down, consider first a function to square a number.  We could define that using `def` as"
   ]
  },
  {
   "cell_type": "code",
   "execution_count": 9,
   "metadata": {},
   "outputs": [
    {
     "data": {
      "text/plain": [
       "4"
      ]
     },
     "execution_count": 9,
     "metadata": {},
     "output_type": "execute_result"
    }
   ],
   "source": [
    "def square_it(x):\n",
    "    return x*x\n",
    "square_it(2)"
   ]
  },
  {
   "cell_type": "markdown",
   "metadata": {},
   "source": [
    "The same functionality can be defined using"
   ]
  },
  {
   "cell_type": "code",
   "execution_count": 10,
   "metadata": {},
   "outputs": [
    {
     "data": {
      "text/plain": [
       "4"
      ]
     },
     "execution_count": 10,
     "metadata": {},
     "output_type": "execute_result"
    }
   ],
   "source": [
    "square_it_lambda = lambda x: x**2\n",
    "square_it_lambda(2)"
   ]
  },
  {
   "cell_type": "markdown",
   "metadata": {},
   "source": [
    "The syntax for anonymous functions starts with the keyword `lambda`, followed by one or more argument names, a colon `:`, and the expression to be returned.  Why are such functions called anonymous functions?  *Because they have no real name*:"
   ]
  },
  {
   "cell_type": "code",
   "execution_count": 11,
   "metadata": {},
   "outputs": [
    {
     "name": "stdout",
     "output_type": "stream",
     "text": [
      "<function square_it at 0x118ce4400>\n",
      "<function <lambda> at 0x118cdc9d8>\n"
     ]
    }
   ],
   "source": [
    "print(square_it)\n",
    "print(square_it_lambda)"
   ]
  },
  {
   "cell_type": "markdown",
   "metadata": {},
   "source": [
    "In practice, `lambda` functions are the only way to define a function as part of a single expression.  For example, one can do the following:"
   ]
  },
  {
   "cell_type": "code",
   "execution_count": 12,
   "metadata": {},
   "outputs": [
    {
     "data": {
      "text/plain": [
       "4"
      ]
     },
     "execution_count": 12,
     "metadata": {},
     "output_type": "execute_result"
    }
   ],
   "source": [
    "(lambda x: x**2)(2)"
   ]
  },
  {
   "cell_type": "markdown",
   "metadata": {},
   "source": [
    "This is strange syntax, for sure, but once `(lambda x: x**2)` is recognized as a *callable* function, the syntax is a bit clearer.  The important point, though, is that `lambda` functions can be part of expressions, and expression include function calls."
   ]
  },
  {
   "cell_type": "markdown",
   "metadata": {},
   "source": [
    "### When `lambda` is more natural\n",
    "\n",
    "A richer example, of course, helps motivate the utility of `lambda`.  Consider the built-in `filter` function:"
   ]
  },
  {
   "cell_type": "code",
   "execution_count": 13,
   "metadata": {},
   "outputs": [
    {
     "name": "stdout",
     "output_type": "stream",
     "text": [
      "Help on class filter in module builtins:\n",
      "\n",
      "class filter(object)\n",
      " |  filter(function or None, iterable) --> filter object\n",
      " |  \n",
      " |  Return an iterator yielding those items of iterable for which function(item)\n",
      " |  is true. If function is None, return the items that are true.\n",
      " |  \n",
      " |  Methods defined here:\n",
      " |  \n",
      " |  __getattribute__(self, name, /)\n",
      " |      Return getattr(self, name).\n",
      " |  \n",
      " |  __iter__(self, /)\n",
      " |      Implement iter(self).\n",
      " |  \n",
      " |  __new__(*args, **kwargs) from builtins.type\n",
      " |      Create and return a new object.  See help(type) for accurate signature.\n",
      " |  \n",
      " |  __next__(self, /)\n",
      " |      Implement next(self).\n",
      " |  \n",
      " |  __reduce__(...)\n",
      " |      Return state information for pickling.\n",
      "\n"
     ]
    }
   ],
   "source": [
    "help(filter)"
   ]
  },
  {
   "cell_type": "markdown",
   "metadata": {},
   "source": [
    "If you wade through all that output, notice this line:\n",
    "\n",
    "```\n",
    "Return an iterator yielding those items of iterable for which function(item)\n",
    "is true. If function is None, return the items that are true.\n",
    "```\n",
    "\n",
    "Don't worry about what an *iterator* is; like `range()` and `dict.keys()`, it can be converted into a `list`.  The important point is that `filter` applies a filtering `function` to all the items of a sequence and returns only those elements that pass the filter.  Such filtering has *lots* of applications, which is why the functionality is built into Python.  The problem is that each application requires different filtering functions.\n",
    "\n",
    "Consider a class with lots of students and lots of assignments (and assignment categories).  A common task (or it should be anyway) for an instructor is to check how performance in one category impacts performance in another category.  For example, can a student do very well on homework but do very badly on the exam?  Lots of conclusions can be made if only this question could be answered, and it can be answered using, of course, `filter`.  For concreteness, consider the following category scores (and some notes) for several students:"
   ]
  },
  {
   "cell_type": "code",
   "execution_count": 14,
   "metadata": {},
   "outputs": [],
   "source": [
    "records = [\n",
    "    {'name': 'John von Neumann', 'hw': 68.0, 'labs': 94.3, 'quiz': 100.0, 'exam': 98.5, 'notes': 'Invented merge sort.'},\n",
    "    {'name': 'Alan Turing', 'hw': 90.5, 'labs': 33.3, 'quiz': 91.0, 'exam': 69.5, 'notes': 'Developed the \"Turing Test\" for AI.'},\n",
    "    {'name': 'Ada Lovelace', 'hw': 94.0, 'labs': 88.0, 'quiz': 94.0, 'exam': 100.0, 'notes': 'First computer programmer.'},\n",
    "    {'name': 'Donald Knuth', 'hw': 72.0, 'labs': 98.0, 'quiz': 74.0, 'exam': 79.0, 'notes': 'Invented TeX.'},\n",
    "    {'name': 'Grace Hopper', 'hw': 96.0, 'labs': 56.0, 'quiz': 82.0, 'exam': 83.0, 'notes': 'Popularized machine-independent languages (of which Python is an example)'}\n",
    "]"
   ]
  },
  {
   "cell_type": "markdown",
   "metadata": {},
   "source": [
    "This sort of information is exactly the kind an instructor might have from Canvas (or other course-management systems).  Now, the question, who does very well on the homeworks (say, over 90% or an \"A\") but does *not* do well on exams?  Each item in `records` is itself a `dict`, and we could write the following function to return such an item only if it meets the criteria:"
   ]
  },
  {
   "cell_type": "code",
   "execution_count": 15,
   "metadata": {
    "collapsed": true
   },
   "outputs": [],
   "source": [
    "def good_hw_bad_exam(item):\n",
    "    if item['hw'] >= 90.0 and item['exam'] < 70.0:\n",
    "        return True\n",
    "    else:\n",
    "        pass # i.e., return None (equivalent to False)"
   ]
  },
  {
   "cell_type": "code",
   "execution_count": 16,
   "metadata": {},
   "outputs": [
    {
     "data": {
      "text/plain": [
       "[{'exam': 69.5,\n",
       "  'hw': 90.5,\n",
       "  'labs': 33.3,\n",
       "  'name': 'Alan Turing',\n",
       "  'notes': 'Developed the \"Turing Test\" for AI.',\n",
       "  'quiz': 91.0}]"
      ]
     },
     "execution_count": 16,
     "metadata": {},
     "output_type": "execute_result"
    }
   ],
   "source": [
    "list(filter(good_hw_bad_exam, records)) "
   ]
  },
  {
   "cell_type": "markdown",
   "metadata": {},
   "source": [
    "Ah, our friend Alan Turing meets the criteria.  He has done quite well on the homework (an \"A\"), but his exam score is less than satisfying.  Also worth noting: *we passed a function name as an argument*.  \n",
    "\n",
    "> **Note**: A function can be passed as an argument to other functions.\n",
    "\n",
    "Alright, alright, but what about **anonymous functions**?  Let's filter that data for high exam scores and low homework scores (i.e., the lazy but smart student; yes, they exist).   Although a new `def` statement could be written, a much faster approach is `lambda`:"
   ]
  },
  {
   "cell_type": "code",
   "execution_count": 17,
   "metadata": {},
   "outputs": [
    {
     "data": {
      "text/plain": [
       "[{'exam': 98.5,\n",
       "  'hw': 68.0,\n",
       "  'labs': 94.3,\n",
       "  'name': 'John von Neumann',\n",
       "  'notes': 'Invented merge sort.',\n",
       "  'quiz': 100.0}]"
      ]
     },
     "execution_count": 17,
     "metadata": {},
     "output_type": "execute_result"
    }
   ],
   "source": [
    "list(filter(lambda item: item['exam'] >= 90 and item['hw'] < 70, records))"
   ]
  },
  {
   "cell_type": "markdown",
   "metadata": {},
   "source": [
    "Hence, the full `lambda` function accepts the argument `item` and returns `True` if it passes the filter.  The reason `lambda` is useful here is because the filtering criteria can be changed on the fly.  For example, one could check for several different patterns:"
   ]
  },
  {
   "cell_type": "code",
   "execution_count": 18,
   "metadata": {},
   "outputs": [
    {
     "data": {
      "text/plain": [
       "[{'exam': 79.0,\n",
       "  'hw': 72.0,\n",
       "  'labs': 98.0,\n",
       "  'name': 'Donald Knuth',\n",
       "  'notes': 'Invented TeX.',\n",
       "  'quiz': 74.0}]"
      ]
     },
     "execution_count": 18,
     "metadata": {},
     "output_type": "execute_result"
    }
   ],
   "source": [
    "# shows up for labs, but not as much for exams\n",
    "list(filter(lambda item: item['labs'] >= 90 and item['exam'] < 80, records))"
   ]
  },
  {
   "cell_type": "code",
   "execution_count": 19,
   "metadata": {},
   "outputs": [
    {
     "data": {
      "text/plain": [
       "[{'exam': 69.5,\n",
       "  'hw': 90.5,\n",
       "  'labs': 33.3,\n",
       "  'name': 'Alan Turing',\n",
       "  'notes': 'Developed the \"Turing Test\" for AI.',\n",
       "  'quiz': 91.0}]"
      ]
     },
     "execution_count": 19,
     "metadata": {},
     "output_type": "execute_result"
    }
   ],
   "source": [
    "# wows on the quizzes, but not on exams\n",
    "list(filter(lambda item: item['quiz'] >= 90 and item['exam'] < 80, records))"
   ]
  },
  {
   "cell_type": "markdown",
   "metadata": {},
   "source": [
    "Hence, rather than defining new functions using `def`, one can simply define a `lambda` when needed as part of one expression."
   ]
  },
  {
   "cell_type": "markdown",
   "metadata": {},
   "source": [
    "> **Exercise**: Define a `lambda` function that doubles a values.\n",
    "\n",
    "> **Exercise**: Define a `lambda` function that adds two values.\n",
    "\n",
    ">> *Solution*: `lambda x, y: x + y`\n",
    "\n",
    "> **Exercise**: The function `map` is called as `map(func, seq)`, where `func` is a function to apply to each element of a sequence `seq`.  By using `list(map(func, seq))`, one gets a list of the values `func(seq[i])`.  Use `map` and a `lambda` function to produce a list of `True` or `False` indicating whether the elements of a list of integers is even or odd.\n",
    "\n",
    ">> *Solution*: `list(map(lambda x: x % 2 == 0, [1, 2, 3, 4]))`."
   ]
  },
  {
   "cell_type": "markdown",
   "metadata": {},
   "source": [
    "## Recursive Functions\n",
    "\n",
    "The topic of **recursion** is included here almost entirely for the sake of completion.  Before we dive into what recursion is, note that in much of scientific computing, recursion can be replaced by appropriate loops.\n",
    "\n",
    "> **Note**:  Recursion can often be replaced by loops.\n",
    "\n",
    "Now, **recursion** is a process in which output (say, a particular value) is computed at any particular step using the output from one or more previous steps using a fixed relationship.  If this output is a single value, then the process yields an $m$-term, **recursive sequence** of the form $a_n = f(a_{n-1}, a_{n-2}, \\ldots, a_{n-m}$.  Here, $f$ is an arbitrary function of the past $m$ values in the sequence.\n",
    "\n",
    "The basic structure of a **recursive function** can be illustrated by the following function:"
   ]
  },
  {
   "cell_type": "code",
   "execution_count": 20,
   "metadata": {
    "collapsed": true
   },
   "outputs": [],
   "source": [
    "def a_basic_recursive_function(n):\n",
    "    \"\"\"This function does something simple, but it\n",
    "       might not be immediately obvious.\"\"\"\n",
    "    if n == 1:\n",
    "        return 1\n",
    "    else:\n",
    "        return n + a_basic_recursive_function(n-1)"
   ]
  },
  {
   "cell_type": "code",
   "execution_count": 21,
   "metadata": {},
   "outputs": [
    {
     "name": "stdout",
     "output_type": "stream",
     "text": [
      "For n=1, the function returns 1\n",
      "For n=2, the function returns 3\n",
      "For n=3, the function returns 6\n",
      "For n=4, the function returns 10\n",
      "For n=5, the function returns 15\n"
     ]
    }
   ],
   "source": [
    "for n in range(1, 6):\n",
    "    print(\"For n={}, the function returns {}\".format(n, a_basic_recursive_function(n)))"
   ]
  },
  {
   "cell_type": "markdown",
   "metadata": {},
   "source": [
    "Do you see the pattern?\n",
    "\n",
    "> **Exercise**: Before moving on, try to determine what happens in this function by adding a `print` statement after the `else` clause to display the value of `n`.\n",
    "\n",
    "What function gives 1 when given 1, 3 when given 2, and 6 when given 3?  A function that adds the integers from 1 to $n$, just like we've done before using loops.  The sequence is simple: $a_n = f(a_{n-1}) = a_{n-1} + n$ with $a_0 = 1$."
   ]
  },
  {
   "cell_type": "markdown",
   "metadata": {},
   "source": [
    "> **Exercise**: Implement the factorial function using recursion.\n",
    "\n",
    "> **Exercise**: Use recursion to produce the list `[a, 2, 3, 4, ..., b]` for positive integers `a` and `b`.  You may assume that `b >= a`.\n",
    "\n",
    ">> *Solution*:\n",
    ">>\n",
    "```python \n",
    "def recursive_range(a, b):\n",
    "    if a == b:\n",
    "        return [a]\n",
    "    else:\n",
    "        return recursive_range(a, b-1) + [b]\n",
    "```\n",
    "> Remember, `[1] + [2]` leads to `[1, 2]`."
   ]
  },
  {
   "cell_type": "markdown",
   "metadata": {},
   "source": [
    "A recursive function must always have an effective termination criterion that prevents the function from being called again.  Sometimes this is called a *base case* or a *guard*. For our summation example, that condition is `n == 1`.  When we add the integers from 1 through 5, the recursive function does so like this: $5 + (4 + (3 + (2 + (1))))$, where the parentheses indicate a new call to the recursive function.  Here, these calls terminate at $(1)$.  If we forgot to terminate when `n == 1`, the function would keep calling itself over and over.  It turns out that Python limits the number of times this can happen:"
   ]
  },
  {
   "cell_type": "code",
   "execution_count": 22,
   "metadata": {},
   "outputs": [
    {
     "ename": "RecursionError",
     "evalue": "maximum recursion depth exceeded",
     "output_type": "error",
     "traceback": [
      "\u001b[0;31m---------------------------------------------------------------------------\u001b[0m",
      "\u001b[0;31mRecursionError\u001b[0m                            Traceback (most recent call last)",
      "\u001b[0;32m<ipython-input-22-cc3488f42ea2>\u001b[0m in \u001b[0;36m<module>\u001b[0;34m()\u001b[0m\n\u001b[1;32m      1\u001b[0m \u001b[0;32mdef\u001b[0m \u001b[0minfinite_recursion\u001b[0m\u001b[0;34m(\u001b[0m\u001b[0mn\u001b[0m\u001b[0;34m)\u001b[0m\u001b[0;34m:\u001b[0m\u001b[0;34m\u001b[0m\u001b[0m\n\u001b[1;32m      2\u001b[0m     \u001b[0;32mreturn\u001b[0m \u001b[0mn\u001b[0m \u001b[0;34m+\u001b[0m \u001b[0minfinite_recursion\u001b[0m\u001b[0;34m(\u001b[0m\u001b[0mn\u001b[0m\u001b[0;34m-\u001b[0m\u001b[0;36m1\u001b[0m\u001b[0;34m)\u001b[0m\u001b[0;34m\u001b[0m\u001b[0m\n\u001b[0;32m----> 3\u001b[0;31m \u001b[0mprint\u001b[0m\u001b[0;34m(\u001b[0m\u001b[0minfinite_recursion\u001b[0m\u001b[0;34m(\u001b[0m\u001b[0;36m5\u001b[0m\u001b[0;34m)\u001b[0m\u001b[0;34m)\u001b[0m\u001b[0;34m\u001b[0m\u001b[0m\n\u001b[0m",
      "\u001b[0;32m<ipython-input-22-cc3488f42ea2>\u001b[0m in \u001b[0;36minfinite_recursion\u001b[0;34m(n)\u001b[0m\n\u001b[1;32m      1\u001b[0m \u001b[0;32mdef\u001b[0m \u001b[0minfinite_recursion\u001b[0m\u001b[0;34m(\u001b[0m\u001b[0mn\u001b[0m\u001b[0;34m)\u001b[0m\u001b[0;34m:\u001b[0m\u001b[0;34m\u001b[0m\u001b[0m\n\u001b[0;32m----> 2\u001b[0;31m     \u001b[0;32mreturn\u001b[0m \u001b[0mn\u001b[0m \u001b[0;34m+\u001b[0m \u001b[0minfinite_recursion\u001b[0m\u001b[0;34m(\u001b[0m\u001b[0mn\u001b[0m\u001b[0;34m-\u001b[0m\u001b[0;36m1\u001b[0m\u001b[0;34m)\u001b[0m\u001b[0;34m\u001b[0m\u001b[0m\n\u001b[0m\u001b[1;32m      3\u001b[0m \u001b[0mprint\u001b[0m\u001b[0;34m(\u001b[0m\u001b[0minfinite_recursion\u001b[0m\u001b[0;34m(\u001b[0m\u001b[0;36m5\u001b[0m\u001b[0;34m)\u001b[0m\u001b[0;34m)\u001b[0m\u001b[0;34m\u001b[0m\u001b[0m\n",
      "... last 1 frames repeated, from the frame below ...\n",
      "\u001b[0;32m<ipython-input-22-cc3488f42ea2>\u001b[0m in \u001b[0;36minfinite_recursion\u001b[0;34m(n)\u001b[0m\n\u001b[1;32m      1\u001b[0m \u001b[0;32mdef\u001b[0m \u001b[0minfinite_recursion\u001b[0m\u001b[0;34m(\u001b[0m\u001b[0mn\u001b[0m\u001b[0;34m)\u001b[0m\u001b[0;34m:\u001b[0m\u001b[0;34m\u001b[0m\u001b[0m\n\u001b[0;32m----> 2\u001b[0;31m     \u001b[0;32mreturn\u001b[0m \u001b[0mn\u001b[0m \u001b[0;34m+\u001b[0m \u001b[0minfinite_recursion\u001b[0m\u001b[0;34m(\u001b[0m\u001b[0mn\u001b[0m\u001b[0;34m-\u001b[0m\u001b[0;36m1\u001b[0m\u001b[0;34m)\u001b[0m\u001b[0;34m\u001b[0m\u001b[0m\n\u001b[0m\u001b[1;32m      3\u001b[0m \u001b[0mprint\u001b[0m\u001b[0;34m(\u001b[0m\u001b[0minfinite_recursion\u001b[0m\u001b[0;34m(\u001b[0m\u001b[0;36m5\u001b[0m\u001b[0;34m)\u001b[0m\u001b[0;34m)\u001b[0m\u001b[0;34m\u001b[0m\u001b[0m\n",
      "\u001b[0;31mRecursionError\u001b[0m: maximum recursion depth exceeded"
     ]
    }
   ],
   "source": [
    "def infinite_recursion(n):\n",
    "    return n + infinite_recursion(n-1)\n",
    "print(infinite_recursion(5))"
   ]
  },
  {
   "cell_type": "markdown",
   "metadata": {},
   "source": [
    "It's not obvious what this maximum depth (i.e., number of calls) is, but it's probably pretty big.\n",
    "\n",
    "> **Warning**:  Like loops, recursive functions need a termination criterion.  For recursive sequences, thats usually when the recursion gets to the initial values of the sequence, e.g., $a_0 = 1$ for the sum of the integers from 1 to $n$."
   ]
  },
  {
   "cell_type": "markdown",
   "metadata": {},
   "source": [
    "### A Famous Example\n",
    "\n",
    "Remember the Fibonacci sequence: $1, 1, 2, 3, 5, 8, \\ldots$.  It starts with two 1's, but all of the subsequent terms have a special pattern: they are the sum of the two previous terms.  In other words, one can define the Fibbonaci sequence as $a_{n} = a_{n-1} + a_{n-2}$ given $a_0 = a_1 = 1$.  This is a two-term, recursive sequence.  Of course, defining the $n$th term is easy using a simple loop.   Here, that approach is provided as a function:"
   ]
  },
  {
   "cell_type": "code",
   "execution_count": 23,
   "metadata": {
    "collapsed": true
   },
   "outputs": [],
   "source": [
    "def fibo_loop(n):\n",
    "    \"\"\"Compute the nth term in Fibonacci's sequence using loops.\"\"\"\n",
    "    # initialize all three terms a_n, a_{n-1}, and a_{n-2}\n",
    "    a_n, a_1, a_2 = 1, 1, 1\n",
    "    # initialize the coutner\n",
    "    i = 2\n",
    "    while i <= n:\n",
    "        # apply the sequence\n",
    "        a_n = a_1 + a_2\n",
    "        # and then store the old values\n",
    "        a_2 = a_1\n",
    "        a_1 = a_n\n",
    "        # always increment the counter\n",
    "        i += 1\n",
    "    return a_n"
   ]
  },
  {
   "cell_type": "code",
   "execution_count": 24,
   "metadata": {},
   "outputs": [
    {
     "data": {
      "text/plain": [
       "8"
      ]
     },
     "execution_count": 24,
     "metadata": {},
     "output_type": "execute_result"
    }
   ],
   "source": [
    "fibo_loop(5)"
   ]
  },
  {
   "cell_type": "markdown",
   "metadata": {},
   "source": [
    "The Fibonacci sequence is recursive.  Each term $a_n$ depends on the two previous terms $a_{n-1}$ and $a_{n-2}$.  Hence, the process to compute $a_n$ looks just like the process to compute $a_{n-1}$, all the way down to the first to values $a_0$ and $a_1$.  Consider the case of $n = 5$, for which $a_5$ is 8.  Let's break it down:\n",
    "\n",
    "$$\n",
    "\\begin{split}\n",
    "8 &= 3 + 5 \\\\\n",
    "  &= (1_1 + 2) + (2 + 3) \\\\\n",
    "  &= (1_1 + (1_0 + 1_1)) + ((1_0 + 1_1) + (1_1 + 2))\\\\\n",
    "  &= (1_1 + (1_0 + 1_1)) + ((1_0 + 1_1) + (1_1 + (1_0 + 1_1)))\\\\\n",
    "\\end{split}\n",
    "$$\n",
    "\n",
    "Here, the subscripts on the 1's indicate whether they are $a_0$ or $a_1$.  The conclusion is that every single term in the sequence is just a sum of multiple 1's.  If we were to write this using functions, \n",
    "\n",
    "```\n",
    "   8 = fibo(3) + fibo(4)\n",
    "     = (fibo(1) + fibo(2) + (fibo(2) + fibo(3))\n",
    "     = (fibo(1) + (fibo(0)+fibo(1))) + ((fibo(0)+fibo(1)) + (fibo(1)+fibo(2)))\n",
    "     = (fibo(1) + (fibo(0)+fibo(1))) + ((fibo(0)+fibo(1)) + (fibo(1)+(fibo(0)+fibo(1))))\n",
    "```\n",
    "\n",
    "What this means is that calling `fibo(3)` ought to return the sum of `fibo(1)` and `fibo(2)`, and that the call `fibo(2)` ought to return the sum of `fibo(0)` and `fibo(1)`.  The only time calling `fibo(n)` doesn't require calling `fibo(n-1)` and `fibo(n-2)` is when `n` is 0 or 1, i.e., when the value to be returned is 1.\n",
    "\n",
    "Here is this idea packaged into the  **recursive function** `fibo_recursive`:"
   ]
  },
  {
   "cell_type": "code",
   "execution_count": 25,
   "metadata": {},
   "outputs": [],
   "source": [
    "def fibo_recursive(n):\n",
    "    if n < 2: # again, we need a termination criterion.\n",
    "        return 1\n",
    "    else:\n",
    "        return fibo_recursive(n-2) + fibo_recursive(n-1)"
   ]
  },
  {
   "cell_type": "code",
   "execution_count": 26,
   "metadata": {},
   "outputs": [
    {
     "data": {
      "text/plain": [
       "8"
      ]
     },
     "execution_count": 26,
     "metadata": {},
     "output_type": "execute_result"
    }
   ],
   "source": [
    "fibo_recursive(5)"
   ]
  },
  {
   "cell_type": "markdown",
   "metadata": {},
   "source": [
    "Take a moment and process this function.  Test it out (in Spyder or by hand) and verify that it works.\n",
    "\n",
    "> **Exercise**:  Implement `fibo_recursive` in Spyder. For $n = 5$, use the graphical debugger to trace the output.\n",
    "\n",
    "> **Exercise**:  Consider two integers $a > 0$ and $b > 0$.  Their [greatest common divisor](https://en.wikipedia.org/wiki/Greatest_common_divisor) (call it $gcd(a, b)$) is the largest integer that divides both of them.  One way to compute $gcd(a, b)$ is the [Euclidean algorithm](https://en.wikipedia.org/wiki/Euclidean_algorithm). Using modular arithmetic, this algorithm can be summarized by the equations $gcd(a, b) = gcd(b, a\\,\\text{mod}\\, b)$ and $gcd(a, 0) = a$. Remember $a\\,\\text{mod}\\, b$ is equivalent to the Python `a % b`.  Use these equations to implement a recursive Python function `gcd(a, b)`.  You can check your answer using `math.gcd`."
   ]
  },
  {
   "cell_type": "markdown",
   "metadata": {},
   "source": [
    "## Further Reading\n",
    "\n",
    "A pretty neat overview of recursion can be found [here](https://medium.freecodecamp.org/how-recursion-works-explained-with-flowcharts-and-a-video-de61f40cb7f9)."
   ]
  }
 ],
 "metadata": {
  "kernelspec": {
   "display_name": "Python 3",
   "language": "python",
   "name": "python3"
  },
  "language_info": {
   "codemirror_mode": {
    "name": "ipython",
    "version": 3
   },
   "file_extension": ".py",
   "mimetype": "text/x-python",
   "name": "python",
   "nbconvert_exporter": "python",
   "pygments_lexer": "ipython3",
   "version": "3.6.1"
  }
 },
 "nbformat": 4,
 "nbformat_minor": 2
}
