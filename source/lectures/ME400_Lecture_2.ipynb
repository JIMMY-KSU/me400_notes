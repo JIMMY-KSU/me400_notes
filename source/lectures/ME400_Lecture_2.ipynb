{
 "cells": [
  {
   "cell_type": "markdown",
   "metadata": {
    "collapsed": true
   },
   "source": [
    "# Lecture 2 - Basic Operators, Expressions, and Functions\n",
    "\n",
    "## Overview, Objectives, and Key Terms\n",
    "\n",
    "In this lesson, we'll continue our study of basic types from [Lecture 1](ME400_Lecture_1.ipynb), incorporating operators (arithmetic and otherwise) along with some very useful built-in functions to produce Python expressions.  By the end, we'll construct our very first (ableit, simple) [program](https://en.wikipedia.org/wiki/Computer_program).\n",
    "\n",
    "### Objectives\n",
    "\n",
    "By the end of this lesson, you should be able to\n",
    "\n",
    "- *add, subtract, multiply, and divide* two quantities\n",
    "- *use the `help()` function to understand how to use another function*\n",
    "- *use `dir()` and the `variable explorer` to see defined variables and their values*\n",
    "- *explain the difference between statement and expression*\n",
    "\n",
    "### Key Terms\n",
    "\n",
    "- statement\n",
    "- expression\n",
    "- variable explorer\n",
    "- `import`\n",
    "- `math` module\n",
    "- `dir()`\n",
    "- `help()`\n",
    "- `print()`\n",
    "- `bin()`\n",
    "- `+`, `-`, `*`, `/`, `**`, `//`, `^`"
   ]
  },
  {
   "cell_type": "markdown",
   "metadata": {
    "collapsed": false
   },
   "source": [
    "## Python Operators \n",
    "\n",
    "In  [Lecture 1](ME400_Lecture_1.ipynb), we saw several examples of the form `a = 1`, where the variable `a` is *assigned* the value `1`.  Here, `=` is the *assignment* operator.  The entire line of code `a = 1` is a *statement*.  A statement represents an instruction that is performed by the computer (and, in this case, the Python interpreter).   \n",
    "\n",
    "There are several other operators in the Python language, several important ones of which are summarized in the table below.  In the table, `a` and `b` can assumed to be `int` variables (though all but the last operator can be used for `float` variables).\n",
    "\n",
    "| symbol | example use | definition | \n",
    "|--------|-------------|------------|\n",
    "| `+`    | `a + b`     | add `b` to `a`         |\n",
    "| `-`    | `a - b`     | subtract `b` from `a`  |\n",
    "| `*`    | `a * b`     | multiply `a` by `b`    |\n",
    "| `/`    | `a / b`     | divide `a` by `b`      |\n",
    "| `//`   | `a // b`    | divide `a` by `b` *using integer arithmetic* |\n",
    "| `%`    | `a % b`     | remainder of `a / b` |\n",
    "| `**`   | `a**b`      | raise `a` to the power of `b` |\n",
    "| `^`    | `a^b`       | [bitwise exclusive or](https://docs.python.org/3/reference/expressions.html?highlight=xor#binary-bitwise-operations) |\n",
    "\n",
    "The first four operators are pretty straightforward and are the same symbols used in a variety of programming languages and other tools (e.g., common spreadsheets).  The remaining four warrant some elaboration.  The operator `//` corresponds to integer division.  Essentially, integer division rounds the final result *down* to the nearest integral value.  Here's a quick example for illustration:"
   ]
  },
  {
   "cell_type": "code",
   "execution_count": 3,
   "metadata": {
    "collapsed": false
   },
   "outputs": [
    {
     "name": "stdout",
     "output_type": "stream",
     "text": [
      "1.3333333333333333\n",
      "1\n"
     ]
    }
   ],
   "source": [
    "a = 4\n",
    "b = 3\n",
    "print(a/b)\n",
    "print(a//b)"
   ]
  },
  {
   "cell_type": "markdown",
   "metadata": {},
   "source": [
    "The first value printed is what we expect (i.e., 4/3 cast in decimal notation), while the second printed value is obviously rounded.  \n",
    "\n",
    "> **Warning**: In case you ever use Python 2, `/` was implemented as integer division by default \n",
    "> for `a` and `b` of type `int`.\n",
    "\n",
    "The symbol `%` represents the remainder operation\n",
    "\n",
    "\n",
    "The final two operators listed may also cause some confusion.  Here, `**` represents the exponentiation (or power) operation.  In some languages/tools (notably MATLAB and Excel), `^` is the symbol for exponentiation, but in Python, `^` is for the probably foreign-sounding *bitwise exclusive or*.  To understand *bitwise* operators, we'll need to dive into binary numbers (but we'll skip that for the moment).\n",
    "\n",
    "> **Warning**: Do not use `^` when you want to take `a` to the power of `b`.  Instead, use `a**b`."
   ]
  },
  {
   "cell_type": "markdown",
   "metadata": {},
   "source": [
    "## Exploring Built-In Functions\n",
    "\n",
    "Armed with the operators described above, you've got the start to a powerful, interactive calculator using Python.  What we need next is some of the typical mathematical *functions*.  We'll get to defining our own functions later on, but Python has several built-in functions that are useful, we can get access to a whole bunch of useful functions just by using  powerful `import` statements.\n",
    "\n",
    "You've actually already seen your first function: `print`.  A function has a name (e.g., `print`) and accepts zero, one, or more *arguments* enclosed in parentheses.  For example, we can *call* the `print` function in several different ways:"
   ]
  },
  {
   "cell_type": "code",
   "execution_count": 4,
   "metadata": {
    "collapsed": false
   },
   "outputs": [
    {
     "name": "stdout",
     "output_type": "stream",
     "text": [
      "Hello, world\n",
      "1 2 3\n",
      "What's my age again? 18\n"
     ]
    }
   ],
   "source": [
    "print(\"Hello, world\") # one argument, a str\n",
    "print(1, 2, 3) # three, int arguments\n",
    "print(\"What's my age again?\", 18) # mixed arguments (and, I'm lying)"
   ]
  },
  {
   "cell_type": "markdown",
   "metadata": {},
   "source": [
    "> *Notice*: Any call to a function must include parentheses.\n",
    "\n",
    "A second function everyone ought to know is `help`.  Let's call it, and when it prompts us for further input, let's enter \"symbols.\"  After that, we'll enter \"quit.\""
   ]
  },
  {
   "cell_type": "code",
   "execution_count": 5,
   "metadata": {
    "collapsed": false
   },
   "outputs": [
    {
     "name": "stdout",
     "output_type": "stream",
     "text": [
      "\n",
      "Welcome to Python 3.6's help utility!\n",
      "\n",
      "If this is your first time using Python, you should definitely check out\n",
      "the tutorial on the Internet at http://docs.python.org/3.6/tutorial/.\n",
      "\n",
      "Enter the name of any module, keyword, or topic to get help on writing\n",
      "Python programs and using Python modules.  To quit this help utility and\n",
      "return to the interpreter, just type \"quit\".\n",
      "\n",
      "To get a list of available modules, keywords, symbols, or topics, type\n",
      "\"modules\", \"keywords\", \"symbols\", or \"topics\".  Each module also comes\n",
      "with a one-line summary of what it does; to list the modules whose name\n",
      "or summary contain a given string such as \"spam\", type \"modules spam\".\n",
      "\n",
      "help> symbols\n",
      "\n",
      "Here is a list of the punctuation symbols which Python assigns special meaning\n",
      "to. Enter any symbol to get more help.\n",
      "\n",
      "!=                  *=                  <<                  ^\n",
      "\"                   +                   <<=                 ^=\n",
      "\"\"\"                 +=                  <=                  _\n",
      "%                   ,                   <>                  __\n",
      "%=                  -                   ==                  `\n",
      "&                   -=                  >                   b\"\n",
      "&=                  .                   >=                  b'\n",
      "'                   ...                 >>                  j\n",
      "'''                 /                   >>=                 r\"\n",
      "(                   //                  @                   r'\n",
      ")                   //=                 J                   |\n",
      "*                   /=                  [                   |=\n",
      "**                  :                   \\                   ~\n",
      "**=                 <                   ]                   \n",
      "\n",
      "help> quit\n",
      "\n",
      "You are now leaving help and returning to the Python interpreter.\n",
      "If you want to ask for help on a particular object directly from the\n",
      "interpreter, you can type \"help(object)\".  Executing \"help('string')\"\n",
      "has the same effect as typing a particular string at the help> prompt.\n"
     ]
    }
   ],
   "source": [
    "help() # remember, parentheses are needed even if we have nothing in them!"
   ]
  },
  {
   "cell_type": "code",
   "execution_count": null,
   "metadata": {
    "collapsed": true
   },
   "outputs": [],
   "source": []
  },
  {
   "cell_type": "markdown",
   "metadata": {},
   "source": [
    "## Expressions\n",
    "\n",
    "Consider one of the examples above, `a + b`, which represents an *expression*.  An expression in Python "
   ]
  },
  {
   "cell_type": "code",
   "execution_count": null,
   "metadata": {
    "collapsed": false
   },
   "outputs": [],
   "source": [
    "8//3."
   ]
  },
  {
   "cell_type": "code",
   "execution_count": null,
   "metadata": {
    "collapsed": false
   },
   "outputs": [],
   "source": [
    "2^8"
   ]
  },
  {
   "cell_type": "code",
   "execution_count": null,
   "metadata": {
    "collapsed": false
   },
   "outputs": [],
   "source": [
    "bin(9), bin(2), 9^2"
   ]
  },
  {
   "cell_type": "code",
   "execution_count": null,
   "metadata": {
    "collapsed": true
   },
   "outputs": [],
   "source": []
  }
 ],
 "metadata": {
  "kernelspec": {
   "display_name": "Python 3",
   "language": "python",
   "name": "python3"
  },
  "language_info": {
   "codemirror_mode": {
    "name": "ipython",
    "version": 3
   },
   "file_extension": ".py",
   "mimetype": "text/x-python",
   "name": "python",
   "nbconvert_exporter": "python",
   "pygments_lexer": "ipython3",
   "version": "3.6.0"
  }
 },
 "nbformat": 4,
 "nbformat_minor": 2
}
