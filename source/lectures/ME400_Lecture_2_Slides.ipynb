{
 "cells": [
  {
   "cell_type": "markdown",
   "metadata": {
    "slideshow": {
     "slide_type": "slide"
    }
   },
   "source": [
    "# Lecture 2 - Basic Operators and Built-In Functions\n",
    "\n",
    "## Overview, Objectives, and Key Terms\n",
    "\n",
    "In this lesson, we'll continue our study of basic types from [Lecture 1](ME400_Lecture_1.ipynb), incorporating operators (arithmetic and otherwise) along with some very useful built-in functions.  By the end, we'll construct our very first (ableit, simple) [program](https://en.wikipedia.org/wiki/Computer_program)."
   ]
  },
  {
   "cell_type": "code",
   "execution_count": 1,
   "metadata": {
    "collapsed": true,
    "slideshow": {
     "slide_type": "skip"
    }
   },
   "outputs": [],
   "source": [
    "from IPython.core.interactiveshell import InteractiveShell \n",
    "InteractiveShell.ast_node_interactivity = \"all\""
   ]
  },
  {
   "cell_type": "markdown",
   "metadata": {
    "slideshow": {
     "slide_type": "subslide"
    }
   },
   "source": [
    "### Objectives\n",
    "\n",
    "By the end of this lesson, you should be able to\n",
    "\n",
    "- *add, subtract, multiply, and divide* two quantities\n",
    "- *use the `help()` function to understand how to use another function*\n",
    "- *use `dir()` and the `variable explorer` to see defined variables and their values*\n",
    "- *explain the difference between statement and expression*\n",
    "- *write a short, well-commented program*"
   ]
  },
  {
   "cell_type": "markdown",
   "metadata": {
    "slideshow": {
     "slide_type": "subslide"
    }
   },
   "source": [
    "### Key Terms\n",
    "\n",
    "- statement\n",
    "- expression\n",
    "- variable explorer\n",
    "- keywords\n",
    "- `import`\n",
    "- `math` module\n",
    "- `dir()`\n",
    "- `help()`\n",
    "- `print()`\n",
    "- `type()`\n",
    "- `+`, `-`, `*`, `/`, `**`, `//`, `^`\n",
    "- flowchart\n",
    "- comments and the `#` symbol"
   ]
  },
  {
   "cell_type": "markdown",
   "metadata": {
    "slideshow": {
     "slide_type": "slide"
    }
   },
   "source": [
    "## Python Operators \n",
    "\n",
    "In  [Lecture 1](ME400_Lecture_1.ipynb), we saw several examples of the form `a = 1`, where the variable `a` is *assigned* the value `1`.  Here, `=` is the *assignment* operator.  The entire line of code `a = 1` is a *statement*. \n",
    "\n",
    "\n",
    "**A statement represents an instruction that is executed by the Python interpreter.**"
   ]
  },
  {
   "cell_type": "markdown",
   "metadata": {
    "slideshow": {
     "slide_type": "subslide"
    }
   },
   "source": [
    "### Arithmetic Operators\n",
    "\n",
    "Consider variables `a` and `b` of the `int` type."
   ]
  },
  {
   "cell_type": "markdown",
   "metadata": {
    "slideshow": {
     "slide_type": "fragment"
    }
   },
   "source": [
    "| symbol | example use | definition | \n",
    "|--------|-------------|------------|\n",
    "| `+`    | `a + b`     | add `b` to `a`         |\n",
    "| `-`    | `a - b`     | subtract `b` from `a`  |\n",
    "| `*`    | `a * b`     | multiply `a` by `b`    |\n",
    "| `/`    | `a / b`     | divide `a` by `b`      |\n",
    "| `//`   | `a // b`    | divide `a` by `b` *using integer arithmetic* |\n",
    "| `%`    | `a % b`     | remainder of `a / b` |\n",
    "| `**`   | `a**b`      | raise `a` to the power of `b` |\n",
    "| `^`    | `a^b`       | [bitwise exclusive or](https://docs.python.org/3/reference/expressions.html?highlight=xor#binary-bitwise-operations) |"
   ]
  },
  {
   "cell_type": "markdown",
   "metadata": {
    "slideshow": {
     "slide_type": "subslide"
    }
   },
   "source": [
    "**Examples...**"
   ]
  },
  {
   "cell_type": "markdown",
   "metadata": {
    "slideshow": {
     "slide_type": "subslide"
    }
   },
   "source": [
    "### Assignment Operators\n",
    "\n",
    "Corresponding to each arithmetic operator is a combined arithmetic and assignment operator.  "
   ]
  },
  {
   "cell_type": "markdown",
   "metadata": {
    "slideshow": {
     "slide_type": "fragment"
    }
   },
   "source": [
    "| symbol | example use | definition | \n",
    "|--------|-------------|------------|\n",
    "| `=`    | `a = b`     | assign the value of `a` to the variable `a` |\n",
    "| `+=`   | `a += b`    | equivalent to `a = a + b` |\n",
    "| `-=`   | `a -= b`    | equivalent to `a = a - b` |\n",
    "| `*=`   | `a *= b`    | equivalent to `a = a * b` |\n",
    "| `/=`   | `a /= b`    | equivalent to `a = a / b` |\n",
    "| `//=`  | `a //= b`   | equivalent to `a = a // b` |\n",
    "| `%=`   | `a %= b`    | equivalent to `a = a % b` |\n",
    "| `**=`  | `a = a**b`  | equivalent to `a = a**b` |"
   ]
  },
  {
   "cell_type": "markdown",
   "metadata": {
    "slideshow": {
     "slide_type": "subslide"
    }
   },
   "source": [
    "**Examples...**"
   ]
  },
  {
   "cell_type": "markdown",
   "metadata": {
    "slideshow": {
     "slide_type": "subslide"
    }
   },
   "source": [
    "### Relational Operators\n",
    "\n",
    "Comparisons can be made between two variables `a` and `b`."
   ]
  },
  {
   "cell_type": "markdown",
   "metadata": {
    "slideshow": {
     "slide_type": "fragment"
    }
   },
   "source": [
    "| symbol | example use | definition | \n",
    "|--------|-------------|------------|\n",
    "| `==`    | `a == b`     | `a` equal to `b` yields 'True' |\n",
    "| `!=`    | `a != b`     | `a` not equal to `b` yields 'True' |\n",
    "| `>`    | `a > b`     | `a` greater than `b` yields 'True' |\n",
    "| `>=`   | `a >= b`    | `a` greater than or equal to `b` yields 'True' |\n",
    "| `<`   | `a < b`    | `a` less than `b` yields 'True' |\n",
    "| `<=`   | `a <= b`    | `a` less than or equal to `b` yields 'True' |"
   ]
  },
  {
   "cell_type": "markdown",
   "metadata": {
    "slideshow": {
     "slide_type": "slide"
    }
   },
   "source": [
    "## Exploring Built-In Functions\n",
    "\n",
    "**Goal**: be able to use Python as a powerful, interactive calculator. "
   ]
  },
  {
   "cell_type": "markdown",
   "metadata": {
    "slideshow": {
     "slide_type": "fragment"
    }
   },
   "source": [
    "We need next is some of the typical mathematical *functions*.  "
   ]
  },
  {
   "cell_type": "markdown",
   "metadata": {
    "slideshow": {
     "slide_type": "subslide"
    }
   },
   "source": [
    "You've actually already seen your first function: `print`.  A function has a name (e.g., `print`) and accepts zero, one, or more *arguments* enclosed in parentheses.  For example, we can *call* the `print` function in several different ways:"
   ]
  },
  {
   "cell_type": "code",
   "execution_count": 2,
   "metadata": {
    "slideshow": {
     "slide_type": "subslide"
    }
   },
   "outputs": [
    {
     "name": "stdout",
     "output_type": "stream",
     "text": [
      "Hello, world\n",
      "1 2 3\n",
      "What's my age again? 18\n"
     ]
    }
   ],
   "source": [
    "print(\"Hello, world\") # one argument, a str\n",
    "print(1, 2, 3) # three, int arguments\n",
    "print(\"What's my age again?\", 18) # mixed arguments (and, I'm lying)"
   ]
  },
  {
   "cell_type": "markdown",
   "metadata": {
    "slideshow": {
     "slide_type": "fragment"
    }
   },
   "source": [
    "> **Notice**: Any call to a function must include parentheses."
   ]
  },
  {
   "cell_type": "markdown",
   "metadata": {
    "slideshow": {
     "slide_type": "subslide"
    }
   },
   "source": [
    "### `help()`\n",
    "\n",
    "The function `help` provides interactive help for Python or for a specific function, e.g., `help(print)`."
   ]
  },
  {
   "cell_type": "markdown",
   "metadata": {
    "slideshow": {
     "slide_type": "subslide"
    }
   },
   "source": [
    "### `dir()`\n",
    "\n",
    "When called as `dir()`, it provides a list of names in the current local scope. \n",
    "\n",
    "When called with an argument (e.g., `dir('hello')`), it gives a list of the argument's attributes."
   ]
  },
  {
   "cell_type": "markdown",
   "metadata": {
    "slideshow": {
     "slide_type": "subslide"
    }
   },
   "source": [
    "### `math`"
   ]
  },
  {
   "cell_type": "code",
   "execution_count": 3,
   "metadata": {
    "collapsed": true,
    "slideshow": {
     "slide_type": "fragment"
    }
   },
   "outputs": [],
   "source": [
    "import math"
   ]
  },
  {
   "cell_type": "markdown",
   "metadata": {
    "slideshow": {
     "slide_type": "fragment"
    }
   },
   "source": [
    "What does `math` provide?"
   ]
  },
  {
   "cell_type": "markdown",
   "metadata": {
    "slideshow": {
     "slide_type": "fragment"
    }
   },
   "source": [
    "- functions, e.g., `sin`, `exp`, and `atan2`\n",
    "- constants, e.g., `pi` and `e`"
   ]
  },
  {
   "cell_type": "markdown",
   "metadata": {
    "slideshow": {
     "slide_type": "subslide"
    }
   },
   "source": [
    "**Examples...**"
   ]
  },
  {
   "cell_type": "markdown",
   "metadata": {
    "slideshow": {
     "slide_type": "slide"
    }
   },
   "source": [
    "## A first program"
   ]
  },
  {
   "cell_type": "markdown",
   "metadata": {},
   "source": [
    "A computer *program* is a sequence of instruction statements to perform a task."
   ]
  },
  {
   "cell_type": "markdown",
   "metadata": {},
   "source": [
    "A good programmer *designs* a program"
   ]
  },
  {
   "cell_type": "markdown",
   "metadata": {
    "slideshow": {
     "slide_type": "subslide"
    }
   },
   "source": [
    "### Flowcharts\n",
    "\n",
    "A **flowchart** is a visual design tool for designing and understanding computer programs. "
   ]
  },
  {
   "cell_type": "markdown",
   "metadata": {
    "slideshow": {
     "slide_type": "subslide"
    }
   },
   "source": [
    "![Flowchart for Computing Volume of a Sphere](img/volume_flowchart.png)\n",
    "\n",
    "A flowchart for computing the volume of a sphere, $V = 4\\pi r^3/3$."
   ]
  },
  {
   "cell_type": "markdown",
   "metadata": {
    "slideshow": {
     "slide_type": "subslide"
    }
   },
   "source": [
    "This simple flowchart highlights a few of the key features we'll use later on in flowcharts:\n",
    "\n",
    "- *arrows* represent the flow of the program from one block to the next\n",
    "- *ovals* represent the beginning and ending of a program\n",
    "- *parallelograms* represent input from a user or output to a user\n",
    "- *rectangles* represent an action taken by the program (which might correspond to several, executed instructions)"
   ]
  },
  {
   "cell_type": "markdown",
   "metadata": {
    "slideshow": {
     "slide_type": "subslide"
    }
   },
   "source": [
    "### `input()`\n",
    "\n",
    "Basic syntax:\n",
    "\n",
    "```\n",
    "string = input('Please enter something: ')\n",
    "```\n",
    "\n",
    "The argument to `input` is a `str`.\n",
    "\n",
    "The return value of `input` is a `str`, too."
   ]
  },
  {
   "cell_type": "markdown",
   "metadata": {
    "slideshow": {
     "slide_type": "subslide"
    }
   },
   "source": [
    "**Examples...**"
   ]
  },
  {
   "cell_type": "markdown",
   "metadata": {
    "slideshow": {
     "slide_type": "subslide"
    }
   },
   "source": [
    "### Putting it all together"
   ]
  },
  {
   "cell_type": "code",
   "execution_count": 4,
   "metadata": {
    "slideshow": {
     "slide_type": "subslide"
    }
   },
   "outputs": [
    {
     "name": "stdout",
     "output_type": "stream",
     "text": [
      "Please enter a radius: 1\n",
      "The volume is  4.1887902047863905\n"
     ]
    }
   ],
   "source": [
    "# A short program that computes the volume of a \n",
    "# sphere given a radius entered by the user.\n",
    "\n",
    "# Have the user enter the radius and store it as a float\n",
    "radius = float(input('Please enter a radius: '))\n",
    "\n",
    "# Import the math module so that we have Pi\n",
    "import math\n",
    "\n",
    "# Compute the volume of the sphere\n",
    "volume = (4/3)*math.pi*radius**3\n",
    "\n",
    "# Print the volume\n",
    "print(\"The volume is \", volume)"
   ]
  }
 ],
 "metadata": {
  "celltoolbar": "Slideshow",
  "kernelspec": {
   "display_name": "Python 3",
   "language": "python",
   "name": "python3"
  },
  "language_info": {
   "codemirror_mode": {
    "name": "ipython",
    "version": 3
   },
   "file_extension": ".py",
   "mimetype": "text/x-python",
   "name": "python",
   "nbconvert_exporter": "python",
   "pygments_lexer": "ipython3",
   "version": "3.6.1"
  }
 },
 "nbformat": 4,
 "nbformat_minor": 2
}
