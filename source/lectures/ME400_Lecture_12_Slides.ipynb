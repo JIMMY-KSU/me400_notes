{
 "cells": [
  {
   "cell_type": "markdown",
   "metadata": {
    "slideshow": {
     "slide_type": "slide"
    }
   },
   "source": [
    "# Lecture 12 - Basics of Functions\n",
    "\n",
    "## Overview, Objectives, and Key Terms\n",
    " \n",
    "With some simple programs under our belts, it is time to *modularize* our programs by using *functions*.  In this lecture and [Lecture 13](ME400_Lecture_13.ipynb), you will learn how to define your own functions to meet a variety of needs. "
   ]
  },
  {
   "cell_type": "markdown",
   "metadata": {
    "slideshow": {
     "slide_type": "subslide"
    }
   },
   "source": [
    "### Objectives\n",
    "\n",
    "By the end of this lesson, you should be able to\n",
    "\n",
    "- Define a function that accepts (zero or more) input arguments and returns (zero or more) values.\n",
    "- Explain the meaning of a named and default argument.\n",
    "- Use *unpacking* to define multiple variable in a single statement.\n",
    "- Include functions in flowcharts."
   ]
  },
  {
   "cell_type": "markdown",
   "metadata": {
    "slideshow": {
     "slide_type": "subslide"
    }
   },
   "source": [
    "### Key Terms\n",
    "\n",
    "- function\n",
    "- `def`\n",
    "- call\n",
    "- argument\n",
    "- return value\n",
    "- unpacking\n",
    "- named (or keyword) argument\n",
    "- default value"
   ]
  },
  {
   "cell_type": "markdown",
   "metadata": {
    "slideshow": {
     "slide_type": "slide"
    }
   },
   "source": [
    "## What is a Function?\n",
    "\n",
    "**A function is something that is executed (possibly with input) and provides some sort of output.** \n",
    "\n"
   ]
  },
  {
   "cell_type": "markdown",
   "metadata": {
    "slideshow": {
     "slide_type": "subslide"
    }
   },
   "source": [
    "Let's start by example.  Consider the sum of an array $x$, defined mathematically as $s = \\sum^n_{i=1} x_i$ and computed in Python via "
   ]
  },
  {
   "cell_type": "code",
   "execution_count": 2,
   "metadata": {
    "slideshow": {
     "slide_type": "fragment"
    }
   },
   "outputs": [
    {
     "data": {
      "text/plain": [
       "14"
      ]
     },
     "execution_count": 2,
     "metadata": {},
     "output_type": "execute_result"
    }
   ],
   "source": [
    "x = [1, 3, 4, 2, 4] \n",
    "s = 0\n",
    "for i in range(len(x)):\n",
    "    s += x[i]\n",
    "s"
   ]
  },
  {
   "cell_type": "markdown",
   "metadata": {
    "slideshow": {
     "slide_type": "fragment"
    }
   },
   "source": [
    "This short program is specific to the value of `x` defined.  We need to turn it into a function to handle *any* value of `x`.\n"
   ]
  },
  {
   "cell_type": "markdown",
   "metadata": {
    "slideshow": {
     "slide_type": "subslide"
    }
   },
   "source": [
    "```python\n",
    "def function_name(arg1, arg2, ...):\n",
    "    # do something to define rval1\n",
    "    # do something else to define rval2\n",
    "    # and so on...\n",
    "    return rval1, rval2, ...\n",
    "```"
   ]
  },
  {
   "cell_type": "markdown",
   "metadata": {
    "slideshow": {
     "slide_type": "fragment"
    }
   },
   "source": [
    "Features: `def` keyword, a **function name**, (possible) **arguments**, and (possible) **return values**.\n"
   ]
  },
  {
   "cell_type": "code",
   "execution_count": 3,
   "metadata": {
    "slideshow": {
     "slide_type": "subslide"
    }
   },
   "outputs": [
    {
     "data": {
      "text/plain": [
       "14"
      ]
     },
     "execution_count": 3,
     "metadata": {},
     "output_type": "execute_result"
    }
   ],
   "source": [
    "def compute_sum(x):\n",
    "    s = 0\n",
    "    for i in range(len(x)):\n",
    "        s += x[i]\n",
    "    return s\n",
    "compute_sum([1, 3, 4, 2, 4])"
   ]
  },
  {
   "cell_type": "markdown",
   "metadata": {
    "slideshow": {
     "slide_type": "subslide"
    }
   },
   "source": [
    "> **Exercise**:  Write a function that determines whether a positive integer `n` is prime.  A prime number is any number divisible only by one and itself.  By definition, one is not considered prime.  The function should return `True` or `False`."
   ]
  },
  {
   "cell_type": "markdown",
   "metadata": {
    "slideshow": {
     "slide_type": "subslide"
    }
   },
   "source": [
    "**Don't forget a return value (if one is expected)!**"
   ]
  },
  {
   "cell_type": "code",
   "execution_count": 4,
   "metadata": {
    "collapsed": true,
    "slideshow": {
     "slide_type": "fragment"
    }
   },
   "outputs": [],
   "source": [
    "def compute_sum_wrong(x):\n",
    "    s = 0\n",
    "    for i in range(len(x)):\n",
    "        s += x[i]"
   ]
  },
  {
   "cell_type": "code",
   "execution_count": 5,
   "metadata": {
    "slideshow": {
     "slide_type": "subslide"
    }
   },
   "outputs": [
    {
     "ename": "TypeError",
     "evalue": "unsupported operand type(s) for +: 'NoneType' and 'NoneType'",
     "output_type": "error",
     "traceback": [
      "\u001b[0;31m---------------------------------------------------------------------------\u001b[0m",
      "\u001b[0;31mTypeError\u001b[0m                                 Traceback (most recent call last)",
      "\u001b[0;32m<ipython-input-5-1a3e778de125>\u001b[0m in \u001b[0;36m<module>\u001b[0;34m()\u001b[0m\n\u001b[0;32m----> 1\u001b[0;31m \u001b[0mcompute_sum_wrong\u001b[0m\u001b[0;34m(\u001b[0m\u001b[0;34m[\u001b[0m\u001b[0;36m1\u001b[0m\u001b[0;34m,\u001b[0m \u001b[0;36m2\u001b[0m\u001b[0;34m]\u001b[0m\u001b[0;34m)\u001b[0m \u001b[0;34m+\u001b[0m \u001b[0mcompute_sum_wrong\u001b[0m\u001b[0;34m(\u001b[0m\u001b[0;34m[\u001b[0m\u001b[0;36m3\u001b[0m\u001b[0;34m,\u001b[0m \u001b[0;36m4\u001b[0m\u001b[0;34m]\u001b[0m\u001b[0;34m)\u001b[0m \u001b[0;31m# 10?\u001b[0m\u001b[0;34m\u001b[0m\u001b[0m\n\u001b[0m",
      "\u001b[0;31mTypeError\u001b[0m: unsupported operand type(s) for +: 'NoneType' and 'NoneType'"
     ]
    }
   ],
   "source": [
    "compute_sum_wrong([1, 2]) + compute_sum_wrong([3, 4]) # 10?"
   ]
  },
  {
   "cell_type": "markdown",
   "metadata": {
    "slideshow": {
     "slide_type": "slide"
    }
   },
   "source": [
    "## Functions with Multiple Return Values\n",
    "\n",
    "In some applications, programs can be simplified by using functions with **multiple return values**.  "
   ]
  },
  {
   "cell_type": "code",
   "execution_count": 6,
   "metadata": {
    "slideshow": {
     "slide_type": "fragment"
    }
   },
   "outputs": [
    {
     "data": {
      "text/plain": [
       "(1, 2)"
      ]
     },
     "execution_count": 6,
     "metadata": {},
     "output_type": "execute_result"
    }
   ],
   "source": [
    "def returns_two_values():\n",
    "    return 1, 2\n",
    "v = returns_two_values()\n",
    "v"
   ]
  },
  {
   "cell_type": "markdown",
   "metadata": {
    "slideshow": {
     "slide_type": "fragment"
    }
   },
   "source": [
    "That's a `tuple`.  Suppose we need `a` to be 1 and `b` to be 2.  "
   ]
  },
  {
   "cell_type": "code",
   "execution_count": 9,
   "metadata": {
    "slideshow": {
     "slide_type": "fragment"
    }
   },
   "outputs": [
    {
     "name": "stdout",
     "output_type": "stream",
     "text": [
      "a = 1, b = 2\n"
     ]
    }
   ],
   "source": [
    "a = v[0]\n",
    "b = v[1]\n",
    "print('a = {1}, b = {0}'.format(b, a)) # <-- numbered substitutions are cool!"
   ]
  },
  {
   "cell_type": "markdown",
   "metadata": {
    "slideshow": {
     "slide_type": "subslide"
    }
   },
   "source": [
    "Alternative:"
   ]
  },
  {
   "cell_type": "code",
   "execution_count": 12,
   "metadata": {
    "slideshow": {
     "slide_type": "fragment"
    }
   },
   "outputs": [
    {
     "name": "stdout",
     "output_type": "stream",
     "text": [
      "a = 1, b = 2\n"
     ]
    }
   ],
   "source": [
    "c, d = returns_two_values()\n",
    "print('a = {1}, b = {0}'.format(d, a)) # <-- numbered substitutions are cool!"
   ]
  },
  {
   "cell_type": "markdown",
   "metadata": {
    "slideshow": {
     "slide_type": "subslide"
    }
   },
   "source": [
    "This multiple assignment is called **unpacking**.  Other examples:"
   ]
  },
  {
   "cell_type": "code",
   "execution_count": 13,
   "metadata": {
    "slideshow": {
     "slide_type": "fragment"
    }
   },
   "outputs": [
    {
     "name": "stdout",
     "output_type": "stream",
     "text": [
      "1 2\n",
      "2 1\n",
      "1 2\n",
      "2 1\n"
     ]
    }
   ],
   "source": [
    "a, b = (1, 2) # a and b from tuple\n",
    "print(a, b)\n",
    "a, b = [2, 1] # a and b from list\n",
    "print(a, b)\n",
    "c, d = b, a   # c and d from b and a\n",
    "print(c, d)\n",
    "c, d = d, c   # swap c and d\n",
    "print(c, d)"
   ]
  },
  {
   "cell_type": "markdown",
   "metadata": {
    "slideshow": {
     "slide_type": "slide"
    }
   },
   "source": [
    "## Functions with Multiple Arguments\n",
    "\n",
    "There is **no limit to the number of arguments** a Python function can accept. \n",
    "\n",
    "\n",
    "Arguments can be made **optional** by providing **default values**."
   ]
  },
  {
   "cell_type": "code",
   "execution_count": 15,
   "metadata": {
    "collapsed": true,
    "slideshow": {
     "slide_type": "subslide"
    }
   },
   "outputs": [],
   "source": [
    "def foo(x, y, z) :\n",
    "    print(\"(x, y, z) = ({:.4f}, {:.4f}, {:.4f})\".format(x, y, z))"
   ]
  },
  {
   "cell_type": "markdown",
   "metadata": {
    "slideshow": {
     "slide_type": "fragment"
    }
   },
   "source": [
    "As defined, one *must* pass three values to `foo` for `x`, `y`, and `z`:"
   ]
  },
  {
   "cell_type": "code",
   "execution_count": 16,
   "metadata": {
    "slideshow": {
     "slide_type": "fragment"
    }
   },
   "outputs": [
    {
     "name": "stdout",
     "output_type": "stream",
     "text": [
      "(x, y, z) = (1.0000, 2.0000, 3.0000)\n"
     ]
    }
   ],
   "source": [
    "foo(1, 2, 3)"
   ]
  },
  {
   "cell_type": "markdown",
   "metadata": {
    "slideshow": {
     "slide_type": "subslide"
    }
   },
   "source": [
    "What if there are common values for `y` and `z`?"
   ]
  },
  {
   "cell_type": "code",
   "execution_count": 17,
   "metadata": {
    "collapsed": true,
    "slideshow": {
     "slide_type": "fragment"
    }
   },
   "outputs": [],
   "source": [
    "def foo_with_defaults(x, y = 1.1, z = 2.2):\n",
    "    print(\"(x, y, z) = ({:.4f}, {:.4f}, {:.4f})\".format(x, y, z))"
   ]
  },
  {
   "cell_type": "code",
   "execution_count": 18,
   "metadata": {
    "slideshow": {
     "slide_type": "fragment"
    }
   },
   "outputs": [
    {
     "name": "stdout",
     "output_type": "stream",
     "text": [
      "(x, y, z) = (1.0000, 2.0000, 3.0000)\n",
      "(x, y, z) = (1.0000, 2.0000, 2.2000)\n",
      "(x, y, z) = (1.0000, 1.1000, 2.2000)\n"
     ]
    }
   ],
   "source": [
    "foo_with_defaults(1, 2, 3)\n",
    "foo_with_defaults(1, 2)\n",
    "foo_with_defaults(1)"
   ]
  },
  {
   "cell_type": "markdown",
   "metadata": {
    "slideshow": {
     "slide_type": "subslide"
    }
   },
   "source": [
    "Arguments can be **named** to override a default value while leaving others unchanged."
   ]
  },
  {
   "cell_type": "code",
   "execution_count": 19,
   "metadata": {
    "slideshow": {
     "slide_type": "fragment"
    }
   },
   "outputs": [
    {
     "name": "stdout",
     "output_type": "stream",
     "text": [
      "(x, y, z) = (1.0000, 1.1000, 3.0000)\n"
     ]
    }
   ],
   "source": [
    "foo_with_defaults(1, z=3) "
   ]
  },
  {
   "cell_type": "code",
   "execution_count": 22,
   "metadata": {
    "slideshow": {
     "slide_type": "fragment"
    }
   },
   "outputs": [
    {
     "name": "stdout",
     "output_type": "stream",
     "text": [
      "(x, y, z) = (1.0000, 2.0000, 3.0000)\n",
      "(x, y, z) = (1.0000, 2.0000, 3.0000)\n",
      "(x, y, z) = (1.0000, 2.0000, 3.0000)\n"
     ]
    }
   ],
   "source": [
    "foo_with_defaults(x=1, y=2, z=3) \n",
    "foo_with_defaults(y=2, x=1, z=3) \n",
    "foo_with_defaults(y=2, z=3, x=1) "
   ]
  },
  {
   "cell_type": "code",
   "execution_count": 23,
   "metadata": {
    "slideshow": {
     "slide_type": "fragment"
    }
   },
   "outputs": [
    {
     "ename": "SyntaxError",
     "evalue": "positional argument follows keyword argument (<ipython-input-23-da68ba83312a>, line 1)",
     "output_type": "error",
     "traceback": [
      "\u001b[0;36m  File \u001b[0;32m\"<ipython-input-23-da68ba83312a>\"\u001b[0;36m, line \u001b[0;32m1\u001b[0m\n\u001b[0;31m    foo_with_defaults(1, y=2, 3)\u001b[0m\n\u001b[0m                             ^\u001b[0m\n\u001b[0;31mSyntaxError\u001b[0m\u001b[0;31m:\u001b[0m positional argument follows keyword argument\n"
     ]
    }
   ],
   "source": [
    "foo_with_defaults(1, y=2, 3)"
   ]
  },
  {
   "cell_type": "markdown",
   "metadata": {
    "slideshow": {
     "slide_type": "slide"
    }
   },
   "source": [
    "## Function Documentation\n",
    "\n",
    "From the very beginning, the use of internal documentation via `help` has been emphasized.  The value of `help`, however, depends on developers to provide the information displayed.  That responsibility now turns to you, the function writer.  "
   ]
  },
  {
   "cell_type": "code",
   "execution_count": 24,
   "metadata": {
    "slideshow": {
     "slide_type": "fragment"
    }
   },
   "outputs": [
    {
     "name": "stdout",
     "output_type": "stream",
     "text": [
      "Help on function compute_sum in module __main__:\n",
      "\n",
      "compute_sum(x)\n",
      "\n"
     ]
    }
   ],
   "source": [
    "help(compute_sum)"
   ]
  },
  {
   "cell_type": "code",
   "execution_count": 25,
   "metadata": {
    "collapsed": true,
    "slideshow": {
     "slide_type": "subslide"
    }
   },
   "outputs": [],
   "source": [
    "def compute_sum_with_docstring(x):\n",
    "    \"\"\"Returns the sum of an array x.\"\"\"\n",
    "    s = 0\n",
    "    for i in range(len(x)):\n",
    "        s += x[i]\n",
    "    return s"
   ]
  },
  {
   "cell_type": "code",
   "execution_count": 26,
   "metadata": {
    "slideshow": {
     "slide_type": "fragment"
    }
   },
   "outputs": [
    {
     "name": "stdout",
     "output_type": "stream",
     "text": [
      "Help on function compute_sum_with_docstring in module __main__:\n",
      "\n",
      "compute_sum_with_docstring(x)\n",
      "    Returns the sum of an array x.\n",
      "\n"
     ]
    }
   ],
   "source": [
    "help(compute_sum_with_docstring)"
   ]
  },
  {
   "cell_type": "code",
   "execution_count": 27,
   "metadata": {
    "collapsed": true,
    "slideshow": {
     "slide_type": "subslide"
    }
   },
   "outputs": [],
   "source": [
    "def compute_sum_with_verbose_docstring(x):\n",
    "    \"\"\"Returns the sum of an array x.\n",
    "    \n",
    "    Inputs\n",
    "         x: sequential type with numerical elements\n",
    "    \n",
    "    Returns\n",
    "         s: the sum of the elements of x\n",
    "    \"\"\"\n",
    "    s = 0\n",
    "    for i in range(len(x)):\n",
    "        s += x[i]\n",
    "    return s"
   ]
  },
  {
   "cell_type": "code",
   "execution_count": 28,
   "metadata": {
    "slideshow": {
     "slide_type": "fragment"
    }
   },
   "outputs": [
    {
     "name": "stdout",
     "output_type": "stream",
     "text": [
      "Help on function compute_sum_with_verbose_docstring in module __main__:\n",
      "\n",
      "compute_sum_with_verbose_docstring(x)\n",
      "    Returns the sum of an array x.\n",
      "    \n",
      "    Inputs\n",
      "         x: sequential type with numerical elements\n",
      "    \n",
      "    Returns\n",
      "         s: the sum of the elements of x\n",
      "\n"
     ]
    }
   ],
   "source": [
    "help(compute_sum_with_verbose_docstring)"
   ]
  },
  {
   "cell_type": "markdown",
   "metadata": {
    "slideshow": {
     "slide_type": "subslide"
    }
   },
   "source": [
    "**Always include a docstring** (just like **always include axis labels, legends, etc.**)"
   ]
  },
  {
   "cell_type": "markdown",
   "metadata": {
    "slideshow": {
     "slide_type": "slide"
    }
   },
   "source": [
    "## Functions and Flowcharts\n",
    "\n",
    "![Program to compute sum that uses the `compute_sum` function.](img/sum_function_program.png)"
   ]
  },
  {
   "cell_type": "markdown",
   "metadata": {
    "slideshow": {
     "slide_type": "subslide"
    }
   },
   "source": [
    "## Recap\n",
    "\n",
    "You should now be able to\n",
    "\n",
    "- Define a function that accepts (zero or more) input arguments and returns (zero or more) values.\n",
    "- Explain the meaning of a named and default argument.\n",
    "- Use *unpacking* to define multiple variable in a single statement.\n",
    "- Include functions in flowcharts."
   ]
  },
  {
   "cell_type": "code",
   "execution_count": 30,
   "metadata": {
    "collapsed": true,
    "slideshow": {
     "slide_type": "skip"
    }
   },
   "outputs": [],
   "source": [
    "import numpy as np\n",
    "import matplotlib.pyplot as plt\n",
    "s = \"\"\"9\n",
    "16.25\n",
    "6.5\n",
    "15\n",
    "17\n",
    "14.25\n",
    "15\n",
    "14.25\n",
    "15.5\n",
    "13.75\n",
    "16.25\n",
    "17.75\n",
    "19\n",
    "15.5\n",
    "15.5\n",
    "17.5\n",
    "17.5\n",
    "17.25\n",
    "14.75\n",
    "15.25\n",
    "16.75\n",
    "9.25\n",
    "18.75\n",
    "16.5\n",
    "8.75\n",
    "15.5\n",
    "13.75\n",
    "15.25\n",
    "19\n",
    "13.75\n",
    "14.5\n",
    "14.25\n",
    "14.75\n",
    "9\n",
    "17.25\n",
    "17\n",
    "15.5\n",
    "14.25\n",
    "13\n",
    "16\n",
    "16.25\n",
    "15\n",
    "18.5\n",
    "17.75\n",
    "15.5\n",
    "18.5\n",
    "19.75\n",
    "12\n",
    "19.75\n",
    "18.5\n",
    "17.75\n",
    "18.75\n",
    "15.5\n",
    "14.25\n",
    "12.5\n",
    "15.5\n",
    "8.5\n",
    "17.25\n",
    "19\n",
    "18.5\n",
    "15.25\n",
    "14.5\n",
    "18.5\n",
    "10.5\n",
    "14.5\n",
    "11.5\n",
    "19.5\n",
    "16.5\n",
    "14\n",
    "18\n",
    "12.25\n",
    "8.5\n",
    "17\n",
    "9.25\n",
    "12.75\n",
    "18.25\n",
    "7.25\n",
    "18.5\n",
    "0\n",
    "18.75\n",
    "18.75\n",
    "19.5\n",
    "15.5\n",
    "15.25\n",
    "17.75\n",
    "13.5\n",
    "13.75\n",
    "20\n",
    "13\n",
    "18\n",
    "17.75\n",
    "16.25\n",
    "16.5\n",
    "14.25\n",
    "18.5\n",
    "13.75\n",
    "18.25\n",
    "16.5\n",
    "16.5\n",
    "14\n",
    "17.5\n",
    "18\n",
    "18.5\n",
    "18.75\n",
    "17.5\n",
    "15.75\n",
    "15.5\n",
    "15.25\n",
    "11.5\n",
    "19.5\n",
    "15.5\n",
    "18.25\n",
    "18\n",
    "16.75\n",
    "19.25\n",
    "18\n",
    "16.75\n",
    "17.75\n",
    "16\"\"\" \n",
    "g = np.array(list(map(float, s.split('\\n'))))"
   ]
  },
  {
   "cell_type": "markdown",
   "metadata": {
    "slideshow": {
     "slide_type": "subslide"
    }
   },
   "source": [
    "## Exam 1 \n",
    "\n",
    "- Rubric online\n",
    "- Tests handed out now (or in office hours)\n",
    "- Check that Canvas scores add up (we'll be double checking, too, in both directions)\n",
    "- Regrade request via email (scan your written part)\n",
    "- Regrades are of the whole exam"
   ]
  },
  {
   "cell_type": "code",
   "execution_count": 38,
   "metadata": {
    "slideshow": {
     "slide_type": "subslide"
    }
   },
   "outputs": [
    {
     "name": "stdout",
     "output_type": "stream",
     "text": [
      "  mean =  77.77%\n",
      "median =  80.00%\n",
      "   max = 100.00%\n",
      "   min =  32.50%\n",
      " stdev =  16.21%\n"
     ]
    }
   ],
   "source": [
    "print('  mean = {:6.2f}%'.format(np.mean(g)/20*100))\n",
    "print('median = {:6.2f}%'.format(np.median(g)/20*100))\n",
    "print('   max = {:6.2f}%'.format(np.max(g)/20*100))\n",
    "print('   min = {:6.2f}%'.format(np.min(g[g>0])/20*100))\n",
    "print(' stdev = {:6.2f}%'.format(np.std(g[:])/20*100))"
   ]
  },
  {
   "cell_type": "code",
   "execution_count": 55,
   "metadata": {
    "slideshow": {
     "slide_type": "subslide"
    }
   },
   "outputs": [
    {
     "data": {
      "image/png": "[encoded data removed]",
      "text/plain": [
       "<matplotlib.figure.Figure at 0x116b29dd8>"
      ]
     },
     "metadata": {},
     "output_type": "display_data"
    }
   ],
   "source": [
    "plt.hist(g*5, bins=np.arange(0, 101, 5))\n",
    "plt.xlabel('score (%)')\n",
    "plt.ylabel('frequency')\n",
    "plt.show()"
   ]
  }
 ],
 "metadata": {
  "celltoolbar": "Slideshow",
  "kernelspec": {
   "display_name": "Python 3",
   "language": "python",
   "name": "python3"
  },
  "language_info": {
   "codemirror_mode": {
    "name": "ipython",
    "version": 3
   },
   "file_extension": ".py",
   "mimetype": "text/x-python",
   "name": "python",
   "nbconvert_exporter": "python",
   "pygments_lexer": "ipython3",
   "version": "3.6.1"
  }
 },
 "nbformat": 4,
 "nbformat_minor": 2
}
